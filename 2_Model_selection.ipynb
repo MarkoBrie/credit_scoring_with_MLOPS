{
 "cells": [
  {
   "cell_type": "markdown",
   "id": "263450be",
   "metadata": {},
   "source": [
    "# Content"
   ]
  },
  {
   "cell_type": "markdown",
   "id": "d2c08eb9",
   "metadata": {},
   "source": [
    "**Supervised:** The labels are included in the training data and the goal is to train a model to learn to predict the labels from the features  \n",
    "**Classification:** The label is a binary variable, 0 (will repay loan on time), 1 (will have difficulty repaying loan)\n",
    "\n",
    "- Evaluation des performances des modèles d’apprentissage supervisé selon différents critères (scores, temps d'entraînement, etc.) en adaptant les paramètres afin de choisir le modèle le plus performant pour la problématique métier.\n",
    "- Calcul un score avec fp + 10 * fn\n",
    "\n",
    "precision, recall, accuracy, roc_auc, f1\n",
    "        fbeta_macro\n",
    "        fbeta_micro\n",
    "        fbeta_weighted\n",
    "        \n",
    "hyperparameter search for the following methods: XGBoost, LightGBM, Random Forest. Save each model, best parameters and evaluation metrics with MLflow. Save the evaluation metrics for all models to a dataframe.\n",
    "\n",
    "- [ 0 - Library definition](#0) \n",
    "- [ 1 - Data definition](#1) \n",
    "- [ 1.1 - Imbalanced Data Definition](#1.1) \n",
    "- [ 2 - Metrics definition](#2) \n",
    "- [ 3 - Model definition](#3) \n",
    "- [ 4 - Run 1 EXPERIMENT with 6 RUNs](#4)\n",
    "- [ 5 - Model Evaluation](#(5)\n",
    "- [ 6 - Feature Importance](#(6)\n",
    "- [ 7 - Feature Selection after SHAP feature Importance](#(7)"
   ]
  },
  {
   "cell_type": "markdown",
   "id": "3342a76b",
   "metadata": {},
   "source": [
    "<a name='0'></a>\n",
    "# 0 Library definition"
   ]
  },
  {
   "cell_type": "code",
   "execution_count": 1,
   "id": "1c8b0045",
   "metadata": {},
   "outputs": [],
   "source": [
    "import pandas as pd\n",
    "import numpy as np\n",
    "import matplotlib.pyplot as plt\n",
    "from matplotlib import pyplot\n",
    "import time\n",
    "\n",
    "from sklearn.model_selection import train_test_split, GridSearchCV\n",
    "from sklearn.model_selection import RandomizedSearchCV\n",
    "from sklearn.preprocessing import MinMaxScaler\n",
    "from sklearn.ensemble import RandomForestClassifier\n",
    "from sklearn.metrics import precision_recall_curve\n",
    "from sklearn.metrics import accuracy_score, f1_score, recall_score, precision_score\n",
    "from sklearn.metrics import confusion_matrix, roc_auc_score, roc_curve\n",
    "from sklearn.metrics import auc\n",
    "from sklearn.metrics import fbeta_score\n",
    "\n",
    "import xgboost as xgb\n",
    "from xgboost import XGBClassifier\n",
    "from lightgbm import LGBMClassifier\n",
    "\n",
    "import mlflow\n",
    "import mlflow.sklearn\n",
    "from mlflow import MlflowClient\n",
    "from mlflow.models.signature import infer_signature\n",
    "\n",
    "from prettytable import PrettyTable\n",
    "\n",
    "from collections import Counter\n",
    "from imblearn.over_sampling import SMOTE\n",
    "from imblearn.under_sampling import RandomUnderSampler\n",
    "from imblearn.pipeline import Pipeline\n",
    "from numpy import where\n",
    "import shap"
   ]
  },
  {
   "cell_type": "code",
   "execution_count": 2,
   "id": "063e4ce7",
   "metadata": {},
   "outputs": [
    {
     "name": "stdout",
     "output_type": "stream",
     "text": [
      "No Python documentation found for '1.7.0'.\n",
      "Use help() to get the interactive help utility.\n",
      "Use help(str) for help on the str class.\n",
      "\n"
     ]
    }
   ],
   "source": [
    "help(xgb.__version__)"
   ]
  },
  {
   "cell_type": "code",
   "execution_count": 3,
   "id": "9f5c0495",
   "metadata": {},
   "outputs": [],
   "source": [
    "#pip uninstall xgboost\n",
    "#!pip install xgboost==1.7.0"
   ]
  },
  {
   "cell_type": "markdown",
   "id": "a8bc9296",
   "metadata": {},
   "source": [
    "<a name='1'></a>\n",
    "# 1 Data definition"
   ]
  },
  {
   "cell_type": "code",
   "execution_count": 4,
   "id": "bee5e0b0",
   "metadata": {},
   "outputs": [
    {
     "name": "stdout",
     "output_type": "stream",
     "text": [
      "X_train (246008, 239)\n",
      "Y_train (246008, 1)\n",
      "Y_test (61503, 1)\n",
      "ids_test (246008, 1)\n",
      "feature names (239, 1)\n"
     ]
    }
   ],
   "source": [
    "X_train = pd.read_csv('../2_INPUT_DATA/3_SPLIT/X_train.csv')\n",
    "Y_train = pd.read_csv('../2_INPUT_DATA/3_SPLIT/Y_train.csv')\n",
    "X_test = pd.read_csv('../2_INPUT_DATA/3_SPLIT/X_test.csv')\n",
    "Y_test = pd.read_csv('../2_INPUT_DATA/3_SPLIT/Y_test.csv')\n",
    "ids_test = pd.read_csv('../2_INPUT_DATA/3_SPLIT/ids_test.csv')\n",
    "feature_names = pd.read_csv('../2_INPUT_DATA/2_FEATURE_PROCESSED/feature_names.csv')\n",
    "\n",
    "print(\"X_train\", X_train.shape)\n",
    "print(\"Y_train\", Y_train.shape)\n",
    "print(\"Y_test\", Y_test.shape)\n",
    "print(\"ids_test\",ids_test.shape)\n",
    "print(\"feature names\", feature_names.shape)"
   ]
  },
  {
   "cell_type": "code",
   "execution_count": 5,
   "id": "2e4a4c6d",
   "metadata": {},
   "outputs": [],
   "source": [
    "def scale_data(df_train, df_test):\n",
    "    \"\"\"\n",
    "    Scale the features in the training and testing datasets using Min-Max scaling.\n",
    "\n",
    "    Args:\n",
    "    df_train (DataFrame): The training dataset to be scaled.\n",
    "    df_test (DataFrame): The testing dataset to be scaled.\n",
    "\n",
    "    Returns:\n",
    "    df_train_scaled (DataFrame): The scaled training dataset.\n",
    "    df_test_scaled (DataFrame): The scaled testing dataset.\n",
    "    \"\"\"\n",
    "    # Initialize MinMaxScaler with feature range between 0 and 1\n",
    "    scaler = MinMaxScaler(feature_range=(0, 1))\n",
    "\n",
    "    # Fit and transform the training dataset\n",
    "    df_train_scaled = scaler.fit_transform(df_train)\n",
    "\n",
    "    # Transform the testing dataset using the same scaler fitted on the training data\n",
    "    df_test_scaled = scaler.transform(df_test)\n",
    "\n",
    "    return df_train_scaled, df_test_scaled"
   ]
  },
  {
   "cell_type": "code",
   "execution_count": 6,
   "id": "bede7c6a",
   "metadata": {},
   "outputs": [],
   "source": [
    "#test = X_train.copy()\n",
    "#test[\"ID\"] = ids_test\n",
    "#test.set_index(\"ID\", inplace=True)\n",
    "#ids_test.iloc[5]\n",
    "#test.loc[100008].values.tolist()"
   ]
  },
  {
   "cell_type": "markdown",
   "id": "058db3e2",
   "metadata": {},
   "source": [
    "<a name='1.1'></a>\n",
    "# 1.1 Imbalanced Data treatment"
   ]
  },
  {
   "cell_type": "code",
   "execution_count": 7,
   "id": "ae50308a",
   "metadata": {},
   "outputs": [
    {
     "name": "stdout",
     "output_type": "stream",
     "text": [
      "Counter({0: 226067, 1: 19941})\n",
      "Counter({0: 45212, 1: 22606})\n"
     ]
    }
   ],
   "source": [
    "\n",
    "def SMOTE_transformation(X, y):\n",
    "    # summarize class distribution\n",
    "    counter = Counter(y)\n",
    "    print(counter)\n",
    "    # define pipeline\n",
    "    over = SMOTE(sampling_strategy=0.1)\n",
    "    under = RandomUnderSampler(sampling_strategy=0.5)\n",
    "    steps = [('o', over), ('u', under)]\n",
    "    pipeline = Pipeline(steps=steps)\n",
    "    # transform the dataset\n",
    "    X, y = pipeline.fit_resample(X, y)\n",
    "    # summarize the new class distribution\n",
    "    counter = Counter(y)\n",
    "    print(counter)\n",
    "    # scatter plot of examples by class label\n",
    "    #for label, _ in counter.items():\n",
    "    #    print(label)\n",
    "    #    row_ix = where(y == label)[0]\n",
    "    #    print(row_ix)\n",
    "    #    pyplot.scatter(X[row_ix, 0], X[row_ix, 1], label=str(label))\n",
    "        \n",
    "    #pyplot.legend()\n",
    "    #pyplot.show()\n",
    "    \n",
    "    return X, y\n",
    "\n",
    "x_train_smote, y_train_smote = SMOTE_transformation(X_train, Y_train['TARGET'])"
   ]
  },
  {
   "cell_type": "markdown",
   "id": "0f1cdbe1",
   "metadata": {},
   "source": [
    "<a name='2'></a>\n",
    "# 2 Metrics definition\n",
    "\n",
    "**Fbeta Score**\n",
    "\n",
    "![alt text for screen readers](IMAGES/fbetascore.png \"Fbeta Score\")\n",
    "\n",
    "A smaller beta value, such as 0.5, gives more weight to precision and less to recall, whereas a larger beta value, such as 2.0, gives less weight to precision and more weight to recall in the calculation of the score.\n",
    "\n",
    "#### FN et FP  \n",
    "On simule la supposition, que le coût d’un FN est dix fois supérieur au coût d’un FP.  \n",
    "On crée un score “métier” en minimisant le coût d’erreur de prédiction des FN et FP pour comparer les modèles, afin de choisir le meilleur modèle et ses meilleurs hyperparamètres.\n",
    "\n",
    "**Precision**  \n",
    "(tp / (tp + fp))\n",
    "It describes how good a model is at predicting the positive class. Precision is referred to as the positive predictive value.  \n",
    "\n",
    "**Recall** is the same as sensitivity.\n",
    "(tp / (tp + fn)    \n",
    "Recall describes how good the model is at predicting the positive class when the actual outcome is positive.\n",
    "\n",
    "\n",
    "We want to optimize recall."
   ]
  },
  {
   "cell_type": "code",
   "execution_count": 8,
   "id": "8d982f88",
   "metadata": {},
   "outputs": [],
   "source": [
    "def fbeta_score_calculation(y_true, y_pred):\n",
    "    fbeta_macro = fbeta_score(y_true, y_pred, average='macro', beta=2)\n",
    "    fbeta_micro = fbeta_score(y_true, y_pred, average='micro', beta=2)\n",
    "    fbeta_weighted = fbeta_score(y_true, y_pred, average='weighted', beta=2)\n",
    "    return round(fbeta_macro,2), round(fbeta_micro,2), round(fbeta_weighted,2)\n",
    "\n",
    "def plot_roc_curve(true_y, y_prob):\n",
    "    \"\"\"\n",
    "    plots the roc curve based of the probabilities\n",
    "    \"\"\"\n",
    "\n",
    "    fpr, tpr, thresholds = roc_curve(true_y, y_prob)\n",
    "    plt.plot(fpr, tpr)\n",
    "    plt.xlabel('False Positive Rate')\n",
    "    plt.ylabel('True Positive Rate')\n",
    "    \n",
    "def reminder_TP(TN=\"\", FP=\"\", FN=\"\", TP=\"\"):\n",
    "    #tn, fp, fn, tp\n",
    "    # Create a PrettyTable instance\n",
    "    table = PrettyTable()\n",
    "\n",
    "    # Define columns and headers\n",
    "    table.field_names = ['Confusion Matrix', 'Positive prediction', 'Negative prediction']\n",
    "\n",
    "    # Add rows\n",
    "    table.add_row(['Positive class', 'True positive (TP)', 'False negative (FN)'])\n",
    "    table.add_row(['Negative class', 'False positive (FP)', 'True negative (TN)'])\n",
    "\n",
    "    # Print the table\n",
    "    print(table)\n",
    "    \n",
    "    if TN :\n",
    "        # Create a PrettyTable instance\n",
    "        table2 = PrettyTable()\n",
    "\n",
    "        # Define columns and headers\n",
    "        table2.field_names = ['Confusion Matrix', 'Positive prediction', 'Negative prediction']\n",
    "\n",
    "        # Add rows\n",
    "        table2.add_row(['Positive class', TP, FN])\n",
    "        table2.add_row(['Negative class', FP, TN])\n",
    "\n",
    "        # Print the table\n",
    "        print(table2)\n",
    "    \n",
    "\n",
    "def generate_recall_precision_curve(model, X_test, Y_test):\n",
    "    # predict probabilities\n",
    "    lr_probs = model.predict_proba(X_test)\n",
    "    # keep probabilities for the positive outcome only\n",
    "    lr_probs = lr_probs[:, 1]\n",
    "    # predict class values\n",
    "    yhat = model.predict(X_test)\n",
    "    lr_precision, lr_recall, _ = precision_recall_curve(Y_test, lr_probs)\n",
    "    lr_f1, lr_auc = f1_score(Y_test, yhat), auc(lr_recall, lr_precision)\n",
    "    # summarize scores\n",
    "    print('Logistic: f1=%.3f auc=%.3f' % (lr_f1, lr_auc))\n",
    "    # plot the precision-recall curves\n",
    "    no_skill = len(Y_test[Y_test==1]) / len(Y_test)\n",
    "    plt.plot([0, 1], [no_skill, no_skill], linestyle='--', label='No Skill')\n",
    "    plt.plot(lr_recall, lr_precision, marker='.', label='Logistic')\n",
    "    # axis labels\n",
    "    plt.xlabel('Recall')\n",
    "    plt.ylabel('Precision')\n",
    "    # show the legend\n",
    "    plt.legend()\n",
    "    # show the plot\n",
    "    plt.show()\n",
    "    pass\n",
    "\n",
    "def generate_auc_roc_curve(clf, X_test):\n",
    "    y_pred_proba = clf.predict_proba(X_test)[:, 1]\n",
    "    fpr, tpr, thresholds = roc_curve(Y_test,  y_pred_proba)\n",
    "    auc = roc_auc_score(Y_test, y_pred_proba)\n",
    "    plt.plot(fpr,tpr,label=\"AUC ROC Curve with Area Under the curve =\"+str(auc))\n",
    "    plt.legend(loc=4)\n",
    "    plt.show()\n",
    "    pass\n",
    "\n",
    "def generate_model_report(model, model_name, X_test, Y_test, trainT):\n",
    "    print(\"\\n---------------------------------\")\n",
    "    print(\"start generate_model_report\")\n",
    "    \n",
    "    Y_Test_Pred_best_param = model.predict(X_test)\n",
    "    \n",
    "    generate_auc_roc_curve(model, X_test)\n",
    "    generate_recall_precision_curve(model, X_test, Y_test)\n",
    "    \n",
    "    cm = confusion_matrix(np.array(Y_test), Y_Test_Pred_best_param  )\n",
    "    tn, fp, fn, tp = cm.ravel()\n",
    "    reminder_TP(tn, fp, fn, tp)\n",
    "    \n",
    "    roc_auc = roc_auc_score(np.array(Y_test), Y_Test_Pred_best_param)\n",
    "\n",
    "    bu_Sc = fp + (10*fn) #business score FN cost 10 times more than fp\n",
    "    ac_Sc = accuracy_score(np.array(Y_test), Y_Test_Pred_best_param)\n",
    "    pr_Sc = precision_score(np.array(Y_test), Y_Test_Pred_best_param)\n",
    "    re_Sc = recall_score(np.array(Y_test), Y_Test_Pred_best_param)\n",
    "    F1_Sc = f1_score(np.array(Y_test), Y_Test_Pred_best_param)\n",
    "    fbeta_macro, fbeta_micro, fbeta_weighted = fbeta_score_calculation(np.array(Y_test), Y_Test_Pred_best_param)\n",
    "    print('ROC AUC: ', roc_auc)\n",
    "    print(\"Accuracy = \" , accuracy_score(np.array(Y_test), Y_Test_Pred_best_param))\n",
    "    print(\"Precision = \" ,precision_score(np.array(Y_test), Y_Test_Pred_best_param))\n",
    "    print(\"Recall = \" ,recall_score(np.array(Y_test), Y_Test_Pred_best_param))\n",
    "    print(\"F1 Score = \" ,f1_score(np.array(Y_test), Y_Test_Pred_best_param))\n",
    "    print(\"Fbeta Score = \" ,fbeta_score_calculation(np.array(Y_test), Y_Test_Pred_best_param))\n",
    "    \n",
    "    metrics = pd.DataFrame({'model': model_name,'tn': [tn], 'fp': [fp], 'fn': [fn], 'tp': [tp],'FP+10*FN': bu_Sc,\n",
    "                            'accuracy': [ac_Sc], \n",
    "                            'ROC_AUC': [roc_auc],\n",
    "                            'precision': [pr_Sc],\n",
    "                            'recall': [re_Sc],\n",
    "                            'F1_Score': [F1_Sc],\n",
    "                            'Fbeta_macro':[fbeta_macro], \n",
    "                            'Fbeta_micro':[fbeta_micro],\n",
    "                            'Fbeta_weighted':[fbeta_weighted]\n",
    "                            })\n",
    "    print(metrics)\n",
    "    \n",
    "    full_threshold_df, metrics_XGB_smote = find_optimal_business_score(model, model_name, X_test, Y_test, trainT)\n",
    "    \n",
    "    return metrics_XGB_smote, full_threshold_df "
   ]
  },
  {
   "cell_type": "code",
   "execution_count": 9,
   "id": "ccf49b0d",
   "metadata": {},
   "outputs": [],
   "source": [
    "def find_optimal_business_score(model, model_name, X_test, Y_true, trainT):\n",
    "    print(\"---------------------------------\")\n",
    "    print(\"start find_optimal_business_score\")\n",
    "    predictions_proba = model.predict_proba(X_test)\n",
    "    \n",
    "    print(\"prediction proba\", len(predictions_proba))\n",
    "    print(\"Y_true\", len(Y_true))\n",
    "\n",
    "    # Threshold values from 0 to 0.5\n",
    "    threshold_values = [i / 10 for i in range(6)]\n",
    "    best_B_score = 100000\n",
    "    \n",
    "    # Create an empty DataFrame to store results\n",
    "    results_df = pd.DataFrame(columns=['threshold', 'tn', 'fp', 'fn', 'tp', 'FP+10*FN', 'accuracy', 'ROC_AUC', 'precision', 'recall', 'F1_Score', 'Fbeta_macro', 'Fbeta_micro', 'Fbeta_weighted','best'])\n",
    "\n",
    "    # Loop through threshold values\n",
    "    for threshold in threshold_values:\n",
    "        best = 0\n",
    "        # Convert probabilities to binary predictions based on threshold\n",
    "        predicted_labels = [1 if x[1] >= threshold else 0 for x in predictions_proba]\n",
    "\n",
    "        # Calculate confusion matrix and other metrics\n",
    "        cm = confusion_matrix(Y_true, predicted_labels)\n",
    "        tn, fp, fn, tp = cm.ravel()\n",
    "        \n",
    "        FP_10_FN = fp + 10 * fn\n",
    "        precision = precision_score(Y_true, predicted_labels)\n",
    "        recall = recall_score(Y_true, predicted_labels)\n",
    "        accuracy = accuracy_score(Y_true, predicted_labels)\n",
    "        roc_auc = roc_auc_score(Y_true, predicted_labels)\n",
    "        f1 = f1_score(Y_true, predicted_labels)\n",
    "        fbeta_macro = fbeta_score(Y_true, predicted_labels, beta=2, average='macro')\n",
    "        fbeta_micro = fbeta_score(Y_true, predicted_labels, beta=2, average='micro')\n",
    "        fbeta_weighted = fbeta_score(Y_true, predicted_labels, beta=2, average='weighted')\n",
    "\n",
    "        # best param\n",
    "        if (best_B_score > FP_10_FN ):\n",
    "            print(results_df[results_df['best']==1]['best'])\n",
    "            results_df.loc[(results_df['best']==1),'best']  = 0\n",
    "            best_B_score = FP_10_FN\n",
    "            best = 1\n",
    "        \n",
    "        \n",
    "        # Create a DataFrame for the current threshold iteration\n",
    "        data = {'threshold': [threshold],\n",
    "                'tn': [tn],\n",
    "                'fp': [fp],\n",
    "                'fn': [fn],\n",
    "                'tp': [tp],\n",
    "                'FP+10*FN': [FP_10_FN],\n",
    "                'accuracy': [accuracy],\n",
    "                'ROC_AUC': [roc_auc],\n",
    "                'precision': [precision],\n",
    "                'recall': [recall],\n",
    "                'F1_Score': [f1],\n",
    "                'Fbeta_macro': [fbeta_macro],\n",
    "                'Fbeta_micro': [fbeta_micro],\n",
    "                'Fbeta_weighted': [fbeta_weighted],\n",
    "                'best': best\n",
    "               }\n",
    "\n",
    "        threshold_df = pd.DataFrame(data)\n",
    "\n",
    "        # Concatenate the current threshold results to the overall results DataFrame\n",
    "        results_df = pd.concat([results_df, threshold_df], ignore_index=True)\n",
    "        \n",
    "    \n",
    "    best_result = results_df[results_df['best']==1]\n",
    "    \n",
    "    best_metrics = {\"TN\":best_result[\"tn\"].iloc[0],\n",
    "                  \"FP\":best_result[\"fp\"].iloc[0],\n",
    "                  \"FN\":best_result[\"fn\"].iloc[0],\n",
    "                  \"TP\":best_result[\"tp\"].iloc[0],\n",
    "                  \"FP_10_FN\":best_result[\"FP+10*FN\"].iloc[0],\n",
    "                  \"Accuracy\": best_result[\"accuracy\"].iloc[0],\n",
    "                 \"F1\":best_result[\"F1_Score\"].iloc[0],\n",
    "                 \"Precision\":best_result[\"precision\"].iloc[0],\n",
    "                 \"Recall\":best_result[\"recall\"].iloc[0],\n",
    "                 \"ROC_AUC\":best_result[\"ROC_AUC\"].iloc[0],\n",
    "                \"threshold\":best_result[\"threshold\"].iloc[0],\n",
    "                    \"time_in_s\":trainT\n",
    "                 }\n",
    "    \n",
    "    print(\"best b score\", best_B_score, results_df[results_df['best']==1]['threshold'])\n",
    "    print(results_df)\n",
    "    return results_df, best_metrics"
   ]
  },
  {
   "cell_type": "markdown",
   "id": "8cad3596",
   "metadata": {},
   "source": [
    "<a name='3'></a>\n",
    "# 3 Model definition"
   ]
  },
  {
   "cell_type": "code",
   "execution_count": 10,
   "id": "42ab1899",
   "metadata": {},
   "outputs": [],
   "source": [
    "def RFC_model(X_train, Y_train) :\n",
    "    \"\"\"Train RandomForestClassifier model using GridSearchCV.\n",
    "\n",
    "    Args:\n",
    "        X_train (pd.DataFrame): The input features for training.\n",
    "        Y_train (pd.Series): The target labels for training.\n",
    "\n",
    "    Returns:\n",
    "        tuple: A tuple containing the best RandomForestClassifier model, best hyperparameters, and training duration.\n",
    "\n",
    "    \"\"\"\n",
    "    # Start timing the function\n",
    "    start = time.time()\n",
    "    print(\"START time\", time.ctime(start))\n",
    "    \n",
    "    # Define the RandomForestClassifier\n",
    "    rf_classifier = RandomForestClassifier()\n",
    "\n",
    "    # Define the hyperparameter grid for GridSearchCV\n",
    "    param_grid = {\n",
    "        'n_estimators': [50, 100, 200],          # Number of trees in the forest\n",
    "        'max_depth': [None, 10, 20],              # Maximum depth of the tree\n",
    "        'min_samples_split': [2, 5, 10],          # Minimum number of samples required to split an internal node\n",
    "        'min_samples_leaf': [1, 2, 4]             # Minimum number of samples required to be at a leaf node\n",
    "    }\n",
    "\n",
    "    # Create the GridSearchCV object\n",
    "    grid_search = GridSearchCV(rf_classifier, param_grid, cv=5, scoring='accuracy', n_jobs=-1)\n",
    "\n",
    "    # Perform the grid search on the training data\n",
    "    grid_search.fit(X_train, Y_train)\n",
    "\n",
    "    # Get the best hyperparameters from the grid search\n",
    "    best_params = grid_search.best_params_\n",
    "\n",
    "    # Train the RandomForestClassifier with the best hyperparameters on the entire training set\n",
    "    best_rf_classifier = RandomForestClassifier(**best_params)\n",
    "    best_rf_classifier.fit(X_train, Y_train)\n",
    "\n",
    "    # Print the best hyperparameters\n",
    "    print(f'Best Hyperparameters: {best_params}')\n",
    "\n",
    "    # End timing the function\n",
    "    end = time.time()\n",
    "    endT = end - start\n",
    "    print(\"START time\", time.ctime(start))\n",
    "    print(\"END time\", time.ctime(end), ' duration', endT/60 , 'min')\n",
    "    \n",
    "    # Return the best RandomForestClassifier model, best hyperparameters, and the duration of training\n",
    "    return best_rf_classifier, best_params, endT\n",
    "\n",
    "def train_XGBoost_model(X_train: pd.DataFrame, Y_train: pd.Series):\n",
    "    \"\"\"Train XGBoost model using RandomizedSearchCV.\n",
    "\n",
    "    Args:\n",
    "        X_train (pd.DataFrame): The input features for training.\n",
    "        Y_train (pd.Series): The target labels for training.\n",
    "\n",
    "    Returns:\n",
    "        tuple: A tuple containing the best XGBoost model, best hyperparameters, and training duration.\n",
    "\n",
    "    \"\"\"\n",
    "    # Start timing the function\n",
    "    start = time.time()\n",
    "    print(\"START time\", time.ctime(start))\n",
    "    \n",
    "    # Define hyperparameters for XGBoost model\n",
    "    xgb_params = {\n",
    "        'n_estimators': [*range(170, 200, 5)],  # Range of values for the number of trees\n",
    "        'max_depth': [6],  # Maximum depth of a tree\n",
    "        'learning_rate': [0.1],  # Learning rate\n",
    "        'subsample': [0.3],  # Subsample ratio of the training instances\n",
    "        'colsample_bytree': [0.3]  # Subsample ratio of columns when constructing each tree\n",
    "    }\n",
    "\n",
    "    # Initialize XGBoost classifier\n",
    "    xgb_model = XGBClassifier()\n",
    "\n",
    "    # Perform RandomizedSearchCV to find the best hyperparameters\n",
    "    print(\"start RandomizedSearchCV \")\n",
    "    xgb_random_search = RandomizedSearchCV(xgb_model, param_distributions=xgb_params, n_iter=100, cv=5, n_jobs=-1, verbose=6, error_score='raise')\n",
    "    xgb_random_search.fit(X_train, Y_train)\n",
    "    \n",
    "    # Access the best hyperparameters and the best models\n",
    "    best_xgb_params = xgb_random_search.best_params_\n",
    "    best_xgb_model = xgb_random_search.best_estimator_\n",
    "    \n",
    "    param = {'booster': 'dart',\n",
    "         'max_depth': 5, 'learning_rate': 0.1,\n",
    "         'objective': 'binary:logistic',\n",
    "         'sample_type': 'uniform',\n",
    "         'normalize_type': 'tree',\n",
    "         'rate_drop': 0.1,\n",
    "         'skip_drop': 0.5}\n",
    "    num_round = 50\n",
    "    #best_xgb_model = xgb_model.fit(param, X_train, Y_train, num_round)\n",
    "    #best_xgb_params = param\n",
    "    \n",
    "    \n",
    "    \n",
    "    # End timing the function\n",
    "    end = time.time()\n",
    "    endT = end - start\n",
    "    print(\"START time\", time.ctime(start))\n",
    "    print(\"END time\", time.ctime(end), ' duration', endT/60 , 'min')\n",
    "    \n",
    "    # Return the best XGBoost model, best hyperparameters, and the duration of training\n",
    "    return best_xgb_model, best_xgb_params, endT\n",
    "\n",
    "def train_LightGBM_model(X_train: pd.DataFrame, Y_train: pd.Series) -> tuple:\n",
    "    \"\"\"Train LightGBM model using RandomizedSearchCV.\n",
    "\n",
    "    Args:\n",
    "        X_train (pd.DataFrame): The input features for training.\n",
    "        Y_train (pd.Series): The target labels for training.\n",
    "\n",
    "    Returns:\n",
    "        tuple: A tuple containing the best LightGBM model, best hyperparameters, and training duration.\n",
    "\n",
    "    \"\"\"\n",
    "    # Start timing the function\n",
    "    start = time.time()\n",
    "    print(\"START time\", time.ctime(time.time()))\n",
    "    \n",
    "    \n",
    "    # Define hyperparameters for LightGBM model\n",
    "    lgbm_params = {\n",
    "        'boosting_type': ['gbdt'],           # Gradient boosting type\n",
    "        'n_estimators': [10000],             # Number of boosting iterations\n",
    "        'objective': ['binary'],             # Objective function (binary classification)\n",
    "        'metric': ['binary_logloss'],        # Evaluation metric\n",
    "        'num_leaves': [31],                  # Maximum number of leaves in one tree\n",
    "        'learning_rate': [0.05],             # Learning rate\n",
    "        'class_weight' : ['balanced'],       # Weights associated with classes\n",
    "        'reg_alpha' : [0.1],                 # L1 regularization term\n",
    "        'reg_lambda' : [0.1],                # L2 regularization term\n",
    "        'subsample' : [ 0.8 ]                # Subsample ratio of the training instances\n",
    "    }\n",
    "    # Best hyperparameters are commented out for reference\n",
    "\n",
    "    # Initialize LightGBM classifier\n",
    "    lgbm_model = LGBMClassifier()\n",
    "\n",
    "    # Perform RandomizedSearchCV to find the best hyperparameters\n",
    "    lgbm_random_search = RandomizedSearchCV(lgbm_model, param_distributions=lgbm_params, n_iter=100, cv=5, n_jobs=-1, verbose=5)\n",
    "    lgbm_random_search.fit(X_train, Y_train)\n",
    "\n",
    "    # Access the best hyperparameters and the best models\n",
    "    best_lgbm_params = lgbm_random_search.best_params_\n",
    "    best_lgbm_model = lgbm_random_search.best_estimator_\n",
    "\n",
    "    # End timing the function\n",
    "    end = time.time()\n",
    "    endT = end - start\n",
    "    print(\"START time\", time.ctime(start))\n",
    "    print(\"END time\", time.ctime(end), ' duration', endT/60 , 'min')\n",
    "    \n",
    "    # Return the best LightGBM model, best hyperparameters, and the duration of training\n",
    "    return best_lgbm_model, best_lgbm_params, endT\n",
    "\n"
   ]
  },
  {
   "cell_type": "markdown",
   "id": "6e6ed98b",
   "metadata": {},
   "source": [
    "**Train models and save model, params to MLflow and the evaluation metrics to a dataframe**"
   ]
  },
  {
   "cell_type": "markdown",
   "id": "b224bd54",
   "metadata": {},
   "source": [
    "The following command in Terminal to start the MLflow server  \n",
    "```!mlflow server --host 127.0.0.1 --port 8080```"
   ]
  },
  {
   "cell_type": "code",
   "execution_count": 11,
   "id": "9ca7ad59",
   "metadata": {},
   "outputs": [],
   "source": [
    "def run_MLflow(experiment_name, run_name, metrics, params, model_obj, X_train):\n",
    "    mlflow.set_tracking_uri(\"http://127.0.0.1:8080\")\n",
    "    # Sets the current active experiment to the \"LightGBM_Models\" experiment and returns the Experiment metadata\n",
    "    mlflow_experiment = mlflow.set_experiment(experiment_name)\n",
    "\n",
    "    # Define an artifact path that the model will be saved to.\n",
    "    artifact_path = run_name+\"_artifactPATH\"\n",
    "    print(\"Artifact PATH\" , artifact_path)\n",
    "    \n",
    "    # Assemble the metrics we're going to write into a collection\n",
    "    print(metrics)\n",
    "    print(params)\n",
    "    \n",
    "    signature = infer_signature(X_train, model_obj.predict(X_train))\n",
    "\n",
    "    # Initiate the MLflow run context\n",
    "    with mlflow.start_run(run_name=run_name) as run:\n",
    "        #run = mlflow.active_run()\n",
    "        print(f\"Active run_id: {run.info.run_id}\")\n",
    "        # Log the parameters used for the model fit\n",
    "        mlflow.log_params(params)\n",
    "         # Log parameters and metrics with MLflow\n",
    "        #for key, value in params.items():\n",
    "        #    mlflow.log_param(key, value)\n",
    "        # Log the error metrics that were calculated during validation\n",
    "        mlflow.log_metrics(metrics)\n",
    "        # Log an instance of the trained model for later use\n",
    "        mlflow.sklearn.log_model(sk_model=model_obj, artifact_path=artifact_path, signature=signature)\n"
   ]
  },
  {
   "cell_type": "markdown",
   "id": "fa6cab8a",
   "metadata": {},
   "source": [
    "<a name='4'></a>\n",
    "# 4 Run 1 EXPERIMENT with 6 RUNs\n",
    "\n",
    "**Unbalanced Data**\n",
    "* Random Forest Classifier RFC\n",
    "* XGBoost XGB\n",
    "* LightGBM LGBM\n",
    "\n",
    "**SMOTE transformed Data**\n",
    "* Random Forest Classifier RFC\n",
    "* XGBoost XGB\n",
    "* LightGBM LGBM"
   ]
  },
  {
   "cell_type": "markdown",
   "id": "9c8df72b",
   "metadata": {},
   "source": [
    "**Initiate MLFlow**"
   ]
  },
  {
   "cell_type": "code",
   "execution_count": 12,
   "id": "63f2cb9e",
   "metadata": {},
   "outputs": [],
   "source": [
    "client = MlflowClient(tracking_uri=\"http://127.0.0.1:8080/\")\n",
    "# Provide an Experiment description that will appear in the UI\n",
    "experiment_description = (\n",
    "    \"This is the credit score project. \"\n",
    "    \"This experiment contains the LightGBM, XGboost and RFC model.\"\n",
    ")\n",
    "\n",
    "# Provide searchable tags that define characteristics of the Runs that will be in this Experiment\n",
    "experiment_tags = {\n",
    "    \"project_name\": \"credit-score-classification\",\n",
    "    \"store_dept\": \"Prêt à dépenser\",\n",
    "    \"team\": \"cred-ml\",\n",
    "    \"project_quarter\": \"Q1-2024\",\n",
    "    \"mlflow.note.content\": experiment_description,\n",
    "}\n",
    "\n",
    "experiment_name = \"Credit_scoring\"\n",
    "# Create the Experiment, providing a unique name\n",
    "#experiment = client.create_experiment(name=experiment_name, tags=experiment_tags)"
   ]
  },
  {
   "cell_type": "code",
   "execution_count": null,
   "id": "b6712832",
   "metadata": {},
   "outputs": [],
   "source": []
  },
  {
   "cell_type": "markdown",
   "id": "ad474b89",
   "metadata": {},
   "source": [
    "**1/6 RUN XGB with unbalanced data**"
   ]
  },
  {
   "cell_type": "code",
   "execution_count": null,
   "id": "8ccefa55",
   "metadata": {},
   "outputs": [],
   "source": []
  },
  {
   "cell_type": "code",
   "execution_count": 13,
   "id": "45af51da",
   "metadata": {},
   "outputs": [
    {
     "name": "stdout",
     "output_type": "stream",
     "text": [
      "start train_XGBoost_model\n",
      "START time Sun Mar 10 21:55:56 2024\n",
      "start RandomizedSearchCV \n",
      "Fitting 5 folds for each of 6 candidates, totalling 30 fits\n"
     ]
    },
    {
     "name": "stderr",
     "output_type": "stream",
     "text": [
      "The total space of parameters 6 is smaller than n_iter=100. Running 6 iterations. For exhaustive searches, use GridSearchCV.\n"
     ]
    },
    {
     "name": "stdout",
     "output_type": "stream",
     "text": [
      "START time Sun Mar 10 21:55:56 2024\n",
      "END time Sun Mar 10 22:10:12 2024  duration 14.26457405090332 min\n",
      "\n",
      "---------------------------------\n",
      "start generate_model_report\n"
     ]
    },
    {
     "data": {
      "image/png": "[encoded data removed]",
      "text/plain": [
       "<Figure size 640x480 with 1 Axes>"
      ]
     },
     "metadata": {},
     "output_type": "display_data"
    },
    {
     "name": "stdout",
     "output_type": "stream",
     "text": [
      "Logistic: f1=0.039 auc=0.233\n"
     ]
    },
    {
     "data": {
      "image/png": "[encoded data removed]",
      "text/plain": [
       "<Figure size 640x480 with 1 Axes>"
      ]
     },
     "metadata": {},
     "output_type": "display_data"
    },
    {
     "name": "stdout",
     "output_type": "stream",
     "text": [
      "+------------------+---------------------+---------------------+\n",
      "| Confusion Matrix | Positive prediction | Negative prediction |\n",
      "+------------------+---------------------+---------------------+\n",
      "|  Positive class  |  True positive (TP) | False negative (FN) |\n",
      "|  Negative class  | False positive (FP) |  True negative (TN) |\n",
      "+------------------+---------------------+---------------------+\n",
      "+------------------+---------------------+---------------------+\n",
      "| Confusion Matrix | Positive prediction | Negative prediction |\n",
      "+------------------+---------------------+---------------------+\n",
      "|  Positive class  |          98         |         4786        |\n",
      "|  Negative class  |          84         |        56535        |\n",
      "+------------------+---------------------+---------------------+\n",
      "ROC AUC:  0.5092909595770826\n",
      "Accuracy =  0.9208168707217534\n",
      "Precision =  0.5384615384615384\n",
      "Recall =  0.020065520065520065\n",
      "F1 Score =  0.038689301223845236\n",
      "Fbeta Score =  (0.5, 0.92, 0.91)\n",
      "  model     tn  fp    fn  tp  FP+10*FN  accuracy   ROC_AUC  precision  \\\n",
      "0   XGB  56535  84  4786  98     47944  0.920817  0.509291   0.538462   \n",
      "\n",
      "     recall  F1_Score  Fbeta_macro  Fbeta_micro  Fbeta_weighted  \n",
      "0  0.020066  0.038689          0.5         0.92            0.91  \n",
      "---------------------------------\n",
      "start find_optimal_business_score\n",
      "prediction proba 61503\n",
      "Y_true 61503\n",
      "Series([], Name: best, dtype: object)\n",
      "0    1\n",
      "Name: best, dtype: object\n",
      "best b score 32675 1    0.1\n",
      "Name: threshold, dtype: float64\n",
      "   threshold     tn     fp    fn    tp FP+10*FN  accuracy   ROC_AUC  \\\n",
      "0        0.0      0  56619     0  4884    56619  0.079411  0.500000   \n",
      "1        0.1  43984  12635  2004  2880    32675  0.761979  0.683261   \n",
      "2        0.2  53217   3402  3564  1320    39042  0.886737  0.605092   \n",
      "3        0.3  55606   1013  4261   623    43623  0.914248  0.554834   \n",
      "4        0.4  56337    282  4620   264    46482  0.920297  0.524537   \n",
      "5        0.5  56535     84  4786    98    47944  0.920817  0.509291   \n",
      "\n",
      "   precision    recall  F1_Score  Fbeta_macro  Fbeta_micro  Fbeta_weighted  \\\n",
      "0   0.079411  1.000000  0.147137     0.150668     0.079411        0.023929   \n",
      "1   0.185627  0.589681  0.282367     0.608991     0.761979        0.775680   \n",
      "2   0.279543  0.270270  0.274828     0.605726     0.886737        0.886386   \n",
      "3   0.380807  0.127559  0.191104     0.559048     0.914248        0.905547   \n",
      "4   0.483516  0.054054  0.097238     0.522866     0.920297        0.907399   \n",
      "5   0.538462  0.020066  0.038689     0.503527     0.920817        0.906179   \n",
      "\n",
      "  best  \n",
      "0    0  \n",
      "1    1  \n",
      "2    0  \n",
      "3    0  \n",
      "4    0  \n",
      "5    0  \n",
      "[CV 5/5] END colsample_bytree=0.3, learning_rate=0.1, max_depth=6, n_estimators=175, subsample=0.3;, score=0.919 total time= 5.1min\n",
      "[CV 4/5] END colsample_bytree=0.3, learning_rate=0.1, max_depth=6, n_estimators=185, subsample=0.3;, score=0.919 total time= 5.3min\n"
     ]
    },
    {
     "ename": "MlflowException",
     "evalue": "API request to http://127.0.0.1:8080/api/2.0/mlflow/experiments/get-by-name failed with exception HTTPConnectionPool(host='127.0.0.1', port=8080): Max retries exceeded with url: /api/2.0/mlflow/experiments/get-by-name?experiment_name=Credit_scoring (Caused by NewConnectionError('<urllib3.connection.HTTPConnection object at 0x7fee337a6730>: Failed to establish a new connection: [Errno 61] Connection refused'))",
     "output_type": "error",
     "traceback": [
      "\u001b[0;31m---------------------------------------------------------------------------\u001b[0m",
      "\u001b[0;31mConnectionRefusedError\u001b[0m                    Traceback (most recent call last)",
      "File \u001b[0;32m~/opt/anaconda3/lib/python3.8/site-packages/urllib3/connection.py:203\u001b[0m, in \u001b[0;36mHTTPConnection._new_conn\u001b[0;34m(self)\u001b[0m\n\u001b[1;32m    202\u001b[0m \u001b[38;5;28;01mtry\u001b[39;00m:\n\u001b[0;32m--> 203\u001b[0m     sock \u001b[38;5;241m=\u001b[39m \u001b[43mconnection\u001b[49m\u001b[38;5;241;43m.\u001b[39;49m\u001b[43mcreate_connection\u001b[49m\u001b[43m(\u001b[49m\n\u001b[1;32m    204\u001b[0m \u001b[43m        \u001b[49m\u001b[43m(\u001b[49m\u001b[38;5;28;43mself\u001b[39;49m\u001b[38;5;241;43m.\u001b[39;49m\u001b[43m_dns_host\u001b[49m\u001b[43m,\u001b[49m\u001b[43m \u001b[49m\u001b[38;5;28;43mself\u001b[39;49m\u001b[38;5;241;43m.\u001b[39;49m\u001b[43mport\u001b[49m\u001b[43m)\u001b[49m\u001b[43m,\u001b[49m\n\u001b[1;32m    205\u001b[0m \u001b[43m        \u001b[49m\u001b[38;5;28;43mself\u001b[39;49m\u001b[38;5;241;43m.\u001b[39;49m\u001b[43mtimeout\u001b[49m\u001b[43m,\u001b[49m\n\u001b[1;32m    206\u001b[0m \u001b[43m        \u001b[49m\u001b[43msource_address\u001b[49m\u001b[38;5;241;43m=\u001b[39;49m\u001b[38;5;28;43mself\u001b[39;49m\u001b[38;5;241;43m.\u001b[39;49m\u001b[43msource_address\u001b[49m\u001b[43m,\u001b[49m\n\u001b[1;32m    207\u001b[0m \u001b[43m        \u001b[49m\u001b[43msocket_options\u001b[49m\u001b[38;5;241;43m=\u001b[39;49m\u001b[38;5;28;43mself\u001b[39;49m\u001b[38;5;241;43m.\u001b[39;49m\u001b[43msocket_options\u001b[49m\u001b[43m,\u001b[49m\n\u001b[1;32m    208\u001b[0m \u001b[43m    \u001b[49m\u001b[43m)\u001b[49m\n\u001b[1;32m    209\u001b[0m \u001b[38;5;28;01mexcept\u001b[39;00m socket\u001b[38;5;241m.\u001b[39mgaierror \u001b[38;5;28;01mas\u001b[39;00m e:\n",
      "File \u001b[0;32m~/opt/anaconda3/lib/python3.8/site-packages/urllib3/util/connection.py:85\u001b[0m, in \u001b[0;36mcreate_connection\u001b[0;34m(address, timeout, source_address, socket_options)\u001b[0m\n\u001b[1;32m     84\u001b[0m \u001b[38;5;28;01mtry\u001b[39;00m:\n\u001b[0;32m---> 85\u001b[0m     \u001b[38;5;28;01mraise\u001b[39;00m err\n\u001b[1;32m     86\u001b[0m \u001b[38;5;28;01mfinally\u001b[39;00m:\n\u001b[1;32m     87\u001b[0m     \u001b[38;5;66;03m# Break explicitly a reference cycle\u001b[39;00m\n",
      "File \u001b[0;32m~/opt/anaconda3/lib/python3.8/site-packages/urllib3/util/connection.py:73\u001b[0m, in \u001b[0;36mcreate_connection\u001b[0;34m(address, timeout, source_address, socket_options)\u001b[0m\n\u001b[1;32m     72\u001b[0m     sock\u001b[38;5;241m.\u001b[39mbind(source_address)\n\u001b[0;32m---> 73\u001b[0m \u001b[43msock\u001b[49m\u001b[38;5;241;43m.\u001b[39;49m\u001b[43mconnect\u001b[49m\u001b[43m(\u001b[49m\u001b[43msa\u001b[49m\u001b[43m)\u001b[49m\n\u001b[1;32m     74\u001b[0m \u001b[38;5;66;03m# Break explicitly a reference cycle\u001b[39;00m\n",
      "\u001b[0;31mConnectionRefusedError\u001b[0m: [Errno 61] Connection refused",
      "\nThe above exception was the direct cause of the following exception:\n",
      "\u001b[0;31mNewConnectionError\u001b[0m                        Traceback (most recent call last)",
      "File \u001b[0;32m~/opt/anaconda3/lib/python3.8/site-packages/urllib3/connectionpool.py:790\u001b[0m, in \u001b[0;36mHTTPConnectionPool.urlopen\u001b[0;34m(self, method, url, body, headers, retries, redirect, assert_same_host, timeout, pool_timeout, release_conn, chunked, body_pos, preload_content, decode_content, **response_kw)\u001b[0m\n\u001b[1;32m    789\u001b[0m \u001b[38;5;66;03m# Make the request on the HTTPConnection object\u001b[39;00m\n\u001b[0;32m--> 790\u001b[0m response \u001b[38;5;241m=\u001b[39m \u001b[38;5;28;43mself\u001b[39;49m\u001b[38;5;241;43m.\u001b[39;49m\u001b[43m_make_request\u001b[49m\u001b[43m(\u001b[49m\n\u001b[1;32m    791\u001b[0m \u001b[43m    \u001b[49m\u001b[43mconn\u001b[49m\u001b[43m,\u001b[49m\n\u001b[1;32m    792\u001b[0m \u001b[43m    \u001b[49m\u001b[43mmethod\u001b[49m\u001b[43m,\u001b[49m\n\u001b[1;32m    793\u001b[0m \u001b[43m    \u001b[49m\u001b[43murl\u001b[49m\u001b[43m,\u001b[49m\n\u001b[1;32m    794\u001b[0m \u001b[43m    \u001b[49m\u001b[43mtimeout\u001b[49m\u001b[38;5;241;43m=\u001b[39;49m\u001b[43mtimeout_obj\u001b[49m\u001b[43m,\u001b[49m\n\u001b[1;32m    795\u001b[0m \u001b[43m    \u001b[49m\u001b[43mbody\u001b[49m\u001b[38;5;241;43m=\u001b[39;49m\u001b[43mbody\u001b[49m\u001b[43m,\u001b[49m\n\u001b[1;32m    796\u001b[0m \u001b[43m    \u001b[49m\u001b[43mheaders\u001b[49m\u001b[38;5;241;43m=\u001b[39;49m\u001b[43mheaders\u001b[49m\u001b[43m,\u001b[49m\n\u001b[1;32m    797\u001b[0m \u001b[43m    \u001b[49m\u001b[43mchunked\u001b[49m\u001b[38;5;241;43m=\u001b[39;49m\u001b[43mchunked\u001b[49m\u001b[43m,\u001b[49m\n\u001b[1;32m    798\u001b[0m \u001b[43m    \u001b[49m\u001b[43mretries\u001b[49m\u001b[38;5;241;43m=\u001b[39;49m\u001b[43mretries\u001b[49m\u001b[43m,\u001b[49m\n\u001b[1;32m    799\u001b[0m \u001b[43m    \u001b[49m\u001b[43mresponse_conn\u001b[49m\u001b[38;5;241;43m=\u001b[39;49m\u001b[43mresponse_conn\u001b[49m\u001b[43m,\u001b[49m\n\u001b[1;32m    800\u001b[0m \u001b[43m    \u001b[49m\u001b[43mpreload_content\u001b[49m\u001b[38;5;241;43m=\u001b[39;49m\u001b[43mpreload_content\u001b[49m\u001b[43m,\u001b[49m\n\u001b[1;32m    801\u001b[0m \u001b[43m    \u001b[49m\u001b[43mdecode_content\u001b[49m\u001b[38;5;241;43m=\u001b[39;49m\u001b[43mdecode_content\u001b[49m\u001b[43m,\u001b[49m\n\u001b[1;32m    802\u001b[0m \u001b[43m    \u001b[49m\u001b[38;5;241;43m*\u001b[39;49m\u001b[38;5;241;43m*\u001b[39;49m\u001b[43mresponse_kw\u001b[49m\u001b[43m,\u001b[49m\n\u001b[1;32m    803\u001b[0m \u001b[43m\u001b[49m\u001b[43m)\u001b[49m\n\u001b[1;32m    805\u001b[0m \u001b[38;5;66;03m# Everything went great!\u001b[39;00m\n",
      "File \u001b[0;32m~/opt/anaconda3/lib/python3.8/site-packages/urllib3/connectionpool.py:496\u001b[0m, in \u001b[0;36mHTTPConnectionPool._make_request\u001b[0;34m(self, conn, method, url, body, headers, retries, timeout, chunked, response_conn, preload_content, decode_content, enforce_content_length)\u001b[0m\n\u001b[1;32m    495\u001b[0m \u001b[38;5;28;01mtry\u001b[39;00m:\n\u001b[0;32m--> 496\u001b[0m     \u001b[43mconn\u001b[49m\u001b[38;5;241;43m.\u001b[39;49m\u001b[43mrequest\u001b[49m\u001b[43m(\u001b[49m\n\u001b[1;32m    497\u001b[0m \u001b[43m        \u001b[49m\u001b[43mmethod\u001b[49m\u001b[43m,\u001b[49m\n\u001b[1;32m    498\u001b[0m \u001b[43m        \u001b[49m\u001b[43murl\u001b[49m\u001b[43m,\u001b[49m\n\u001b[1;32m    499\u001b[0m \u001b[43m        \u001b[49m\u001b[43mbody\u001b[49m\u001b[38;5;241;43m=\u001b[39;49m\u001b[43mbody\u001b[49m\u001b[43m,\u001b[49m\n\u001b[1;32m    500\u001b[0m \u001b[43m        \u001b[49m\u001b[43mheaders\u001b[49m\u001b[38;5;241;43m=\u001b[39;49m\u001b[43mheaders\u001b[49m\u001b[43m,\u001b[49m\n\u001b[1;32m    501\u001b[0m \u001b[43m        \u001b[49m\u001b[43mchunked\u001b[49m\u001b[38;5;241;43m=\u001b[39;49m\u001b[43mchunked\u001b[49m\u001b[43m,\u001b[49m\n\u001b[1;32m    502\u001b[0m \u001b[43m        \u001b[49m\u001b[43mpreload_content\u001b[49m\u001b[38;5;241;43m=\u001b[39;49m\u001b[43mpreload_content\u001b[49m\u001b[43m,\u001b[49m\n\u001b[1;32m    503\u001b[0m \u001b[43m        \u001b[49m\u001b[43mdecode_content\u001b[49m\u001b[38;5;241;43m=\u001b[39;49m\u001b[43mdecode_content\u001b[49m\u001b[43m,\u001b[49m\n\u001b[1;32m    504\u001b[0m \u001b[43m        \u001b[49m\u001b[43menforce_content_length\u001b[49m\u001b[38;5;241;43m=\u001b[39;49m\u001b[43menforce_content_length\u001b[49m\u001b[43m,\u001b[49m\n\u001b[1;32m    505\u001b[0m \u001b[43m    \u001b[49m\u001b[43m)\u001b[49m\n\u001b[1;32m    507\u001b[0m \u001b[38;5;66;03m# We are swallowing BrokenPipeError (errno.EPIPE) since the server is\u001b[39;00m\n\u001b[1;32m    508\u001b[0m \u001b[38;5;66;03m# legitimately able to close the connection after sending a valid response.\u001b[39;00m\n\u001b[1;32m    509\u001b[0m \u001b[38;5;66;03m# With this behaviour, the received response is still readable.\u001b[39;00m\n",
      "File \u001b[0;32m~/opt/anaconda3/lib/python3.8/site-packages/urllib3/connection.py:395\u001b[0m, in \u001b[0;36mHTTPConnection.request\u001b[0;34m(self, method, url, body, headers, chunked, preload_content, decode_content, enforce_content_length)\u001b[0m\n\u001b[1;32m    394\u001b[0m     \u001b[38;5;28mself\u001b[39m\u001b[38;5;241m.\u001b[39mputheader(header, value)\n\u001b[0;32m--> 395\u001b[0m \u001b[38;5;28;43mself\u001b[39;49m\u001b[38;5;241;43m.\u001b[39;49m\u001b[43mendheaders\u001b[49m\u001b[43m(\u001b[49m\u001b[43m)\u001b[49m\n\u001b[1;32m    397\u001b[0m \u001b[38;5;66;03m# If we're given a body we start sending that in chunks.\u001b[39;00m\n",
      "File \u001b[0;32m~/opt/anaconda3/lib/python3.8/http/client.py:1250\u001b[0m, in \u001b[0;36mHTTPConnection.endheaders\u001b[0;34m(self, message_body, encode_chunked)\u001b[0m\n\u001b[1;32m   1249\u001b[0m     \u001b[38;5;28;01mraise\u001b[39;00m CannotSendHeader()\n\u001b[0;32m-> 1250\u001b[0m \u001b[38;5;28;43mself\u001b[39;49m\u001b[38;5;241;43m.\u001b[39;49m\u001b[43m_send_output\u001b[49m\u001b[43m(\u001b[49m\u001b[43mmessage_body\u001b[49m\u001b[43m,\u001b[49m\u001b[43m \u001b[49m\u001b[43mencode_chunked\u001b[49m\u001b[38;5;241;43m=\u001b[39;49m\u001b[43mencode_chunked\u001b[49m\u001b[43m)\u001b[49m\n",
      "File \u001b[0;32m~/opt/anaconda3/lib/python3.8/http/client.py:1010\u001b[0m, in \u001b[0;36mHTTPConnection._send_output\u001b[0;34m(self, message_body, encode_chunked)\u001b[0m\n\u001b[1;32m   1009\u001b[0m \u001b[38;5;28;01mdel\u001b[39;00m \u001b[38;5;28mself\u001b[39m\u001b[38;5;241m.\u001b[39m_buffer[:]\n\u001b[0;32m-> 1010\u001b[0m \u001b[38;5;28;43mself\u001b[39;49m\u001b[38;5;241;43m.\u001b[39;49m\u001b[43msend\u001b[49m\u001b[43m(\u001b[49m\u001b[43mmsg\u001b[49m\u001b[43m)\u001b[49m\n\u001b[1;32m   1012\u001b[0m \u001b[38;5;28;01mif\u001b[39;00m message_body \u001b[38;5;129;01mis\u001b[39;00m \u001b[38;5;129;01mnot\u001b[39;00m \u001b[38;5;28;01mNone\u001b[39;00m:\n\u001b[1;32m   1013\u001b[0m \n\u001b[1;32m   1014\u001b[0m     \u001b[38;5;66;03m# create a consistent interface to message_body\u001b[39;00m\n",
      "File \u001b[0;32m~/opt/anaconda3/lib/python3.8/http/client.py:950\u001b[0m, in \u001b[0;36mHTTPConnection.send\u001b[0;34m(self, data)\u001b[0m\n\u001b[1;32m    949\u001b[0m \u001b[38;5;28;01mif\u001b[39;00m \u001b[38;5;28mself\u001b[39m\u001b[38;5;241m.\u001b[39mauto_open:\n\u001b[0;32m--> 950\u001b[0m     \u001b[38;5;28;43mself\u001b[39;49m\u001b[38;5;241;43m.\u001b[39;49m\u001b[43mconnect\u001b[49m\u001b[43m(\u001b[49m\u001b[43m)\u001b[49m\n\u001b[1;32m    951\u001b[0m \u001b[38;5;28;01melse\u001b[39;00m:\n",
      "File \u001b[0;32m~/opt/anaconda3/lib/python3.8/site-packages/urllib3/connection.py:243\u001b[0m, in \u001b[0;36mHTTPConnection.connect\u001b[0;34m(self)\u001b[0m\n\u001b[1;32m    242\u001b[0m \u001b[38;5;28;01mdef\u001b[39;00m \u001b[38;5;21mconnect\u001b[39m(\u001b[38;5;28mself\u001b[39m) \u001b[38;5;241m-\u001b[39m\u001b[38;5;241m>\u001b[39m \u001b[38;5;28;01mNone\u001b[39;00m:\n\u001b[0;32m--> 243\u001b[0m     \u001b[38;5;28mself\u001b[39m\u001b[38;5;241m.\u001b[39msock \u001b[38;5;241m=\u001b[39m \u001b[38;5;28;43mself\u001b[39;49m\u001b[38;5;241;43m.\u001b[39;49m\u001b[43m_new_conn\u001b[49m\u001b[43m(\u001b[49m\u001b[43m)\u001b[49m\n\u001b[1;32m    244\u001b[0m     \u001b[38;5;28;01mif\u001b[39;00m \u001b[38;5;28mself\u001b[39m\u001b[38;5;241m.\u001b[39m_tunnel_host:\n\u001b[1;32m    245\u001b[0m         \u001b[38;5;66;03m# If we're tunneling it means we're connected to our proxy.\u001b[39;00m\n",
      "File \u001b[0;32m~/opt/anaconda3/lib/python3.8/site-packages/urllib3/connection.py:218\u001b[0m, in \u001b[0;36mHTTPConnection._new_conn\u001b[0;34m(self)\u001b[0m\n\u001b[1;32m    217\u001b[0m \u001b[38;5;28;01mexcept\u001b[39;00m \u001b[38;5;167;01mOSError\u001b[39;00m \u001b[38;5;28;01mas\u001b[39;00m e:\n\u001b[0;32m--> 218\u001b[0m     \u001b[38;5;28;01mraise\u001b[39;00m NewConnectionError(\n\u001b[1;32m    219\u001b[0m         \u001b[38;5;28mself\u001b[39m, \u001b[38;5;124mf\u001b[39m\u001b[38;5;124m\"\u001b[39m\u001b[38;5;124mFailed to establish a new connection: \u001b[39m\u001b[38;5;132;01m{\u001b[39;00me\u001b[38;5;132;01m}\u001b[39;00m\u001b[38;5;124m\"\u001b[39m\n\u001b[1;32m    220\u001b[0m     ) \u001b[38;5;28;01mfrom\u001b[39;00m \u001b[38;5;21;01me\u001b[39;00m\n\u001b[1;32m    222\u001b[0m \u001b[38;5;66;03m# Audit hooks are only available in Python 3.8+\u001b[39;00m\n",
      "\u001b[0;31mNewConnectionError\u001b[0m: <urllib3.connection.HTTPConnection object at 0x7fee337a6730>: Failed to establish a new connection: [Errno 61] Connection refused",
      "\nThe above exception was the direct cause of the following exception:\n",
      "\u001b[0;31mMaxRetryError\u001b[0m                             Traceback (most recent call last)",
      "File \u001b[0;32m~/opt/anaconda3/lib/python3.8/site-packages/requests/adapters.py:486\u001b[0m, in \u001b[0;36mHTTPAdapter.send\u001b[0;34m(self, request, stream, timeout, verify, cert, proxies)\u001b[0m\n\u001b[1;32m    485\u001b[0m \u001b[38;5;28;01mtry\u001b[39;00m:\n\u001b[0;32m--> 486\u001b[0m     resp \u001b[38;5;241m=\u001b[39m \u001b[43mconn\u001b[49m\u001b[38;5;241;43m.\u001b[39;49m\u001b[43murlopen\u001b[49m\u001b[43m(\u001b[49m\n\u001b[1;32m    487\u001b[0m \u001b[43m        \u001b[49m\u001b[43mmethod\u001b[49m\u001b[38;5;241;43m=\u001b[39;49m\u001b[43mrequest\u001b[49m\u001b[38;5;241;43m.\u001b[39;49m\u001b[43mmethod\u001b[49m\u001b[43m,\u001b[49m\n\u001b[1;32m    488\u001b[0m \u001b[43m        \u001b[49m\u001b[43murl\u001b[49m\u001b[38;5;241;43m=\u001b[39;49m\u001b[43murl\u001b[49m\u001b[43m,\u001b[49m\n\u001b[1;32m    489\u001b[0m \u001b[43m        \u001b[49m\u001b[43mbody\u001b[49m\u001b[38;5;241;43m=\u001b[39;49m\u001b[43mrequest\u001b[49m\u001b[38;5;241;43m.\u001b[39;49m\u001b[43mbody\u001b[49m\u001b[43m,\u001b[49m\n\u001b[1;32m    490\u001b[0m \u001b[43m        \u001b[49m\u001b[43mheaders\u001b[49m\u001b[38;5;241;43m=\u001b[39;49m\u001b[43mrequest\u001b[49m\u001b[38;5;241;43m.\u001b[39;49m\u001b[43mheaders\u001b[49m\u001b[43m,\u001b[49m\n\u001b[1;32m    491\u001b[0m \u001b[43m        \u001b[49m\u001b[43mredirect\u001b[49m\u001b[38;5;241;43m=\u001b[39;49m\u001b[38;5;28;43;01mFalse\u001b[39;49;00m\u001b[43m,\u001b[49m\n\u001b[1;32m    492\u001b[0m \u001b[43m        \u001b[49m\u001b[43massert_same_host\u001b[49m\u001b[38;5;241;43m=\u001b[39;49m\u001b[38;5;28;43;01mFalse\u001b[39;49;00m\u001b[43m,\u001b[49m\n\u001b[1;32m    493\u001b[0m \u001b[43m        \u001b[49m\u001b[43mpreload_content\u001b[49m\u001b[38;5;241;43m=\u001b[39;49m\u001b[38;5;28;43;01mFalse\u001b[39;49;00m\u001b[43m,\u001b[49m\n\u001b[1;32m    494\u001b[0m \u001b[43m        \u001b[49m\u001b[43mdecode_content\u001b[49m\u001b[38;5;241;43m=\u001b[39;49m\u001b[38;5;28;43;01mFalse\u001b[39;49;00m\u001b[43m,\u001b[49m\n\u001b[1;32m    495\u001b[0m \u001b[43m        \u001b[49m\u001b[43mretries\u001b[49m\u001b[38;5;241;43m=\u001b[39;49m\u001b[38;5;28;43mself\u001b[39;49m\u001b[38;5;241;43m.\u001b[39;49m\u001b[43mmax_retries\u001b[49m\u001b[43m,\u001b[49m\n\u001b[1;32m    496\u001b[0m \u001b[43m        \u001b[49m\u001b[43mtimeout\u001b[49m\u001b[38;5;241;43m=\u001b[39;49m\u001b[43mtimeout\u001b[49m\u001b[43m,\u001b[49m\n\u001b[1;32m    497\u001b[0m \u001b[43m        \u001b[49m\u001b[43mchunked\u001b[49m\u001b[38;5;241;43m=\u001b[39;49m\u001b[43mchunked\u001b[49m\u001b[43m,\u001b[49m\n\u001b[1;32m    498\u001b[0m \u001b[43m    \u001b[49m\u001b[43m)\u001b[49m\n\u001b[1;32m    500\u001b[0m \u001b[38;5;28;01mexcept\u001b[39;00m (ProtocolError, \u001b[38;5;167;01mOSError\u001b[39;00m) \u001b[38;5;28;01mas\u001b[39;00m err:\n",
      "File \u001b[0;32m~/opt/anaconda3/lib/python3.8/site-packages/urllib3/connectionpool.py:874\u001b[0m, in \u001b[0;36mHTTPConnectionPool.urlopen\u001b[0;34m(self, method, url, body, headers, retries, redirect, assert_same_host, timeout, pool_timeout, release_conn, chunked, body_pos, preload_content, decode_content, **response_kw)\u001b[0m\n\u001b[1;32m    871\u001b[0m     log\u001b[38;5;241m.\u001b[39mwarning(\n\u001b[1;32m    872\u001b[0m         \u001b[38;5;124m\"\u001b[39m\u001b[38;5;124mRetrying (\u001b[39m\u001b[38;5;132;01m%r\u001b[39;00m\u001b[38;5;124m) after connection broken by \u001b[39m\u001b[38;5;124m'\u001b[39m\u001b[38;5;132;01m%r\u001b[39;00m\u001b[38;5;124m'\u001b[39m\u001b[38;5;124m: \u001b[39m\u001b[38;5;132;01m%s\u001b[39;00m\u001b[38;5;124m\"\u001b[39m, retries, err, url\n\u001b[1;32m    873\u001b[0m     )\n\u001b[0;32m--> 874\u001b[0m     \u001b[38;5;28;01mreturn\u001b[39;00m \u001b[38;5;28;43mself\u001b[39;49m\u001b[38;5;241;43m.\u001b[39;49m\u001b[43murlopen\u001b[49m\u001b[43m(\u001b[49m\n\u001b[1;32m    875\u001b[0m \u001b[43m        \u001b[49m\u001b[43mmethod\u001b[49m\u001b[43m,\u001b[49m\n\u001b[1;32m    876\u001b[0m \u001b[43m        \u001b[49m\u001b[43murl\u001b[49m\u001b[43m,\u001b[49m\n\u001b[1;32m    877\u001b[0m \u001b[43m        \u001b[49m\u001b[43mbody\u001b[49m\u001b[43m,\u001b[49m\n\u001b[1;32m    878\u001b[0m \u001b[43m        \u001b[49m\u001b[43mheaders\u001b[49m\u001b[43m,\u001b[49m\n\u001b[1;32m    879\u001b[0m \u001b[43m        \u001b[49m\u001b[43mretries\u001b[49m\u001b[43m,\u001b[49m\n\u001b[1;32m    880\u001b[0m \u001b[43m        \u001b[49m\u001b[43mredirect\u001b[49m\u001b[43m,\u001b[49m\n\u001b[1;32m    881\u001b[0m \u001b[43m        \u001b[49m\u001b[43massert_same_host\u001b[49m\u001b[43m,\u001b[49m\n\u001b[1;32m    882\u001b[0m \u001b[43m        \u001b[49m\u001b[43mtimeout\u001b[49m\u001b[38;5;241;43m=\u001b[39;49m\u001b[43mtimeout\u001b[49m\u001b[43m,\u001b[49m\n\u001b[1;32m    883\u001b[0m \u001b[43m        \u001b[49m\u001b[43mpool_timeout\u001b[49m\u001b[38;5;241;43m=\u001b[39;49m\u001b[43mpool_timeout\u001b[49m\u001b[43m,\u001b[49m\n\u001b[1;32m    884\u001b[0m \u001b[43m        \u001b[49m\u001b[43mrelease_conn\u001b[49m\u001b[38;5;241;43m=\u001b[39;49m\u001b[43mrelease_conn\u001b[49m\u001b[43m,\u001b[49m\n\u001b[1;32m    885\u001b[0m \u001b[43m        \u001b[49m\u001b[43mchunked\u001b[49m\u001b[38;5;241;43m=\u001b[39;49m\u001b[43mchunked\u001b[49m\u001b[43m,\u001b[49m\n\u001b[1;32m    886\u001b[0m \u001b[43m        \u001b[49m\u001b[43mbody_pos\u001b[49m\u001b[38;5;241;43m=\u001b[39;49m\u001b[43mbody_pos\u001b[49m\u001b[43m,\u001b[49m\n\u001b[1;32m    887\u001b[0m \u001b[43m        \u001b[49m\u001b[43mpreload_content\u001b[49m\u001b[38;5;241;43m=\u001b[39;49m\u001b[43mpreload_content\u001b[49m\u001b[43m,\u001b[49m\n\u001b[1;32m    888\u001b[0m \u001b[43m        \u001b[49m\u001b[43mdecode_content\u001b[49m\u001b[38;5;241;43m=\u001b[39;49m\u001b[43mdecode_content\u001b[49m\u001b[43m,\u001b[49m\n\u001b[1;32m    889\u001b[0m \u001b[43m        \u001b[49m\u001b[38;5;241;43m*\u001b[39;49m\u001b[38;5;241;43m*\u001b[39;49m\u001b[43mresponse_kw\u001b[49m\u001b[43m,\u001b[49m\n\u001b[1;32m    890\u001b[0m \u001b[43m    \u001b[49m\u001b[43m)\u001b[49m\n\u001b[1;32m    892\u001b[0m \u001b[38;5;66;03m# Handle redirect?\u001b[39;00m\n",
      "File \u001b[0;32m~/opt/anaconda3/lib/python3.8/site-packages/urllib3/connectionpool.py:874\u001b[0m, in \u001b[0;36mHTTPConnectionPool.urlopen\u001b[0;34m(self, method, url, body, headers, retries, redirect, assert_same_host, timeout, pool_timeout, release_conn, chunked, body_pos, preload_content, decode_content, **response_kw)\u001b[0m\n\u001b[1;32m    871\u001b[0m     log\u001b[38;5;241m.\u001b[39mwarning(\n\u001b[1;32m    872\u001b[0m         \u001b[38;5;124m\"\u001b[39m\u001b[38;5;124mRetrying (\u001b[39m\u001b[38;5;132;01m%r\u001b[39;00m\u001b[38;5;124m) after connection broken by \u001b[39m\u001b[38;5;124m'\u001b[39m\u001b[38;5;132;01m%r\u001b[39;00m\u001b[38;5;124m'\u001b[39m\u001b[38;5;124m: \u001b[39m\u001b[38;5;132;01m%s\u001b[39;00m\u001b[38;5;124m\"\u001b[39m, retries, err, url\n\u001b[1;32m    873\u001b[0m     )\n\u001b[0;32m--> 874\u001b[0m     \u001b[38;5;28;01mreturn\u001b[39;00m \u001b[38;5;28;43mself\u001b[39;49m\u001b[38;5;241;43m.\u001b[39;49m\u001b[43murlopen\u001b[49m\u001b[43m(\u001b[49m\n\u001b[1;32m    875\u001b[0m \u001b[43m        \u001b[49m\u001b[43mmethod\u001b[49m\u001b[43m,\u001b[49m\n\u001b[1;32m    876\u001b[0m \u001b[43m        \u001b[49m\u001b[43murl\u001b[49m\u001b[43m,\u001b[49m\n\u001b[1;32m    877\u001b[0m \u001b[43m        \u001b[49m\u001b[43mbody\u001b[49m\u001b[43m,\u001b[49m\n\u001b[1;32m    878\u001b[0m \u001b[43m        \u001b[49m\u001b[43mheaders\u001b[49m\u001b[43m,\u001b[49m\n\u001b[1;32m    879\u001b[0m \u001b[43m        \u001b[49m\u001b[43mretries\u001b[49m\u001b[43m,\u001b[49m\n\u001b[1;32m    880\u001b[0m \u001b[43m        \u001b[49m\u001b[43mredirect\u001b[49m\u001b[43m,\u001b[49m\n\u001b[1;32m    881\u001b[0m \u001b[43m        \u001b[49m\u001b[43massert_same_host\u001b[49m\u001b[43m,\u001b[49m\n\u001b[1;32m    882\u001b[0m \u001b[43m        \u001b[49m\u001b[43mtimeout\u001b[49m\u001b[38;5;241;43m=\u001b[39;49m\u001b[43mtimeout\u001b[49m\u001b[43m,\u001b[49m\n\u001b[1;32m    883\u001b[0m \u001b[43m        \u001b[49m\u001b[43mpool_timeout\u001b[49m\u001b[38;5;241;43m=\u001b[39;49m\u001b[43mpool_timeout\u001b[49m\u001b[43m,\u001b[49m\n\u001b[1;32m    884\u001b[0m \u001b[43m        \u001b[49m\u001b[43mrelease_conn\u001b[49m\u001b[38;5;241;43m=\u001b[39;49m\u001b[43mrelease_conn\u001b[49m\u001b[43m,\u001b[49m\n\u001b[1;32m    885\u001b[0m \u001b[43m        \u001b[49m\u001b[43mchunked\u001b[49m\u001b[38;5;241;43m=\u001b[39;49m\u001b[43mchunked\u001b[49m\u001b[43m,\u001b[49m\n\u001b[1;32m    886\u001b[0m \u001b[43m        \u001b[49m\u001b[43mbody_pos\u001b[49m\u001b[38;5;241;43m=\u001b[39;49m\u001b[43mbody_pos\u001b[49m\u001b[43m,\u001b[49m\n\u001b[1;32m    887\u001b[0m \u001b[43m        \u001b[49m\u001b[43mpreload_content\u001b[49m\u001b[38;5;241;43m=\u001b[39;49m\u001b[43mpreload_content\u001b[49m\u001b[43m,\u001b[49m\n\u001b[1;32m    888\u001b[0m \u001b[43m        \u001b[49m\u001b[43mdecode_content\u001b[49m\u001b[38;5;241;43m=\u001b[39;49m\u001b[43mdecode_content\u001b[49m\u001b[43m,\u001b[49m\n\u001b[1;32m    889\u001b[0m \u001b[43m        \u001b[49m\u001b[38;5;241;43m*\u001b[39;49m\u001b[38;5;241;43m*\u001b[39;49m\u001b[43mresponse_kw\u001b[49m\u001b[43m,\u001b[49m\n\u001b[1;32m    890\u001b[0m \u001b[43m    \u001b[49m\u001b[43m)\u001b[49m\n\u001b[1;32m    892\u001b[0m \u001b[38;5;66;03m# Handle redirect?\u001b[39;00m\n",
      "    \u001b[0;31m[... skipping similar frames: HTTPConnectionPool.urlopen at line 874 (2 times)]\u001b[0m\n",
      "File \u001b[0;32m~/opt/anaconda3/lib/python3.8/site-packages/urllib3/connectionpool.py:874\u001b[0m, in \u001b[0;36mHTTPConnectionPool.urlopen\u001b[0;34m(self, method, url, body, headers, retries, redirect, assert_same_host, timeout, pool_timeout, release_conn, chunked, body_pos, preload_content, decode_content, **response_kw)\u001b[0m\n\u001b[1;32m    871\u001b[0m     log\u001b[38;5;241m.\u001b[39mwarning(\n\u001b[1;32m    872\u001b[0m         \u001b[38;5;124m\"\u001b[39m\u001b[38;5;124mRetrying (\u001b[39m\u001b[38;5;132;01m%r\u001b[39;00m\u001b[38;5;124m) after connection broken by \u001b[39m\u001b[38;5;124m'\u001b[39m\u001b[38;5;132;01m%r\u001b[39;00m\u001b[38;5;124m'\u001b[39m\u001b[38;5;124m: \u001b[39m\u001b[38;5;132;01m%s\u001b[39;00m\u001b[38;5;124m\"\u001b[39m, retries, err, url\n\u001b[1;32m    873\u001b[0m     )\n\u001b[0;32m--> 874\u001b[0m     \u001b[38;5;28;01mreturn\u001b[39;00m \u001b[38;5;28;43mself\u001b[39;49m\u001b[38;5;241;43m.\u001b[39;49m\u001b[43murlopen\u001b[49m\u001b[43m(\u001b[49m\n\u001b[1;32m    875\u001b[0m \u001b[43m        \u001b[49m\u001b[43mmethod\u001b[49m\u001b[43m,\u001b[49m\n\u001b[1;32m    876\u001b[0m \u001b[43m        \u001b[49m\u001b[43murl\u001b[49m\u001b[43m,\u001b[49m\n\u001b[1;32m    877\u001b[0m \u001b[43m        \u001b[49m\u001b[43mbody\u001b[49m\u001b[43m,\u001b[49m\n\u001b[1;32m    878\u001b[0m \u001b[43m        \u001b[49m\u001b[43mheaders\u001b[49m\u001b[43m,\u001b[49m\n\u001b[1;32m    879\u001b[0m \u001b[43m        \u001b[49m\u001b[43mretries\u001b[49m\u001b[43m,\u001b[49m\n\u001b[1;32m    880\u001b[0m \u001b[43m        \u001b[49m\u001b[43mredirect\u001b[49m\u001b[43m,\u001b[49m\n\u001b[1;32m    881\u001b[0m \u001b[43m        \u001b[49m\u001b[43massert_same_host\u001b[49m\u001b[43m,\u001b[49m\n\u001b[1;32m    882\u001b[0m \u001b[43m        \u001b[49m\u001b[43mtimeout\u001b[49m\u001b[38;5;241;43m=\u001b[39;49m\u001b[43mtimeout\u001b[49m\u001b[43m,\u001b[49m\n\u001b[1;32m    883\u001b[0m \u001b[43m        \u001b[49m\u001b[43mpool_timeout\u001b[49m\u001b[38;5;241;43m=\u001b[39;49m\u001b[43mpool_timeout\u001b[49m\u001b[43m,\u001b[49m\n\u001b[1;32m    884\u001b[0m \u001b[43m        \u001b[49m\u001b[43mrelease_conn\u001b[49m\u001b[38;5;241;43m=\u001b[39;49m\u001b[43mrelease_conn\u001b[49m\u001b[43m,\u001b[49m\n\u001b[1;32m    885\u001b[0m \u001b[43m        \u001b[49m\u001b[43mchunked\u001b[49m\u001b[38;5;241;43m=\u001b[39;49m\u001b[43mchunked\u001b[49m\u001b[43m,\u001b[49m\n\u001b[1;32m    886\u001b[0m \u001b[43m        \u001b[49m\u001b[43mbody_pos\u001b[49m\u001b[38;5;241;43m=\u001b[39;49m\u001b[43mbody_pos\u001b[49m\u001b[43m,\u001b[49m\n\u001b[1;32m    887\u001b[0m \u001b[43m        \u001b[49m\u001b[43mpreload_content\u001b[49m\u001b[38;5;241;43m=\u001b[39;49m\u001b[43mpreload_content\u001b[49m\u001b[43m,\u001b[49m\n\u001b[1;32m    888\u001b[0m \u001b[43m        \u001b[49m\u001b[43mdecode_content\u001b[49m\u001b[38;5;241;43m=\u001b[39;49m\u001b[43mdecode_content\u001b[49m\u001b[43m,\u001b[49m\n\u001b[1;32m    889\u001b[0m \u001b[43m        \u001b[49m\u001b[38;5;241;43m*\u001b[39;49m\u001b[38;5;241;43m*\u001b[39;49m\u001b[43mresponse_kw\u001b[49m\u001b[43m,\u001b[49m\n\u001b[1;32m    890\u001b[0m \u001b[43m    \u001b[49m\u001b[43m)\u001b[49m\n\u001b[1;32m    892\u001b[0m \u001b[38;5;66;03m# Handle redirect?\u001b[39;00m\n",
      "File \u001b[0;32m~/opt/anaconda3/lib/python3.8/site-packages/urllib3/connectionpool.py:844\u001b[0m, in \u001b[0;36mHTTPConnectionPool.urlopen\u001b[0;34m(self, method, url, body, headers, retries, redirect, assert_same_host, timeout, pool_timeout, release_conn, chunked, body_pos, preload_content, decode_content, **response_kw)\u001b[0m\n\u001b[1;32m    842\u001b[0m     new_e \u001b[38;5;241m=\u001b[39m ProtocolError(\u001b[38;5;124m\"\u001b[39m\u001b[38;5;124mConnection aborted.\u001b[39m\u001b[38;5;124m\"\u001b[39m, new_e)\n\u001b[0;32m--> 844\u001b[0m retries \u001b[38;5;241m=\u001b[39m \u001b[43mretries\u001b[49m\u001b[38;5;241;43m.\u001b[39;49m\u001b[43mincrement\u001b[49m\u001b[43m(\u001b[49m\n\u001b[1;32m    845\u001b[0m \u001b[43m    \u001b[49m\u001b[43mmethod\u001b[49m\u001b[43m,\u001b[49m\u001b[43m \u001b[49m\u001b[43murl\u001b[49m\u001b[43m,\u001b[49m\u001b[43m \u001b[49m\u001b[43merror\u001b[49m\u001b[38;5;241;43m=\u001b[39;49m\u001b[43mnew_e\u001b[49m\u001b[43m,\u001b[49m\u001b[43m \u001b[49m\u001b[43m_pool\u001b[49m\u001b[38;5;241;43m=\u001b[39;49m\u001b[38;5;28;43mself\u001b[39;49m\u001b[43m,\u001b[49m\u001b[43m \u001b[49m\u001b[43m_stacktrace\u001b[49m\u001b[38;5;241;43m=\u001b[39;49m\u001b[43msys\u001b[49m\u001b[38;5;241;43m.\u001b[39;49m\u001b[43mexc_info\u001b[49m\u001b[43m(\u001b[49m\u001b[43m)\u001b[49m\u001b[43m[\u001b[49m\u001b[38;5;241;43m2\u001b[39;49m\u001b[43m]\u001b[49m\n\u001b[1;32m    846\u001b[0m \u001b[43m\u001b[49m\u001b[43m)\u001b[49m\n\u001b[1;32m    847\u001b[0m retries\u001b[38;5;241m.\u001b[39msleep()\n",
      "File \u001b[0;32m~/opt/anaconda3/lib/python3.8/site-packages/urllib3/util/retry.py:515\u001b[0m, in \u001b[0;36mRetry.increment\u001b[0;34m(self, method, url, response, error, _pool, _stacktrace)\u001b[0m\n\u001b[1;32m    514\u001b[0m     reason \u001b[38;5;241m=\u001b[39m error \u001b[38;5;129;01mor\u001b[39;00m ResponseError(cause)\n\u001b[0;32m--> 515\u001b[0m     \u001b[38;5;28;01mraise\u001b[39;00m MaxRetryError(_pool, url, reason) \u001b[38;5;28;01mfrom\u001b[39;00m \u001b[38;5;21;01mreason\u001b[39;00m  \u001b[38;5;66;03m# type: ignore[arg-type]\u001b[39;00m\n\u001b[1;32m    517\u001b[0m log\u001b[38;5;241m.\u001b[39mdebug(\u001b[38;5;124m\"\u001b[39m\u001b[38;5;124mIncremented Retry for (url=\u001b[39m\u001b[38;5;124m'\u001b[39m\u001b[38;5;132;01m%s\u001b[39;00m\u001b[38;5;124m'\u001b[39m\u001b[38;5;124m): \u001b[39m\u001b[38;5;132;01m%r\u001b[39;00m\u001b[38;5;124m\"\u001b[39m, url, new_retry)\n",
      "\u001b[0;31mMaxRetryError\u001b[0m: HTTPConnectionPool(host='127.0.0.1', port=8080): Max retries exceeded with url: /api/2.0/mlflow/experiments/get-by-name?experiment_name=Credit_scoring (Caused by NewConnectionError('<urllib3.connection.HTTPConnection object at 0x7fee337a6730>: Failed to establish a new connection: [Errno 61] Connection refused'))",
      "\nDuring handling of the above exception, another exception occurred:\n",
      "\u001b[0;31mConnectionError\u001b[0m                           Traceback (most recent call last)",
      "File \u001b[0;32m~/opt/anaconda3/lib/python3.8/site-packages/mlflow/utils/rest_utils.py:107\u001b[0m, in \u001b[0;36mhttp_request\u001b[0;34m(host_creds, endpoint, method, max_retries, backoff_factor, backoff_jitter, extra_headers, retry_codes, timeout, raise_on_status, **kwargs)\u001b[0m\n\u001b[1;32m    106\u001b[0m \u001b[38;5;28;01mtry\u001b[39;00m:\n\u001b[0;32m--> 107\u001b[0m     \u001b[38;5;28;01mreturn\u001b[39;00m \u001b[43m_get_http_response_with_retries\u001b[49m\u001b[43m(\u001b[49m\n\u001b[1;32m    108\u001b[0m \u001b[43m        \u001b[49m\u001b[43mmethod\u001b[49m\u001b[43m,\u001b[49m\n\u001b[1;32m    109\u001b[0m \u001b[43m        \u001b[49m\u001b[43murl\u001b[49m\u001b[43m,\u001b[49m\n\u001b[1;32m    110\u001b[0m \u001b[43m        \u001b[49m\u001b[43mmax_retries\u001b[49m\u001b[43m,\u001b[49m\n\u001b[1;32m    111\u001b[0m \u001b[43m        \u001b[49m\u001b[43mbackoff_factor\u001b[49m\u001b[43m,\u001b[49m\n\u001b[1;32m    112\u001b[0m \u001b[43m        \u001b[49m\u001b[43mbackoff_jitter\u001b[49m\u001b[43m,\u001b[49m\n\u001b[1;32m    113\u001b[0m \u001b[43m        \u001b[49m\u001b[43mretry_codes\u001b[49m\u001b[43m,\u001b[49m\n\u001b[1;32m    114\u001b[0m \u001b[43m        \u001b[49m\u001b[43mraise_on_status\u001b[49m\u001b[43m,\u001b[49m\n\u001b[1;32m    115\u001b[0m \u001b[43m        \u001b[49m\u001b[43mheaders\u001b[49m\u001b[38;5;241;43m=\u001b[39;49m\u001b[43mheaders\u001b[49m\u001b[43m,\u001b[49m\n\u001b[1;32m    116\u001b[0m \u001b[43m        \u001b[49m\u001b[43mverify\u001b[49m\u001b[38;5;241;43m=\u001b[39;49m\u001b[43mhost_creds\u001b[49m\u001b[38;5;241;43m.\u001b[39;49m\u001b[43mverify\u001b[49m\u001b[43m,\u001b[49m\n\u001b[1;32m    117\u001b[0m \u001b[43m        \u001b[49m\u001b[43mtimeout\u001b[49m\u001b[38;5;241;43m=\u001b[39;49m\u001b[43mtimeout\u001b[49m\u001b[43m,\u001b[49m\n\u001b[1;32m    118\u001b[0m \u001b[43m        \u001b[49m\u001b[38;5;241;43m*\u001b[39;49m\u001b[38;5;241;43m*\u001b[39;49m\u001b[43mkwargs\u001b[49m\u001b[43m,\u001b[49m\n\u001b[1;32m    119\u001b[0m \u001b[43m    \u001b[49m\u001b[43m)\u001b[49m\n\u001b[1;32m    120\u001b[0m \u001b[38;5;28;01mexcept\u001b[39;00m requests\u001b[38;5;241m.\u001b[39mexceptions\u001b[38;5;241m.\u001b[39mTimeout \u001b[38;5;28;01mas\u001b[39;00m to:\n",
      "File \u001b[0;32m~/opt/anaconda3/lib/python3.8/site-packages/mlflow/utils/request_utils.py:197\u001b[0m, in \u001b[0;36m_get_http_response_with_retries\u001b[0;34m(method, url, max_retries, backoff_factor, backoff_jitter, retry_codes, raise_on_status, allow_redirects, **kwargs)\u001b[0m\n\u001b[1;32m    195\u001b[0m allow_redirects \u001b[38;5;241m=\u001b[39m env_value \u001b[38;5;28;01mif\u001b[39;00m allow_redirects \u001b[38;5;129;01mis\u001b[39;00m \u001b[38;5;28;01mNone\u001b[39;00m \u001b[38;5;28;01melse\u001b[39;00m allow_redirects\n\u001b[0;32m--> 197\u001b[0m \u001b[38;5;28;01mreturn\u001b[39;00m \u001b[43msession\u001b[49m\u001b[38;5;241;43m.\u001b[39;49m\u001b[43mrequest\u001b[49m\u001b[43m(\u001b[49m\u001b[43mmethod\u001b[49m\u001b[43m,\u001b[49m\u001b[43m \u001b[49m\u001b[43murl\u001b[49m\u001b[43m,\u001b[49m\u001b[43m \u001b[49m\u001b[43mallow_redirects\u001b[49m\u001b[38;5;241;43m=\u001b[39;49m\u001b[43mallow_redirects\u001b[49m\u001b[43m,\u001b[49m\u001b[43m \u001b[49m\u001b[38;5;241;43m*\u001b[39;49m\u001b[38;5;241;43m*\u001b[39;49m\u001b[43mkwargs\u001b[49m\u001b[43m)\u001b[49m\n",
      "File \u001b[0;32m~/opt/anaconda3/lib/python3.8/site-packages/requests/sessions.py:589\u001b[0m, in \u001b[0;36mSession.request\u001b[0;34m(self, method, url, params, data, headers, cookies, files, auth, timeout, allow_redirects, proxies, hooks, stream, verify, cert, json)\u001b[0m\n\u001b[1;32m    588\u001b[0m send_kwargs\u001b[38;5;241m.\u001b[39mupdate(settings)\n\u001b[0;32m--> 589\u001b[0m resp \u001b[38;5;241m=\u001b[39m \u001b[38;5;28;43mself\u001b[39;49m\u001b[38;5;241;43m.\u001b[39;49m\u001b[43msend\u001b[49m\u001b[43m(\u001b[49m\u001b[43mprep\u001b[49m\u001b[43m,\u001b[49m\u001b[43m \u001b[49m\u001b[38;5;241;43m*\u001b[39;49m\u001b[38;5;241;43m*\u001b[39;49m\u001b[43msend_kwargs\u001b[49m\u001b[43m)\u001b[49m\n\u001b[1;32m    591\u001b[0m \u001b[38;5;28;01mreturn\u001b[39;00m resp\n",
      "File \u001b[0;32m~/opt/anaconda3/lib/python3.8/site-packages/requests/sessions.py:703\u001b[0m, in \u001b[0;36mSession.send\u001b[0;34m(self, request, **kwargs)\u001b[0m\n\u001b[1;32m    702\u001b[0m \u001b[38;5;66;03m# Send the request\u001b[39;00m\n\u001b[0;32m--> 703\u001b[0m r \u001b[38;5;241m=\u001b[39m \u001b[43madapter\u001b[49m\u001b[38;5;241;43m.\u001b[39;49m\u001b[43msend\u001b[49m\u001b[43m(\u001b[49m\u001b[43mrequest\u001b[49m\u001b[43m,\u001b[49m\u001b[43m \u001b[49m\u001b[38;5;241;43m*\u001b[39;49m\u001b[38;5;241;43m*\u001b[39;49m\u001b[43mkwargs\u001b[49m\u001b[43m)\u001b[49m\n\u001b[1;32m    705\u001b[0m \u001b[38;5;66;03m# Total elapsed time of the request (approximately)\u001b[39;00m\n",
      "File \u001b[0;32m~/opt/anaconda3/lib/python3.8/site-packages/requests/adapters.py:519\u001b[0m, in \u001b[0;36mHTTPAdapter.send\u001b[0;34m(self, request, stream, timeout, verify, cert, proxies)\u001b[0m\n\u001b[1;32m    517\u001b[0m         \u001b[38;5;28;01mraise\u001b[39;00m SSLError(e, request\u001b[38;5;241m=\u001b[39mrequest)\n\u001b[0;32m--> 519\u001b[0m     \u001b[38;5;28;01mraise\u001b[39;00m \u001b[38;5;167;01mConnectionError\u001b[39;00m(e, request\u001b[38;5;241m=\u001b[39mrequest)\n\u001b[1;32m    521\u001b[0m \u001b[38;5;28;01mexcept\u001b[39;00m ClosedPoolError \u001b[38;5;28;01mas\u001b[39;00m e:\n",
      "\u001b[0;31mConnectionError\u001b[0m: HTTPConnectionPool(host='127.0.0.1', port=8080): Max retries exceeded with url: /api/2.0/mlflow/experiments/get-by-name?experiment_name=Credit_scoring (Caused by NewConnectionError('<urllib3.connection.HTTPConnection object at 0x7fee337a6730>: Failed to establish a new connection: [Errno 61] Connection refused'))",
      "\nDuring handling of the above exception, another exception occurred:\n",
      "\u001b[0;31mMlflowException\u001b[0m                           Traceback (most recent call last)",
      "Cell \u001b[0;32mIn[13], line 6\u001b[0m\n\u001b[1;32m      4\u001b[0m best_xgb_model, best_xgb_params, timeXGB \u001b[38;5;241m=\u001b[39m train_XGBoost_model(X_train, Y_train)    \n\u001b[1;32m      5\u001b[0m XGB_metrics, best_XGB  \u001b[38;5;241m=\u001b[39m generate_model_report(best_xgb_model, run_name, X_test, Y_test, timeXGB)\n\u001b[0;32m----> 6\u001b[0m \u001b[43mrun_MLflow\u001b[49m\u001b[43m(\u001b[49m\u001b[43mexperiment_name\u001b[49m\u001b[43m,\u001b[49m\u001b[43m \u001b[49m\u001b[43mrun_name\u001b[49m\u001b[43m,\u001b[49m\u001b[43m \u001b[49m\u001b[43mXGB_metrics\u001b[49m\u001b[43m,\u001b[49m\u001b[43m \u001b[49m\u001b[43mbest_xgb_params\u001b[49m\u001b[43m,\u001b[49m\u001b[43m \u001b[49m\u001b[43mbest_xgb_model\u001b[49m\u001b[43m,\u001b[49m\u001b[43m \u001b[49m\u001b[43mX_train\u001b[49m\u001b[43m)\u001b[49m\n",
      "Cell \u001b[0;32mIn[11], line 4\u001b[0m, in \u001b[0;36mrun_MLflow\u001b[0;34m(experiment_name, run_name, metrics, params, model_obj, X_train)\u001b[0m\n\u001b[1;32m      2\u001b[0m mlflow\u001b[38;5;241m.\u001b[39mset_tracking_uri(\u001b[38;5;124m\"\u001b[39m\u001b[38;5;124mhttp://127.0.0.1:8080\u001b[39m\u001b[38;5;124m\"\u001b[39m)\n\u001b[1;32m      3\u001b[0m \u001b[38;5;66;03m# Sets the current active experiment to the \"LightGBM_Models\" experiment and returns the Experiment metadata\u001b[39;00m\n\u001b[0;32m----> 4\u001b[0m mlflow_experiment \u001b[38;5;241m=\u001b[39m \u001b[43mmlflow\u001b[49m\u001b[38;5;241;43m.\u001b[39;49m\u001b[43mset_experiment\u001b[49m\u001b[43m(\u001b[49m\u001b[43mexperiment_name\u001b[49m\u001b[43m)\u001b[49m\n\u001b[1;32m      6\u001b[0m \u001b[38;5;66;03m# Define an artifact path that the model will be saved to.\u001b[39;00m\n\u001b[1;32m      7\u001b[0m artifact_path \u001b[38;5;241m=\u001b[39m run_name\u001b[38;5;241m+\u001b[39m\u001b[38;5;124m\"\u001b[39m\u001b[38;5;124m_artifactPATH\u001b[39m\u001b[38;5;124m\"\u001b[39m\n",
      "File \u001b[0;32m~/opt/anaconda3/lib/python3.8/site-packages/mlflow/tracking/fluent.py:135\u001b[0m, in \u001b[0;36mset_experiment\u001b[0;34m(experiment_name, experiment_id)\u001b[0m\n\u001b[1;32m    133\u001b[0m client \u001b[38;5;241m=\u001b[39m MlflowClient()\n\u001b[1;32m    134\u001b[0m \u001b[38;5;28;01mif\u001b[39;00m experiment_id \u001b[38;5;129;01mis\u001b[39;00m \u001b[38;5;28;01mNone\u001b[39;00m:\n\u001b[0;32m--> 135\u001b[0m     experiment \u001b[38;5;241m=\u001b[39m \u001b[43mclient\u001b[49m\u001b[38;5;241;43m.\u001b[39;49m\u001b[43mget_experiment_by_name\u001b[49m\u001b[43m(\u001b[49m\u001b[43mexperiment_name\u001b[49m\u001b[43m)\u001b[49m\n\u001b[1;32m    136\u001b[0m     \u001b[38;5;28;01mif\u001b[39;00m \u001b[38;5;129;01mnot\u001b[39;00m experiment:\n\u001b[1;32m    137\u001b[0m         _logger\u001b[38;5;241m.\u001b[39minfo(\n\u001b[1;32m    138\u001b[0m             \u001b[38;5;124m\"\u001b[39m\u001b[38;5;124mExperiment with name \u001b[39m\u001b[38;5;124m'\u001b[39m\u001b[38;5;132;01m%s\u001b[39;00m\u001b[38;5;124m'\u001b[39m\u001b[38;5;124m does not exist. Creating a new experiment.\u001b[39m\u001b[38;5;124m\"\u001b[39m,\n\u001b[1;32m    139\u001b[0m             experiment_name,\n\u001b[1;32m    140\u001b[0m         )\n",
      "File \u001b[0;32m~/opt/anaconda3/lib/python3.8/site-packages/mlflow/tracking/client.py:520\u001b[0m, in \u001b[0;36mMlflowClient.get_experiment_by_name\u001b[0;34m(self, name)\u001b[0m\n\u001b[1;32m    489\u001b[0m \u001b[38;5;28;01mdef\u001b[39;00m \u001b[38;5;21mget_experiment_by_name\u001b[39m(\u001b[38;5;28mself\u001b[39m, name: \u001b[38;5;28mstr\u001b[39m) \u001b[38;5;241m-\u001b[39m\u001b[38;5;241m>\u001b[39m Optional[Experiment]:\n\u001b[1;32m    490\u001b[0m \u001b[38;5;250m    \u001b[39m\u001b[38;5;124;03m\"\"\"\u001b[39;00m\n\u001b[1;32m    491\u001b[0m \u001b[38;5;124;03m    Retrieve an experiment by experiment name from the backend store\u001b[39;00m\n\u001b[1;32m    492\u001b[0m \n\u001b[0;32m   (...)\u001b[0m\n\u001b[1;32m    518\u001b[0m \u001b[38;5;124;03m        Lifecycle_stage: active\u001b[39;00m\n\u001b[1;32m    519\u001b[0m \u001b[38;5;124;03m    \"\"\"\u001b[39;00m\n\u001b[0;32m--> 520\u001b[0m     \u001b[38;5;28;01mreturn\u001b[39;00m \u001b[38;5;28;43mself\u001b[39;49m\u001b[38;5;241;43m.\u001b[39;49m\u001b[43m_tracking_client\u001b[49m\u001b[38;5;241;43m.\u001b[39;49m\u001b[43mget_experiment_by_name\u001b[49m\u001b[43m(\u001b[49m\u001b[43mname\u001b[49m\u001b[43m)\u001b[49m\n",
      "File \u001b[0;32m~/opt/anaconda3/lib/python3.8/site-packages/mlflow/tracking/_tracking_service/client.py:221\u001b[0m, in \u001b[0;36mTrackingServiceClient.get_experiment_by_name\u001b[0;34m(self, name)\u001b[0m\n\u001b[1;32m    216\u001b[0m \u001b[38;5;28;01mdef\u001b[39;00m \u001b[38;5;21mget_experiment_by_name\u001b[39m(\u001b[38;5;28mself\u001b[39m, name):\n\u001b[1;32m    217\u001b[0m \u001b[38;5;250m    \u001b[39m\u001b[38;5;124;03m\"\"\"\u001b[39;00m\n\u001b[1;32m    218\u001b[0m \u001b[38;5;124;03m    :param name: The experiment name.\u001b[39;00m\n\u001b[1;32m    219\u001b[0m \u001b[38;5;124;03m    :return: :py:class:`mlflow.entities.Experiment`\u001b[39;00m\n\u001b[1;32m    220\u001b[0m \u001b[38;5;124;03m    \"\"\"\u001b[39;00m\n\u001b[0;32m--> 221\u001b[0m     \u001b[38;5;28;01mreturn\u001b[39;00m \u001b[38;5;28;43mself\u001b[39;49m\u001b[38;5;241;43m.\u001b[39;49m\u001b[43mstore\u001b[49m\u001b[38;5;241;43m.\u001b[39;49m\u001b[43mget_experiment_by_name\u001b[49m\u001b[43m(\u001b[49m\u001b[43mname\u001b[49m\u001b[43m)\u001b[49m\n",
      "File \u001b[0;32m~/opt/anaconda3/lib/python3.8/site-packages/mlflow/store/tracking/rest_store.py:306\u001b[0m, in \u001b[0;36mRestStore.get_experiment_by_name\u001b[0;34m(self, experiment_name)\u001b[0m\n\u001b[1;32m    304\u001b[0m \u001b[38;5;28;01mtry\u001b[39;00m:\n\u001b[1;32m    305\u001b[0m     req_body \u001b[38;5;241m=\u001b[39m message_to_json(GetExperimentByName(experiment_name\u001b[38;5;241m=\u001b[39mexperiment_name))\n\u001b[0;32m--> 306\u001b[0m     response_proto \u001b[38;5;241m=\u001b[39m \u001b[38;5;28;43mself\u001b[39;49m\u001b[38;5;241;43m.\u001b[39;49m\u001b[43m_call_endpoint\u001b[49m\u001b[43m(\u001b[49m\u001b[43mGetExperimentByName\u001b[49m\u001b[43m,\u001b[49m\u001b[43m \u001b[49m\u001b[43mreq_body\u001b[49m\u001b[43m)\u001b[49m\n\u001b[1;32m    307\u001b[0m     \u001b[38;5;28;01mreturn\u001b[39;00m Experiment\u001b[38;5;241m.\u001b[39mfrom_proto(response_proto\u001b[38;5;241m.\u001b[39mexperiment)\n\u001b[1;32m    308\u001b[0m \u001b[38;5;28;01mexcept\u001b[39;00m MlflowException \u001b[38;5;28;01mas\u001b[39;00m e:\n",
      "File \u001b[0;32m~/opt/anaconda3/lib/python3.8/site-packages/mlflow/store/tracking/rest_store.py:59\u001b[0m, in \u001b[0;36mRestStore._call_endpoint\u001b[0;34m(self, api, json_body)\u001b[0m\n\u001b[1;32m     57\u001b[0m endpoint, method \u001b[38;5;241m=\u001b[39m _METHOD_TO_INFO[api]\n\u001b[1;32m     58\u001b[0m response_proto \u001b[38;5;241m=\u001b[39m api\u001b[38;5;241m.\u001b[39mResponse()\n\u001b[0;32m---> 59\u001b[0m \u001b[38;5;28;01mreturn\u001b[39;00m \u001b[43mcall_endpoint\u001b[49m\u001b[43m(\u001b[49m\u001b[38;5;28;43mself\u001b[39;49m\u001b[38;5;241;43m.\u001b[39;49m\u001b[43mget_host_creds\u001b[49m\u001b[43m(\u001b[49m\u001b[43m)\u001b[49m\u001b[43m,\u001b[49m\u001b[43m \u001b[49m\u001b[43mendpoint\u001b[49m\u001b[43m,\u001b[49m\u001b[43m \u001b[49m\u001b[43mmethod\u001b[49m\u001b[43m,\u001b[49m\u001b[43m \u001b[49m\u001b[43mjson_body\u001b[49m\u001b[43m,\u001b[49m\u001b[43m \u001b[49m\u001b[43mresponse_proto\u001b[49m\u001b[43m)\u001b[49m\n",
      "File \u001b[0;32m~/opt/anaconda3/lib/python3.8/site-packages/mlflow/utils/rest_utils.py:215\u001b[0m, in \u001b[0;36mcall_endpoint\u001b[0;34m(host_creds, endpoint, method, json_body, response_proto, extra_headers)\u001b[0m\n\u001b[1;32m    213\u001b[0m \u001b[38;5;28;01mif\u001b[39;00m method \u001b[38;5;241m==\u001b[39m \u001b[38;5;124m\"\u001b[39m\u001b[38;5;124mGET\u001b[39m\u001b[38;5;124m\"\u001b[39m:\n\u001b[1;32m    214\u001b[0m     call_kwargs[\u001b[38;5;124m\"\u001b[39m\u001b[38;5;124mparams\u001b[39m\u001b[38;5;124m\"\u001b[39m] \u001b[38;5;241m=\u001b[39m json_body\n\u001b[0;32m--> 215\u001b[0m     response \u001b[38;5;241m=\u001b[39m \u001b[43mhttp_request\u001b[49m\u001b[43m(\u001b[49m\u001b[38;5;241;43m*\u001b[39;49m\u001b[38;5;241;43m*\u001b[39;49m\u001b[43mcall_kwargs\u001b[49m\u001b[43m)\u001b[49m\n\u001b[1;32m    216\u001b[0m \u001b[38;5;28;01melse\u001b[39;00m:\n\u001b[1;32m    217\u001b[0m     call_kwargs[\u001b[38;5;124m\"\u001b[39m\u001b[38;5;124mjson\u001b[39m\u001b[38;5;124m\"\u001b[39m] \u001b[38;5;241m=\u001b[39m json_body\n",
      "File \u001b[0;32m~/opt/anaconda3/lib/python3.8/site-packages/mlflow/utils/rest_utils.py:129\u001b[0m, in \u001b[0;36mhttp_request\u001b[0;34m(host_creds, endpoint, method, max_retries, backoff_factor, backoff_jitter, extra_headers, retry_codes, timeout, raise_on_status, **kwargs)\u001b[0m\n\u001b[1;32m    127\u001b[0m     \u001b[38;5;28;01mraise\u001b[39;00m InvalidUrlException(\u001b[38;5;124mf\u001b[39m\u001b[38;5;124m\"\u001b[39m\u001b[38;5;124mInvalid url: \u001b[39m\u001b[38;5;132;01m{\u001b[39;00murl\u001b[38;5;132;01m}\u001b[39;00m\u001b[38;5;124m\"\u001b[39m) \u001b[38;5;28;01mfrom\u001b[39;00m \u001b[38;5;21;01miu\u001b[39;00m\n\u001b[1;32m    128\u001b[0m \u001b[38;5;28;01mexcept\u001b[39;00m \u001b[38;5;167;01mException\u001b[39;00m \u001b[38;5;28;01mas\u001b[39;00m e:\n\u001b[0;32m--> 129\u001b[0m     \u001b[38;5;28;01mraise\u001b[39;00m MlflowException(\u001b[38;5;124mf\u001b[39m\u001b[38;5;124m\"\u001b[39m\u001b[38;5;124mAPI request to \u001b[39m\u001b[38;5;132;01m{\u001b[39;00murl\u001b[38;5;132;01m}\u001b[39;00m\u001b[38;5;124m failed with exception \u001b[39m\u001b[38;5;132;01m{\u001b[39;00me\u001b[38;5;132;01m}\u001b[39;00m\u001b[38;5;124m\"\u001b[39m)\n",
      "\u001b[0;31mMlflowException\u001b[0m: API request to http://127.0.0.1:8080/api/2.0/mlflow/experiments/get-by-name failed with exception HTTPConnectionPool(host='127.0.0.1', port=8080): Max retries exceeded with url: /api/2.0/mlflow/experiments/get-by-name?experiment_name=Credit_scoring (Caused by NewConnectionError('<urllib3.connection.HTTPConnection object at 0x7fee337a6730>: Failed to establish a new connection: [Errno 61] Connection refused'))"
     ]
    }
   ],
   "source": [
    "# XGB no SMOTE data   \n",
    "run_name = \"XGB\"\n",
    "print(\"start train_XGBoost_model\")\n",
    "best_xgb_model, best_xgb_params, timeXGB = train_XGBoost_model(X_train, Y_train)    \n",
    "XGB_metrics, best_XGB  = generate_model_report(best_xgb_model, run_name, X_test, Y_test, timeXGB)\n",
    "run_MLflow(experiment_name, run_name, XGB_metrics, best_xgb_params, best_xgb_model, X_train)\n"
   ]
  },
  {
   "cell_type": "markdown",
   "id": "14c93a91",
   "metadata": {},
   "source": [
    "**2/6 RUN XGB with SMOTE data**"
   ]
  },
  {
   "cell_type": "code",
   "execution_count": null,
   "id": "434d4c2d",
   "metadata": {},
   "outputs": [],
   "source": [
    "# XGB with SMOTE data   \n",
    "run_name = \"XGB_smote\"\n",
    "#XGB_model_smote, best_xfb_params_smote, timeXGBsmote =  train_XGBoost_model(x_train_smote, y_train_smote)\n",
    "XGB_smote_metrics, best_XGB_smote     = generate_model_report(XGB_model_smote, run_name, X_test, Y_test, timeXGBsmote)\n",
    "run_MLflow(experiment_name, run_name, XGB_smote_metrics, best_xfb_params_smote, XGB_model_smote, x_train_smote)"
   ]
  },
  {
   "cell_type": "markdown",
   "id": "a909db02",
   "metadata": {},
   "source": [
    "**3/6 LightGBM on unbalanced data set**"
   ]
  },
  {
   "cell_type": "code",
   "execution_count": null,
   "id": "d68417fa",
   "metadata": {},
   "outputs": [],
   "source": [
    "run_name = \"LightGBM\"\n",
    "LGBM_model, best_LGBM_params, time_LGBM =  train_LightGBM_model(X_train, Y_train)\n",
    "metrics_LGBM, LGBM_metrics     = generate_model_report(LGBM_model, run_name, X_test, Y_test, time_LGBM)\n",
    "run_MLflow(experiment_name, run_name, metrics_LGBM, best_LGBM_params, LGBM_model, X_train)"
   ]
  },
  {
   "cell_type": "markdown",
   "id": "4af8163c",
   "metadata": {},
   "source": [
    "**4/6 LightGBM on smote data set**"
   ]
  },
  {
   "cell_type": "code",
   "execution_count": null,
   "id": "292f3789",
   "metadata": {},
   "outputs": [],
   "source": [
    "run_name = \"LightGBM_smote\"\n",
    "LGBM_smote_model, best_LGBM_smote_params, time_LGBM_smote =  train_LightGBM_model(x_train_smote, y_train_smote)\n",
    "metrics_LGBM_smote, LGBM_smote_metrics     = generate_model_report(LGBM_smote_model, run_name, X_test, Y_test, time_LGBM_smote)\n",
    "run_MLflow(experiment_name, run_name, metrics_LGBM_smote, best_LGBM_smote_params,\n",
    "           LGBM_smote_model, x_train_smote)"
   ]
  },
  {
   "cell_type": "markdown",
   "id": "67893829",
   "metadata": {},
   "source": [
    "**5/6 RFC on unbalanced data set**"
   ]
  },
  {
   "cell_type": "code",
   "execution_count": null,
   "id": "c3c3b1a4",
   "metadata": {},
   "outputs": [],
   "source": [
    "run_name = \"RFC\"\n",
    "RFC_model, best_RFC_params, time_RFC = RFC_model(X_train, Y_train)\n",
    "RFC_metrics, best_metrics_RFC        = generate_model_report(RFC_model, run_name, X_test, Y_test, time_RFC)\n",
    "run_MLflow(experiment_name, run_name, RFC_metrics, \n",
    "           best_RFC_params, RFC_model, X_train)"
   ]
  },
  {
   "cell_type": "markdown",
   "id": "e44e3f40",
   "metadata": {},
   "source": [
    "**6/6 RFC on Smote data set**"
   ]
  },
  {
   "cell_type": "code",
   "execution_count": null,
   "id": "8449b44c",
   "metadata": {},
   "outputs": [],
   "source": [
    "run_name = \"RFC_smote\"\n",
    "RFC_model_smote, best_RFC_params_smote, time_RFC_smote = RFC_model(x_train_smote, y_train_smote)\n",
    "RFC_smote_metrics, best_metrics_RFC_smote              = generate_model_report(RFC_model_smote, run_name, X_test, Y_test, time_RFC_smote)\n",
    "run_MLflow(experiment_name, run_name, RFC_smote_metrics, \n",
    "           best_RFC_params_smote, RFC_model_smote, x_train_smote)"
   ]
  },
  {
   "cell_type": "markdown",
   "id": "9e08b8cf",
   "metadata": {},
   "source": [
    "<a name='5'></a>\n",
    "# 5 Evalutation and selection of best model"
   ]
  },
  {
   "cell_type": "code",
   "execution_count": null,
   "id": "73845c9f",
   "metadata": {},
   "outputs": [],
   "source": [
    "# Get the experiment by name\n",
    "experiment = mlflow.get_experiment_by_name(experiment_name)\n",
    "print(experiment)\n",
    "# Get all runs within the experiment\n",
    "runs = mlflow.search_runs(experiment_ids=[experiment.experiment_id])\n",
    "\n",
    "# Create an empty list to store metrics data\n",
    "metrics_data = []\n",
    "\n",
    "# Iterate over each run and append its metrics to the list\n",
    "for index, run in runs.iterrows():\n",
    "    run_id = run[\"run_id\"]\n",
    "    #print(run_id)\n",
    "    run_info = mlflow.get_run(run_id)\n",
    "    #print(run_info)\n",
    "    run_name = run_info.data.tags.get(\"mlflow.runName\")\n",
    "    metrics = run_info.data.metrics\n",
    "    metrics_data.append({**metrics, \"Run Name\": run_name})\n",
    "\n",
    "# Create a DataFrame from the metrics data\n",
    "metrics_df = pd.DataFrame(metrics_data)\n",
    "metrics_df.set_index(\"Run Name\", inplace=True)  # Set the run name as the index\n",
    "\n",
    "#metrics_df['t_in_s'] = round(metrics_df['time_in_s'],0)\n",
    "metrics_df['t_in_min'] = round(metrics_df['time_in_s']/60,1)\n",
    "#metrics_df['FP_10_FN'] = round(metrics_df['FP_10_FN'],0)\n",
    "\n",
    "#metrics_df.drop(['t_in_s'],axis=1, inplace=True)\n",
    "\n",
    "metrics_df = metrics_df.sort_values(by='FP_10_FN', ascending=True)\n",
    "#print(round(metrics_df,2))\n",
    "#metrics_df = round(metrics_df,2)\n",
    "metrics_out = metrics_df[['FP_10_FN','ROC_AUC','t_in_min','FP','TP','FN','TN','Accuracy','Recall','threshold','Precision','F1']]\n",
    "metrics_out"
   ]
  },
  {
   "cell_type": "code",
   "execution_count": null,
   "id": "61e53b38",
   "metadata": {},
   "outputs": [],
   "source": [
    "print(metrics_df.columns)"
   ]
  },
  {
   "cell_type": "code",
   "execution_count": null,
   "id": "1ff01d15",
   "metadata": {},
   "outputs": [],
   "source": [
    "# Load saved model and make predictions\n",
    "logged_model = 'runs:/546a6c80762547cfb2f52e2cfb9bb735/XGB_artifactPATH'\n",
    "\n",
    "xgb_classifier_saved = mlflow.pyfunc.load_model(logged_model)"
   ]
  },
  {
   "cell_type": "markdown",
   "id": "87f09f03",
   "metadata": {},
   "source": [
    "The model **XGB** receives the best business score (FP_10_FN) with 32675, at the same time it has the second highest Accuracy and the second highest Precision."
   ]
  },
  {
   "cell_type": "markdown",
   "id": "688750c6",
   "metadata": {},
   "source": [
    "<a name='6'></a>\n",
    "# 6 Feature Importance\n",
    "\n",
    "- get feature importance\n",
    "- select the features with SHAP values equal 0 and retrain model to assess change"
   ]
  },
  {
   "cell_type": "code",
   "execution_count": null,
   "id": "829aa82b",
   "metadata": {},
   "outputs": [],
   "source": [
    "#feature_names.iloc[:,0].values.tolist()"
   ]
  },
  {
   "cell_type": "code",
   "execution_count": null,
   "id": "b02f7c87",
   "metadata": {},
   "outputs": [],
   "source": [
    "feature_importance_df = pd.DataFrame({\n",
    "    'Feature': feature_names.iloc[:,0].values.tolist(),\n",
    "    'Importance': RFC_model.feature_importances_\n",
    "})\n",
    "\n",
    "# Sorting the DataFrame by importance scores\n",
    "feature_importance_df_sorted = feature_importance_df.sort_values(by='Importance', ascending=False)\n",
    "\n",
    "# Displaying the sorted DataFrame\n",
    "#feature_importance_df_sorted['Feature'][:20].tolist()"
   ]
  },
  {
   "cell_type": "code",
   "execution_count": null,
   "id": "3a4aedda",
   "metadata": {},
   "outputs": [],
   "source": [
    "# Select columns with data type 'int64'\n",
    "int_columns = X_train.select_dtypes(include=['int64']).columns\n",
    "\n",
    "# Convert selected columns to int\n",
    "X_train[int_columns] = X_train[int_columns].astype('float')\n",
    "# Select columns with data type 'int64'\n",
    "int_columns = X_train.select_dtypes(include=['bool']).columns\n",
    "\n",
    "# Convert selected columns to int\n",
    "X_train[int_columns] = X_train[int_columns].astype('float')\n",
    "#X_train.info()"
   ]
  },
  {
   "cell_type": "markdown",
   "id": "e173c5e8",
   "metadata": {},
   "source": [
    "**Conversion of type of the test data**"
   ]
  },
  {
   "cell_type": "code",
   "execution_count": null,
   "id": "0b2a29c7",
   "metadata": {},
   "outputs": [],
   "source": [
    "test = X_train.copy()\n",
    "test[\"ID\"] = ids_test\n",
    "test.set_index(\"ID\", inplace=True)\n",
    "ids_test.iloc[5]\n",
    "#test.loc[100008].values.tolist()\n",
    "data_point = test.loc[100030].values.tolist()\n"
   ]
  },
  {
   "cell_type": "code",
   "execution_count": null,
   "id": "bd1e3ca8",
   "metadata": {},
   "outputs": [],
   "source": [
    "data_P = pd.DataFrame(data_point)\n",
    "data_P.shape"
   ]
  },
  {
   "cell_type": "code",
   "execution_count": null,
   "id": "46ac641a",
   "metadata": {},
   "outputs": [],
   "source": [
    "explainer = shap.Explainer(best_xgb_model, X_train)\n",
    "\n",
    "shap_values = explainer.shap_values(data_P)\n",
    "shap_df = pd.DataFrame({'Feature': X.columns, 'SHAP Value': shap_values[0]})\n",
    "print(\"\\nSHAP Values:\")\n",
    "print(shap_df)"
   ]
  },
  {
   "cell_type": "code",
   "execution_count": null,
   "id": "9aa9ebad",
   "metadata": {},
   "outputs": [],
   "source": [
    "explainer = shap.Explainer(best_xgb_model, X_train)\n",
    "#explainer = shap.Explainer(xgb_classifier_saved, X_train)\n",
    "\n",
    "shap_values = explainer.shap_values(X_train)\n",
    "shap_df = pd.DataFrame({'Feature': feature_names['0'].tolist(), 'SHAP Value': shap_values[0]})\n",
    "print(\"\\n SHAP Values:\")\n",
    "# Sort shap_df by the 'SHAP Value' column in ascending order\n",
    "sorted_shap_df = shap_df.sort_values(by='SHAP Value')\n",
    "\n",
    "# Print the sorted DataFrame\n",
    "print(sorted_shap_df)"
   ]
  },
  {
   "cell_type": "code",
   "execution_count": null,
   "id": "508b0553",
   "metadata": {},
   "outputs": [],
   "source": [
    "shap_df.to_csv('data/shap_df.csv', index = False)"
   ]
  },
  {
   "cell_type": "code",
   "execution_count": null,
   "id": "e50cfcb3",
   "metadata": {},
   "outputs": [],
   "source": [
    "shap.summary_plot(shap_values, shap_df['Feature'], plot_type=\"bar\")"
   ]
  },
  {
   "cell_type": "code",
   "execution_count": null,
   "id": "3dc0a2b4",
   "metadata": {},
   "outputs": [],
   "source": [
    "#pip install --upgrade xgboost \n",
    "#pip install xgboost==1.7.6"
   ]
  },
  {
   "cell_type": "code",
   "execution_count": null,
   "id": "27b13a02",
   "metadata": {},
   "outputs": [],
   "source": [
    "print(xgb.__version__)"
   ]
  },
  {
   "cell_type": "code",
   "execution_count": null,
   "id": "0cf0144f",
   "metadata": {},
   "outputs": [],
   "source": [
    "#!pip freeze #> requirements.txt"
   ]
  },
  {
   "cell_type": "markdown",
   "id": "f4ee89e9",
   "metadata": {},
   "source": [
    "<a name='7'></a>\n",
    "## 7 Feature Selection after SHAP feature Importance"
   ]
  },
  {
   "cell_type": "markdown",
   "id": "4973c53c",
   "metadata": {},
   "source": [
    "## Filter not useful features"
   ]
  },
  {
   "cell_type": "code",
   "execution_count": null,
   "id": "49198917",
   "metadata": {},
   "outputs": [],
   "source": [
    "# Displaying the sorted DataFrame\n",
    "SHAP_feature_important_001 = shap_df[abs(shap_df['SHAP Value'])>0.001]['Feature'].tolist()\n",
    "len(SHAP_feature_important)"
   ]
  },
  {
   "cell_type": "markdown",
   "id": "2c288254",
   "metadata": {},
   "source": [
    "Retrain"
   ]
  },
  {
   "cell_type": "code",
   "execution_count": null,
   "id": "5ded83c7",
   "metadata": {},
   "outputs": [],
   "source": [
    "len(SHAP_feature_unimportant)"
   ]
  },
  {
   "cell_type": "code",
   "execution_count": null,
   "id": "6551c804",
   "metadata": {},
   "outputs": [],
   "source": [
    "len(SHAP_feature_important)"
   ]
  },
  {
   "cell_type": "code",
   "execution_count": null,
   "id": "b0f96f66",
   "metadata": {},
   "outputs": [],
   "source": [
    "#SHAP_feature_important"
   ]
  },
  {
   "cell_type": "code",
   "execution_count": null,
   "id": "fedb572c",
   "metadata": {},
   "outputs": [],
   "source": [
    "X_train.head()"
   ]
  },
  {
   "cell_type": "code",
   "execution_count": null,
   "id": "f2282a63",
   "metadata": {},
   "outputs": [],
   "source": [
    "def select_columns(X_train, feature_names, shap_df, threshold):\n",
    "    SHAP_feature_important = shap_df[abs(shap_df['SHAP Value'])>threshold]['Feature'].tolist()\n",
    "    print(\"length important features \", len(SHAP_feature_important))\n",
    "    df = X_train.copy()\n",
    "    df.columns = feature_names['0'].tolist()\n",
    "    df = df[SHAP_feature_important]\n",
    "    # Remove all column names\n",
    "    #df.rename(columns={x:y for x,y in zip(df.columns,range(0,len(df.columns)))})\n",
    "    df.columns = [x for x in range(0, len(df.columns))] \n",
    "    print(df.shape)\n",
    "    #print(df.info())\n",
    "    print(df.head())\n",
    "    return df"
   ]
  },
  {
   "cell_type": "markdown",
   "id": "10aaba6f",
   "metadata": {},
   "source": [
    "### First attempt to improve feature selection and model training"
   ]
  },
  {
   "cell_type": "code",
   "execution_count": null,
   "id": "2e6ef7e6",
   "metadata": {},
   "outputs": [],
   "source": [
    "new_X_train = select_columns(X_train, feature_names, shap_df, 0.001)\n",
    "new_X_test  = select_columns(X_test, feature_names, shap_df, 0.001)"
   ]
  },
  {
   "cell_type": "code",
   "execution_count": null,
   "id": "e2578818",
   "metadata": {},
   "outputs": [],
   "source": [
    "run_name = \"RFC_newFEATURE_001\"\n",
    "RFC_model_001, best_RFC_params, time_RFC = RFC_model(new_X_train, Y_train)\n",
    "RFC_metrics, best_metrics_RFC        = generate_model_report(RFC_model_001, run_name, new_X_test, Y_test, time_RFC)\n",
    "run_MLflow(experiment_name, run_name, RFC_metrics, \n",
    "           best_RFC_params, RFC_model_001, new_X_train)"
   ]
  },
  {
   "cell_type": "markdown",
   "id": "1fa7eb0e",
   "metadata": {},
   "source": [
    "### Second attempt to improve feature selection and model improvement"
   ]
  },
  {
   "cell_type": "code",
   "execution_count": null,
   "id": "f5dcb9e5",
   "metadata": {},
   "outputs": [],
   "source": [
    "new_X_train_002 = select_columns(X_train, feature_names, shap_df, 0.002)\n",
    "new_X_test_002  = select_columns(X_test, feature_names, shap_df, 0.002)\n",
    "\n",
    "X_train_002_scaled, X_test_002_scaled  = scale_data(new_X_train_002, new_X_test_002 )\n"
   ]
  },
  {
   "cell_type": "code",
   "execution_count": null,
   "id": "d8ef87ff",
   "metadata": {},
   "outputs": [],
   "source": [
    "run_name = \"RFC_newFEATURE_002\"\n",
    "RFC_model_002, best_RFC_params, time_RFC = RFC_model(new_X_train_002, Y_train)\n",
    "RFC_metrics, best_metrics_RFC            = generate_model_report(RFC_model_002, run_name, new_X_test_002, Y_test, time_RFC)\n",
    "run_MLflow(experiment_name, run_name, RFC_metrics, \n",
    "           best_RFC_params, RFC_model_002, new_X_train_002)"
   ]
  },
  {
   "cell_type": "code",
   "execution_count": null,
   "id": "bad2e8ab",
   "metadata": {},
   "outputs": [],
   "source": [
    "run_name = \"XGB_Shap002\"\n",
    "XGB_model_002, XGB_002_params, time_XGB_002 = train_XGBoost_model(new_X_train_002, Y_train)\n",
    "XGB_002_metrics, best_metrics_XGB           = generate_model_report(XGB_model_002, run_name, new_X_test_002, Y_test, time_XGB_002)\n",
    "run_MLflow(experiment_name, run_name, XGB_002_metrics, \n",
    "           XGB_002_params, XGB_model_002, new_X_train_002)\n"
   ]
  },
  {
   "cell_type": "code",
   "execution_count": null,
   "id": "aac7f034",
   "metadata": {},
   "outputs": [],
   "source": [
    "run_name = \"LGBM_Shap002\"\n",
    "LGBM_model_002, LGBM_002_params, time_LGBM_002 = train_LightGBM_model(new_X_train_002, Y_train)\n",
    "LGBM_002_metrics, best_metrics_LGBM           = generate_model_report(LGBM_model_002, run_name, new_X_test_002, Y_test, time_LGBM_002)\n",
    "run_MLflow(experiment_name, run_name, LGBM_002_metrics, \n",
    "           LGBM_002_params, LGBM_model_002, new_X_train_002)"
   ]
  },
  {
   "cell_type": "code",
   "execution_count": null,
   "id": "2591fdb7",
   "metadata": {},
   "outputs": [],
   "source": [
    "new_X_train_002.head()"
   ]
  },
  {
   "cell_type": "markdown",
   "id": "da0dc7d2",
   "metadata": {},
   "source": [
    "## Run with Shap filtered and scaled data to assess impact on metrics"
   ]
  },
  {
   "cell_type": "code",
   "execution_count": null,
   "id": "9b6d3e09",
   "metadata": {},
   "outputs": [],
   "source": [
    "X_train_002_scale, X_test_002_scale = scale_data(new_X_train_002, new_X_test_002)"
   ]
  },
  {
   "cell_type": "code",
   "execution_count": null,
   "id": "eac17be1",
   "metadata": {},
   "outputs": [],
   "source": [
    "run_name = \"LGBM_Shap002_scaled\"\n",
    "#LGBM_model_002_scale, LGBM_002_scale_params, time_LGBM_002 = train_LightGBM_model(X_train_002_scale, Y_train)\n",
    "#LGBM_002_scale_metrics, best_metrics_LGBM_scale           = generate_model_report(LGBM_model_002_scale, run_name, X_test_002_scale, Y_test, time_LGBM_002)\n",
    "run_MLflow(experiment_name, run_name, LGBM_002_scale_metrics, \n",
    "           LGBM_002_scale_params, LGBM_model_002_scale, X_train_002_scale)"
   ]
  },
  {
   "cell_type": "code",
   "execution_count": null,
   "id": "850543a7",
   "metadata": {},
   "outputs": [],
   "source": []
  },
  {
   "cell_type": "code",
   "execution_count": null,
   "id": "fb8270d3",
   "metadata": {},
   "outputs": [],
   "source": []
  },
  {
   "cell_type": "code",
   "execution_count": null,
   "id": "32ad935c",
   "metadata": {},
   "outputs": [],
   "source": [
    "run_name = \"XGB_Shap002_scaled\"\n",
    "XGB_model_002_scaled, XGB_002_scaled_params, time_XGB_002_scaled = train_XGBoost_model(X_train_002_scale, Y_train)\n",
    "XGB_002_scaled_metrics, best_metrics_XGB_scaled           = generate_model_report(XGB_model_002_scaled, run_name, X_test_002_scale, Y_test, time_XGB_002_scaled)\n",
    "run_MLflow(experiment_name, run_name, XGB_002_scaled_metrics, \n",
    "           XGB_002_scaled_params, XGB_model_002_scaled, X_train_002_scale)"
   ]
  },
  {
   "cell_type": "markdown",
   "id": "8233f52e",
   "metadata": {},
   "source": [
    "## Test MLflow on Fastapi model serving"
   ]
  },
  {
   "cell_type": "code",
   "execution_count": null,
   "id": "38b56318",
   "metadata": {},
   "outputs": [],
   "source": [
    "!curl http://127.0.0.1:8000/predict -H 'Content-Type: application/json' -d '{\"inputs\": [[0, 0, 1, 1, 63000.0, 310500.0, 15232.5, 310500.0, 0.026392, 16263, -214.0, -8930.0, -573, 0.0, 1, 1, 0, 1, 1, 0, 2.0, 2, 2, 11, 0, 0, 0, 0, 1, 1, 0.0, 0.0765011930557638, 0.0005272652387098, 0.0, 0.0, 0.0, 0.0, 0.0, 0.0, 0.0, 0.0, 0.0, 0.0, 0.0, 0.0, 0.0, 0.0, 0.0, 0.0, 0.0, 0.0, 0.0, 0.0, 0.0, 0.0, 0.0, 0.0, 0.0, 0.0, 0.0, 0.0, 0.0, 0.0, 0.0, 0.0, 0.0, 0.0, 0.0, 0.0, 0.0, 0.0, 0.0, 0.0, 0.0, 0.0, 0.0, 0.0, 0.0, 0.0, 0.0, 0.0, 0.0, 0.0, 0.0, 0.0, 0.0, 0.0, 0.0, 0.0, 0.0, 0.0, 0.0, 0.0, 0.0, 0.0, 0.0, 0.0, 0.0, 0.0, 0.0, 0.0, 0.0, 0.0, 0.0, 0.0, 0.0, 0.0, 0.0, 0.0, 0.0, 1.0, true, false, false, false, false, false, false, false, true, false, false, false, false, false, false, true, false, false, false, false, true, false, false, false, true, false, false, true, false, false, false, false, false, false, false, false, false, false, true, false, false, false, false, false, false, false, false, true, false, false, false, false, false, false, false, false, false, false, false, false, false, false, false, false, false, false, false, false, false, false, false, false, false, false, false, false, false, false, false, false, false, false, false, false, false, false, false, false, false, false, false, false, false, false, false, false, false, false, false, false, false, false, false, false, false, false, false, false, false]]}'\n",
    "  "
   ]
  },
  {
   "cell_type": "code",
   "execution_count": null,
   "id": "d2780b28",
   "metadata": {},
   "outputs": [],
   "source": [
    "!curl http://127.0.0.1:8000/predict -H 'Content-Type: application/json' -d '{\"data_point\": [[0, 0, 1, 1, 63000.0, 310500.0, 15232.5, 310500.0, 0.026392, 16263, -214.0, -8930.0, -573, 0.0, 1, 1, 0, 1, 1, 0, 2.0, 2, 2, 11, 0, 0, 0, 0, 1, 1, 0.0, 0.0765011930557638, 0.0005272652387098, 0.0, 0.0, 0.0, 0.0, 0.0, 0.0, 0.0, 0.0, 0.0, 0.0, 0.0, 0.0, 0.0, 0.0, 0.0, 0.0, 0.0, 0.0, 0.0, 0.0, 0.0, 0.0, 0.0, 0.0, 0.0, 0.0, 0.0, 0.0, 0.0, 0.0, 0.0, 0.0, 0.0, 0.0, 0.0, 0.0, 0.0, 0.0, 0.0, 0.0, 0.0, 0.0, 0.0, 0.0, 0.0, 0.0, 0.0, 0.0, 0.0, 0.0, 0.0, 0.0, 0.0, 0.0, 0.0, 0.0, 0.0, 0.0, 0.0, 0.0, 0.0, 0.0, 0.0, 0.0, 0.0, 0.0, 0.0, 0.0, 0.0, 0.0, 0.0, 0.0, 0.0, 0.0, 0.0, 0.0, 0.0, 1.0, true, false, false, false, false, false, false, false, true, false, false, false, false, false, false, true, false, false, false, false, true, false, false, false, true, false, false, true, false, false, false, false, false, false, false, false, false, false, true, false, false, false, false, false, false, false, false, true, false, false, false, false, false, false, false, false, false, false, false, false, false, false, false, false, false, false, false, false, false, false, false, false, false, false, false, false, false, false, false, false, false, false, false, false, false, false, false, false, false, false, false, false, false, false, false, false, false, false, false, false, false, false, false, false, false, false, false, false, false]]}'\n"
   ]
  },
  {
   "cell_type": "code",
   "execution_count": null,
   "id": "3d7b8851",
   "metadata": {},
   "outputs": [],
   "source": [
    "X_train.info()"
   ]
  },
  {
   "cell_type": "markdown",
   "id": "52314e2d",
   "metadata": {},
   "source": [
    "**Selection of a data point for testing**"
   ]
  },
  {
   "cell_type": "code",
   "execution_count": null,
   "id": "4718bed0",
   "metadata": {},
   "outputs": [],
   "source": [
    "test = X_train.copy()\n",
    "test[\"ID\"] = ids_test\n",
    "test.set_index(\"ID\", inplace=True)\n",
    "ids_test.iloc[5]\n",
    "#test.loc[100008].values.tolist()\n",
    "data_for_request = test.loc[100030].values.tolist()"
   ]
  },
  {
   "cell_type": "code",
   "execution_count": null,
   "id": "a7a4a0ca",
   "metadata": {},
   "outputs": [],
   "source": [
    "#data_for_request"
   ]
  },
  {
   "cell_type": "code",
   "execution_count": null,
   "id": "8d5b7cc8",
   "metadata": {},
   "outputs": [],
   "source": [
    "import requests\n",
    "\n",
    "# initialised with: mlflow models serve -m model_LGBM02/ --port 8092\n",
    "#http://127.0.0.1:8092\n",
    "\n",
    "host = '127.0.0.1'\n",
    "port = '8000'\n",
    "\n",
    "# endpoint\n",
    "url = f'http://{host}:{port}/predict'\n",
    "print(\"URI : \", url)\n",
    "headers = {\n",
    "    'Content-Type': 'application/json',\n",
    "}\n",
    "\n",
    "headers = {'Content-Type': 'application/json'}\n",
    "\n",
    "# Send the POST request with the data\n",
    "response = requests.post(url, json={\"data_point\": data_for_request})\n",
    "\n",
    "print(f'Predictions: {response.text}')"
   ]
  },
  {
   "cell_type": "markdown",
   "id": "ab9329b5",
   "metadata": {},
   "source": [
    "**TEST with empty data set**"
   ]
  },
  {
   "cell_type": "code",
   "execution_count": null,
   "id": "3773827d",
   "metadata": {},
   "outputs": [],
   "source": [
    "# Send the POST request with the data\n",
    "response = requests.post(url, json={\"data_point\":[]})\n",
    "\n",
    "print(f'Predictions: {response.text}')"
   ]
  },
  {
   "cell_type": "markdown",
   "id": "61c9c2b4",
   "metadata": {},
   "source": [
    "**TEST on hosting environment**"
   ]
  },
  {
   "cell_type": "code",
   "execution_count": null,
   "id": "e705243c",
   "metadata": {},
   "outputs": [],
   "source": [
    "url = 'https://fastapi-cd-webapp.azurewebsites.net/predict'\n",
    "# Send the POST request with the data\n",
    "response = requests.post(url, json={\"data_point\": data_for_request})\n",
    "\n",
    "print(f'Predictions: {response.text}')"
   ]
  },
  {
   "cell_type": "code",
   "execution_count": null,
   "id": "40be404e",
   "metadata": {},
   "outputs": [],
   "source": []
  }
 ],
 "metadata": {
  "kernelspec": {
   "display_name": "Python 3 (ipykernel)",
   "language": "python",
   "name": "python3"
  },
  "language_info": {
   "codemirror_mode": {
    "name": "ipython",
    "version": 3
   },
   "file_extension": ".py",
   "mimetype": "text/x-python",
   "name": "python",
   "nbconvert_exporter": "python",
   "pygments_lexer": "ipython3",
   "version": "3.8.8"
  }
 },
 "nbformat": 4,
 "nbformat_minor": 5
}
