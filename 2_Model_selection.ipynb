{
 "cells": [
  {
   "cell_type": "markdown",
   "id": "263450be",
   "metadata": {},
   "source": [
    "# Content"
   ]
  },
  {
   "cell_type": "markdown",
   "id": "d2c08eb9",
   "metadata": {},
   "source": [
    "- Evaluation des performances des modèles d’apprentissage supervisé selon différents critères (scores, temps d'entraînement, etc.) en adaptant les paramètres afin de choisir le modèle le plus performant pour la problématique métier.\n",
    "- Calcul un score avec fp + 10 * fn\n",
    "\n",
    "precision, recall, accuracy, roc_auc, f1\n",
    "        fbeta_macro\n",
    "        fbeta_micro\n",
    "        fbeta_weighted\n",
    "        \n",
    "hyperparameter search for the following methods: XGBoost, LightGBM, Random Forest. Save each model, best parameters and evaluation metrics with MLflow. Save the evaluation metrics for all models to a dataframe.\n",
    "\n",
    "- [ 0 - Library definition](#0) \n",
    "- [ 1 - Data definition](#1) \n",
    "- [ 1.1 - Imbalanced Data Definition](#1.1) \n",
    "- [ 2 - Metrics definition](#2) \n",
    "- [ 3 - Model definition](#3) \n",
    "- [ 4 - Run 1 EXPERIMENT with 6 RUNs](#4)\n",
    "- [ 5 - Model Evaluation](#(5)\n",
    "- [ 6 - Feature Importance](#(6)"
   ]
  },
  {
   "cell_type": "markdown",
   "id": "3342a76b",
   "metadata": {},
   "source": [
    "<a name='0'></a>\n",
    "# 0 Library definition"
   ]
  },
  {
   "cell_type": "code",
   "execution_count": 119,
   "id": "1c8b0045",
   "metadata": {},
   "outputs": [],
   "source": [
    "import pandas as pd\n",
    "import numpy as np\n",
    "import matplotlib.pyplot as plt\n",
    "from matplotlib import pyplot\n",
    "import time\n",
    "\n",
    "from sklearn.model_selection import train_test_split, GridSearchCV\n",
    "from sklearn.model_selection import RandomizedSearchCV\n",
    "from sklearn.ensemble import RandomForestClassifier\n",
    "from sklearn.metrics import precision_recall_curve\n",
    "from sklearn.metrics import accuracy_score, f1_score, recall_score, precision_score\n",
    "from sklearn.metrics import confusion_matrix, roc_auc_score, roc_curve\n",
    "from sklearn.metrics import auc\n",
    "from sklearn.metrics import fbeta_score\n",
    "\n",
    "from xgboost import XGBClassifier\n",
    "from lightgbm import LGBMClassifier\n",
    "\n",
    "import mlflow\n",
    "import mlflow.sklearn\n",
    "from mlflow import MlflowClient\n",
    "from mlflow.models.signature import infer_signature\n",
    "\n",
    "from prettytable import PrettyTable\n",
    "\n",
    "from collections import Counter\n",
    "from imblearn.over_sampling import SMOTE\n",
    "from imblearn.under_sampling import RandomUnderSampler\n",
    "from imblearn.pipeline import Pipeline\n",
    "from numpy import where"
   ]
  },
  {
   "cell_type": "markdown",
   "id": "a8bc9296",
   "metadata": {},
   "source": [
    "<a name='1'></a>\n",
    "# 1 Data definition"
   ]
  },
  {
   "cell_type": "code",
   "execution_count": 3,
   "id": "bee5e0b0",
   "metadata": {},
   "outputs": [
    {
     "name": "stdout",
     "output_type": "stream",
     "text": [
      "X_train (246008, 239)\n",
      "Y_train (246008, 1)\n",
      "Y_test (61503, 1)\n",
      "ids_test (246008, 1)\n",
      "feature names (239, 1)\n"
     ]
    }
   ],
   "source": [
    "X_train = pd.read_csv('../2_INPUT_DATA/3_SPLIT/X_train.csv')\n",
    "Y_train = pd.read_csv('../2_INPUT_DATA/3_SPLIT/Y_train.csv')\n",
    "X_test = pd.read_csv('../2_INPUT_DATA/3_SPLIT/X_test.csv')\n",
    "Y_test = pd.read_csv('../2_INPUT_DATA/3_SPLIT/Y_test.csv')\n",
    "ids_test = pd.read_csv('../2_INPUT_DATA/3_SPLIT/ids_test.csv')\n",
    "feature_names = pd.read_csv('../2_INPUT_DATA/2_FEATURE_PROCESSED/feature_names.csv')\n",
    "\n",
    "print(\"X_train\", X_train.shape)\n",
    "print(\"Y_train\", Y_train.shape)\n",
    "print(\"Y_test\", Y_test.shape)\n",
    "print(\"ids_test\",ids_test.shape)\n",
    "print(\"feature names\", feature_names.shape)"
   ]
  },
  {
   "cell_type": "code",
   "execution_count": null,
   "id": "bede7c6a",
   "metadata": {},
   "outputs": [],
   "source": [
    "#test = X_train.copy()\n",
    "#test[\"ID\"] = ids_test\n",
    "#test.set_index(\"ID\", inplace=True)\n",
    "#ids_test.iloc[5]\n",
    "#test.loc[100008].values.tolist()"
   ]
  },
  {
   "cell_type": "markdown",
   "id": "058db3e2",
   "metadata": {},
   "source": [
    "<a name='1.1'></a>\n",
    "# 1.1 Imbalanced Data treatment"
   ]
  },
  {
   "cell_type": "code",
   "execution_count": 4,
   "id": "ae50308a",
   "metadata": {},
   "outputs": [
    {
     "name": "stdout",
     "output_type": "stream",
     "text": [
      "Counter({0: 226067, 1: 19941})\n",
      "Counter({0: 45212, 1: 22606})\n"
     ]
    }
   ],
   "source": [
    "\n",
    "def SMOTE_transformation(X, y):\n",
    "    # summarize class distribution\n",
    "    counter = Counter(y)\n",
    "    print(counter)\n",
    "    # define pipeline\n",
    "    over = SMOTE(sampling_strategy=0.1)\n",
    "    under = RandomUnderSampler(sampling_strategy=0.5)\n",
    "    steps = [('o', over), ('u', under)]\n",
    "    pipeline = Pipeline(steps=steps)\n",
    "    # transform the dataset\n",
    "    X, y = pipeline.fit_resample(X, y)\n",
    "    # summarize the new class distribution\n",
    "    counter = Counter(y)\n",
    "    print(counter)\n",
    "    # scatter plot of examples by class label\n",
    "    #for label, _ in counter.items():\n",
    "    #    print(label)\n",
    "    #    row_ix = where(y == label)[0]\n",
    "    #    print(row_ix)\n",
    "    #    pyplot.scatter(X[row_ix, 0], X[row_ix, 1], label=str(label))\n",
    "        \n",
    "    #pyplot.legend()\n",
    "    #pyplot.show()\n",
    "    \n",
    "    return X, y\n",
    "\n",
    "x_train_smote, y_train_smote = SMOTE_transformation(X_train, Y_train['TARGET'])"
   ]
  },
  {
   "cell_type": "markdown",
   "id": "0f1cdbe1",
   "metadata": {},
   "source": [
    "<a name='2'></a>\n",
    "# 2 Metrics definition\n",
    "\n",
    "**Fbeta Score**\n",
    "\n",
    "![alt text for screen readers](IMAGES/fbetascore.png \"Fbeta Score\")\n",
    "\n",
    "A smaller beta value, such as 0.5, gives more weight to precision and less to recall, whereas a larger beta value, such as 2.0, gives less weight to precision and more weight to recall in the calculation of the score.\n",
    "\n",
    "#### FN et FP  \n",
    "On simule la supposition, que le coût d’un FN est dix fois supérieur au coût d’un FP.  \n",
    "On crée un score “métier” en minimisant le coût d’erreur de prédiction des FN et FP pour comparer les modèles, afin de choisir le meilleur modèle et ses meilleurs hyperparamètres.\n",
    "\n",
    "**Precision**  \n",
    "(tp / (tp + fp))\n",
    "It describes how good a model is at predicting the positive class. Precision is referred to as the positive predictive value.  \n",
    "\n",
    "**Recall** is the same as sensitivity.\n",
    "(tp / (tp + fn)    \n",
    "Recall describes how good the model is at predicting the positive class when the actual outcome is positive.\n",
    "\n",
    "\n",
    "We want to optimize recall."
   ]
  },
  {
   "cell_type": "code",
   "execution_count": 125,
   "id": "8d982f88",
   "metadata": {},
   "outputs": [],
   "source": [
    "def fbeta_score_calculation(y_true, y_pred):\n",
    "    fbeta_macro = fbeta_score(y_true, y_pred, average='macro', beta=2)\n",
    "    fbeta_micro = fbeta_score(y_true, y_pred, average='micro', beta=2)\n",
    "    fbeta_weighted = fbeta_score(y_true, y_pred, average='weighted', beta=2)\n",
    "    return round(fbeta_macro,2), round(fbeta_micro,2), round(fbeta_weighted,2)\n",
    "\n",
    "def plot_roc_curve(true_y, y_prob):\n",
    "    \"\"\"\n",
    "    plots the roc curve based of the probabilities\n",
    "    \"\"\"\n",
    "\n",
    "    fpr, tpr, thresholds = roc_curve(true_y, y_prob)\n",
    "    plt.plot(fpr, tpr)\n",
    "    plt.xlabel('False Positive Rate')\n",
    "    plt.ylabel('True Positive Rate')\n",
    "    \n",
    "def reminder_TP(TN=\"\", FP=\"\", FN=\"\", TP=\"\"):\n",
    "    #tn, fp, fn, tp\n",
    "    # Create a PrettyTable instance\n",
    "    table = PrettyTable()\n",
    "\n",
    "    # Define columns and headers\n",
    "    table.field_names = ['Confusion Matrix', 'Positive prediction', 'Negative prediction']\n",
    "\n",
    "    # Add rows\n",
    "    table.add_row(['Positive class', 'True positive (TP)', 'False negative (FN)'])\n",
    "    table.add_row(['Negative class', 'False positive (FP)', 'True negative (TN)'])\n",
    "\n",
    "    # Print the table\n",
    "    print(table)\n",
    "    \n",
    "    if TN :\n",
    "        # Create a PrettyTable instance\n",
    "        table2 = PrettyTable()\n",
    "\n",
    "        # Define columns and headers\n",
    "        table2.field_names = ['Confusion Matrix', 'Positive prediction', 'Negative prediction']\n",
    "\n",
    "        # Add rows\n",
    "        table2.add_row(['Positive class', TP, FN])\n",
    "        table2.add_row(['Negative class', FP, TN])\n",
    "\n",
    "        # Print the table\n",
    "        print(table2)\n",
    "    \n",
    "\n",
    "def generate_recall_precision_curve(model, X_test, Y_test):\n",
    "    # predict probabilities\n",
    "    lr_probs = model.predict_proba(X_test)\n",
    "    # keep probabilities for the positive outcome only\n",
    "    lr_probs = lr_probs[:, 1]\n",
    "    # predict class values\n",
    "    yhat = model.predict(X_test)\n",
    "    lr_precision, lr_recall, _ = precision_recall_curve(Y_test, lr_probs)\n",
    "    lr_f1, lr_auc = f1_score(Y_test, yhat), auc(lr_recall, lr_precision)\n",
    "    # summarize scores\n",
    "    print('Logistic: f1=%.3f auc=%.3f' % (lr_f1, lr_auc))\n",
    "    # plot the precision-recall curves\n",
    "    no_skill = len(Y_test[Y_test==1]) / len(Y_test)\n",
    "    plt.plot([0, 1], [no_skill, no_skill], linestyle='--', label='No Skill')\n",
    "    plt.plot(lr_recall, lr_precision, marker='.', label='Logistic')\n",
    "    # axis labels\n",
    "    plt.xlabel('Recall')\n",
    "    plt.ylabel('Precision')\n",
    "    # show the legend\n",
    "    plt.legend()\n",
    "    # show the plot\n",
    "    plt.show()\n",
    "    pass\n",
    "\n",
    "def generate_auc_roc_curve(clf, X_test):\n",
    "    y_pred_proba = clf.predict_proba(X_test)[:, 1]\n",
    "    fpr, tpr, thresholds = roc_curve(Y_test,  y_pred_proba)\n",
    "    auc = roc_auc_score(Y_test, y_pred_proba)\n",
    "    plt.plot(fpr,tpr,label=\"AUC ROC Curve with Area Under the curve =\"+str(auc))\n",
    "    plt.legend(loc=4)\n",
    "    plt.show()\n",
    "    pass\n",
    "\n",
    "def generate_model_report(model, model_name, X_test, Y_test, trainT):\n",
    "    print(\"\\n---------------------------------\")\n",
    "    print(\"start generate_model_report\")\n",
    "    \n",
    "    Y_Test_Pred_best_param = model.predict(X_test)\n",
    "    \n",
    "    generate_auc_roc_curve(model, X_test)\n",
    "    generate_recall_precision_curve(model, X_test, Y_test)\n",
    "    \n",
    "    cm = confusion_matrix(np.array(Y_test), Y_Test_Pred_best_param  )\n",
    "    tn, fp, fn, tp = cm.ravel()\n",
    "    reminder_TP(tn, fp, fn, tp)\n",
    "    \n",
    "    roc_auc = roc_auc_score(np.array(Y_test), Y_Test_Pred_best_param)\n",
    "\n",
    "    bu_Sc = fp + (10*fn) #business score FN cost 10 times more than fp\n",
    "    ac_Sc = accuracy_score(np.array(Y_test), Y_Test_Pred_best_param)\n",
    "    pr_Sc = precision_score(np.array(Y_test), Y_Test_Pred_best_param)\n",
    "    re_Sc = recall_score(np.array(Y_test), Y_Test_Pred_best_param)\n",
    "    F1_Sc = f1_score(np.array(Y_test), Y_Test_Pred_best_param)\n",
    "    fbeta_macro, fbeta_micro, fbeta_weighted = fbeta_score_calculation(np.array(Y_test), Y_Test_Pred_best_param)\n",
    "    print('ROC AUC: ', roc_auc)\n",
    "    print(\"Accuracy = \" , accuracy_score(np.array(Y_test), Y_Test_Pred_best_param))\n",
    "    print(\"Precision = \" ,precision_score(np.array(Y_test), Y_Test_Pred_best_param))\n",
    "    print(\"Recall = \" ,recall_score(np.array(Y_test), Y_Test_Pred_best_param))\n",
    "    print(\"F1 Score = \" ,f1_score(np.array(Y_test), Y_Test_Pred_best_param))\n",
    "    print(\"Fbeta Score = \" ,fbeta_score_calculation(np.array(Y_test), Y_Test_Pred_best_param))\n",
    "    \n",
    "    metrics = pd.DataFrame({'model': model_name,'tn': [tn], 'fp': [fp], 'fn': [fn], 'tp': [tp],'FP+10*FN': bu_Sc,\n",
    "                            'accuracy': [ac_Sc], \n",
    "                            'ROC_AUC': [roc_auc],\n",
    "                            'precision': [pr_Sc],\n",
    "                            'recall': [re_Sc],\n",
    "                            'F1_Score': [F1_Sc],\n",
    "                            'Fbeta_macro':[fbeta_macro], \n",
    "                            'Fbeta_micro':[fbeta_micro],\n",
    "                            'Fbeta_weighted':[fbeta_weighted]\n",
    "                            })\n",
    "    print(metrics)\n",
    "    \n",
    "    full_threshold_df, metrics_XGB_smote = find_optimal_business_score(model, model_name, X_test, Y_test, trainT)\n",
    "    \n",
    "    return metrics_XGB_smote, full_threshold_df "
   ]
  },
  {
   "cell_type": "code",
   "execution_count": 108,
   "id": "ccf49b0d",
   "metadata": {},
   "outputs": [],
   "source": [
    "def find_optimal_business_score(model, model_name, X_test, Y_true, trainT):\n",
    "    print(\"---------------------------------\")\n",
    "    print(\"start find_optimal_business_score\")\n",
    "    predictions_proba = model.predict_proba(X_test)\n",
    "    \n",
    "    print(\"prediction proba\", len(predictions_proba))\n",
    "    print(\"Y_true\", len(Y_true))\n",
    "\n",
    "    # Threshold values from 0 to 0.5\n",
    "    threshold_values = [i / 10 for i in range(6)]\n",
    "    best_B_score = 100000\n",
    "    \n",
    "    # Create an empty DataFrame to store results\n",
    "    results_df = pd.DataFrame(columns=['threshold', 'tn', 'fp', 'fn', 'tp', 'FP+10*FN', 'accuracy', 'ROC_AUC', 'precision', 'recall', 'F1_Score', 'Fbeta_macro', 'Fbeta_micro', 'Fbeta_weighted','best'])\n",
    "\n",
    "    # Loop through threshold values\n",
    "    for threshold in threshold_values:\n",
    "        best = 0\n",
    "        # Convert probabilities to binary predictions based on threshold\n",
    "        predicted_labels = [1 if x[1] >= threshold else 0 for x in predictions_proba]\n",
    "\n",
    "        # Calculate confusion matrix and other metrics\n",
    "        cm = confusion_matrix(Y_true, predicted_labels)\n",
    "        tn, fp, fn, tp = cm.ravel()\n",
    "        \n",
    "        FP_10_FN = fp + 10 * fn\n",
    "        precision = precision_score(Y_true, predicted_labels)\n",
    "        recall = recall_score(Y_true, predicted_labels)\n",
    "        accuracy = accuracy_score(Y_true, predicted_labels)\n",
    "        roc_auc = roc_auc_score(Y_true, predicted_labels)\n",
    "        f1 = f1_score(Y_true, predicted_labels)\n",
    "        fbeta_macro = fbeta_score(Y_true, predicted_labels, beta=2, average='macro')\n",
    "        fbeta_micro = fbeta_score(Y_true, predicted_labels, beta=2, average='micro')\n",
    "        fbeta_weighted = fbeta_score(Y_true, predicted_labels, beta=2, average='weighted')\n",
    "\n",
    "        # best param\n",
    "        if (best_B_score > FP_10_FN ):\n",
    "            print(results_df[results_df['best']==1]['best'])\n",
    "            results_df.loc[(results_df['best']==1),'best']  = 0\n",
    "            best_B_score = FP_10_FN\n",
    "            best = 1\n",
    "        \n",
    "        \n",
    "        # Create a DataFrame for the current threshold iteration\n",
    "        data = {'threshold': [threshold],\n",
    "                'tn': [tn],\n",
    "                'fp': [fp],\n",
    "                'fn': [fn],\n",
    "                'tp': [tp],\n",
    "                'FP+10*FN': [FP_10_FN],\n",
    "                'accuracy': [accuracy],\n",
    "                'ROC_AUC': [roc_auc],\n",
    "                'precision': [precision],\n",
    "                'recall': [recall],\n",
    "                'F1_Score': [f1],\n",
    "                'Fbeta_macro': [fbeta_macro],\n",
    "                'Fbeta_micro': [fbeta_micro],\n",
    "                'Fbeta_weighted': [fbeta_weighted],\n",
    "                'best': best\n",
    "               }\n",
    "\n",
    "        threshold_df = pd.DataFrame(data)\n",
    "\n",
    "        # Concatenate the current threshold results to the overall results DataFrame\n",
    "        results_df = pd.concat([results_df, threshold_df], ignore_index=True)\n",
    "        \n",
    "    \n",
    "    best_result = results_df[results_df['best']==1]\n",
    "    \n",
    "    best_metrics = {\"TN\":best_result[\"tn\"].iloc[0],\n",
    "                  \"FP\":best_result[\"fp\"].iloc[0],\n",
    "                  \"FN\":best_result[\"fn\"].iloc[0],\n",
    "                  \"TP\":best_result[\"tp\"].iloc[0],\n",
    "                  \"FP_10_FN\":best_result[\"FP+10*FN\"].iloc[0],\n",
    "                  \"Accuracy\": best_result[\"accuracy\"].iloc[0],\n",
    "                 \"F1\":best_result[\"F1_Score\"].iloc[0],\n",
    "                 \"Precision\":best_result[\"precision\"].iloc[0],\n",
    "                 \"Recall\":best_result[\"recall\"].iloc[0],\n",
    "                 \"ROC_AUC\":best_result[\"ROC_AUC\"].iloc[0],\n",
    "                \"threshold\":best_result[\"threshold\"].iloc[0],\n",
    "                    \"time_in_s\":trainT\n",
    "                 }\n",
    "    \n",
    "    print(\"best b score\", best_B_score, results_df[results_df['best']==1]['threshold'])\n",
    "    print(results_df)\n",
    "    return results_df, best_metrics"
   ]
  },
  {
   "cell_type": "markdown",
   "id": "8cad3596",
   "metadata": {},
   "source": [
    "<a name='3'></a>\n",
    "# 3 Model definition"
   ]
  },
  {
   "cell_type": "code",
   "execution_count": 129,
   "id": "42ab1899",
   "metadata": {},
   "outputs": [],
   "source": [
    "def RFC_model(X_train, Y_train):\n",
    "    start = time.time()\n",
    "    print(\"START time\", time.ctime(start))\n",
    "    # Define the RandomForestClassifier\n",
    "    rf_classifier = RandomForestClassifier()\n",
    "\n",
    "    # Define the hyperparameter grid for GridSearchCV\n",
    "    param_grid = {\n",
    "        'n_estimators': [50, 100, 200],\n",
    "        'max_depth': [None, 10, 20],\n",
    "        'min_samples_split': [2, 5, 10],\n",
    "        'min_samples_leaf': [1, 2, 4]\n",
    "    }\n",
    "\n",
    "    # Create the GridSearchCV object\n",
    "    grid_search = GridSearchCV(rf_classifier, param_grid, cv=5, scoring='accuracy', n_jobs=-1)\n",
    "\n",
    "    # Perform the grid search on the training data\n",
    "    grid_search.fit(X_train, Y_train)\n",
    "\n",
    "    # Get the best hyperparameters from the grid search\n",
    "    best_params = grid_search.best_params_\n",
    "\n",
    "    # Train the RandomForestClassifier with the best hyperparameters on the entire training set\n",
    "    best_rf_classifier = RandomForestClassifier(**best_params)\n",
    "    best_rf_classifier.fit(X_train, Y_train)\n",
    "\n",
    "    print(f'Best Hyperparameters: {best_params}')\n",
    "\n",
    "    end = time.time()\n",
    "    endT = end - start\n",
    "    print(\"START time\", time.ctime(start))\n",
    "    print(\"END time\", time.ctime(end), ' duration', endT/60 , 'min')\n",
    "    \n",
    "    \n",
    "    return best_rf_classifier, best_params, endT\n",
    "\n",
    "def train_XGBoost_model(X_train, Y_train):\n",
    "    \n",
    "    start = time.time()\n",
    "    print(\"START time\", time.ctime(start))\n",
    "    # XGBoost\n",
    "    xgb_params = {\n",
    "        'n_estimators': [*range(170, 200, 5)], \n",
    "        'max_depth': [6],\n",
    "        'learning_rate': [0.1],#[0.01,0.05,0.10],\n",
    "        'subsample': [0.3],#[ 0.3, 0.5 ],\n",
    "        'colsample_bytree': [0.3]#[ 0.3, 0.5 ],\n",
    "    }\n",
    "\n",
    "    xgb_model = XGBClassifier()\n",
    "    print(\"start RandomizedSearchCV \")\n",
    "    xgb_random_search = RandomizedSearchCV(xgb_model, param_distributions=xgb_params, n_iter=100, cv=5, n_jobs=-1, verbose = 6)\n",
    "    \n",
    "    xgb_random_search.fit(X_train, Y_train)\n",
    "    \n",
    "    # Access the best hyperparameters and the best models\n",
    "    best_xgb_params = xgb_random_search.best_params_\n",
    "    best_xgb_model = xgb_random_search.best_estimator_\n",
    "    \n",
    "    end = time.time()\n",
    "    endT = end - start\n",
    "    print(\"START time\", time.ctime(start))\n",
    "    print(\"END time\", time.ctime(end), ' duration', endT/60 , 'min')\n",
    "    \n",
    "    return best_xgb_model, best_xgb_params, endT\n",
    "\n",
    "def train_LightGBM_model(X_train, Y_train):\n",
    "    # LightGBM\n",
    "    start = time.time()\n",
    "    print(\"START time\", time.ctime(time.time()))\n",
    "    lgbm_params = {\n",
    "        'boosting_type': ['gbdt'],           # Gradient boosting type\n",
    "        'n_estimators': [10000],\n",
    "        'objective': ['binary'],             # Objective function (binary classification)\n",
    "        'metric': ['binary_logloss'],        # Evaluation metric\n",
    "        'num_leaves': [31],                  # Maximum number of leaves in one tree\n",
    "        'learning_rate': [0.05],              # Learning rate\n",
    "        #'feature_fraction': 0.8,           # Fraction of features used for training each tree\n",
    "        #'bagging_fraction': 0.8,           # Fraction of samples used for training each tree\n",
    "        #'bagging_freq': 5,                 # Frequency for bagging, 0 means no bagging\n",
    "        'class_weight' : ['balanced'],\n",
    "        'reg_alpha' : [0.1], \n",
    "        'reg_lambda' : [0.1], \n",
    "        'subsample' : [ 0.8 ]\n",
    "    }\n",
    "    # best # best learning_rate = 0.05, #reg_alpha = 0.1, reg_lambda = 0.1, #subsample = 0.8, n_jobs = -1, random_state = 50\n",
    "    \n",
    "    lgbm_model = LGBMClassifier()\n",
    "    lgbm_random_search = RandomizedSearchCV(lgbm_model, param_distributions=lgbm_params, n_iter=50, cv=5, n_jobs=-1, verbose=5)\n",
    "    lgbm_random_search.fit(X_train, Y_train)\n",
    "\n",
    "    # Access the best hyperparameters and the best models\n",
    "    best_lgbm_params = lgbm_random_search.best_params_\n",
    "    best_lgbm_model = lgbm_random_search.best_estimator_\n",
    "\n",
    "    end = time.time()\n",
    "    endT = end - start\n",
    "    print(\"START time\", time.ctime(start))\n",
    "    print(\"END time\", time.ctime(end), ' duration', endT/60 , 'min')\n",
    "    \n",
    "    return best_lgbm_model, best_lgbm_params, endT\n",
    "\n"
   ]
  },
  {
   "cell_type": "markdown",
   "id": "6e6ed98b",
   "metadata": {},
   "source": [
    "**Train models and save model, params to MLflow and the evaluation metrics to a dataframe**"
   ]
  },
  {
   "cell_type": "markdown",
   "id": "b224bd54",
   "metadata": {},
   "source": [
    "The following command in Terminal to start the MLflow server  \n",
    "```!mlflow server --host 127.0.0.1 --port 8080```"
   ]
  },
  {
   "cell_type": "code",
   "execution_count": 122,
   "id": "9ca7ad59",
   "metadata": {},
   "outputs": [],
   "source": [
    "def run_MLflow(experiment_name, run_name, metrics, params, model_obj, X_train):\n",
    "    mlflow.set_tracking_uri(\"http://127.0.0.1:8080\")\n",
    "    # Sets the current active experiment to the \"LightGBM_Models\" experiment and returns the Experiment metadata\n",
    "    mlflow_experiment = mlflow.set_experiment(experiment_name)\n",
    "\n",
    "    # Define an artifact path that the model will be saved to.\n",
    "    artifact_path = run_name+\"_artifactPATH\"\n",
    "    print(\"Artifact PATH\" , artifact_path)\n",
    "    \n",
    "    # Assemble the metrics we're going to write into a collection\n",
    "    print(metrics)\n",
    "    print(params)\n",
    "    \n",
    "    signature = infer_signature(X_train, model_obj.predict(X_train))\n",
    "\n",
    "    # Initiate the MLflow run context\n",
    "    with mlflow.start_run(run_name=run_name) as run:\n",
    "        #run = mlflow.active_run()\n",
    "        print(f\"Active run_id: {run.info.run_id}\")\n",
    "        # Log the parameters used for the model fit\n",
    "        mlflow.log_params(params)\n",
    "         # Log parameters and metrics with MLflow\n",
    "        #for key, value in params.items():\n",
    "        #    mlflow.log_param(key, value)\n",
    "        # Log the error metrics that were calculated during validation\n",
    "        mlflow.log_metrics(metrics)\n",
    "        # Log an instance of the trained model for later use\n",
    "        mlflow.sklearn.log_model(sk_model=model_obj, artifact_path=artifact_path, signature=signature)\n"
   ]
  },
  {
   "cell_type": "markdown",
   "id": "7627f015",
   "metadata": {},
   "source": [
    "<a name='4'></a>\n",
    "# 4 Run 1 EXPERIMENT with 6 RUNs\n",
    "\n",
    "**Unbalanced Data**\n",
    "* Random Forest Classifier RFC\n",
    "* XGBoost XGB\n",
    "* LightGBM LGBM\n",
    "\n",
    "**SMOTE transformed Data**\n",
    "* Random Forest Classifier RFC\n",
    "* XGBoost XGB\n",
    "* LightGBM LGBM"
   ]
  },
  {
   "cell_type": "markdown",
   "id": "d80f4d6e",
   "metadata": {},
   "source": [
    "**Initiate MLFlow**"
   ]
  },
  {
   "cell_type": "code",
   "execution_count": 54,
   "id": "63f2cb9e",
   "metadata": {},
   "outputs": [],
   "source": [
    "client = MlflowClient(tracking_uri=\"http://127.0.0.1:8080/\")\n",
    "# Provide an Experiment description that will appear in the UI\n",
    "experiment_description = (\n",
    "    \"This is the credit score project. \"\n",
    "    \"This experiment contains the LightGBM, XGboost and RFC model.\"\n",
    ")\n",
    "\n",
    "# Provide searchable tags that define characteristics of the Runs that will be in this Experiment\n",
    "experiment_tags = {\n",
    "    \"project_name\": \"credit-score-classification\",\n",
    "    \"store_dept\": \"Prêt à dépenser\",\n",
    "    \"team\": \"cred-ml\",\n",
    "    \"project_quarter\": \"Q1-2024\",\n",
    "    \"mlflow.note.content\": experiment_description,\n",
    "}\n",
    "\n",
    "experiment_name = \"Credit_scoring\"\n",
    "# Create the Experiment, providing a unique name\n",
    "experiment = client.create_experiment(name=experiment_name, tags=experiment_tags)"
   ]
  },
  {
   "cell_type": "markdown",
   "id": "067cb723",
   "metadata": {},
   "source": [
    "**1/6 RUN XGB with unbalanced data**"
   ]
  },
  {
   "cell_type": "code",
   "execution_count": 107,
   "id": "45af51da",
   "metadata": {},
   "outputs": [
    {
     "name": "stdout",
     "output_type": "stream",
     "text": [
      "start train_XGBoost_model\n",
      "START time 1709109562.870035\n",
      "start RandomizedSearchCV \n",
      "Fitting 5 folds for each of 6 candidates, totalling 30 fits\n"
     ]
    },
    {
     "name": "stderr",
     "output_type": "stream",
     "text": [
      "/Users/markobriesemann/opt/anaconda3/lib/python3.8/site-packages/sklearn/model_selection/_search.py:307: UserWarning: The total space of parameters 6 is smaller than n_iter=100. Running 6 iterations. For exhaustive searches, use GridSearchCV.\n",
      "  warnings.warn(\n"
     ]
    },
    {
     "name": "stdout",
     "output_type": "stream",
     "text": [
      "[CV 3/5] END colsample_bytree=0.3, learning_rate=0.1, max_depth=6, n_estimators=170, subsample=0.3;, score=0.919 total time= 4.7min\n",
      "[CV 1/5] END colsample_bytree=0.3, learning_rate=0.1, max_depth=6, n_estimators=185, subsample=0.3;, score=0.919 total time= 4.4min\n"
     ]
    },
    {
     "name": "stderr",
     "output_type": "stream",
     "text": [
      "/Users/markobriesemann/opt/anaconda3/lib/python3.8/site-packages/joblib/externals/loky/process_executor.py:700: UserWarning: A worker stopped while some jobs were given to the executor. This can be caused by a too short worker timeout or by a memory leak.\n",
      "  warnings.warn(\n"
     ]
    },
    {
     "name": "stdout",
     "output_type": "stream",
     "text": [
      "[CV 5/5] END colsample_bytree=0.3, learning_rate=0.1, max_depth=6, n_estimators=170, subsample=0.3;, score=0.919 total time= 4.7min\n",
      "[CV 2/5] END colsample_bytree=0.3, learning_rate=0.1, max_depth=6, n_estimators=185, subsample=0.3;, score=0.919 total time= 4.4min\n",
      "endtime 1709110328.2793941  duration 765.4093592166901\n",
      "\n",
      "---------------------------------\n",
      "start generate_model_report\n"
     ]
    },
    {
     "data": {
      "image/png": "[encoded data removed]",
      "text/plain": [
       "<Figure size 640x480 with 1 Axes>"
      ]
     },
     "metadata": {},
     "output_type": "display_data"
    },
    {
     "name": "stdout",
     "output_type": "stream",
     "text": [
      "Logistic: f1=0.039 auc=0.233\n"
     ]
    },
    {
     "data": {
      "image/png": "[encoded data removed]",
      "text/plain": [
       "<Figure size 640x480 with 1 Axes>"
      ]
     },
     "metadata": {},
     "output_type": "display_data"
    },
    {
     "name": "stdout",
     "output_type": "stream",
     "text": [
      "+------------------+---------------------+---------------------+\n",
      "| Confusion Matrix | Positive prediction | Negative prediction |\n",
      "+------------------+---------------------+---------------------+\n",
      "|  Positive class  |  True positive (TP) | False negative (FN) |\n",
      "|  Negative class  | False positive (FP) |  True negative (TN) |\n",
      "+------------------+---------------------+---------------------+\n",
      "+------------------+---------------------+---------------------+\n",
      "| Confusion Matrix | Positive prediction | Negative prediction |\n",
      "+------------------+---------------------+---------------------+\n",
      "|  Positive class  |          98         |         4786        |\n",
      "|  Negative class  |          84         |        56535        |\n",
      "+------------------+---------------------+---------------------+\n",
      "ROC AUC:  0.5092909595770826\n",
      "Accuracy =  0.9208168707217534\n",
      "Precision =  0.5384615384615384\n",
      "Recall =  0.020065520065520065\n",
      "F1 Score =  0.038689301223845236\n",
      "Fbeta Score =  (0.5, 0.92, 0.91)\n",
      "  model     tn  fp    fn  tp  FP+10*FN  accuracy   ROC_AUC  precision  \\\n",
      "0   XGB  56535  84  4786  98     47944  0.920817  0.509291   0.538462   \n",
      "\n",
      "     recall  F1_Score  Fbeta_macro  Fbeta_micro  Fbeta_weighted  \n",
      "0  0.020066  0.038689          0.5         0.92            0.91  \n",
      "---------------------------------\n",
      "start find_optimal_business_score\n",
      "prediction proba 61503\n",
      "Y_true 61503\n",
      "Series([], Name: best, dtype: object)\n",
      "0    1\n",
      "Name: best, dtype: object\n"
     ]
    },
    {
     "ename": "NameError",
     "evalue": "name 'trainT' is not defined",
     "output_type": "error",
     "traceback": [
      "\u001b[0;31m---------------------------------------------------------------------------\u001b[0m",
      "\u001b[0;31mNameError\u001b[0m                                 Traceback (most recent call last)",
      "Cell \u001b[0;32mIn[107], line 6\u001b[0m\n\u001b[1;32m      4\u001b[0m best_xgb_model, best_xgb_params, timeXGB \u001b[38;5;241m=\u001b[39m train_XGBoost_model(X_train, Y_train)    \n\u001b[1;32m      5\u001b[0m run_XGB_metrics  \u001b[38;5;241m=\u001b[39m generate_model_report(best_xgb_model, run_name, X_test, Y_test)\n\u001b[0;32m----> 6\u001b[0m best_metrics_XGB, metrics_XGB \u001b[38;5;241m=\u001b[39m \u001b[43mfind_optimal_business_score\u001b[49m\u001b[43m(\u001b[49m\u001b[43mbest_xgb_model\u001b[49m\u001b[43m,\u001b[49m\u001b[43m \u001b[49m\u001b[43mrun_name\u001b[49m\u001b[43m,\u001b[49m\u001b[43m \u001b[49m\u001b[43mX_test\u001b[49m\u001b[43m,\u001b[49m\u001b[43m \u001b[49m\u001b[43mY_test\u001b[49m\u001b[43m,\u001b[49m\u001b[43m \u001b[49m\u001b[43mtimeXGB\u001b[49m\u001b[43m)\u001b[49m\n\u001b[1;32m      7\u001b[0m signature_XGB    \u001b[38;5;241m=\u001b[39m infer_signature(X_train, best_xgb_model\u001b[38;5;241m.\u001b[39mpredict(X_train))\n\u001b[1;32m      8\u001b[0m run_MLflow(experiment_name, run_name, metrics_XGB, best_xgb_params, best_xgb_model, signature_XGB)\n",
      "Cell \u001b[0;32mIn[102], line 81\u001b[0m, in \u001b[0;36mfind_optimal_business_score\u001b[0;34m(model, model_name, X_test, Y_true, train_T)\u001b[0m\n\u001b[1;32m     65\u001b[0m     results_df \u001b[38;5;241m=\u001b[39m pd\u001b[38;5;241m.\u001b[39mconcat([results_df, threshold_df], ignore_index\u001b[38;5;241m=\u001b[39m\u001b[38;5;28;01mTrue\u001b[39;00m)\n\u001b[1;32m     68\u001b[0m best_result \u001b[38;5;241m=\u001b[39m results_df[results_df[\u001b[38;5;124m'\u001b[39m\u001b[38;5;124mbest\u001b[39m\u001b[38;5;124m'\u001b[39m]\u001b[38;5;241m==\u001b[39m\u001b[38;5;241m1\u001b[39m]\n\u001b[1;32m     70\u001b[0m best_metrics \u001b[38;5;241m=\u001b[39m {\u001b[38;5;124m\"\u001b[39m\u001b[38;5;124mTN\u001b[39m\u001b[38;5;124m\"\u001b[39m:best_result[\u001b[38;5;124m\"\u001b[39m\u001b[38;5;124mtn\u001b[39m\u001b[38;5;124m\"\u001b[39m]\u001b[38;5;241m.\u001b[39miloc[\u001b[38;5;241m0\u001b[39m],\n\u001b[1;32m     71\u001b[0m               \u001b[38;5;124m\"\u001b[39m\u001b[38;5;124mFP\u001b[39m\u001b[38;5;124m\"\u001b[39m:best_result[\u001b[38;5;124m\"\u001b[39m\u001b[38;5;124mfp\u001b[39m\u001b[38;5;124m\"\u001b[39m]\u001b[38;5;241m.\u001b[39miloc[\u001b[38;5;241m0\u001b[39m],\n\u001b[1;32m     72\u001b[0m               \u001b[38;5;124m\"\u001b[39m\u001b[38;5;124mFN\u001b[39m\u001b[38;5;124m\"\u001b[39m:best_result[\u001b[38;5;124m\"\u001b[39m\u001b[38;5;124mfn\u001b[39m\u001b[38;5;124m\"\u001b[39m]\u001b[38;5;241m.\u001b[39miloc[\u001b[38;5;241m0\u001b[39m],\n\u001b[1;32m     73\u001b[0m               \u001b[38;5;124m\"\u001b[39m\u001b[38;5;124mTP\u001b[39m\u001b[38;5;124m\"\u001b[39m:best_result[\u001b[38;5;124m\"\u001b[39m\u001b[38;5;124mtp\u001b[39m\u001b[38;5;124m\"\u001b[39m]\u001b[38;5;241m.\u001b[39miloc[\u001b[38;5;241m0\u001b[39m],\n\u001b[1;32m     74\u001b[0m               \u001b[38;5;124m\"\u001b[39m\u001b[38;5;124mFP_10_FN\u001b[39m\u001b[38;5;124m\"\u001b[39m:best_result[\u001b[38;5;124m\"\u001b[39m\u001b[38;5;124mFP+10*FN\u001b[39m\u001b[38;5;124m\"\u001b[39m]\u001b[38;5;241m.\u001b[39miloc[\u001b[38;5;241m0\u001b[39m],\n\u001b[1;32m     75\u001b[0m               \u001b[38;5;124m\"\u001b[39m\u001b[38;5;124mAccuracy\u001b[39m\u001b[38;5;124m\"\u001b[39m: best_result[\u001b[38;5;124m\"\u001b[39m\u001b[38;5;124maccuracy\u001b[39m\u001b[38;5;124m\"\u001b[39m]\u001b[38;5;241m.\u001b[39miloc[\u001b[38;5;241m0\u001b[39m],\n\u001b[1;32m     76\u001b[0m              \u001b[38;5;124m\"\u001b[39m\u001b[38;5;124mF1\u001b[39m\u001b[38;5;124m\"\u001b[39m:best_result[\u001b[38;5;124m\"\u001b[39m\u001b[38;5;124mF1_Score\u001b[39m\u001b[38;5;124m\"\u001b[39m]\u001b[38;5;241m.\u001b[39miloc[\u001b[38;5;241m0\u001b[39m],\n\u001b[1;32m     77\u001b[0m              \u001b[38;5;124m\"\u001b[39m\u001b[38;5;124mPrecision\u001b[39m\u001b[38;5;124m\"\u001b[39m:best_result[\u001b[38;5;124m\"\u001b[39m\u001b[38;5;124mprecision\u001b[39m\u001b[38;5;124m\"\u001b[39m]\u001b[38;5;241m.\u001b[39miloc[\u001b[38;5;241m0\u001b[39m],\n\u001b[1;32m     78\u001b[0m              \u001b[38;5;124m\"\u001b[39m\u001b[38;5;124mRecall\u001b[39m\u001b[38;5;124m\"\u001b[39m:best_result[\u001b[38;5;124m\"\u001b[39m\u001b[38;5;124mrecall\u001b[39m\u001b[38;5;124m\"\u001b[39m]\u001b[38;5;241m.\u001b[39miloc[\u001b[38;5;241m0\u001b[39m],\n\u001b[1;32m     79\u001b[0m              \u001b[38;5;124m\"\u001b[39m\u001b[38;5;124mROC_AUC\u001b[39m\u001b[38;5;124m\"\u001b[39m:best_result[\u001b[38;5;124m\"\u001b[39m\u001b[38;5;124mROC_AUC\u001b[39m\u001b[38;5;124m\"\u001b[39m]\u001b[38;5;241m.\u001b[39miloc[\u001b[38;5;241m0\u001b[39m],\n\u001b[1;32m     80\u001b[0m             \u001b[38;5;124m\"\u001b[39m\u001b[38;5;124mthreshold\u001b[39m\u001b[38;5;124m\"\u001b[39m:best_result[\u001b[38;5;124m\"\u001b[39m\u001b[38;5;124mthreshold\u001b[39m\u001b[38;5;124m\"\u001b[39m]\u001b[38;5;241m.\u001b[39miloc[\u001b[38;5;241m0\u001b[39m],\n\u001b[0;32m---> 81\u001b[0m                 \u001b[38;5;124m\"\u001b[39m\u001b[38;5;124mtime_in_s\u001b[39m\u001b[38;5;124m\"\u001b[39m:\u001b[43mtrainT\u001b[49m\n\u001b[1;32m     82\u001b[0m              }\n\u001b[1;32m     84\u001b[0m \u001b[38;5;28mprint\u001b[39m(\u001b[38;5;124m\"\u001b[39m\u001b[38;5;124mbest b score\u001b[39m\u001b[38;5;124m\"\u001b[39m, best_B_score, results_df[results_df[\u001b[38;5;124m'\u001b[39m\u001b[38;5;124mbest\u001b[39m\u001b[38;5;124m'\u001b[39m]\u001b[38;5;241m==\u001b[39m\u001b[38;5;241m1\u001b[39m][\u001b[38;5;124m'\u001b[39m\u001b[38;5;124mthreshold\u001b[39m\u001b[38;5;124m'\u001b[39m])\n\u001b[1;32m     85\u001b[0m \u001b[38;5;28mprint\u001b[39m(results_df)\n",
      "\u001b[0;31mNameError\u001b[0m: name 'trainT' is not defined"
     ]
    },
    {
     "name": "stdout",
     "output_type": "stream",
     "text": [
      "[CV 2/5] END colsample_bytree=0.3, learning_rate=0.1, max_depth=6, n_estimators=175, subsample=0.3;, score=0.919 total time= 4.8min\n",
      "[CV 5/5] END colsample_bytree=0.3, learning_rate=0.1, max_depth=6, n_estimators=185, subsample=0.3;, score=0.919 total time= 4.4min\n",
      "[CV 3/5] END colsample_bytree=0.3, learning_rate=0.1, max_depth=6, n_estimators=175, subsample=0.3;, score=0.919 total time= 4.8min\n",
      "[CV 4/5] END colsample_bytree=0.3, learning_rate=0.1, max_depth=6, n_estimators=185, subsample=0.3;, score=0.919 total time= 4.4min\n",
      "[CV 1/5] END colsample_bytree=0.3, learning_rate=0.1, max_depth=6, n_estimators=175, subsample=0.3;, score=0.919 total time= 4.8min\n",
      "[CV 1/5] END colsample_bytree=0.3, learning_rate=0.1, max_depth=6, n_estimators=190, subsample=0.3;, score=0.919 total time= 4.5min\n",
      "[CV 5/5] END colsample_bytree=0.3, learning_rate=0.1, max_depth=6, n_estimators=175, subsample=0.3;, score=0.919 total time= 4.8min\n",
      "[CV 2/5] END colsample_bytree=0.3, learning_rate=0.1, max_depth=6, n_estimators=190, subsample=0.3;, score=0.919 total time= 4.5min\n",
      "[CV 1/5] END colsample_bytree=0.3, learning_rate=0.1, max_depth=6, n_estimators=180, subsample=0.3;, score=0.919 total time= 4.9min\n",
      "[CV 3/5] END colsample_bytree=0.3, learning_rate=0.1, max_depth=6, n_estimators=190, subsample=0.3;, score=0.919 total time= 4.5min\n",
      "[CV 2/5] END colsample_bytree=0.3, learning_rate=0.1, max_depth=6, n_estimators=180, subsample=0.3;, score=0.919 total time= 4.9min\n",
      "[CV 4/5] END colsample_bytree=0.3, learning_rate=0.1, max_depth=6, n_estimators=190, subsample=0.3;, score=0.919 total time= 4.5min\n"
     ]
    }
   ],
   "source": [
    "# XGB no SMOTE data   \n",
    "run_name = \"XGB\"\n",
    "print(\"start train_XGBoost_model\")\n",
    "best_xgb_model, best_xgb_params, timeXGB = train_XGBoost_model(X_train, Y_train)    \n",
    "run_XGB_metrics  = generate_model_report(best_xgb_model, run_name, X_test, Y_test)\n",
    "best_metrics_XGB, metrics_XGB = find_optimal_business_score(best_xgb_model, run_name, X_test, Y_test, timeXGB)\n",
    "signature_XGB    = infer_signature(X_train, best_xgb_model.predict(X_train))\n",
    "run_MLflow(experiment_name, run_name, metrics_XGB, best_xgb_params, best_xgb_model, signature_XGB)\n"
   ]
  },
  {
   "cell_type": "markdown",
   "id": "a64747ed",
   "metadata": {},
   "source": [
    "**2/6 RUN XGB with SMOTE data**"
   ]
  },
  {
   "cell_type": "code",
   "execution_count": 114,
   "id": "a0e27d78",
   "metadata": {},
   "outputs": [
    {
     "name": "stdout",
     "output_type": "stream",
     "text": [
      "START time Wed Feb 28 10:01:22 2024\n",
      "start RandomizedSearchCV \n",
      "Fitting 5 folds for each of 6 candidates, totalling 30 fits\n"
     ]
    },
    {
     "name": "stderr",
     "output_type": "stream",
     "text": [
      "/Users/markobriesemann/opt/anaconda3/lib/python3.8/site-packages/sklearn/model_selection/_search.py:307: UserWarning: The total space of parameters 6 is smaller than n_iter=100. Running 6 iterations. For exhaustive searches, use GridSearchCV.\n",
      "  warnings.warn(\n"
     ]
    },
    {
     "name": "stdout",
     "output_type": "stream",
     "text": [
      "[CV 2/5] END colsample_bytree=0.3, learning_rate=0.1, max_depth=6, n_estimators=170, subsample=0.3;, score=0.727 total time=  59.5s\n",
      "[CV 5/5] END colsample_bytree=0.3, learning_rate=0.1, max_depth=6, n_estimators=180, subsample=0.3;, score=0.752 total time=  59.9s\n"
     ]
    },
    {
     "name": "stderr",
     "output_type": "stream",
     "text": [
      "/Users/markobriesemann/opt/anaconda3/lib/python3.8/site-packages/joblib/externals/loky/process_executor.py:700: UserWarning: A worker stopped while some jobs were given to the executor. This can be caused by a too short worker timeout or by a memory leak.\n",
      "  warnings.warn(\n"
     ]
    },
    {
     "name": "stdout",
     "output_type": "stream",
     "text": [
      "[CV 1/5] END colsample_bytree=0.3, learning_rate=0.1, max_depth=6, n_estimators=175, subsample=0.3;, score=0.720 total time= 1.0min\n",
      "[CV 2/5] END colsample_bytree=0.3, learning_rate=0.1, max_depth=6, n_estimators=185, subsample=0.3;, score=0.726 total time= 1.1min\n",
      "[CV 4/5] END colsample_bytree=0.3, learning_rate=0.1, max_depth=6, n_estimators=195, subsample=0.3;, score=0.716 total time=  46.7s\n",
      "START time Wed Feb 28 10:01:22 2024\n",
      "END time Wed Feb 28 10:04:36 2024  duration 3.245553497473399 min\n",
      "\n",
      "---------------------------------\n",
      "start generate_model_report\n"
     ]
    },
    {
     "data": {
      "image/png": "[encoded data removed]",
      "text/plain": [
       "<Figure size 640x480 with 1 Axes>"
      ]
     },
     "metadata": {},
     "output_type": "display_data"
    },
    {
     "name": "stdout",
     "output_type": "stream",
     "text": [
      "Logistic: f1=0.291 auc=0.232\n"
     ]
    },
    {
     "data": {
      "image/png": "[encoded data removed]",
      "text/plain": [
       "<Figure size 640x480 with 1 Axes>"
      ]
     },
     "metadata": {},
     "output_type": "display_data"
    },
    {
     "name": "stdout",
     "output_type": "stream",
     "text": [
      "+------------------+---------------------+---------------------+\n",
      "| Confusion Matrix | Positive prediction | Negative prediction |\n",
      "+------------------+---------------------+---------------------+\n",
      "|  Positive class  |  True positive (TP) | False negative (FN) |\n",
      "|  Negative class  | False positive (FP) |  True negative (TN) |\n",
      "+------------------+---------------------+---------------------+\n",
      "+------------------+---------------------+---------------------+\n",
      "| Confusion Matrix | Positive prediction | Negative prediction |\n",
      "+------------------+---------------------+---------------------+\n",
      "|  Positive class  |         1834        |         3050        |\n",
      "|  Negative class  |         5886        |        50733        |\n",
      "+------------------+---------------------+---------------------+\n",
      "ROC AUC:  0.6357769201116841\n",
      "Accuracy =  0.8547062744906753\n",
      "Precision =  0.23756476683937824\n",
      "Recall =  0.37551187551187554\n",
      "F1 Score =  0.29101872421453506\n",
      "Fbeta Score =  (0.62, 0.85, 0.86)\n",
      "       model     tn    fp    fn    tp  FP+10*FN  accuracy   ROC_AUC  \\\n",
      "0  XGB_smote  50733  5886  3050  1834     36386  0.854706  0.635777   \n",
      "\n",
      "   precision    recall  F1_Score  Fbeta_macro  Fbeta_micro  Fbeta_weighted  \n",
      "0   0.237565  0.375512  0.291019         0.62         0.85            0.86  \n",
      "---------------------------------\n",
      "start find_optimal_business_score\n",
      "prediction proba 61503\n",
      "Y_true 61503\n",
      "Series([], Name: best, dtype: object)\n",
      "0    1\n",
      "Name: best, dtype: object\n",
      "1    1\n",
      "Name: best, dtype: object\n",
      "2    1\n",
      "Name: best, dtype: object\n",
      "best b score 33112 3    0.3\n",
      "Name: threshold, dtype: float64\n",
      "   threshold     tn     fp    fn    tp FP+10*FN  accuracy   ROC_AUC  \\\n",
      "0        0.0      0  56619     0  4884    56619  0.079411  0.500000   \n",
      "1        0.1  10386  46233   201  4683    48243  0.245012  0.571141   \n",
      "2        0.2  26951  29668   710  4174    36768  0.506073  0.665317   \n",
      "3        0.3  38327  18292  1482  3402    33112  0.678487  0.686744   \n",
      "4        0.4  45817  10802  2274  2610    33542  0.787392  0.671807   \n",
      "5        0.5  50733   5886  3050  1834    36386  0.854706  0.635777   \n",
      "\n",
      "   precision    recall  F1_Score  Fbeta_macro  Fbeta_micro  Fbeta_weighted  \\\n",
      "0   0.079411  1.000000  0.147137     0.150668     0.079411        0.023929   \n",
      "1   0.091975  0.958845  0.167849     0.275705     0.245012        0.228053   \n",
      "2   0.123338  0.854627  0.215566     0.460615     0.506073        0.519187   \n",
      "3   0.156818  0.696560  0.256001     0.566112     0.678487        0.695274   \n",
      "4   0.194602  0.534398  0.285308     0.615214     0.787392        0.799547   \n",
      "5   0.237565  0.375512  0.291019     0.620774     0.854706        0.859951   \n",
      "\n",
      "  best  \n",
      "0    0  \n",
      "1    0  \n",
      "2    0  \n",
      "3    1  \n",
      "4    0  \n",
      "5    0  \n"
     ]
    },
    {
     "name": "stderr",
     "output_type": "stream",
     "text": [
      "/Users/markobriesemann/opt/anaconda3/lib/python3.8/site-packages/mlflow/models/signature.py:212: UserWarning: Hint: Inferred schema contains integer column(s). Integer columns in Python cannot represent missing values. If your input data contains missing values at inference time, it will be encoded as floats and will cause a schema enforcement error. The best way to avoid this problem is to infer the model schema based on a realistic data sample (training dataset) that includes missing values. Alternatively, you can declare integer columns as doubles (float64) whenever these columns may have missing values. See `Handling Integers With Missing Values <https://www.mlflow.org/docs/latest/models.html#handling-integers-with-missing-values>`_ for more details.\n",
      "  inputs = _infer_schema(model_input) if model_input is not None else None\n"
     ]
    },
    {
     "name": "stdout",
     "output_type": "stream",
     "text": [
      "Artifact PATH XGB_smote_artifactPATH\n",
      "{'TN': 38327, 'FP': 18292, 'FN': 1482, 'TP': 3402, 'FP_10_FN': 33112, 'Accuracy': 0.6784872282652878, 'F1': 0.256001204003311, 'Precision': 0.15681755324052735, 'Recall': 0.6965601965601965, 'ROC_AUC': 0.6867442180985338, 'threshold': 0.3, 'time_in_s': 194.73320984840393}\n",
      "{'subsample': 0.3, 'n_estimators': 195, 'max_depth': 6, 'learning_rate': 0.1, 'colsample_bytree': 0.3}\n",
      "Active run_id: ecaf399e6500430c9377d5baf31e5f8e\n",
      "[CV 1/5] END colsample_bytree=0.3, learning_rate=0.1, max_depth=6, n_estimators=180, subsample=0.3;, score=0.719 total time= 1.1min\n",
      "[CV 4/5] END colsample_bytree=0.3, learning_rate=0.1, max_depth=6, n_estimators=185, subsample=0.3;, score=0.714 total time= 1.1min\n",
      "[CV 5/5] END colsample_bytree=0.3, learning_rate=0.1, max_depth=6, n_estimators=175, subsample=0.3;, score=0.752 total time= 1.0min\n",
      "[CV 5/5] END colsample_bytree=0.3, learning_rate=0.1, max_depth=6, n_estimators=185, subsample=0.3;, score=0.753 total time= 1.1min\n",
      "[CV 4/5] END colsample_bytree=0.3, learning_rate=0.1, max_depth=6, n_estimators=170, subsample=0.3;, score=0.716 total time= 1.0min\n",
      "[CV 1/5] END colsample_bytree=0.3, learning_rate=0.1, max_depth=6, n_estimators=190, subsample=0.3;, score=0.720 total time= 1.1min\n",
      "[CV 2/5] END colsample_bytree=0.3, learning_rate=0.1, max_depth=6, n_estimators=175, subsample=0.3;, score=0.727 total time= 1.0min\n",
      "[CV 2/5] END colsample_bytree=0.3, learning_rate=0.1, max_depth=6, n_estimators=190, subsample=0.3;, score=0.727 total time= 1.1min\n",
      "[CV 3/5] END colsample_bytree=0.3, learning_rate=0.1, max_depth=6, n_estimators=175, subsample=0.3;, score=0.722 total time= 1.0min\n",
      "[CV 3/5] END colsample_bytree=0.3, learning_rate=0.1, max_depth=6, n_estimators=190, subsample=0.3;, score=0.721 total time= 1.1min\n",
      "[CV 2/5] END colsample_bytree=0.3, learning_rate=0.1, max_depth=6, n_estimators=180, subsample=0.3;, score=0.727 total time= 1.0min\n",
      "[CV 4/5] END colsample_bytree=0.3, learning_rate=0.1, max_depth=6, n_estimators=190, subsample=0.3;, score=0.715 total time= 1.1min\n",
      "[CV 1/5] END colsample_bytree=0.3, learning_rate=0.1, max_depth=6, n_estimators=170, subsample=0.3;, score=0.721 total time=  59.3s\n",
      "[CV 3/5] END colsample_bytree=0.3, learning_rate=0.1, max_depth=6, n_estimators=180, subsample=0.3;, score=0.721 total time=  59.5s\n",
      "[CV 5/5] END colsample_bytree=0.3, learning_rate=0.1, max_depth=6, n_estimators=190, subsample=0.3;, score=0.755 total time=  51.4s\n",
      "[CV 5/5] END colsample_bytree=0.3, learning_rate=0.1, max_depth=6, n_estimators=170, subsample=0.3;, score=0.751 total time= 1.0min\n",
      "[CV 4/5] END colsample_bytree=0.3, learning_rate=0.1, max_depth=6, n_estimators=180, subsample=0.3;, score=0.715 total time=  59.7s\n",
      "[CV 1/5] END colsample_bytree=0.3, learning_rate=0.1, max_depth=6, n_estimators=195, subsample=0.3;, score=0.720 total time=  51.2s\n",
      "[CV 2/5] END colsample_bytree=0.3, learning_rate=0.1, max_depth=6, n_estimators=195, subsample=0.3;, score=0.727 total time=  50.2s\n",
      "[CV 3/5] END colsample_bytree=0.3, learning_rate=0.1, max_depth=6, n_estimators=170, subsample=0.3;, score=0.722 total time= 1.0min\n",
      "[CV 1/5] END colsample_bytree=0.3, learning_rate=0.1, max_depth=6, n_estimators=185, subsample=0.3;, score=0.720 total time= 1.1min\n",
      "[CV 3/5] END colsample_bytree=0.3, learning_rate=0.1, max_depth=6, n_estimators=195, subsample=0.3;, score=0.721 total time=  47.9s\n",
      "[CV 4/5] END colsample_bytree=0.3, learning_rate=0.1, max_depth=6, n_estimators=175, subsample=0.3;, score=0.715 total time= 1.0min\n",
      "[CV 3/5] END colsample_bytree=0.3, learning_rate=0.1, max_depth=6, n_estimators=185, subsample=0.3;, score=0.721 total time= 1.1min\n",
      "[CV 5/5] END colsample_bytree=0.3, learning_rate=0.1, max_depth=6, n_estimators=195, subsample=0.3;, score=0.754 total time=  45.5s\n"
     ]
    }
   ],
   "source": [
    "# XGB with SMOTE data   \n",
    "run_name = \"XGB_smote\"\n",
    "XGB_model_smote, best_xfb_params_smote, timeXGBsmote =  train_XGBoost_model(x_train_smote, y_train_smote)\n",
    "XGB_smote_metrics     = generate_model_report(XGB_model_smote, run_name, X_test, Y_test)\n",
    "best_metrics_XGB_smote, metrics_XGB_smote = find_optimal_business_score(XGB_model_smote, run_name, X_test, Y_test, timeXGBsmote)\n",
    "signature_XGB_smote     = infer_signature(X_train, best_xgb_model.predict(X_train))\n",
    "run_MLflow(experiment_name, run_name, metrics_XGB_smote, best_xfb_params_smote, XGB_model_smote, signature_XGB_smote)"
   ]
  },
  {
   "cell_type": "markdown",
   "id": "7270f59d",
   "metadata": {},
   "source": [
    "**3/6 LightGBM on unbalanced data set**"
   ]
  },
  {
   "cell_type": "code",
   "execution_count": 116,
   "id": "2058def2",
   "metadata": {},
   "outputs": [
    {
     "name": "stdout",
     "output_type": "stream",
     "text": [
      "START time Wed Feb 28 10:59:29 2024\n",
      "Fitting 5 folds for each of 1 candidates, totalling 5 fits\n"
     ]
    },
    {
     "name": "stderr",
     "output_type": "stream",
     "text": [
      "/Users/markobriesemann/opt/anaconda3/lib/python3.8/site-packages/sklearn/model_selection/_search.py:307: UserWarning: The total space of parameters 1 is smaller than n_iter=50. Running 1 iterations. For exhaustive searches, use GridSearchCV.\n",
      "  warnings.warn(\n",
      "/Users/markobriesemann/opt/anaconda3/lib/python3.8/site-packages/sklearn/preprocessing/_label.py:97: DataConversionWarning: A column-vector y was passed when a 1d array was expected. Please change the shape of y to (n_samples, ), for example using ravel().\n",
      "  y = column_or_1d(y, warn=True)\n",
      "/Users/markobriesemann/opt/anaconda3/lib/python3.8/site-packages/sklearn/preprocessing/_label.py:132: DataConversionWarning: A column-vector y was passed when a 1d array was expected. Please change the shape of y to (n_samples, ), for example using ravel().\n",
      "  y = column_or_1d(y, dtype=self.classes_.dtype, warn=True)\n"
     ]
    },
    {
     "name": "stdout",
     "output_type": "stream",
     "text": [
      "[LightGBM] [Info] Number of positive: 19941, number of negative: 226067\n",
      "[LightGBM] [Info] Auto-choosing row-wise multi-threading, the overhead of testing was 0.053448 seconds.\n",
      "You can set `force_row_wise=true` to remove the overhead.\n",
      "And if memory is not enough, you can set `force_col_wise=true`.\n",
      "[LightGBM] [Info] Total Bins 11501\n",
      "[LightGBM] [Info] Number of data points in the train set: 246008, number of used features: 232\n",
      "[LightGBM] [Info] [binary:BoostFromScore]: pavg=0.500000 -> initscore=0.000000\n",
      "[LightGBM] [Info] Start training from score 0.000000\n",
      "START time Wed Feb 28 10:59:29 2024\n",
      "END time Wed Feb 28 11:07:48 2024  duration 8.324515279134115 min\n",
      "\n",
      "---------------------------------\n",
      "start generate_model_report\n"
     ]
    },
    {
     "data": {
      "image/png": "[encoded data removed]",
      "text/plain": [
       "<Figure size 640x480 with 1 Axes>"
      ]
     },
     "metadata": {},
     "output_type": "display_data"
    },
    {
     "name": "stdout",
     "output_type": "stream",
     "text": [
      "Logistic: f1=0.268 auc=0.207\n"
     ]
    },
    {
     "data": {
      "image/png": "[encoded data removed]",
      "text/plain": [
       "<Figure size 640x480 with 1 Axes>"
      ]
     },
     "metadata": {},
     "output_type": "display_data"
    },
    {
     "name": "stdout",
     "output_type": "stream",
     "text": [
      "+------------------+---------------------+---------------------+\n",
      "| Confusion Matrix | Positive prediction | Negative prediction |\n",
      "+------------------+---------------------+---------------------+\n",
      "|  Positive class  |  True positive (TP) | False negative (FN) |\n",
      "|  Negative class  | False positive (FP) |  True negative (TN) |\n",
      "+------------------+---------------------+---------------------+\n",
      "+------------------+---------------------+---------------------+\n",
      "| Confusion Matrix | Positive prediction | Negative prediction |\n",
      "+------------------+---------------------+---------------------+\n",
      "|  Positive class  |         1389        |         3495        |\n",
      "|  Negative class  |         4105        |        52514        |\n",
      "+------------------+---------------------+---------------------+\n",
      "ROC AUC:  0.6059479354066859\n",
      "Accuracy =  0.8764287920914426\n",
      "Precision =  0.25282125955587914\n",
      "Recall =  0.2843980343980344\n",
      "F1 Score =  0.26768163422624786\n",
      "Fbeta Score =  (0.6, 0.88, 0.88)\n",
      "      model     tn    fp    fn    tp  FP+10*FN  accuracy   ROC_AUC  precision  \\\n",
      "0  LightGBM  52514  4105  3495  1389     39055  0.876429  0.605948   0.252821   \n",
      "\n",
      "     recall  F1_Score  Fbeta_macro  Fbeta_micro  Fbeta_weighted  \n",
      "0  0.284398  0.267682          0.6         0.88            0.88  \n",
      "---------------------------------\n",
      "start find_optimal_business_score\n",
      "prediction proba 61503\n",
      "Y_true 61503\n",
      "Series([], Name: best, dtype: object)\n",
      "0    1\n",
      "Name: best, dtype: object\n",
      "1    1\n",
      "Name: best, dtype: object\n",
      "best b score 35415 2    0.2\n",
      "Name: threshold, dtype: float64\n",
      "   threshold     tn     fp    fn    tp FP+10*FN  accuracy   ROC_AUC  \\\n",
      "0        0.0      0  56619     0  4884    56619  0.079411  0.500000   \n",
      "1        0.1  32311  24308  1269  3615    36998  0.584134  0.655423   \n",
      "2        0.2  41184  15435  1998  2886    35415  0.716550  0.659149   \n",
      "3        0.3  46580  10039  2574  2310    35779  0.794921  0.647833   \n",
      "4        0.4  50142   6477  3065  1819    37127  0.844853  0.629022   \n",
      "5        0.5  52514   4105  3495  1389    39055  0.876429  0.605948   \n",
      "\n",
      "   precision    recall  F1_Score  Fbeta_macro  Fbeta_micro  Fbeta_weighted  \\\n",
      "0   0.079411  1.000000  0.147137     0.150668     0.079411        0.023929   \n",
      "1   0.129463  0.740172  0.220380     0.501043     0.584134        0.602143   \n",
      "2   0.157524  0.590909  0.248739     0.572403     0.716550        0.733262   \n",
      "3   0.187060  0.472973  0.268090     0.603606     0.794921        0.806639   \n",
      "4   0.219262  0.372441  0.276024     0.611595     0.844853        0.851173   \n",
      "5   0.252821  0.284398  0.267682     0.603484     0.876429        0.877722   \n",
      "\n",
      "  best  \n",
      "0    0  \n",
      "1    0  \n",
      "2    1  \n",
      "3    0  \n",
      "4    0  \n",
      "5    0  \n"
     ]
    },
    {
     "name": "stderr",
     "output_type": "stream",
     "text": [
      "/Users/markobriesemann/opt/anaconda3/lib/python3.8/site-packages/mlflow/models/signature.py:212: UserWarning: Hint: Inferred schema contains integer column(s). Integer columns in Python cannot represent missing values. If your input data contains missing values at inference time, it will be encoded as floats and will cause a schema enforcement error. The best way to avoid this problem is to infer the model schema based on a realistic data sample (training dataset) that includes missing values. Alternatively, you can declare integer columns as doubles (float64) whenever these columns may have missing values. See `Handling Integers With Missing Values <https://www.mlflow.org/docs/latest/models.html#handling-integers-with-missing-values>`_ for more details.\n",
      "  inputs = _infer_schema(model_input) if model_input is not None else None\n"
     ]
    },
    {
     "name": "stdout",
     "output_type": "stream",
     "text": [
      "Artifact PATH LightGBM_artifactPATH\n",
      "{'TN': 41184, 'FP': 15435, 'FN': 1998, 'TP': 2886, 'FP_10_FN': 35415, 'Accuracy': 0.7165504121750158, 'F1': 0.24873949579831933, 'Precision': 0.157524152611757, 'Recall': 0.5909090909090909, 'ROC_AUC': 0.659148711723819, 'threshold': 0.2, 'time_in_s': 499.4709167480469}\n",
      "{'subsample': 0.8, 'reg_lambda': 0.1, 'reg_alpha': 0.1, 'objective': 'binary', 'num_leaves': 31, 'n_estimators': 10000, 'metric': 'binary_logloss', 'learning_rate': 0.05, 'class_weight': 'balanced', 'boosting_type': 'gbdt'}\n",
      "Active run_id: 626326a511304ac2aee373ba9aa7ecf7\n",
      "[LightGBM] [Info] Number of positive: 15952, number of negative: 180854\n",
      "[LightGBM] [Info] Auto-choosing row-wise multi-threading, the overhead of testing was 0.088020 seconds.\n",
      "You can set `force_row_wise=true` to remove the overhead.\n",
      "And if memory is not enough, you can set `force_col_wise=true`.\n",
      "[LightGBM] [Info] Total Bins 11420\n",
      "[LightGBM] [Info] Number of data points in the train set: 196806, number of used features: 230\n",
      "[LightGBM] [Info] [binary:BoostFromScore]: pavg=0.500000 -> initscore=-0.000000\n",
      "[LightGBM] [Info] Start training from score -0.000000\n",
      "[CV 1/5] END boosting_type=gbdt, class_weight=balanced, learning_rate=0.05, metric=binary_logloss, n_estimators=10000, num_leaves=31, objective=binary, reg_alpha=0.1, reg_lambda=0.1, subsample=0.8;, score=0.887 total time= 6.6min\n"
     ]
    },
    {
     "name": "stderr",
     "output_type": "stream",
     "text": [
      "/Users/markobriesemann/opt/anaconda3/lib/python3.8/site-packages/sklearn/preprocessing/_label.py:97: DataConversionWarning: A column-vector y was passed when a 1d array was expected. Please change the shape of y to (n_samples, ), for example using ravel().\n",
      "  y = column_or_1d(y, warn=True)\n",
      "/Users/markobriesemann/opt/anaconda3/lib/python3.8/site-packages/sklearn/preprocessing/_label.py:132: DataConversionWarning: A column-vector y was passed when a 1d array was expected. Please change the shape of y to (n_samples, ), for example using ravel().\n",
      "  y = column_or_1d(y, dtype=self.classes_.dtype, warn=True)\n"
     ]
    },
    {
     "name": "stdout",
     "output_type": "stream",
     "text": [
      "[LightGBM] [Info] Number of positive: 15953, number of negative: 180853\n",
      "[LightGBM] [Info] Auto-choosing row-wise multi-threading, the overhead of testing was 0.220842 seconds.\n",
      "You can set `force_row_wise=true` to remove the overhead.\n",
      "And if memory is not enough, you can set `force_col_wise=true`.\n",
      "[LightGBM] [Info] Total Bins 11495\n",
      "[LightGBM] [Info] Number of data points in the train set: 196806, number of used features: 230\n",
      "[LightGBM] [Info] [binary:BoostFromScore]: pavg=0.500000 -> initscore=0.000000\n",
      "[LightGBM] [Info] Start training from score 0.000000\n",
      "[CV 2/5] END boosting_type=gbdt, class_weight=balanced, learning_rate=0.05, metric=binary_logloss, n_estimators=10000, num_leaves=31, objective=binary, reg_alpha=0.1, reg_lambda=0.1, subsample=0.8;, score=0.883 total time= 6.6min\n"
     ]
    },
    {
     "name": "stderr",
     "output_type": "stream",
     "text": [
      "/Users/markobriesemann/opt/anaconda3/lib/python3.8/site-packages/sklearn/preprocessing/_label.py:97: DataConversionWarning: A column-vector y was passed when a 1d array was expected. Please change the shape of y to (n_samples, ), for example using ravel().\n",
      "  y = column_or_1d(y, warn=True)\n",
      "/Users/markobriesemann/opt/anaconda3/lib/python3.8/site-packages/sklearn/preprocessing/_label.py:132: DataConversionWarning: A column-vector y was passed when a 1d array was expected. Please change the shape of y to (n_samples, ), for example using ravel().\n",
      "  y = column_or_1d(y, dtype=self.classes_.dtype, warn=True)\n"
     ]
    },
    {
     "name": "stdout",
     "output_type": "stream",
     "text": [
      "[LightGBM] [Info] Number of positive: 15953, number of negative: 180853\n",
      "[LightGBM] [Info] Auto-choosing row-wise multi-threading, the overhead of testing was 0.093408 seconds.\n",
      "You can set `force_row_wise=true` to remove the overhead.\n",
      "And if memory is not enough, you can set `force_col_wise=true`.\n",
      "[LightGBM] [Info] Total Bins 11406\n",
      "[LightGBM] [Info] Number of data points in the train set: 196806, number of used features: 230\n",
      "[LightGBM] [Info] [binary:BoostFromScore]: pavg=0.500000 -> initscore=0.000000\n",
      "[LightGBM] [Info] Start training from score 0.000000\n",
      "[CV 3/5] END boosting_type=gbdt, class_weight=balanced, learning_rate=0.05, metric=binary_logloss, n_estimators=10000, num_leaves=31, objective=binary, reg_alpha=0.1, reg_lambda=0.1, subsample=0.8;, score=0.886 total time= 6.7min\n"
     ]
    },
    {
     "name": "stderr",
     "output_type": "stream",
     "text": [
      "/Users/markobriesemann/opt/anaconda3/lib/python3.8/site-packages/sklearn/preprocessing/_label.py:97: DataConversionWarning: A column-vector y was passed when a 1d array was expected. Please change the shape of y to (n_samples, ), for example using ravel().\n",
      "  y = column_or_1d(y, warn=True)\n",
      "/Users/markobriesemann/opt/anaconda3/lib/python3.8/site-packages/sklearn/preprocessing/_label.py:132: DataConversionWarning: A column-vector y was passed when a 1d array was expected. Please change the shape of y to (n_samples, ), for example using ravel().\n",
      "  y = column_or_1d(y, dtype=self.classes_.dtype, warn=True)\n"
     ]
    },
    {
     "name": "stdout",
     "output_type": "stream",
     "text": [
      "[LightGBM] [Info] Number of positive: 15953, number of negative: 180854\n",
      "[LightGBM] [Info] Auto-choosing row-wise multi-threading, the overhead of testing was 0.122120 seconds.\n",
      "You can set `force_row_wise=true` to remove the overhead.\n",
      "And if memory is not enough, you can set `force_col_wise=true`.\n",
      "[LightGBM] [Info] Total Bins 11428\n",
      "[LightGBM] [Info] Number of data points in the train set: 196807, number of used features: 230\n",
      "[LightGBM] [Info] [binary:BoostFromScore]: pavg=0.500000 -> initscore=0.000000\n",
      "[LightGBM] [Info] Start training from score 0.000000\n",
      "[CV 5/5] END boosting_type=gbdt, class_weight=balanced, learning_rate=0.05, metric=binary_logloss, n_estimators=10000, num_leaves=31, objective=binary, reg_alpha=0.1, reg_lambda=0.1, subsample=0.8;, score=0.886 total time= 7.2min\n"
     ]
    },
    {
     "name": "stderr",
     "output_type": "stream",
     "text": [
      "/Users/markobriesemann/opt/anaconda3/lib/python3.8/site-packages/sklearn/preprocessing/_label.py:97: DataConversionWarning: A column-vector y was passed when a 1d array was expected. Please change the shape of y to (n_samples, ), for example using ravel().\n",
      "  y = column_or_1d(y, warn=True)\n",
      "/Users/markobriesemann/opt/anaconda3/lib/python3.8/site-packages/sklearn/preprocessing/_label.py:132: DataConversionWarning: A column-vector y was passed when a 1d array was expected. Please change the shape of y to (n_samples, ), for example using ravel().\n",
      "  y = column_or_1d(y, dtype=self.classes_.dtype, warn=True)\n"
     ]
    },
    {
     "name": "stdout",
     "output_type": "stream",
     "text": [
      "[LightGBM] [Info] Number of positive: 15953, number of negative: 180854\n",
      "[LightGBM] [Info] Auto-choosing row-wise multi-threading, the overhead of testing was 0.117098 seconds.\n",
      "You can set `force_row_wise=true` to remove the overhead.\n",
      "And if memory is not enough, you can set `force_col_wise=true`.\n",
      "[LightGBM] [Info] Total Bins 11491\n",
      "[LightGBM] [Info] Number of data points in the train set: 196807, number of used features: 232\n",
      "[LightGBM] [Info] [binary:BoostFromScore]: pavg=0.500000 -> initscore=0.000000\n",
      "[LightGBM] [Info] Start training from score 0.000000\n",
      "[CV 4/5] END boosting_type=gbdt, class_weight=balanced, learning_rate=0.05, metric=binary_logloss, n_estimators=10000, num_leaves=31, objective=binary, reg_alpha=0.1, reg_lambda=0.1, subsample=0.8;, score=0.885 total time= 7.2min\n"
     ]
    },
    {
     "name": "stderr",
     "output_type": "stream",
     "text": [
      "/Users/markobriesemann/opt/anaconda3/lib/python3.8/site-packages/sklearn/preprocessing/_label.py:97: DataConversionWarning: A column-vector y was passed when a 1d array was expected. Please change the shape of y to (n_samples, ), for example using ravel().\n",
      "  y = column_or_1d(y, warn=True)\n",
      "/Users/markobriesemann/opt/anaconda3/lib/python3.8/site-packages/sklearn/preprocessing/_label.py:132: DataConversionWarning: A column-vector y was passed when a 1d array was expected. Please change the shape of y to (n_samples, ), for example using ravel().\n",
      "  y = column_or_1d(y, dtype=self.classes_.dtype, warn=True)\n"
     ]
    }
   ],
   "source": [
    "run_name = \"LightGBM\"\n",
    "LGBM_model, best_LGBM_params, time_LGBM =  train_LightGBM_model(X_train, Y_train)\n",
    "LGBM_metrics     = generate_model_report(LGBM_model, run_name, X_test, Y_test)\n",
    "best_metrics_LGBM, metrics_LGBM = find_optimal_business_score(LGBM_model, run_name, X_test, Y_test, time_LGBM)\n",
    "signature_LGBM     = infer_signature(X_train, LGBM_model.predict(X_train))\n",
    "run_MLflow(experiment_name, run_name, metrics_LGBM, best_LGBM_params, LGBM_model, signature_LGBM)"
   ]
  },
  {
   "cell_type": "markdown",
   "id": "84beee25",
   "metadata": {},
   "source": [
    "**4/6 LightGBM on smote data set**"
   ]
  },
  {
   "cell_type": "code",
   "execution_count": 121,
   "id": "41d18ed0",
   "metadata": {},
   "outputs": [
    {
     "name": "stdout",
     "output_type": "stream",
     "text": [
      "START time Wed Feb 28 13:19:30 2024\n",
      "Fitting 5 folds for each of 1 candidates, totalling 5 fits\n"
     ]
    },
    {
     "name": "stderr",
     "output_type": "stream",
     "text": [
      "/Users/markobriesemann/opt/anaconda3/lib/python3.8/site-packages/sklearn/model_selection/_search.py:307: UserWarning: The total space of parameters 1 is smaller than n_iter=50. Running 1 iterations. For exhaustive searches, use GridSearchCV.\n",
      "  warnings.warn(\n"
     ]
    },
    {
     "name": "stdout",
     "output_type": "stream",
     "text": [
      "[LightGBM] [Info] Number of positive: 22606, number of negative: 45212\n",
      "[LightGBM] [Info] Auto-choosing row-wise multi-threading, the overhead of testing was 0.018822 seconds.\n",
      "You can set `force_row_wise=true` to remove the overhead.\n",
      "And if memory is not enough, you can set `force_col_wise=true`.\n",
      "[LightGBM] [Info] Total Bins 15832\n",
      "[LightGBM] [Info] Number of data points in the train set: 67818, number of used features: 226\n",
      "[LightGBM] [Info] [binary:BoostFromScore]: pavg=0.500000 -> initscore=0.000000\n",
      "START time Wed Feb 28 13:19:30 2024\n",
      "END time Wed Feb 28 13:24:32 2024  duration 5.034470983346304 min\n",
      "\n",
      "---------------------------------\n",
      "start generate_model_report\n"
     ]
    },
    {
     "data": {
      "image/png": "[encoded data removed]",
      "text/plain": [
       "<Figure size 640x480 with 1 Axes>"
      ]
     },
     "metadata": {},
     "output_type": "display_data"
    },
    {
     "name": "stdout",
     "output_type": "stream",
     "text": [
      "Logistic: f1=0.285 auc=0.215\n"
     ]
    },
    {
     "data": {
      "image/png": "[encoded data removed]",
      "text/plain": [
       "<Figure size 640x480 with 1 Axes>"
      ]
     },
     "metadata": {},
     "output_type": "display_data"
    },
    {
     "name": "stdout",
     "output_type": "stream",
     "text": [
      "+------------------+---------------------+---------------------+\n",
      "| Confusion Matrix | Positive prediction | Negative prediction |\n",
      "+------------------+---------------------+---------------------+\n",
      "|  Positive class  |  True positive (TP) | False negative (FN) |\n",
      "|  Negative class  | False positive (FP) |  True negative (TN) |\n",
      "+------------------+---------------------+---------------------+\n",
      "+------------------+---------------------+---------------------+\n",
      "| Confusion Matrix | Positive prediction | Negative prediction |\n",
      "+------------------+---------------------+---------------------+\n",
      "|  Positive class  |         2304        |         2580        |\n",
      "|  Negative class  |         8978        |        47641        |\n",
      "+------------------+---------------------+---------------------+\n",
      "ROC AUC:  0.6565878966928085\n",
      "Accuracy =  0.8120742077622229\n",
      "Precision =  0.20421911008686403\n",
      "Recall =  0.47174447174447176\n",
      "F1 Score =  0.2850426821724607\n",
      "Fbeta Score =  (0.62, 0.81, 0.82)\n",
      "            model     tn    fp    fn    tp  FP+10*FN  accuracy   ROC_AUC  \\\n",
      "0  LightGBM_smote  47641  8978  2580  2304     34778  0.812074  0.656588   \n",
      "\n",
      "   precision    recall  F1_Score  Fbeta_macro  Fbeta_micro  Fbeta_weighted  \n",
      "0   0.204219  0.471744  0.285043         0.62         0.81            0.82  \n",
      "---------------------------------\n",
      "start find_optimal_business_score\n",
      "prediction proba 61503\n",
      "Y_true 61503\n",
      "Series([], Name: best, dtype: object)\n",
      "0    1\n",
      "Name: best, dtype: object\n",
      "1    1\n",
      "Name: best, dtype: object\n",
      "best b score 35415 2    0.2\n",
      "Name: threshold, dtype: float64\n",
      "   threshold     tn     fp    fn    tp FP+10*FN  accuracy   ROC_AUC  \\\n",
      "0        0.0      0  56619     0  4884    56619  0.079411  0.500000   \n",
      "1        0.1  32311  24308  1269  3615    36998  0.584134  0.655423   \n",
      "2        0.2  41184  15435  1998  2886    35415  0.716550  0.659149   \n",
      "3        0.3  46580  10039  2574  2310    35779  0.794921  0.647833   \n",
      "4        0.4  50142   6477  3065  1819    37127  0.844853  0.629022   \n",
      "5        0.5  52514   4105  3495  1389    39055  0.876429  0.605948   \n",
      "\n",
      "   precision    recall  F1_Score  Fbeta_macro  Fbeta_micro  Fbeta_weighted  \\\n",
      "0   0.079411  1.000000  0.147137     0.150668     0.079411        0.023929   \n",
      "1   0.129463  0.740172  0.220380     0.501043     0.584134        0.602143   \n",
      "2   0.157524  0.590909  0.248739     0.572403     0.716550        0.733262   \n",
      "3   0.187060  0.472973  0.268090     0.603606     0.794921        0.806639   \n",
      "4   0.219262  0.372441  0.276024     0.611595     0.844853        0.851173   \n",
      "5   0.252821  0.284398  0.267682     0.603484     0.876429        0.877722   \n",
      "\n",
      "  best  \n",
      "0    0  \n",
      "1    0  \n",
      "2    1  \n",
      "3    0  \n",
      "4    0  \n",
      "5    0  \n"
     ]
    },
    {
     "name": "stderr",
     "output_type": "stream",
     "text": [
      "/Users/markobriesemann/opt/anaconda3/lib/python3.8/site-packages/mlflow/models/signature.py:212: UserWarning: Hint: Inferred schema contains integer column(s). Integer columns in Python cannot represent missing values. If your input data contains missing values at inference time, it will be encoded as floats and will cause a schema enforcement error. The best way to avoid this problem is to infer the model schema based on a realistic data sample (training dataset) that includes missing values. Alternatively, you can declare integer columns as doubles (float64) whenever these columns may have missing values. See `Handling Integers With Missing Values <https://www.mlflow.org/docs/latest/models.html#handling-integers-with-missing-values>`_ for more details.\n",
      "  inputs = _infer_schema(model_input) if model_input is not None else None\n"
     ]
    },
    {
     "name": "stdout",
     "output_type": "stream",
     "text": [
      "Artifact PATH LightGBM_smote_artifactPATH\n",
      "{'TN': 41184, 'FP': 15435, 'FN': 1998, 'TP': 2886, 'FP_10_FN': 35415, 'Accuracy': 0.7165504121750158, 'F1': 0.24873949579831933, 'Precision': 0.157524152611757, 'Recall': 0.5909090909090909, 'ROC_AUC': 0.659148711723819, 'threshold': 0.2, 'time_in_s': 302.0682590007782}\n",
      "{'subsample': 0.8, 'reg_lambda': 0.1, 'reg_alpha': 0.1, 'objective': 'binary', 'num_leaves': 31, 'n_estimators': 10000, 'metric': 'binary_logloss', 'learning_rate': 0.05, 'class_weight': 'balanced', 'boosting_type': 'gbdt'}\n",
      "Active run_id: 5392693623854f9bab8fa86a3492992c\n",
      "[LightGBM] [Info] Number of positive: 18085, number of negative: 36170\n",
      "[LightGBM] [Info] Auto-choosing row-wise multi-threading, the overhead of testing was 0.025932 seconds.\n",
      "You can set `force_row_wise=true` to remove the overhead.\n",
      "And if memory is not enough, you can set `force_col_wise=true`.\n",
      "[LightGBM] [Info] Total Bins 10944\n",
      "[LightGBM] [Info] Number of data points in the train set: 54255, number of used features: 222\n",
      "[LightGBM] [Info] [binary:BoostFromScore]: pavg=0.500000 -> initscore=0.000000\n",
      "[CV 5/5] END boosting_type=gbdt, class_weight=balanced, learning_rate=0.05, metric=binary_logloss, n_estimators=10000, num_leaves=31, objective=binary, reg_alpha=0.1, reg_lambda=0.1, subsample=0.8;, score=0.769 total time= 3.7min\n",
      "[LightGBM] [Info] Number of positive: 18085, number of negative: 36170\n",
      "[LightGBM] [Info] Auto-choosing row-wise multi-threading, the overhead of testing was 0.053854 seconds.\n",
      "You can set `force_row_wise=true` to remove the overhead.\n",
      "And if memory is not enough, you can set `force_col_wise=true`.\n",
      "[LightGBM] [Info] Total Bins 16022\n",
      "[LightGBM] [Info] Number of data points in the train set: 54255, number of used features: 222\n",
      "[LightGBM] [Info] [binary:BoostFromScore]: pavg=0.500000 -> initscore=0.000000\n",
      "[CV 4/5] END boosting_type=gbdt, class_weight=balanced, learning_rate=0.05, metric=binary_logloss, n_estimators=10000, num_leaves=31, objective=binary, reg_alpha=0.1, reg_lambda=0.1, subsample=0.8;, score=0.712 total time= 3.9min\n",
      "[LightGBM] [Info] Number of positive: 18085, number of negative: 36169\n",
      "[LightGBM] [Info] Auto-choosing row-wise multi-threading, the overhead of testing was 0.027025 seconds.\n",
      "You can set `force_row_wise=true` to remove the overhead.\n",
      "And if memory is not enough, you can set `force_col_wise=true`.\n",
      "[LightGBM] [Info] Total Bins 16059\n",
      "[LightGBM] [Info] Number of data points in the train set: 54254, number of used features: 222\n",
      "[LightGBM] [Info] [binary:BoostFromScore]: pavg=0.500000 -> initscore=-0.000000\n",
      "[LightGBM] [Info] Start training from score -0.000000\n",
      "[CV 2/5] END boosting_type=gbdt, class_weight=balanced, learning_rate=0.05, metric=binary_logloss, n_estimators=10000, num_leaves=31, objective=binary, reg_alpha=0.1, reg_lambda=0.1, subsample=0.8;, score=0.721 total time= 4.2min\n",
      "[LightGBM] [Info] Number of positive: 18084, number of negative: 36170\n",
      "[LightGBM] [Info] Auto-choosing row-wise multi-threading, the overhead of testing was 0.029775 seconds.\n",
      "You can set `force_row_wise=true` to remove the overhead.\n",
      "And if memory is not enough, you can set `force_col_wise=true`.\n",
      "[LightGBM] [Info] Total Bins 16071\n",
      "[LightGBM] [Info] Number of data points in the train set: 54254, number of used features: 222\n",
      "[LightGBM] [Info] [binary:BoostFromScore]: pavg=0.500000 -> initscore=0.000000\n",
      "[LightGBM] [Info] Start training from score 0.000000\n",
      "[CV 3/5] END boosting_type=gbdt, class_weight=balanced, learning_rate=0.05, metric=binary_logloss, n_estimators=10000, num_leaves=31, objective=binary, reg_alpha=0.1, reg_lambda=0.1, subsample=0.8;, score=0.715 total time= 4.2min\n",
      "[LightGBM] [Info] Number of positive: 18085, number of negative: 36169\n",
      "[LightGBM] [Info] Auto-choosing col-wise multi-threading, the overhead of testing was 0.035499 seconds.\n",
      "You can set `force_col_wise=true` to remove the overhead.\n",
      "[LightGBM] [Info] Total Bins 16064\n",
      "[LightGBM] [Info] Number of data points in the train set: 54254, number of used features: 223\n",
      "[LightGBM] [Info] [binary:BoostFromScore]: pavg=0.500000 -> initscore=-0.000000\n",
      "[LightGBM] [Info] Start training from score -0.000000\n",
      "[CV 1/5] END boosting_type=gbdt, class_weight=balanced, learning_rate=0.05, metric=binary_logloss, n_estimators=10000, num_leaves=31, objective=binary, reg_alpha=0.1, reg_lambda=0.1, subsample=0.8;, score=0.716 total time= 4.3min\n"
     ]
    }
   ],
   "source": [
    "run_name = \"LightGBM_smote\"\n",
    "LGBM_smote_model, best_LGBM_smote_params, time_LGBM_smote =  train_LightGBM_model(x_train_smote, y_train_smote)\n",
    "LGBM_smote_metrics     = generate_model_report(LGBM_smote_model, run_name, X_test, Y_test)\n",
    "best_metrics_LGBM_smote, metrics_LGBM_smote = find_optimal_business_score(LGBM_model, run_name, X_test, Y_test, time_LGBM_smote)\n",
    "signature_LGBM_smote     = infer_signature(X_train, LGBM_smote_model.predict(x_train_smote))\n",
    "run_MLflow(experiment_name, run_name, metrics_LGBM_smote, best_LGBM_smote_params,\n",
    "           LGBM_smote_model, signature_LGBM_smote)"
   ]
  },
  {
   "cell_type": "markdown",
   "id": "d952382b",
   "metadata": {},
   "source": [
    "**5/6 RFC on unbalanced data set**"
   ]
  },
  {
   "cell_type": "code",
   "execution_count": null,
   "id": "7a24684b",
   "metadata": {},
   "outputs": [
    {
     "name": "stdout",
     "output_type": "stream",
     "text": [
      "START time Thu Feb 29 11:07:31 2024\n"
     ]
    },
    {
     "name": "stderr",
     "output_type": "stream",
     "text": [
      "/Users/markobriesemann/opt/anaconda3/lib/python3.8/site-packages/sklearn/base.py:1152: DataConversionWarning: A column-vector y was passed when a 1d array was expected. Please change the shape of y to (n_samples,), for example using ravel().\n",
      "  return fit_method(estimator, *args, **kwargs)\n",
      "/Users/markobriesemann/opt/anaconda3/lib/python3.8/site-packages/joblib/externals/loky/process_executor.py:700: UserWarning: A worker stopped while some jobs were given to the executor. This can be caused by a too short worker timeout or by a memory leak.\n",
      "  warnings.warn(\n",
      "/Users/markobriesemann/opt/anaconda3/lib/python3.8/site-packages/sklearn/base.py:1152: DataConversionWarning: A column-vector y was passed when a 1d array was expected. Please change the shape of y to (n_samples,), for example using ravel().\n",
      "  return fit_method(estimator, *args, **kwargs)\n",
      "/Users/markobriesemann/opt/anaconda3/lib/python3.8/site-packages/sklearn/base.py:1152: DataConversionWarning: A column-vector y was passed when a 1d array was expected. Please change the shape of y to (n_samples,), for example using ravel().\n",
      "  return fit_method(estimator, *args, **kwargs)\n",
      "/Users/markobriesemann/opt/anaconda3/lib/python3.8/site-packages/sklearn/base.py:1152: DataConversionWarning: A column-vector y was passed when a 1d array was expected. Please change the shape of y to (n_samples,), for example using ravel().\n",
      "  return fit_method(estimator, *args, **kwargs)\n",
      "/Users/markobriesemann/opt/anaconda3/lib/python3.8/site-packages/sklearn/base.py:1152: DataConversionWarning: A column-vector y was passed when a 1d array was expected. Please change the shape of y to (n_samples,), for example using ravel().\n",
      "  return fit_method(estimator, *args, **kwargs)\n",
      "/Users/markobriesemann/opt/anaconda3/lib/python3.8/site-packages/sklearn/base.py:1152: DataConversionWarning: A column-vector y was passed when a 1d array was expected. Please change the shape of y to (n_samples,), for example using ravel().\n",
      "  return fit_method(estimator, *args, **kwargs)\n",
      "/Users/markobriesemann/opt/anaconda3/lib/python3.8/site-packages/sklearn/base.py:1152: DataConversionWarning: A column-vector y was passed when a 1d array was expected. Please change the shape of y to (n_samples,), for example using ravel().\n",
      "  return fit_method(estimator, *args, **kwargs)\n",
      "/Users/markobriesemann/opt/anaconda3/lib/python3.8/site-packages/sklearn/base.py:1152: DataConversionWarning: A column-vector y was passed when a 1d array was expected. Please change the shape of y to (n_samples,), for example using ravel().\n",
      "  return fit_method(estimator, *args, **kwargs)\n",
      "/Users/markobriesemann/opt/anaconda3/lib/python3.8/site-packages/sklearn/base.py:1152: DataConversionWarning: A column-vector y was passed when a 1d array was expected. Please change the shape of y to (n_samples,), for example using ravel().\n",
      "  return fit_method(estimator, *args, **kwargs)\n",
      "/Users/markobriesemann/opt/anaconda3/lib/python3.8/site-packages/sklearn/base.py:1152: DataConversionWarning: A column-vector y was passed when a 1d array was expected. Please change the shape of y to (n_samples,), for example using ravel().\n",
      "  return fit_method(estimator, *args, **kwargs)\n",
      "/Users/markobriesemann/opt/anaconda3/lib/python3.8/site-packages/sklearn/base.py:1152: DataConversionWarning: A column-vector y was passed when a 1d array was expected. Please change the shape of y to (n_samples,), for example using ravel().\n",
      "  return fit_method(estimator, *args, **kwargs)\n",
      "/Users/markobriesemann/opt/anaconda3/lib/python3.8/site-packages/sklearn/base.py:1152: DataConversionWarning: A column-vector y was passed when a 1d array was expected. Please change the shape of y to (n_samples,), for example using ravel().\n",
      "  return fit_method(estimator, *args, **kwargs)\n",
      "/Users/markobriesemann/opt/anaconda3/lib/python3.8/site-packages/sklearn/base.py:1152: DataConversionWarning: A column-vector y was passed when a 1d array was expected. Please change the shape of y to (n_samples,), for example using ravel().\n",
      "  return fit_method(estimator, *args, **kwargs)\n",
      "/Users/markobriesemann/opt/anaconda3/lib/python3.8/site-packages/sklearn/base.py:1152: DataConversionWarning: A column-vector y was passed when a 1d array was expected. Please change the shape of y to (n_samples,), for example using ravel().\n",
      "  return fit_method(estimator, *args, **kwargs)\n",
      "/Users/markobriesemann/opt/anaconda3/lib/python3.8/site-packages/sklearn/base.py:1152: DataConversionWarning: A column-vector y was passed when a 1d array was expected. Please change the shape of y to (n_samples,), for example using ravel().\n",
      "  return fit_method(estimator, *args, **kwargs)\n",
      "/Users/markobriesemann/opt/anaconda3/lib/python3.8/site-packages/sklearn/base.py:1152: DataConversionWarning: A column-vector y was passed when a 1d array was expected. Please change the shape of y to (n_samples,), for example using ravel().\n",
      "  return fit_method(estimator, *args, **kwargs)\n",
      "/Users/markobriesemann/opt/anaconda3/lib/python3.8/site-packages/sklearn/base.py:1152: DataConversionWarning: A column-vector y was passed when a 1d array was expected. Please change the shape of y to (n_samples,), for example using ravel().\n",
      "  return fit_method(estimator, *args, **kwargs)\n",
      "/Users/markobriesemann/opt/anaconda3/lib/python3.8/site-packages/sklearn/base.py:1152: DataConversionWarning: A column-vector y was passed when a 1d array was expected. Please change the shape of y to (n_samples,), for example using ravel().\n",
      "  return fit_method(estimator, *args, **kwargs)\n",
      "/Users/markobriesemann/opt/anaconda3/lib/python3.8/site-packages/sklearn/base.py:1152: DataConversionWarning: A column-vector y was passed when a 1d array was expected. Please change the shape of y to (n_samples,), for example using ravel().\n",
      "  return fit_method(estimator, *args, **kwargs)\n",
      "/Users/markobriesemann/opt/anaconda3/lib/python3.8/site-packages/sklearn/base.py:1152: DataConversionWarning: A column-vector y was passed when a 1d array was expected. Please change the shape of y to (n_samples,), for example using ravel().\n",
      "  return fit_method(estimator, *args, **kwargs)\n",
      "/Users/markobriesemann/opt/anaconda3/lib/python3.8/site-packages/sklearn/base.py:1152: DataConversionWarning: A column-vector y was passed when a 1d array was expected. Please change the shape of y to (n_samples,), for example using ravel().\n",
      "  return fit_method(estimator, *args, **kwargs)\n",
      "/Users/markobriesemann/opt/anaconda3/lib/python3.8/site-packages/sklearn/base.py:1152: DataConversionWarning: A column-vector y was passed when a 1d array was expected. Please change the shape of y to (n_samples,), for example using ravel().\n",
      "  return fit_method(estimator, *args, **kwargs)\n",
      "/Users/markobriesemann/opt/anaconda3/lib/python3.8/site-packages/sklearn/base.py:1152: DataConversionWarning: A column-vector y was passed when a 1d array was expected. Please change the shape of y to (n_samples,), for example using ravel().\n",
      "  return fit_method(estimator, *args, **kwargs)\n",
      "/Users/markobriesemann/opt/anaconda3/lib/python3.8/site-packages/sklearn/base.py:1152: DataConversionWarning: A column-vector y was passed when a 1d array was expected. Please change the shape of y to (n_samples,), for example using ravel().\n",
      "  return fit_method(estimator, *args, **kwargs)\n",
      "/Users/markobriesemann/opt/anaconda3/lib/python3.8/site-packages/sklearn/base.py:1152: DataConversionWarning: A column-vector y was passed when a 1d array was expected. Please change the shape of y to (n_samples,), for example using ravel().\n",
      "  return fit_method(estimator, *args, **kwargs)\n",
      "/Users/markobriesemann/opt/anaconda3/lib/python3.8/site-packages/sklearn/base.py:1152: DataConversionWarning: A column-vector y was passed when a 1d array was expected. Please change the shape of y to (n_samples,), for example using ravel().\n",
      "  return fit_method(estimator, *args, **kwargs)\n",
      "/Users/markobriesemann/opt/anaconda3/lib/python3.8/site-packages/sklearn/base.py:1152: DataConversionWarning: A column-vector y was passed when a 1d array was expected. Please change the shape of y to (n_samples,), for example using ravel().\n",
      "  return fit_method(estimator, *args, **kwargs)\n",
      "/Users/markobriesemann/opt/anaconda3/lib/python3.8/site-packages/sklearn/base.py:1152: DataConversionWarning: A column-vector y was passed when a 1d array was expected. Please change the shape of y to (n_samples,), for example using ravel().\n",
      "  return fit_method(estimator, *args, **kwargs)\n",
      "/Users/markobriesemann/opt/anaconda3/lib/python3.8/site-packages/sklearn/base.py:1152: DataConversionWarning: A column-vector y was passed when a 1d array was expected. Please change the shape of y to (n_samples,), for example using ravel().\n",
      "  return fit_method(estimator, *args, **kwargs)\n",
      "/Users/markobriesemann/opt/anaconda3/lib/python3.8/site-packages/sklearn/base.py:1152: DataConversionWarning: A column-vector y was passed when a 1d array was expected. Please change the shape of y to (n_samples,), for example using ravel().\n",
      "  return fit_method(estimator, *args, **kwargs)\n",
      "/Users/markobriesemann/opt/anaconda3/lib/python3.8/site-packages/sklearn/base.py:1152: DataConversionWarning: A column-vector y was passed when a 1d array was expected. Please change the shape of y to (n_samples,), for example using ravel().\n",
      "  return fit_method(estimator, *args, **kwargs)\n",
      "/Users/markobriesemann/opt/anaconda3/lib/python3.8/site-packages/sklearn/base.py:1152: DataConversionWarning: A column-vector y was passed when a 1d array was expected. Please change the shape of y to (n_samples,), for example using ravel().\n",
      "  return fit_method(estimator, *args, **kwargs)\n"
     ]
    },
    {
     "name": "stderr",
     "output_type": "stream",
     "text": [
      "/Users/markobriesemann/opt/anaconda3/lib/python3.8/site-packages/sklearn/base.py:1152: DataConversionWarning: A column-vector y was passed when a 1d array was expected. Please change the shape of y to (n_samples,), for example using ravel().\n",
      "  return fit_method(estimator, *args, **kwargs)\n",
      "/Users/markobriesemann/opt/anaconda3/lib/python3.8/site-packages/sklearn/base.py:1152: DataConversionWarning: A column-vector y was passed when a 1d array was expected. Please change the shape of y to (n_samples,), for example using ravel().\n",
      "  return fit_method(estimator, *args, **kwargs)\n",
      "/Users/markobriesemann/opt/anaconda3/lib/python3.8/site-packages/sklearn/base.py:1152: DataConversionWarning: A column-vector y was passed when a 1d array was expected. Please change the shape of y to (n_samples,), for example using ravel().\n",
      "  return fit_method(estimator, *args, **kwargs)\n",
      "/Users/markobriesemann/opt/anaconda3/lib/python3.8/site-packages/sklearn/base.py:1152: DataConversionWarning: A column-vector y was passed when a 1d array was expected. Please change the shape of y to (n_samples,), for example using ravel().\n",
      "  return fit_method(estimator, *args, **kwargs)\n",
      "/Users/markobriesemann/opt/anaconda3/lib/python3.8/site-packages/sklearn/base.py:1152: DataConversionWarning: A column-vector y was passed when a 1d array was expected. Please change the shape of y to (n_samples,), for example using ravel().\n",
      "  return fit_method(estimator, *args, **kwargs)\n",
      "/Users/markobriesemann/opt/anaconda3/lib/python3.8/site-packages/sklearn/base.py:1152: DataConversionWarning: A column-vector y was passed when a 1d array was expected. Please change the shape of y to (n_samples,), for example using ravel().\n",
      "  return fit_method(estimator, *args, **kwargs)\n",
      "/Users/markobriesemann/opt/anaconda3/lib/python3.8/site-packages/sklearn/base.py:1152: DataConversionWarning: A column-vector y was passed when a 1d array was expected. Please change the shape of y to (n_samples,), for example using ravel().\n",
      "  return fit_method(estimator, *args, **kwargs)\n",
      "/Users/markobriesemann/opt/anaconda3/lib/python3.8/site-packages/sklearn/base.py:1152: DataConversionWarning: A column-vector y was passed when a 1d array was expected. Please change the shape of y to (n_samples,), for example using ravel().\n",
      "  return fit_method(estimator, *args, **kwargs)\n",
      "/Users/markobriesemann/opt/anaconda3/lib/python3.8/site-packages/sklearn/base.py:1152: DataConversionWarning: A column-vector y was passed when a 1d array was expected. Please change the shape of y to (n_samples,), for example using ravel().\n",
      "  return fit_method(estimator, *args, **kwargs)\n",
      "/Users/markobriesemann/opt/anaconda3/lib/python3.8/site-packages/sklearn/base.py:1152: DataConversionWarning: A column-vector y was passed when a 1d array was expected. Please change the shape of y to (n_samples,), for example using ravel().\n",
      "  return fit_method(estimator, *args, **kwargs)\n",
      "/Users/markobriesemann/opt/anaconda3/lib/python3.8/site-packages/sklearn/base.py:1152: DataConversionWarning: A column-vector y was passed when a 1d array was expected. Please change the shape of y to (n_samples,), for example using ravel().\n",
      "  return fit_method(estimator, *args, **kwargs)\n",
      "/Users/markobriesemann/opt/anaconda3/lib/python3.8/site-packages/sklearn/base.py:1152: DataConversionWarning: A column-vector y was passed when a 1d array was expected. Please change the shape of y to (n_samples,), for example using ravel().\n",
      "  return fit_method(estimator, *args, **kwargs)\n",
      "/Users/markobriesemann/opt/anaconda3/lib/python3.8/site-packages/sklearn/base.py:1152: DataConversionWarning: A column-vector y was passed when a 1d array was expected. Please change the shape of y to (n_samples,), for example using ravel().\n",
      "  return fit_method(estimator, *args, **kwargs)\n",
      "/Users/markobriesemann/opt/anaconda3/lib/python3.8/site-packages/sklearn/base.py:1152: DataConversionWarning: A column-vector y was passed when a 1d array was expected. Please change the shape of y to (n_samples,), for example using ravel().\n",
      "  return fit_method(estimator, *args, **kwargs)\n",
      "/Users/markobriesemann/opt/anaconda3/lib/python3.8/site-packages/sklearn/base.py:1152: DataConversionWarning: A column-vector y was passed when a 1d array was expected. Please change the shape of y to (n_samples,), for example using ravel().\n",
      "  return fit_method(estimator, *args, **kwargs)\n"
     ]
    }
   ],
   "source": [
    "run_name = \"RFC\"\n",
    "RFC_model, best_RFC_params, time_RFC = RFC_model(X_train, Y_train)\n",
    "RFC_metrics, best_metrics_RFC        = generate_model_report(RFC_model, run_name, X_test, Y_test, time_RFC)\n",
    "run_MLflow(experiment_name, run_name, RFC_metrics, \n",
    "           best_RFC_params, RFC_model, X_train)"
   ]
  },
  {
   "cell_type": "markdown",
   "id": "e44e3f40",
   "metadata": {},
   "source": [
    "**6/6 RFC on Smote data set**"
   ]
  },
  {
   "cell_type": "code",
   "execution_count": 132,
   "id": "faa5839e",
   "metadata": {},
   "outputs": [
    {
     "name": "stdout",
     "output_type": "stream",
     "text": [
      "START time Thu Feb 29 10:41:45 2024\n"
     ]
    },
    {
     "name": "stderr",
     "output_type": "stream",
     "text": [
      "/Users/markobriesemann/opt/anaconda3/lib/python3.8/site-packages/joblib/externals/loky/process_executor.py:700: UserWarning: A worker stopped while some jobs were given to the executor. This can be caused by a too short worker timeout or by a memory leak.\n",
      "  warnings.warn(\n"
     ]
    },
    {
     "name": "stdout",
     "output_type": "stream",
     "text": [
      "Best Hyperparameters: {'max_depth': None, 'min_samples_leaf': 1, 'min_samples_split': 2, 'n_estimators': 200}\n",
      "START time Thu Feb 29 10:41:45 2024\n",
      "END time Thu Feb 29 11:06:55 2024  duration 25.16940438747406 min\n",
      "\n",
      "---------------------------------\n",
      "start generate_model_report\n"
     ]
    },
    {
     "data": {
      "image/png": "[encoded data removed]",
      "text/plain": [
       "<Figure size 640x480 with 1 Axes>"
      ]
     },
     "metadata": {},
     "output_type": "display_data"
    },
    {
     "name": "stdout",
     "output_type": "stream",
     "text": [
      "Logistic: f1=0.252 auc=0.211\n"
     ]
    },
    {
     "data": {
      "image/png": "[encoded data removed]",
      "text/plain": [
       "<Figure size 640x480 with 1 Axes>"
      ]
     },
     "metadata": {},
     "output_type": "display_data"
    },
    {
     "name": "stdout",
     "output_type": "stream",
     "text": [
      "+------------------+---------------------+---------------------+\n",
      "| Confusion Matrix | Positive prediction | Negative prediction |\n",
      "+------------------+---------------------+---------------------+\n",
      "|  Positive class  |  True positive (TP) | False negative (FN) |\n",
      "|  Negative class  | False positive (FP) |  True negative (TN) |\n",
      "+------------------+---------------------+---------------------+\n",
      "+------------------+---------------------+---------------------+\n",
      "| Confusion Matrix | Positive prediction | Negative prediction |\n",
      "+------------------+---------------------+---------------------+\n",
      "|  Positive class  |         1192        |         3692        |\n",
      "|  Negative class  |         3392        |        53227        |\n",
      "+------------------+---------------------+---------------------+\n",
      "ROC AUC:  0.5920765131542431\n",
      "Accuracy =  0.8848186267336553\n",
      "Precision =  0.2600349040139616\n",
      "Recall =  0.24406224406224405\n",
      "F1 Score =  0.251795521757499\n",
      "Fbeta Score =  (0.59, 0.88, 0.88)\n",
      "       model     tn    fp    fn    tp  FP+10*FN  accuracy   ROC_AUC  \\\n",
      "0  RFC_smote  53227  3392  3692  1192     40312  0.884819  0.592077   \n",
      "\n",
      "   precision    recall  F1_Score  Fbeta_macro  Fbeta_micro  Fbeta_weighted  \n",
      "0   0.260035  0.244062  0.251796         0.59         0.88            0.88  \n",
      "---------------------------------\n",
      "start find_optimal_business_score\n",
      "prediction proba 61503\n",
      "Y_true 61503\n",
      "Series([], Name: best, dtype: object)\n",
      "0    1\n",
      "Name: best, dtype: object\n",
      "1    1\n",
      "Name: best, dtype: object\n",
      "2    1\n",
      "Name: best, dtype: object\n",
      "3    1\n",
      "Name: best, dtype: object\n",
      "best b score 35067 4    0.4\n",
      "Name: threshold, dtype: float64\n",
      "   threshold     tn     fp    fn    tp FP+10*FN  accuracy   ROC_AUC  \\\n",
      "0        0.0      0  56619     0  4884    56619  0.079411  0.500000   \n",
      "1        0.1   1465  55154    16  4868    55314  0.102971  0.511299   \n",
      "2        0.2  15223  41396   353  4531    44926  0.321188  0.598295   \n",
      "3        0.3  33414  23205  1210  3674    35305  0.603027  0.671204   \n",
      "4        0.4  46212  10407  2466  2418    35067  0.790693  0.655639   \n",
      "5        0.5  53023   3596  3633  1251    39926  0.882461  0.596315   \n",
      "\n",
      "   precision    recall  F1_Score  Fbeta_macro  Fbeta_micro  Fbeta_weighted  \\\n",
      "0   0.079411  1.000000  0.147137     0.150668     0.079411        0.023929   \n",
      "1   0.081104  0.996724  0.150002     0.169037     0.102971        0.053876   \n",
      "2   0.098657  0.927723  0.178347     0.330265     0.321188        0.316968   \n",
      "3   0.136687  0.752252  0.231338     0.517824     0.603027        0.620486   \n",
      "4   0.188538  0.495086  0.273081     0.606673     0.790693        0.802731   \n",
      "5   0.258098  0.256143  0.257116     0.596448     0.882461        0.882379   \n",
      "\n",
      "  best  \n",
      "0    0  \n",
      "1    0  \n",
      "2    0  \n",
      "3    0  \n",
      "4    1  \n",
      "5    0  \n",
      "Artifact PATH RFC_smote_artifactPATH\n",
      "{'TN': 46212, 'FP': 10407, 'FN': 2466, 'TP': 2418, 'FP_10_FN': 35067, 'Accuracy': 0.7906931369201502, 'F1': 0.2730814839911909, 'Precision': 0.18853801169590642, 'Recall': 0.4950859950859951, 'ROC_AUC': 0.6556392196592483, 'threshold': 0.4, 'time_in_s': 1510.1642632484436}\n",
      "{'max_depth': None, 'min_samples_leaf': 1, 'min_samples_split': 2, 'n_estimators': 200}\n"
     ]
    },
    {
     "name": "stderr",
     "output_type": "stream",
     "text": [
      "/Users/markobriesemann/opt/anaconda3/lib/python3.8/site-packages/mlflow/models/signature.py:212: UserWarning: Hint: Inferred schema contains integer column(s). Integer columns in Python cannot represent missing values. If your input data contains missing values at inference time, it will be encoded as floats and will cause a schema enforcement error. The best way to avoid this problem is to infer the model schema based on a realistic data sample (training dataset) that includes missing values. Alternatively, you can declare integer columns as doubles (float64) whenever these columns may have missing values. See `Handling Integers With Missing Values <https://www.mlflow.org/docs/latest/models.html#handling-integers-with-missing-values>`_ for more details.\n",
      "  inputs = _infer_schema(model_input) if model_input is not None else None\n"
     ]
    },
    {
     "name": "stdout",
     "output_type": "stream",
     "text": [
      "Active run_id: b847bbc297a34b9ebd42cc3d7c4254f5\n"
     ]
    }
   ],
   "source": [
    "run_name = \"RFC_smote\"\n",
    "RFC_model_smote, best_RFC_params_smote, time_RFC_smote = RFC_model(x_train_smote, y_train_smote)\n",
    "RFC_smote_metrics, best_metrics_RFC_smote              = generate_model_report(RFC_model_smote, run_name, X_test, Y_test, time_RFC_smote)\n",
    "run_MLflow(experiment_name, run_name, RFC_smote_metrics, \n",
    "           best_RFC_params_smote, RFC_model_smote, x_train_smote)"
   ]
  },
  {
   "cell_type": "markdown",
   "id": "68fcc426",
   "metadata": {},
   "source": [
    "<a name='4'></a>\n",
    "# 5 Evalutation and selection of best model"
   ]
  },
  {
   "cell_type": "markdown",
   "id": "3e330db6",
   "metadata": {},
   "source": [
    "<a name='4'></a>\n",
    "# 6 Feature Importance"
   ]
  },
  {
   "cell_type": "code",
   "execution_count": 11,
   "id": "829aa82b",
   "metadata": {},
   "outputs": [
    {
     "data": {
      "text/plain": [
       "['NAME_CONTRACT_TYPE',\n",
       " 'FLAG_OWN_CAR',\n",
       " 'FLAG_OWN_REALTY',\n",
       " 'CNT_CHILDREN',\n",
       " 'AMT_INCOME_TOTAL',\n",
       " 'AMT_CREDIT',\n",
       " 'AMT_ANNUITY',\n",
       " 'AMT_GOODS_PRICE',\n",
       " 'REGION_POPULATION_RELATIVE',\n",
       " 'DAYS_BIRTH',\n",
       " 'DAYS_EMPLOYED',\n",
       " 'DAYS_REGISTRATION',\n",
       " 'DAYS_ID_PUBLISH',\n",
       " 'OWN_CAR_AGE',\n",
       " 'FLAG_MOBIL',\n",
       " 'FLAG_EMP_PHONE',\n",
       " 'FLAG_WORK_PHONE',\n",
       " 'FLAG_CONT_MOBILE',\n",
       " 'FLAG_PHONE',\n",
       " 'FLAG_EMAIL',\n",
       " 'CNT_FAM_MEMBERS',\n",
       " 'REGION_RATING_CLIENT',\n",
       " 'REGION_RATING_CLIENT_W_CITY',\n",
       " 'HOUR_APPR_PROCESS_START',\n",
       " 'REG_REGION_NOT_LIVE_REGION',\n",
       " 'REG_REGION_NOT_WORK_REGION',\n",
       " 'LIVE_REGION_NOT_WORK_REGION',\n",
       " 'REG_CITY_NOT_LIVE_CITY',\n",
       " 'REG_CITY_NOT_WORK_CITY',\n",
       " 'LIVE_CITY_NOT_WORK_CITY',\n",
       " 'EXT_SOURCE_1',\n",
       " 'EXT_SOURCE_2',\n",
       " 'EXT_SOURCE_3',\n",
       " 'APARTMENTS_AVG',\n",
       " 'BASEMENTAREA_AVG',\n",
       " 'YEARS_BEGINEXPLUATATION_AVG',\n",
       " 'YEARS_BUILD_AVG',\n",
       " 'COMMONAREA_AVG',\n",
       " 'ELEVATORS_AVG',\n",
       " 'ENTRANCES_AVG',\n",
       " 'FLOORSMAX_AVG',\n",
       " 'FLOORSMIN_AVG',\n",
       " 'LANDAREA_AVG',\n",
       " 'LIVINGAPARTMENTS_AVG',\n",
       " 'LIVINGAREA_AVG',\n",
       " 'NONLIVINGAPARTMENTS_AVG',\n",
       " 'NONLIVINGAREA_AVG',\n",
       " 'APARTMENTS_MODE',\n",
       " 'BASEMENTAREA_MODE',\n",
       " 'YEARS_BEGINEXPLUATATION_MODE',\n",
       " 'YEARS_BUILD_MODE',\n",
       " 'COMMONAREA_MODE',\n",
       " 'ELEVATORS_MODE',\n",
       " 'ENTRANCES_MODE',\n",
       " 'FLOORSMAX_MODE',\n",
       " 'FLOORSMIN_MODE',\n",
       " 'LANDAREA_MODE',\n",
       " 'LIVINGAPARTMENTS_MODE',\n",
       " 'LIVINGAREA_MODE',\n",
       " 'NONLIVINGAPARTMENTS_MODE',\n",
       " 'NONLIVINGAREA_MODE',\n",
       " 'APARTMENTS_MEDI',\n",
       " 'BASEMENTAREA_MEDI',\n",
       " 'YEARS_BEGINEXPLUATATION_MEDI',\n",
       " 'YEARS_BUILD_MEDI',\n",
       " 'COMMONAREA_MEDI',\n",
       " 'ELEVATORS_MEDI',\n",
       " 'ENTRANCES_MEDI',\n",
       " 'FLOORSMAX_MEDI',\n",
       " 'FLOORSMIN_MEDI',\n",
       " 'LANDAREA_MEDI',\n",
       " 'LIVINGAPARTMENTS_MEDI',\n",
       " 'LIVINGAREA_MEDI',\n",
       " 'NONLIVINGAPARTMENTS_MEDI',\n",
       " 'NONLIVINGAREA_MEDI',\n",
       " 'TOTALAREA_MODE',\n",
       " 'OBS_30_CNT_SOCIAL_CIRCLE',\n",
       " 'DEF_30_CNT_SOCIAL_CIRCLE',\n",
       " 'OBS_60_CNT_SOCIAL_CIRCLE',\n",
       " 'DEF_60_CNT_SOCIAL_CIRCLE',\n",
       " 'DAYS_LAST_PHONE_CHANGE',\n",
       " 'FLAG_DOCUMENT_2',\n",
       " 'FLAG_DOCUMENT_3',\n",
       " 'FLAG_DOCUMENT_4',\n",
       " 'FLAG_DOCUMENT_5',\n",
       " 'FLAG_DOCUMENT_6',\n",
       " 'FLAG_DOCUMENT_7',\n",
       " 'FLAG_DOCUMENT_8',\n",
       " 'FLAG_DOCUMENT_9',\n",
       " 'FLAG_DOCUMENT_10',\n",
       " 'FLAG_DOCUMENT_11',\n",
       " 'FLAG_DOCUMENT_12',\n",
       " 'FLAG_DOCUMENT_13',\n",
       " 'FLAG_DOCUMENT_14',\n",
       " 'FLAG_DOCUMENT_15',\n",
       " 'FLAG_DOCUMENT_16',\n",
       " 'FLAG_DOCUMENT_17',\n",
       " 'FLAG_DOCUMENT_18',\n",
       " 'FLAG_DOCUMENT_19',\n",
       " 'FLAG_DOCUMENT_20',\n",
       " 'FLAG_DOCUMENT_21',\n",
       " 'AMT_REQ_CREDIT_BUREAU_HOUR',\n",
       " 'AMT_REQ_CREDIT_BUREAU_DAY',\n",
       " 'AMT_REQ_CREDIT_BUREAU_WEEK',\n",
       " 'AMT_REQ_CREDIT_BUREAU_MON',\n",
       " 'AMT_REQ_CREDIT_BUREAU_QRT',\n",
       " 'AMT_REQ_CREDIT_BUREAU_YEAR',\n",
       " 'CODE_GENDER_F',\n",
       " 'CODE_GENDER_M',\n",
       " 'NAME_TYPE_SUITE_Children',\n",
       " 'NAME_TYPE_SUITE_Family',\n",
       " 'NAME_TYPE_SUITE_Group of people',\n",
       " 'NAME_TYPE_SUITE_Other_A',\n",
       " 'NAME_TYPE_SUITE_Other_B',\n",
       " 'NAME_TYPE_SUITE_Spouse, partner',\n",
       " 'NAME_TYPE_SUITE_Unaccompanied',\n",
       " 'NAME_INCOME_TYPE_Businessman',\n",
       " 'NAME_INCOME_TYPE_Commercial associate',\n",
       " 'NAME_INCOME_TYPE_Pensioner',\n",
       " 'NAME_INCOME_TYPE_State servant',\n",
       " 'NAME_INCOME_TYPE_Student',\n",
       " 'NAME_INCOME_TYPE_Unemployed',\n",
       " 'NAME_INCOME_TYPE_Working',\n",
       " 'NAME_EDUCATION_TYPE_Academic degree',\n",
       " 'NAME_EDUCATION_TYPE_Higher education',\n",
       " 'NAME_EDUCATION_TYPE_Incomplete higher',\n",
       " 'NAME_EDUCATION_TYPE_Lower secondary',\n",
       " 'NAME_EDUCATION_TYPE_Secondary / secondary special',\n",
       " 'NAME_FAMILY_STATUS_Civil marriage',\n",
       " 'NAME_FAMILY_STATUS_Married',\n",
       " 'NAME_FAMILY_STATUS_Separated',\n",
       " 'NAME_FAMILY_STATUS_Single / not married',\n",
       " 'NAME_FAMILY_STATUS_Widow',\n",
       " 'NAME_HOUSING_TYPE_Co-op apartment',\n",
       " 'NAME_HOUSING_TYPE_House / apartment',\n",
       " 'NAME_HOUSING_TYPE_Municipal apartment',\n",
       " 'NAME_HOUSING_TYPE_Office apartment',\n",
       " 'NAME_HOUSING_TYPE_Rented apartment',\n",
       " 'NAME_HOUSING_TYPE_With parents',\n",
       " 'OCCUPATION_TYPE_Accountants',\n",
       " 'OCCUPATION_TYPE_Cleaning staff',\n",
       " 'OCCUPATION_TYPE_Cooking staff',\n",
       " 'OCCUPATION_TYPE_Core staff',\n",
       " 'OCCUPATION_TYPE_Drivers',\n",
       " 'OCCUPATION_TYPE_HR staff',\n",
       " 'OCCUPATION_TYPE_High skill tech staff',\n",
       " 'OCCUPATION_TYPE_IT staff',\n",
       " 'OCCUPATION_TYPE_Laborers',\n",
       " 'OCCUPATION_TYPE_Low-skill Laborers',\n",
       " 'OCCUPATION_TYPE_Managers',\n",
       " 'OCCUPATION_TYPE_Medicine staff',\n",
       " 'OCCUPATION_TYPE_Private service staff',\n",
       " 'OCCUPATION_TYPE_Realty agents',\n",
       " 'OCCUPATION_TYPE_Sales staff',\n",
       " 'OCCUPATION_TYPE_Secretaries',\n",
       " 'OCCUPATION_TYPE_Security staff',\n",
       " 'OCCUPATION_TYPE_Waiters/barmen staff',\n",
       " 'WEEKDAY_APPR_PROCESS_START_FRIDAY',\n",
       " 'WEEKDAY_APPR_PROCESS_START_MONDAY',\n",
       " 'WEEKDAY_APPR_PROCESS_START_SATURDAY',\n",
       " 'WEEKDAY_APPR_PROCESS_START_SUNDAY',\n",
       " 'WEEKDAY_APPR_PROCESS_START_THURSDAY',\n",
       " 'WEEKDAY_APPR_PROCESS_START_TUESDAY',\n",
       " 'WEEKDAY_APPR_PROCESS_START_WEDNESDAY',\n",
       " 'ORGANIZATION_TYPE_Advertising',\n",
       " 'ORGANIZATION_TYPE_Agriculture',\n",
       " 'ORGANIZATION_TYPE_Bank',\n",
       " 'ORGANIZATION_TYPE_Business Entity Type 1',\n",
       " 'ORGANIZATION_TYPE_Business Entity Type 2',\n",
       " 'ORGANIZATION_TYPE_Business Entity Type 3',\n",
       " 'ORGANIZATION_TYPE_Cleaning',\n",
       " 'ORGANIZATION_TYPE_Construction',\n",
       " 'ORGANIZATION_TYPE_Culture',\n",
       " 'ORGANIZATION_TYPE_Electricity',\n",
       " 'ORGANIZATION_TYPE_Emergency',\n",
       " 'ORGANIZATION_TYPE_Government',\n",
       " 'ORGANIZATION_TYPE_Hotel',\n",
       " 'ORGANIZATION_TYPE_Housing',\n",
       " 'ORGANIZATION_TYPE_Industry: type 1',\n",
       " 'ORGANIZATION_TYPE_Industry: type 10',\n",
       " 'ORGANIZATION_TYPE_Industry: type 11',\n",
       " 'ORGANIZATION_TYPE_Industry: type 12',\n",
       " 'ORGANIZATION_TYPE_Industry: type 13',\n",
       " 'ORGANIZATION_TYPE_Industry: type 2',\n",
       " 'ORGANIZATION_TYPE_Industry: type 3',\n",
       " 'ORGANIZATION_TYPE_Industry: type 4',\n",
       " 'ORGANIZATION_TYPE_Industry: type 5',\n",
       " 'ORGANIZATION_TYPE_Industry: type 6',\n",
       " 'ORGANIZATION_TYPE_Industry: type 7',\n",
       " 'ORGANIZATION_TYPE_Industry: type 8',\n",
       " 'ORGANIZATION_TYPE_Industry: type 9',\n",
       " 'ORGANIZATION_TYPE_Insurance',\n",
       " 'ORGANIZATION_TYPE_Kindergarten',\n",
       " 'ORGANIZATION_TYPE_Legal Services',\n",
       " 'ORGANIZATION_TYPE_Medicine',\n",
       " 'ORGANIZATION_TYPE_Military',\n",
       " 'ORGANIZATION_TYPE_Mobile',\n",
       " 'ORGANIZATION_TYPE_Other',\n",
       " 'ORGANIZATION_TYPE_Police',\n",
       " 'ORGANIZATION_TYPE_Postal',\n",
       " 'ORGANIZATION_TYPE_Realtor',\n",
       " 'ORGANIZATION_TYPE_Religion',\n",
       " 'ORGANIZATION_TYPE_Restaurant',\n",
       " 'ORGANIZATION_TYPE_School',\n",
       " 'ORGANIZATION_TYPE_Security',\n",
       " 'ORGANIZATION_TYPE_Security Ministries',\n",
       " 'ORGANIZATION_TYPE_Self-employed',\n",
       " 'ORGANIZATION_TYPE_Services',\n",
       " 'ORGANIZATION_TYPE_Telecom',\n",
       " 'ORGANIZATION_TYPE_Trade: type 1',\n",
       " 'ORGANIZATION_TYPE_Trade: type 2',\n",
       " 'ORGANIZATION_TYPE_Trade: type 3',\n",
       " 'ORGANIZATION_TYPE_Trade: type 4',\n",
       " 'ORGANIZATION_TYPE_Trade: type 5',\n",
       " 'ORGANIZATION_TYPE_Trade: type 6',\n",
       " 'ORGANIZATION_TYPE_Trade: type 7',\n",
       " 'ORGANIZATION_TYPE_Transport: type 1',\n",
       " 'ORGANIZATION_TYPE_Transport: type 2',\n",
       " 'ORGANIZATION_TYPE_Transport: type 3',\n",
       " 'ORGANIZATION_TYPE_Transport: type 4',\n",
       " 'ORGANIZATION_TYPE_University',\n",
       " 'ORGANIZATION_TYPE_XNA',\n",
       " 'FONDKAPREMONT_MODE_not specified',\n",
       " 'FONDKAPREMONT_MODE_org spec account',\n",
       " 'FONDKAPREMONT_MODE_reg oper account',\n",
       " 'FONDKAPREMONT_MODE_reg oper spec account',\n",
       " 'HOUSETYPE_MODE_block of flats',\n",
       " 'HOUSETYPE_MODE_specific housing',\n",
       " 'HOUSETYPE_MODE_terraced house',\n",
       " 'WALLSMATERIAL_MODE_Block',\n",
       " 'WALLSMATERIAL_MODE_Mixed',\n",
       " 'WALLSMATERIAL_MODE_Monolithic',\n",
       " 'WALLSMATERIAL_MODE_Others',\n",
       " 'WALLSMATERIAL_MODE_Panel',\n",
       " 'WALLSMATERIAL_MODE_Stone, brick',\n",
       " 'WALLSMATERIAL_MODE_Wooden',\n",
       " 'EMERGENCYSTATE_MODE_No',\n",
       " 'EMERGENCYSTATE_MODE_Yes',\n",
       " 'DAYS_EMPLOYED_ANOM']"
      ]
     },
     "execution_count": 11,
     "metadata": {},
     "output_type": "execute_result"
    }
   ],
   "source": [
    "feature_names.iloc[:,0].values.tolist()"
   ]
  },
  {
   "cell_type": "code",
   "execution_count": 12,
   "id": "691e65b2",
   "metadata": {
    "scrolled": true
   },
   "outputs": [
    {
     "name": "stdout",
     "output_type": "stream",
     "text": [
      "Feature: NAME_CONTRACT_TYPE, Importance: 0.0018297758015853526\n",
      "Feature: FLAG_OWN_CAR, Importance: 0.0030586575734834463\n",
      "Feature: FLAG_OWN_REALTY, Importance: 0.0033499665571412934\n",
      "Feature: CNT_CHILDREN, Importance: 0.006634875297286168\n",
      "Feature: AMT_INCOME_TOTAL, Importance: 0.02468931882005001\n",
      "Feature: AMT_CREDIT, Importance: 0.028422053024290152\n",
      "Feature: AMT_ANNUITY, Importance: 0.030261678534354446\n",
      "Feature: AMT_GOODS_PRICE, Importance: 0.0242600434287482\n",
      "Feature: REGION_POPULATION_RELATIVE, Importance: 0.02352804096539262\n",
      "Feature: DAYS_BIRTH, Importance: 0.03603407862980179\n",
      "Feature: DAYS_EMPLOYED, Importance: 0.0309055044687784\n",
      "Feature: DAYS_REGISTRATION, Importance: 0.033540991954743055\n",
      "Feature: DAYS_ID_PUBLISH, Importance: 0.03470452212577097\n",
      "Feature: OWN_CAR_AGE, Importance: 0.012540301988614808\n",
      "Feature: FLAG_MOBIL, Importance: 0.0\n",
      "Feature: FLAG_EMP_PHONE, Importance: 0.000993853837077491\n",
      "Feature: FLAG_WORK_PHONE, Importance: 0.0032851052667167533\n",
      "Feature: FLAG_CONT_MOBILE, Importance: 0.0004115244962924428\n",
      "Feature: FLAG_PHONE, Importance: 0.0032280748804157204\n",
      "Feature: FLAG_EMAIL, Importance: 0.0025602356929263987\n",
      "Feature: CNT_FAM_MEMBERS, Importance: 0.008596649752877637\n",
      "Feature: REGION_RATING_CLIENT, Importance: 0.004618693799644142\n",
      "Feature: REGION_RATING_CLIENT_W_CITY, Importance: 0.004669044097526944\n",
      "Feature: HOUR_APPR_PROCESS_START, Importance: 0.02097817227644248\n",
      "Feature: REG_REGION_NOT_LIVE_REGION, Importance: 0.0013336516401986386\n",
      "Feature: REG_REGION_NOT_WORK_REGION, Importance: 0.0019347818343551028\n",
      "Feature: LIVE_REGION_NOT_WORK_REGION, Importance: 0.0018201744718468972\n",
      "Feature: REG_CITY_NOT_LIVE_CITY, Importance: 0.0035046048818434677\n",
      "Feature: REG_CITY_NOT_WORK_CITY, Importance: 0.003080230134656585\n",
      "Feature: LIVE_CITY_NOT_WORK_CITY, Importance: 0.0029278490258707645\n",
      "Feature: EXT_SOURCE_1, Importance: 0.023092500474037745\n",
      "Feature: EXT_SOURCE_2, Importance: 0.062154613451569814\n",
      "Feature: EXT_SOURCE_3, Importance: 0.04637964374407007\n",
      "Feature: APARTMENTS_AVG, Importance: 0.0070616439834702656\n",
      "Feature: BASEMENTAREA_AVG, Importance: 0.006113193236195089\n",
      "Feature: YEARS_BEGINEXPLUATATION_AVG, Importance: 0.007525590675039812\n",
      "Feature: YEARS_BUILD_AVG, Importance: 0.004700741560588613\n",
      "Feature: COMMONAREA_AVG, Importance: 0.00522095590062549\n",
      "Feature: ELEVATORS_AVG, Importance: 0.001883471104635649\n",
      "Feature: ENTRANCES_AVG, Importance: 0.004540925850864371\n",
      "Feature: FLOORSMAX_AVG, Importance: 0.003436229686719294\n",
      "Feature: FLOORSMIN_AVG, Importance: 0.002540610546778471\n",
      "Feature: LANDAREA_AVG, Importance: 0.00686817444272934\n",
      "Feature: LIVINGAPARTMENTS_AVG, Importance: 0.004474812145145857\n",
      "Feature: LIVINGAREA_AVG, Importance: 0.008679804050285886\n",
      "Feature: NONLIVINGAPARTMENTS_AVG, Importance: 0.002387791508941266\n",
      "Feature: NONLIVINGAREA_AVG, Importance: 0.0051006608967442725\n",
      "Feature: APARTMENTS_MODE, Importance: 0.006975759524634098\n",
      "Feature: BASEMENTAREA_MODE, Importance: 0.006034562943007996\n",
      "Feature: YEARS_BEGINEXPLUATATION_MODE, Importance: 0.00765774088288948\n",
      "Feature: YEARS_BUILD_MODE, Importance: 0.004688651936162619\n",
      "Feature: COMMONAREA_MODE, Importance: 0.00512619618221168\n",
      "Feature: ELEVATORS_MODE, Importance: 0.001530070123922232\n",
      "Feature: ENTRANCES_MODE, Importance: 0.0039597968697321195\n",
      "Feature: FLOORSMAX_MODE, Importance: 0.0029621519536696\n",
      "Feature: FLOORSMIN_MODE, Importance: 0.0023682774491351477\n",
      "Feature: LANDAREA_MODE, Importance: 0.006715073620992456\n",
      "Feature: LIVINGAPARTMENTS_MODE, Importance: 0.004419493656640263\n",
      "Feature: LIVINGAREA_MODE, Importance: 0.00868780696386992\n",
      "Feature: NONLIVINGAPARTMENTS_MODE, Importance: 0.0021128294595444035\n",
      "Feature: NONLIVINGAREA_MODE, Importance: 0.004796678071180641\n",
      "Feature: APARTMENTS_MEDI, Importance: 0.00709872030371117\n",
      "Feature: BASEMENTAREA_MEDI, Importance: 0.00610857653690997\n",
      "Feature: YEARS_BEGINEXPLUATATION_MEDI, Importance: 0.007586603911552692\n",
      "Feature: YEARS_BUILD_MEDI, Importance: 0.004586142880616055\n",
      "Feature: COMMONAREA_MEDI, Importance: 0.005134324436288148\n",
      "Feature: ELEVATORS_MEDI, Importance: 0.0016310881124834628\n",
      "Feature: ENTRANCES_MEDI, Importance: 0.004178085164956561\n",
      "Feature: FLOORSMAX_MEDI, Importance: 0.003105317485921116\n",
      "Feature: FLOORSMIN_MEDI, Importance: 0.0023760655483096157\n",
      "Feature: LANDAREA_MEDI, Importance: 0.006617300067326105\n",
      "Feature: LIVINGAPARTMENTS_MEDI, Importance: 0.004492191232546568\n",
      "Feature: LIVINGAREA_MEDI, Importance: 0.00860791127197812\n",
      "Feature: NONLIVINGAPARTMENTS_MEDI, Importance: 0.002317608457513947\n",
      "Feature: NONLIVINGAREA_MEDI, Importance: 0.004946722514574879\n",
      "Feature: TOTALAREA_MODE, Importance: 0.009504034467723223\n",
      "Feature: OBS_30_CNT_SOCIAL_CIRCLE, Importance: 0.011887450526051268\n",
      "Feature: DEF_30_CNT_SOCIAL_CIRCLE, Importance: 0.006249790058613238\n",
      "Feature: OBS_60_CNT_SOCIAL_CIRCLE, Importance: 0.0117312938480394\n",
      "Feature: DEF_60_CNT_SOCIAL_CIRCLE, Importance: 0.005360371213326954\n",
      "Feature: DAYS_LAST_PHONE_CHANGE, Importance: 0.029212028196171143\n",
      "Feature: FLAG_DOCUMENT_2, Importance: 0.0001199939925654837\n",
      "Feature: FLAG_DOCUMENT_3, Importance: 0.0032250464953577527\n",
      "Feature: FLAG_DOCUMENT_4, Importance: 1.411013967216859e-07\n",
      "Feature: FLAG_DOCUMENT_5, Importance: 0.0014498711272245357\n",
      "Feature: FLAG_DOCUMENT_6, Importance: 0.00127269496125362\n",
      "Feature: FLAG_DOCUMENT_7, Importance: 6.231036809892312e-05\n",
      "Feature: FLAG_DOCUMENT_8, Importance: 0.0017475828997332978\n",
      "Feature: FLAG_DOCUMENT_9, Importance: 0.0005904192342067398\n",
      "Feature: FLAG_DOCUMENT_10, Importance: 1.659256289242857e-09\n",
      "Feature: FLAG_DOCUMENT_11, Importance: 0.0003362324734229705\n",
      "Feature: FLAG_DOCUMENT_12, Importance: 0.0\n",
      "Feature: FLAG_DOCUMENT_13, Importance: 0.0002726520652101352\n",
      "Feature: FLAG_DOCUMENT_14, Importance: 0.00021447927961470574\n",
      "Feature: FLAG_DOCUMENT_15, Importance: 0.00010974396327100514\n",
      "Feature: FLAG_DOCUMENT_16, Importance: 0.0007089236465861842\n",
      "Feature: FLAG_DOCUMENT_17, Importance: 5.428029278401094e-05\n",
      "Feature: FLAG_DOCUMENT_18, Importance: 0.0007552907332313892\n",
      "Feature: FLAG_DOCUMENT_19, Importance: 0.00016548991353909837\n",
      "Feature: FLAG_DOCUMENT_20, Importance: 0.0001615471647697053\n",
      "Feature: FLAG_DOCUMENT_21, Importance: 0.00013933132243912862\n",
      "Feature: AMT_REQ_CREDIT_BUREAU_HOUR, Importance: 0.0010443201235022486\n",
      "Feature: AMT_REQ_CREDIT_BUREAU_DAY, Importance: 0.0012550468956977028\n",
      "Feature: AMT_REQ_CREDIT_BUREAU_WEEK, Importance: 0.002552682737130114\n",
      "Feature: AMT_REQ_CREDIT_BUREAU_MON, Importance: 0.00538932213682178\n",
      "Feature: AMT_REQ_CREDIT_BUREAU_QRT, Importance: 0.006203998528914343\n",
      "Feature: AMT_REQ_CREDIT_BUREAU_YEAR, Importance: 0.014383325578202972\n",
      "Feature: CODE_GENDER_F, Importance: 0.003166074849897594\n",
      "Feature: CODE_GENDER_M, Importance: 0.003254097109355519\n",
      "Feature: NAME_TYPE_SUITE_Children, Importance: 0.0015178907006982592\n",
      "Feature: NAME_TYPE_SUITE_Family, Importance: 0.0030617300756833696\n",
      "Feature: NAME_TYPE_SUITE_Group of people, Importance: 0.0003079410146021077\n",
      "Feature: NAME_TYPE_SUITE_Other_A, Importance: 0.0007519363416345807\n",
      "Feature: NAME_TYPE_SUITE_Other_B, Importance: 0.0012323183802405394\n",
      "Feature: NAME_TYPE_SUITE_Spouse, partner, Importance: 0.0021770893160040126\n",
      "Feature: NAME_TYPE_SUITE_Unaccompanied, Importance: 0.002980708132753836\n",
      "Feature: NAME_INCOME_TYPE_Businessman, Importance: 0.0\n",
      "Feature: NAME_INCOME_TYPE_Commercial associate, Importance: 0.002386625570048206\n",
      "Feature: NAME_INCOME_TYPE_Pensioner, Importance: 0.0009483470591771703\n",
      "Feature: NAME_INCOME_TYPE_State servant, Importance: 0.0015149317438409096\n",
      "Feature: NAME_INCOME_TYPE_Student, Importance: 2.574138236559901e-07\n",
      "Feature: NAME_INCOME_TYPE_Unemployed, Importance: 0.00020639690608266134\n",
      "Feature: NAME_INCOME_TYPE_Working, Importance: 0.0031058574605173023\n",
      "Feature: NAME_EDUCATION_TYPE_Academic degree, Importance: 6.36060501008606e-05\n",
      "Feature: NAME_EDUCATION_TYPE_Higher education, Importance: 0.0031373583701200325\n",
      "Feature: NAME_EDUCATION_TYPE_Incomplete higher, Importance: 0.0015589034919741376\n",
      "Feature: NAME_EDUCATION_TYPE_Lower secondary, Importance: 0.0019101228539387806\n",
      "Feature: NAME_EDUCATION_TYPE_Secondary / secondary special, Importance: 0.0032109377376499685\n",
      "Feature: NAME_FAMILY_STATUS_Civil marriage, Importance: 0.0032625136414614667\n",
      "Feature: NAME_FAMILY_STATUS_Married, Importance: 0.003268870338549502\n",
      "Feature: NAME_FAMILY_STATUS_Separated, Importance: 0.0027722174798956293\n",
      "Feature: NAME_FAMILY_STATUS_Single / not married, Importance: 0.003147758906705569\n",
      "Feature: NAME_FAMILY_STATUS_Widow, Importance: 0.001661349454285623\n",
      "Feature: NAME_HOUSING_TYPE_Co-op apartment, Importance: 0.0008168159334950454\n",
      "Feature: NAME_HOUSING_TYPE_House / apartment, Importance: 0.0029663752174074695\n",
      "Feature: NAME_HOUSING_TYPE_Municipal apartment, Importance: 0.0021583274738142372\n",
      "Feature: NAME_HOUSING_TYPE_Office apartment, Importance: 0.0010089297214608297\n",
      "Feature: NAME_HOUSING_TYPE_Rented apartment, Importance: 0.0020582669792382387\n",
      "Feature: NAME_HOUSING_TYPE_With parents, Importance: 0.0026289148776345098\n",
      "Feature: OCCUPATION_TYPE_Accountants, Importance: 0.0012544676053045615\n",
      "Feature: OCCUPATION_TYPE_Cleaning staff, Importance: 0.0016814495644497664\n",
      "Feature: OCCUPATION_TYPE_Cooking staff, Importance: 0.001990691031229791\n",
      "Feature: OCCUPATION_TYPE_Core staff, Importance: 0.0020590475251962073\n",
      "Feature: OCCUPATION_TYPE_Drivers, Importance: 0.0026486170959087404\n",
      "Feature: OCCUPATION_TYPE_HR staff, Importance: 0.0002956559850578026\n",
      "Feature: OCCUPATION_TYPE_High skill tech staff, Importance: 0.001636981627779529\n",
      "Feature: OCCUPATION_TYPE_IT staff, Importance: 0.00038772448952124054\n",
      "Feature: OCCUPATION_TYPE_Laborers, Importance: 0.003439222266157283\n",
      "Feature: OCCUPATION_TYPE_Low-skill Laborers, Importance: 0.00195208598408474\n",
      "Feature: OCCUPATION_TYPE_Managers, Importance: 0.0020425705476557047\n",
      "Feature: OCCUPATION_TYPE_Medicine staff, Importance: 0.0014376412813097124\n",
      "Feature: OCCUPATION_TYPE_Private service staff, Importance: 0.0009006308272037447\n",
      "Feature: OCCUPATION_TYPE_Realty agents, Importance: 0.000512975791930815\n",
      "Feature: OCCUPATION_TYPE_Sales staff, Importance: 0.002938937013621608\n",
      "Feature: OCCUPATION_TYPE_Secretaries, Importance: 0.0006749416513812176\n",
      "Feature: OCCUPATION_TYPE_Security staff, Importance: 0.002170433548681544\n",
      "Feature: OCCUPATION_TYPE_Waiters/barmen staff, Importance: 0.0010405955070496378\n",
      "Feature: WEEKDAY_APPR_PROCESS_START_FRIDAY, Importance: 0.003381939460338142\n",
      "Feature: WEEKDAY_APPR_PROCESS_START_MONDAY, Importance: 0.0031847989188993286\n",
      "Feature: WEEKDAY_APPR_PROCESS_START_SATURDAY, Importance: 0.0031072942497379734\n",
      "Feature: WEEKDAY_APPR_PROCESS_START_SUNDAY, Importance: 0.0026406130929989926\n",
      "Feature: WEEKDAY_APPR_PROCESS_START_THURSDAY, Importance: 0.003313422072015639\n",
      "Feature: WEEKDAY_APPR_PROCESS_START_TUESDAY, Importance: 0.0033274153454622025\n",
      "Feature: WEEKDAY_APPR_PROCESS_START_WEDNESDAY, Importance: 0.003436941503462223\n",
      "Feature: ORGANIZATION_TYPE_Advertising, Importance: 0.0004284249436788034\n",
      "Feature: ORGANIZATION_TYPE_Agriculture, Importance: 0.0014906997081064724\n",
      "Feature: ORGANIZATION_TYPE_Bank, Importance: 0.0006703086698975686\n",
      "Feature: ORGANIZATION_TYPE_Business Entity Type 1, Importance: 0.001761062182580843\n",
      "Feature: ORGANIZATION_TYPE_Business Entity Type 2, Importance: 0.0022481508239263997\n",
      "Feature: ORGANIZATION_TYPE_Business Entity Type 3, Importance: 0.003436343950809981\n",
      "Feature: ORGANIZATION_TYPE_Cleaning, Importance: 0.0003792555860605011\n",
      "Feature: ORGANIZATION_TYPE_Construction, Importance: 0.0025808038597311457\n",
      "Feature: ORGANIZATION_TYPE_Culture, Importance: 0.0003517188012357892\n",
      "Feature: ORGANIZATION_TYPE_Electricity, Importance: 0.0006601848726246178\n",
      "Feature: ORGANIZATION_TYPE_Emergency, Importance: 0.0003858512613426931\n",
      "Feature: ORGANIZATION_TYPE_Government, Importance: 0.0020131009384699587\n",
      "Feature: ORGANIZATION_TYPE_Hotel, Importance: 0.0006387828279933965\n",
      "Feature: ORGANIZATION_TYPE_Housing, Importance: 0.0014546543661844785\n",
      "Feature: ORGANIZATION_TYPE_Industry: type 1, Importance: 0.001012874970059935\n",
      "Feature: ORGANIZATION_TYPE_Industry: type 10, Importance: 0.00010426120470527874\n",
      "Feature: ORGANIZATION_TYPE_Industry: type 11, Importance: 0.0014211158235072927\n",
      "Feature: ORGANIZATION_TYPE_Industry: type 12, Importance: 0.0002301332752590578\n",
      "Feature: ORGANIZATION_TYPE_Industry: type 13, Importance: 0.00013372169296113412\n",
      "Feature: ORGANIZATION_TYPE_Industry: type 2, Importance: 0.00045053421620142703\n",
      "Feature: ORGANIZATION_TYPE_Industry: type 3, Importance: 0.0017839149457588707\n",
      "Feature: ORGANIZATION_TYPE_Industry: type 4, Importance: 0.0009444987225647248\n",
      "Feature: ORGANIZATION_TYPE_Industry: type 5, Importance: 0.00043361595915294575\n",
      "Feature: ORGANIZATION_TYPE_Industry: type 6, Importance: 0.0001247528031301973\n",
      "Feature: ORGANIZATION_TYPE_Industry: type 7, Importance: 0.0009111160183466421\n",
      "Feature: ORGANIZATION_TYPE_Industry: type 8, Importance: 3.775177063806921e-05\n",
      "Feature: ORGANIZATION_TYPE_Industry: type 9, Importance: 0.0011855571036961064\n",
      "Feature: ORGANIZATION_TYPE_Insurance, Importance: 0.0004260012400964319\n",
      "Feature: ORGANIZATION_TYPE_Kindergarten, Importance: 0.001542288802130853\n",
      "Feature: ORGANIZATION_TYPE_Legal Services, Importance: 0.0002958173561662277\n",
      "Feature: ORGANIZATION_TYPE_Medicine, Importance: 0.0016752249611827704\n",
      "Feature: ORGANIZATION_TYPE_Military, Importance: 0.0007416010814102809\n",
      "Feature: ORGANIZATION_TYPE_Mobile, Importance: 0.000432741325798732\n",
      "Feature: ORGANIZATION_TYPE_Other, Importance: 0.002550087061206138\n",
      "Feature: ORGANIZATION_TYPE_Police, Importance: 0.000660566796075097\n",
      "Feature: ORGANIZATION_TYPE_Postal, Importance: 0.0012686098588794114\n",
      "Feature: ORGANIZATION_TYPE_Realtor, Importance: 0.0005790865731303274\n",
      "Feature: ORGANIZATION_TYPE_Religion, Importance: 0.000112170809052601\n",
      "Feature: ORGANIZATION_TYPE_Restaurant, Importance: 0.0013626739903509716\n",
      "Feature: ORGANIZATION_TYPE_School, Importance: 0.001595021767216821\n",
      "Feature: ORGANIZATION_TYPE_Security, Importance: 0.0014820048538248354\n",
      "Feature: ORGANIZATION_TYPE_Security Ministries, Importance: 0.0006862021553190751\n",
      "Feature: ORGANIZATION_TYPE_Self-employed, Importance: 0.003583634060219636\n",
      "Feature: ORGANIZATION_TYPE_Services, Importance: 0.0006989322454288938\n",
      "Feature: ORGANIZATION_TYPE_Telecom, Importance: 0.0005081799043939866\n",
      "Feature: ORGANIZATION_TYPE_Trade: type 1, Importance: 0.0004183997404331944\n",
      "Feature: ORGANIZATION_TYPE_Trade: type 2, Importance: 0.0005947323301806369\n",
      "Feature: ORGANIZATION_TYPE_Trade: type 3, Importance: 0.001690855779576548\n",
      "Feature: ORGANIZATION_TYPE_Trade: type 4, Importance: 5.45132014263513e-05\n",
      "Feature: ORGANIZATION_TYPE_Trade: type 5, Importance: 7.025644286229466e-05\n",
      "Feature: ORGANIZATION_TYPE_Trade: type 6, Importance: 0.0003511040292597353\n",
      "Feature: ORGANIZATION_TYPE_Trade: type 7, Importance: 0.00217280541276784\n",
      "Feature: ORGANIZATION_TYPE_Transport: type 1, Importance: 0.00016634017058515338\n",
      "Feature: ORGANIZATION_TYPE_Transport: type 2, Importance: 0.0011162342215387479\n",
      "Feature: ORGANIZATION_TYPE_Transport: type 3, Importance: 0.001629873043192219\n",
      "Feature: ORGANIZATION_TYPE_Transport: type 4, Importance: 0.0019514164544671003\n",
      "Feature: ORGANIZATION_TYPE_University, Importance: 0.0005159609084685528\n",
      "Feature: ORGANIZATION_TYPE_XNA, Importance: 0.0010088575956992384\n",
      "Feature: FONDKAPREMONT_MODE_not specified, Importance: 0.000936163770955581\n",
      "Feature: FONDKAPREMONT_MODE_org spec account, Importance: 0.0006705313602066325\n",
      "Feature: FONDKAPREMONT_MODE_reg oper account, Importance: 0.0008619638732050999\n",
      "Feature: FONDKAPREMONT_MODE_reg oper spec account, Importance: 0.0008167188955921759\n",
      "Feature: HOUSETYPE_MODE_block of flats, Importance: 0.0012089928910310657\n",
      "Feature: HOUSETYPE_MODE_specific housing, Importance: 0.0005645395180897482\n",
      "Feature: HOUSETYPE_MODE_terraced house, Importance: 0.0005223546694712352\n",
      "Feature: WALLSMATERIAL_MODE_Block, Importance: 0.0010202753618733025\n",
      "Feature: WALLSMATERIAL_MODE_Mixed, Importance: 0.0007869964905493559\n",
      "Feature: WALLSMATERIAL_MODE_Monolithic, Importance: 0.0002601328916219635\n",
      "Feature: WALLSMATERIAL_MODE_Others, Importance: 0.0007348214285572365\n",
      "Feature: WALLSMATERIAL_MODE_Panel, Importance: 0.0009051160307831902\n",
      "Feature: WALLSMATERIAL_MODE_Stone, brick, Importance: 0.0011596332184216618\n",
      "Feature: WALLSMATERIAL_MODE_Wooden, Importance: 0.0009157388271381273\n",
      "Feature: EMERGENCYSTATE_MODE_No, Importance: 0.0012765826623496411\n",
      "Feature: EMERGENCYSTATE_MODE_Yes, Importance: 0.0007646148256377179\n",
      "Feature: DAYS_EMPLOYED_ANOM, Importance: 0.0008336101414109677\n"
     ]
    }
   ],
   "source": [
    "# Accessing feature importance\n",
    "feature_importance = RFC_model.feature_importances_\n",
    "\n",
    "# Printing feature importance for each feature\n",
    "for i, feature_name in enumerate(feature_names.iloc[:,0].values.tolist()):\n",
    "    print(f'Feature: {feature_name}, Importance: {feature_importance[i]}')"
   ]
  },
  {
   "cell_type": "code",
   "execution_count": 13,
   "id": "b02f7c87",
   "metadata": {},
   "outputs": [
    {
     "data": {
      "text/plain": [
       "['EXT_SOURCE_2',\n",
       " 'EXT_SOURCE_3',\n",
       " 'DAYS_BIRTH',\n",
       " 'DAYS_ID_PUBLISH',\n",
       " 'DAYS_REGISTRATION',\n",
       " 'DAYS_EMPLOYED',\n",
       " 'AMT_ANNUITY',\n",
       " 'DAYS_LAST_PHONE_CHANGE',\n",
       " 'AMT_CREDIT',\n",
       " 'AMT_INCOME_TOTAL',\n",
       " 'AMT_GOODS_PRICE',\n",
       " 'REGION_POPULATION_RELATIVE',\n",
       " 'EXT_SOURCE_1',\n",
       " 'HOUR_APPR_PROCESS_START',\n",
       " 'AMT_REQ_CREDIT_BUREAU_YEAR',\n",
       " 'OWN_CAR_AGE',\n",
       " 'OBS_30_CNT_SOCIAL_CIRCLE',\n",
       " 'OBS_60_CNT_SOCIAL_CIRCLE',\n",
       " 'TOTALAREA_MODE',\n",
       " 'LIVINGAREA_MODE']"
      ]
     },
     "execution_count": 13,
     "metadata": {},
     "output_type": "execute_result"
    }
   ],
   "source": [
    "feature_importance_df = pd.DataFrame({\n",
    "    'Feature': feature_names.iloc[:,0].values.tolist(),\n",
    "    'Importance': RFC_model.feature_importances_\n",
    "})\n",
    "\n",
    "# Sorting the DataFrame by importance scores\n",
    "feature_importance_df_sorted = feature_importance_df.sort_values(by='Importance', ascending=False)\n",
    "\n",
    "# Displaying the sorted DataFrame\n",
    "#print(feature_importance_df_sorted.head(20))\n",
    "feature_importance_df_sorted['Feature'][:20].tolist()\n"
   ]
  },
  {
   "cell_type": "code",
   "execution_count": 14,
   "id": "9aa9ebad",
   "metadata": {},
   "outputs": [],
   "source": [
    "explainer = shap.Explainer(model, X)\n",
    "shap_values = explainer.shap_values(data_point)\n",
    "shap_df = pd.DataFrame({'Feature': X.columns, 'SHAP Value': shap_values[0]})\n",
    "print(\"\\nSHAP Values:\")\n",
    "print(shap_df)\n"
   ]
  },
  {
   "cell_type": "code",
   "execution_count": null,
   "id": "7c37c44e",
   "metadata": {},
   "outputs": [],
   "source": [
    "#!pip freeze > requirements.txt"
   ]
  },
  {
   "cell_type": "markdown",
   "id": "8233f52e",
   "metadata": {},
   "source": [
    "## Test MLflow on Fastapi model serving"
   ]
  },
  {
   "cell_type": "code",
   "execution_count": null,
   "id": "38b56318",
   "metadata": {},
   "outputs": [],
   "source": [
    "!curl http://127.0.0.1:8000/predict -H 'Content-Type: application/json' -d '{\"inputs\": [[0, 0, 1, 1, 63000.0, 310500.0, 15232.5, 310500.0, 0.026392, 16263, -214.0, -8930.0, -573, 0.0, 1, 1, 0, 1, 1, 0, 2.0, 2, 2, 11, 0, 0, 0, 0, 1, 1, 0.0, 0.0765011930557638, 0.0005272652387098, 0.0, 0.0, 0.0, 0.0, 0.0, 0.0, 0.0, 0.0, 0.0, 0.0, 0.0, 0.0, 0.0, 0.0, 0.0, 0.0, 0.0, 0.0, 0.0, 0.0, 0.0, 0.0, 0.0, 0.0, 0.0, 0.0, 0.0, 0.0, 0.0, 0.0, 0.0, 0.0, 0.0, 0.0, 0.0, 0.0, 0.0, 0.0, 0.0, 0.0, 0.0, 0.0, 0.0, 0.0, 0.0, 0.0, 0.0, 0.0, 0.0, 0.0, 0.0, 0.0, 0.0, 0.0, 0.0, 0.0, 0.0, 0.0, 0.0, 0.0, 0.0, 0.0, 0.0, 0.0, 0.0, 0.0, 0.0, 0.0, 0.0, 0.0, 0.0, 0.0, 0.0, 0.0, 0.0, 0.0, 0.0, 1.0, true, false, false, false, false, false, false, false, true, false, false, false, false, false, false, true, false, false, false, false, true, false, false, false, true, false, false, true, false, false, false, false, false, false, false, false, false, false, true, false, false, false, false, false, false, false, false, true, false, false, false, false, false, false, false, false, false, false, false, false, false, false, false, false, false, false, false, false, false, false, false, false, false, false, false, false, false, false, false, false, false, false, false, false, false, false, false, false, false, false, false, false, false, false, false, false, false, false, false, false, false, false, false, false, false, false, false, false, false]]}'\n",
    "  "
   ]
  },
  {
   "cell_type": "code",
   "execution_count": null,
   "id": "d2780b28",
   "metadata": {},
   "outputs": [],
   "source": [
    "!curl http://127.0.0.1:8000/predict -H 'Content-Type: application/json' -d '{\"data_point\": [[0, 0, 1, 1, 63000.0, 310500.0, 15232.5, 310500.0, 0.026392, 16263, -214.0, -8930.0, -573, 0.0, 1, 1, 0, 1, 1, 0, 2.0, 2, 2, 11, 0, 0, 0, 0, 1, 1, 0.0, 0.0765011930557638, 0.0005272652387098, 0.0, 0.0, 0.0, 0.0, 0.0, 0.0, 0.0, 0.0, 0.0, 0.0, 0.0, 0.0, 0.0, 0.0, 0.0, 0.0, 0.0, 0.0, 0.0, 0.0, 0.0, 0.0, 0.0, 0.0, 0.0, 0.0, 0.0, 0.0, 0.0, 0.0, 0.0, 0.0, 0.0, 0.0, 0.0, 0.0, 0.0, 0.0, 0.0, 0.0, 0.0, 0.0, 0.0, 0.0, 0.0, 0.0, 0.0, 0.0, 0.0, 0.0, 0.0, 0.0, 0.0, 0.0, 0.0, 0.0, 0.0, 0.0, 0.0, 0.0, 0.0, 0.0, 0.0, 0.0, 0.0, 0.0, 0.0, 0.0, 0.0, 0.0, 0.0, 0.0, 0.0, 0.0, 0.0, 0.0, 0.0, 1.0, true, false, false, false, false, false, false, false, true, false, false, false, false, false, false, true, false, false, false, false, true, false, false, false, true, false, false, true, false, false, false, false, false, false, false, false, false, false, true, false, false, false, false, false, false, false, false, true, false, false, false, false, false, false, false, false, false, false, false, false, false, false, false, false, false, false, false, false, false, false, false, false, false, false, false, false, false, false, false, false, false, false, false, false, false, false, false, false, false, false, false, false, false, false, false, false, false, false, false, false, false, false, false, false, false, false, false, false, false]]}'\n"
   ]
  },
  {
   "cell_type": "markdown",
   "id": "e173c5e8",
   "metadata": {},
   "source": [
    "**Conversion of type of the test data**"
   ]
  },
  {
   "cell_type": "code",
   "execution_count": null,
   "id": "16023232",
   "metadata": {},
   "outputs": [],
   "source": [
    "# Select columns with data type 'int64'\n",
    "int_columns = X_train.select_dtypes(include=['int64']).columns\n",
    "\n",
    "# Convert selected columns to int\n",
    "X_train[int_columns] = X_train[int_columns].astype('float')\n",
    "# Select columns with data type 'int64'\n",
    "int_columns = X_train.select_dtypes(include=['bool']).columns\n",
    "\n",
    "# Convert selected columns to int\n",
    "X_train[int_columns] = X_train[int_columns].astype('float')\n",
    "X_train.info()"
   ]
  },
  {
   "cell_type": "markdown",
   "id": "52314e2d",
   "metadata": {},
   "source": [
    "**Selection of a data point for testing**"
   ]
  },
  {
   "cell_type": "code",
   "execution_count": null,
   "id": "4718bed0",
   "metadata": {},
   "outputs": [],
   "source": [
    "test = X_train.copy()\n",
    "test[\"ID\"] = ids_test\n",
    "test.set_index(\"ID\", inplace=True)\n",
    "ids_test.iloc[5]\n",
    "#test.loc[100008].values.tolist()\n",
    "data_for_request = test.loc[100030].values.tolist()"
   ]
  },
  {
   "cell_type": "code",
   "execution_count": null,
   "id": "a7a4a0ca",
   "metadata": {},
   "outputs": [],
   "source": [
    "#data_for_request"
   ]
  },
  {
   "cell_type": "code",
   "execution_count": null,
   "id": "8d5b7cc8",
   "metadata": {},
   "outputs": [],
   "source": [
    "import requests\n",
    "\n",
    "# initialised with: mlflow models serve -m model_LGBM02/ --port 8092\n",
    "#http://127.0.0.1:8092\n",
    "\n",
    "host = '127.0.0.1'\n",
    "port = '8000'\n",
    "\n",
    "# endpoint\n",
    "url = f'http://{host}:{port}/predict'\n",
    "print(\"URI : \", url)\n",
    "headers = {\n",
    "    'Content-Type': 'application/json',\n",
    "}\n",
    "\n",
    "headers = {'Content-Type': 'application/json'}\n",
    "\n",
    "# Send the POST request with the data\n",
    "response = requests.post(url, json={\"data_point\": data_for_request})\n",
    "\n",
    "print(f'Predictions: {response.text}')"
   ]
  },
  {
   "cell_type": "markdown",
   "id": "ab9329b5",
   "metadata": {},
   "source": [
    "**TEST with empty data set**"
   ]
  },
  {
   "cell_type": "code",
   "execution_count": null,
   "id": "3773827d",
   "metadata": {},
   "outputs": [],
   "source": [
    "# Send the POST request with the data\n",
    "response = requests.post(url, json={\"data_point\":[]})\n",
    "\n",
    "print(f'Predictions: {response.text}')"
   ]
  },
  {
   "cell_type": "markdown",
   "id": "61c9c2b4",
   "metadata": {},
   "source": [
    "**TEST on hosting environment**"
   ]
  },
  {
   "cell_type": "code",
   "execution_count": null,
   "id": "e705243c",
   "metadata": {},
   "outputs": [],
   "source": [
    "url = 'https://fastapi-cd-webapp.azurewebsites.net/predict'\n",
    "# Send the POST request with the data\n",
    "response = requests.post(url, json={\"data_point\": data_for_request})\n",
    "\n",
    "print(f'Predictions: {response.text}')"
   ]
  },
  {
   "cell_type": "code",
   "execution_count": null,
   "id": "40be404e",
   "metadata": {},
   "outputs": [],
   "source": []
  }
 ],
 "metadata": {
  "kernelspec": {
   "display_name": "Python 3 (ipykernel)",
   "language": "python",
   "name": "python3"
  },
  "language_info": {
   "codemirror_mode": {
    "name": "ipython",
    "version": 3
   },
   "file_extension": ".py",
   "mimetype": "text/x-python",
   "name": "python",
   "nbconvert_exporter": "python",
   "pygments_lexer": "ipython3",
   "version": "3.8.8"
  }
 },
 "nbformat": 4,
 "nbformat_minor": 5
}
