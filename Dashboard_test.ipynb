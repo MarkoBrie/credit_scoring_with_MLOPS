{
 "cells": [
  {
   "cell_type": "code",
   "execution_count": 1,
   "id": "e5bc73fd",
   "metadata": {},
   "outputs": [],
   "source": [
    "import pandas as pd\n",
    "import numpy as np\n",
    "import matplotlib.pyplot as plt\n",
    "from matplotlib import pyplot\n",
    "import time"
   ]
  },
  {
   "cell_type": "code",
   "execution_count": 69,
   "id": "32df80b4",
   "metadata": {},
   "outputs": [],
   "source": [
    "X_train = pd.read_csv('../2_INPUT_DATA/3_SPLIT/X_train.csv')\n",
    "Y_train = pd.read_csv('../2_INPUT_DATA/3_SPLIT/Y_train.csv')\n",
    "X_test = pd.read_csv('../2_INPUT_DATA/3_SPLIT/X_test.csv')\n",
    "Y_test = pd.read_csv('../2_INPUT_DATA/3_SPLIT/Y_test.csv')\n",
    "ids_test = pd.read_csv('../2_INPUT_DATA/3_SPLIT/ids_test.csv')\n",
    "feature_names = pd.read_csv('../2_INPUT_DATA/2_FEATURE_PROCESSED/feature_names.csv')"
   ]
  },
  {
   "cell_type": "code",
   "execution_count": 70,
   "id": "2b4dab17",
   "metadata": {},
   "outputs": [],
   "source": [
    "X_train.columns = feature_names['0'].tolist()"
   ]
  },
  {
   "cell_type": "code",
   "execution_count": 45,
   "id": "e2491427",
   "metadata": {},
   "outputs": [],
   "source": [
    "def plot_histogram(data, category):\n",
    "\n",
    "    # Highlighted data point\n",
    "    highlighted_index = 0  # Index of the data point to highlight\n",
    "    highlighted_value = data.loc[highlighted_index, category]\n",
    "\n",
    "    # Plotting\n",
    "    fig, ax = plt.subplots()\n",
    "    hist = sns.histplot(data=data, x=category, hue='TARGET', kde=True, bins=48, multiple='stack', ax=ax) #stat='density',\n",
    "    # Get the counts for each bin\n",
    "    hight_P = hight_of_selected_point(hist, data, highlighted_index)\n",
    "\n",
    "    # Highlight one specific data point\n",
    "    if Y_train.loc[highlighted_index, 'TARGET'] == 1:\n",
    "        ax.scatter(highlighted_value, hight_P, color='red', label='Highlighted Point', zorder=5)\n",
    "    elif Y_train.loc[highlighted_index, 'TARGET'] == 0:\n",
    "        ax.scatter(highlighted_value, hight_P, color='blue', label='Highlighted Point', zorder=5)\n",
    "\n",
    "    # Customize plot\n",
    "    ax.set_xlabel(category)\n",
    "    ax.set_ylabel('Number of Customers')\n",
    "    ax.set_title('Stacked Distribution of Customer Age with Highlighted Point')\n",
    "    legend = ax.get_legend()\n",
    "    handles = legend.legend_handles\n",
    "    legend.remove()\n",
    "    ax.legend(handles, ['0 pays', '1 will have difficulty'], title='Client group')\n",
    "\n",
    "    plt.show(fig)"
   ]
  },
  {
   "cell_type": "code",
   "execution_count": 46,
   "id": "44207853",
   "metadata": {},
   "outputs": [],
   "source": [
    "def hight_of_selected_point(hist, data, highlighted_index):\n",
    "    bin_counts = [rect.get_height() for rect in hist.patches]\n",
    "    print(len(bin_counts))\n",
    "    print(len(bin_counts)/2)\n",
    "    print(min(data['DAYS_BIRTH']), \" \", max(data['DAYS_BIRTH']))\n",
    "    print(\"selected point: \", data.loc[highlighted_index, 'DAYS_BIRTH'])\n",
    "    scaled_point = int(round(data.loc[highlighted_index, 'DAYS_BIRTH']-min(data['DAYS_BIRTH'])))\n",
    "    print(\"scaled point: \", scaled_point)\n",
    "\n",
    "    steps = (max(data['DAYS_BIRTH'])-min(data['DAYS_BIRTH']))/(len(bin_counts)/2)\n",
    "    print(\"steps :\", steps )\n",
    "    \n",
    "    if data.loc[highlighted_index, 'TARGET'] == 0:\n",
    "        bucket = int(round(scaled_point / steps,0))\n",
    " \n",
    "    elif data.loc[highlighted_index, 'TARGET'] == 1:\n",
    "        bucket = int(round(scaled_point / steps,0)+(len(bin_counts)/2))\n",
    "        \n",
    "    print(\"bucket :\", bucket)\n",
    "    hight = bin_counts[bucket]/2\n",
    "    print(\"hight :\", hight)\n",
    "    \n",
    "    return hight"
   ]
  },
  {
   "cell_type": "code",
   "execution_count": 5,
   "id": "86913197",
   "metadata": {},
   "outputs": [],
   "source": [
    "#Y_train"
   ]
  },
  {
   "cell_type": "code",
   "execution_count": 6,
   "id": "ea286f89",
   "metadata": {},
   "outputs": [],
   "source": [
    "# ['DAYS_BIRTH', 'DAYS_EMPLOYED', 'AMT_INCOME_TOTAL', 'OWN_CAR_AGE', 'AMT_CREDIT']"
   ]
  },
  {
   "cell_type": "markdown",
   "id": "4d4d252b",
   "metadata": {},
   "source": [
    "## Preparing DAYS_BIRTH"
   ]
  },
  {
   "cell_type": "code",
   "execution_count": 121,
   "id": "53dce785",
   "metadata": {},
   "outputs": [],
   "source": [
    "#Merge X_train and Y_train into a single DataFrame\n",
    "data = pd.concat([X_train['DAYS_BIRTH']/365, Y_train], axis=1)\n",
    "category = 'DAYS_BIRTH'\n",
    "\n",
    "data_0 = data[data['TARGET']==0]\n",
    "data_1 = data[data['TARGET']==1]\n"
   ]
  },
  {
   "cell_type": "code",
   "execution_count": 120,
   "id": "c8345931",
   "metadata": {},
   "outputs": [
    {
     "name": "stdout",
     "output_type": "stream",
     "text": [
      "20.517808219178082   69.04383561643836\n",
      "21   69\n",
      "48\n"
     ]
    },
    {
     "data": {
      "text/plain": [
       "48"
      ]
     },
     "execution_count": 120,
     "metadata": {},
     "output_type": "execute_result"
    }
   ],
   "source": [
    "\n",
    "print(min(data['DAYS_BIRTH']), \" \", max(data['DAYS_BIRTH']))\n",
    "min_age = int(round(min(data['DAYS_BIRTH']),0))\n",
    "max_age = int(round(max(data['DAYS_BIRTH']),0))\n",
    "print(min_age, \" \", max_age)\n",
    "num_bin = max_age - min_age\n",
    "print(num_bin)\n",
    "range_age = range(min_age, max_age, 1)\n",
    "len(range_age)"
   ]
  },
  {
   "cell_type": "code",
   "execution_count": 123,
   "id": "bacab44a",
   "metadata": {},
   "outputs": [],
   "source": [
    "#plot_histogram(data, category)"
   ]
  },
  {
   "cell_type": "code",
   "execution_count": 122,
   "id": "3063672d",
   "metadata": {},
   "outputs": [
    {
     "name": "stdout",
     "output_type": "stream",
     "text": [
      "48\n"
     ]
    },
    {
     "data": {
      "image/png": "[encoded data removed]",
      "text/plain": [
       "<Figure size 640x480 with 1 Axes>"
      ]
     },
     "metadata": {},
     "output_type": "display_data"
    }
   ],
   "source": [
    "fig, ax = plt.subplots()\n",
    "hist = sns.histplot(data=data_1['DAYS_BIRTH'],  bins=48,  ax=ax)\n",
    "bar_height_1 = [h.get_height() for h in hist.patches]\n",
    "print(len(bar_height_1))\n",
    "#plt.show(fig)\n",
    "#pyplot.bar(range_age, bar_height_1)"
   ]
  },
  {
   "cell_type": "code",
   "execution_count": 115,
   "id": "8838b4bf",
   "metadata": {},
   "outputs": [
    {
     "name": "stdout",
     "output_type": "stream",
     "text": [
      "48\n"
     ]
    },
    {
     "data": {
      "image/png": "[encoded data removed]",
      "text/plain": [
       "<Figure size 640x480 with 1 Axes>"
      ]
     },
     "metadata": {},
     "output_type": "display_data"
    }
   ],
   "source": [
    "fig, ax = plt.subplots()\n",
    "hist = sns.histplot(data=data_0['DAYS_BIRTH'],  bins=48,  ax=ax)\n",
    "bar_height_0 = [h.get_height() for h in hist.patches]\n",
    "print(len(bar_height_0))\n",
    "#plt.show(fig)\n",
    "#pyplot.bar(range_age, bar_height_0)\n",
    "#pyplot.bar(range_age, bar_height_1, color='b')"
   ]
  },
  {
   "cell_type": "code",
   "execution_count": 130,
   "id": "6a3ac081",
   "metadata": {},
   "outputs": [
    {
     "name": "stdout",
     "output_type": "stream",
     "text": [
      "    Age  TARGET0  TARGET1  AGE1ratio\n",
      "0    21      497      122   0.197092\n",
      "1    22     1444      336   0.188764\n",
      "2    23     2597      426   0.140920\n",
      "3    24     2770      359   0.114733\n",
      "4    25     2995      341   0.102218\n",
      "5    26     3233      401   0.110347\n",
      "6    27     4870      802   0.141396\n",
      "7    28     5983      722   0.107681\n",
      "8    29     5490      672   0.109056\n",
      "9    30     5627      679   0.107675\n",
      "10   31     5818      719   0.109989\n",
      "11   32     5975      595   0.090563\n",
      "12   33     5595      631   0.101349\n",
      "13   34     5499      606   0.099263\n",
      "14   35     5677      582   0.092986\n",
      "15   36     5998      658   0.098858\n",
      "16   37     6593      624   0.086463\n",
      "17   38     6479      612   0.086307\n",
      "18   39     6586      576   0.080424\n",
      "19   40     6463      555   0.079082\n",
      "20   41     6229      552   0.081404\n",
      "21   42     6203      481   0.071963\n",
      "22   43     6182      491   0.073580\n",
      "23   44     5794      504   0.080025\n",
      "24   45     5413      454   0.077382\n",
      "25   46     5497      451   0.075824\n",
      "26   47     5336      394   0.068761\n",
      "27   48     5204      408   0.072701\n",
      "28   49     4938      379   0.071281\n",
      "29   50     5008      388   0.071905\n",
      "30   51     4915      367   0.069481\n",
      "31   52     5076      387   0.070840\n",
      "32   53     5563      399   0.066924\n",
      "33   54     5613      366   0.061214\n",
      "34   55     5191      303   0.055151\n",
      "35   56     5169      319   0.058127\n",
      "36   57     5256      302   0.054336\n",
      "37   58     4780      245   0.048756\n",
      "38   59     4986      316   0.059600\n",
      "39   60     4856      244   0.047843\n",
      "40   61     4203      241   0.054230\n",
      "41   62     4229      235   0.052643\n",
      "42   63     3969      245   0.058140\n",
      "43   64     3999      198   0.047177\n",
      "44   65     2395      115   0.045817\n",
      "45   66     1632       50   0.029727\n",
      "46   67     1645       70   0.040816\n",
      "47   68      597       19   0.030844\n"
     ]
    }
   ],
   "source": [
    "age_ratio =  [x/(x + y) for x, y in zip(bar_height_1, bar_height_0)]\n",
    "# Create a dictionary with column names as keys and lists as values\n",
    "data = {\n",
    "    'Age': range_age, \n",
    "    'TARGET0': bar_height_0,\n",
    "    'TARGET1': bar_height_1,\n",
    "    'AGE1ratio': age_ratio\n",
    "}\n",
    "\n",
    "# Create DataFrame from the dictionary\n",
    "df = pd.DataFrame(data)\n",
    "df.to_csv('data/1_age.csv', index = False)\n",
    "# Display the DataFrame\n",
    "print(df)"
   ]
  },
  {
   "cell_type": "code",
   "execution_count": 109,
   "id": "fbf5a5f4",
   "metadata": {},
   "outputs": [
    {
     "name": "stdout",
     "output_type": "stream",
     "text": [
      "count    246008.000000\n",
      "mean       1955.357025\n",
      "std        2307.808522\n",
      "min           0.000000\n",
      "25%         288.000000\n",
      "50%        1214.000000\n",
      "75%        2764.000000\n",
      "max       17546.000000\n",
      "Name: DAYS_EMPLOYED, dtype: float64\n"
     ]
    },
    {
     "data": {
      "text/plain": [
       "Counter({637.0: 52,\n",
       "         1188.0: 62,\n",
       "         225.0: 99,\n",
       "         3039.0: 36,\n",
       "         3038.0: 27,\n",
       "         1588.0: 52,\n",
       "         3130.0: 22,\n",
       "         449.0: 75,\n",
       "         0.0: 44321,\n",
       "         2019.0: 53,\n",
       "         679.0: 77,\n",
       "         2717.0: 37,\n",
       "         3028.0: 36,\n",
       "         203.0: 84,\n",
       "         1157.0: 68,\n",
       "         1317.0: 49,\n",
       "         191.0: 97,\n",
       "         7804.0: 7,\n",
       "         2038.0: 43,\n",
       "         4286.0: 12,\n",
       "         1652.0: 50,\n",
       "         4306.0: 10,\n",
       "         746.0: 80,\n",
       "         3494.0: 24,\n",
       "         2628.0: 30,\n",
       "         1234.0: 50,\n",
       "         1796.0: 43,\n",
       "         1010.0: 74,\n",
       "         2668.0: 30,\n",
       "         1104.0: 56,\n",
       "         4404.0: 12,\n",
       "         2060.0: 39,\n",
       "         4585.0: 11,\n",
       "         1275.0: 59,\n",
       "         768.0: 63,\n",
       "         1288.0: 62,\n",
       "         1761.0: 46,\n",
       "         1262.0: 51,\n",
       "         475.0: 76,\n",
       "         3597.0: 18,\n",
       "         758.0: 71,\n",
       "         895.0: 71,\n",
       "         5332.0: 13,\n",
       "         4411.0: 14,\n",
       "         9523.0: 4,\n",
       "         1176.0: 68,\n",
       "         6977.0: 5,\n",
       "         778.0: 70,\n",
       "         1392.0: 52,\n",
       "         4106.0: 12,\n",
       "         2351.0: 30,\n",
       "         1743.0: 45,\n",
       "         2091.0: 40,\n",
       "         2446.0: 39,\n",
       "         1324.0: 68,\n",
       "         3720.0: 26,\n",
       "         2546.0: 33,\n",
       "         579.0: 73,\n",
       "         4856.0: 11,\n",
       "         114.0: 59,\n",
       "         3154.0: 24,\n",
       "         121.0: 81,\n",
       "         2844.0: 24,\n",
       "         892.0: 64,\n",
       "         1156.0: 53,\n",
       "         2224.0: 32,\n",
       "         2492.0: 26,\n",
       "         2011.0: 34,\n",
       "         4066.0: 11,\n",
       "         2811.0: 33,\n",
       "         721.0: 78,\n",
       "         1434.0: 58,\n",
       "         2442.0: 34,\n",
       "         924.0: 70,\n",
       "         1094.0: 46,\n",
       "         969.0: 68,\n",
       "         192.0: 85,\n",
       "         1694.0: 64,\n",
       "         862.0: 69,\n",
       "         8862.0: 4,\n",
       "         1415.0: 59,\n",
       "         741.0: 65,\n",
       "         1249.0: 51,\n",
       "         2015.0: 39,\n",
       "         7980.0: 4,\n",
       "         693.0: 46,\n",
       "         367.0: 66,\n",
       "         6737.0: 7,\n",
       "         2419.0: 36,\n",
       "         2953.0: 31,\n",
       "         669.0: 75,\n",
       "         2469.0: 30,\n",
       "         8466.0: 1,\n",
       "         782.0: 77,\n",
       "         267.0: 74,\n",
       "         1169.0: 61,\n",
       "         968.0: 67,\n",
       "         1043.0: 52,\n",
       "         465.0: 75,\n",
       "         215.0: 114,\n",
       "         239.0: 80,\n",
       "         2305.0: 26,\n",
       "         802.0: 88,\n",
       "         5387.0: 8,\n",
       "         3420.0: 26,\n",
       "         4560.0: 14,\n",
       "         4375.0: 14,\n",
       "         2832.0: 28,\n",
       "         8647.0: 3,\n",
       "         481.0: 66,\n",
       "         1451.0: 49,\n",
       "         2764.0: 22,\n",
       "         1895.0: 38,\n",
       "         2995.0: 30,\n",
       "         2899.0: 31,\n",
       "         5411.0: 6,\n",
       "         1549.0: 57,\n",
       "         1821.0: 32,\n",
       "         4027.0: 13,\n",
       "         200.0: 120,\n",
       "         2599.0: 35,\n",
       "         5717.0: 4,\n",
       "         2630.0: 41,\n",
       "         1894.0: 45,\n",
       "         1039.0: 57,\n",
       "         2596.0: 34,\n",
       "         1997.0: 33,\n",
       "         266.0: 67,\n",
       "         4319.0: 19,\n",
       "         334.0: 61,\n",
       "         1485.0: 57,\n",
       "         2311.0: 35,\n",
       "         4940.0: 9,\n",
       "         7676.0: 3,\n",
       "         4758.0: 11,\n",
       "         5785.0: 4,\n",
       "         4472.0: 16,\n",
       "         8355.0: 4,\n",
       "         150.0: 69,\n",
       "         940.0: 83,\n",
       "         5258.0: 9,\n",
       "         341.0: 72,\n",
       "         2331.0: 40,\n",
       "         1148.0: 67,\n",
       "         1786.0: 35,\n",
       "         472.0: 84,\n",
       "         2730.0: 26,\n",
       "         2178.0: 44,\n",
       "         1373.0: 41,\n",
       "         1720.0: 60,\n",
       "         3592.0: 15,\n",
       "         2802.0: 25,\n",
       "         1038.0: 66,\n",
       "         17.0: 4,\n",
       "         328.0: 67,\n",
       "         1282.0: 62,\n",
       "         111.0: 76,\n",
       "         9919.0: 2,\n",
       "         1403.0: 58,\n",
       "         1514.0: 49,\n",
       "         185.0: 99,\n",
       "         11883.0: 1,\n",
       "         5664.0: 8,\n",
       "         4516.0: 12,\n",
       "         680.0: 56,\n",
       "         240.0: 99,\n",
       "         410.0: 92,\n",
       "         5025.0: 12,\n",
       "         837.0: 79,\n",
       "         701.0: 64,\n",
       "         551.0: 70,\n",
       "         468.0: 84,\n",
       "         1896.0: 25,\n",
       "         281.0: 52,\n",
       "         1330.0: 45,\n",
       "         1699.0: 53,\n",
       "         3947.0: 6,\n",
       "         7359.0: 5,\n",
       "         573.0: 60,\n",
       "         5021.0: 4,\n",
       "         154.0: 67,\n",
       "         3408.0: 22,\n",
       "         5317.0: 10,\n",
       "         164.0: 86,\n",
       "         1940.0: 26,\n",
       "         1256.0: 65,\n",
       "         2127.0: 29,\n",
       "         4398.0: 14,\n",
       "         1605.0: 40,\n",
       "         1746.0: 48,\n",
       "         2389.0: 37,\n",
       "         3339.0: 21,\n",
       "         278.0: 87,\n",
       "         995.0: 53,\n",
       "         3281.0: 24,\n",
       "         1028.0: 64,\n",
       "         1313.0: 63,\n",
       "         460.0: 89,\n",
       "         9274.0: 3,\n",
       "         1106.0: 61,\n",
       "         1787.0: 30,\n",
       "         4942.0: 11,\n",
       "         146.0: 92,\n",
       "         870.0: 66,\n",
       "         3218.0: 18,\n",
       "         1185.0: 53,\n",
       "         448.0: 68,\n",
       "         648.0: 82,\n",
       "         7668.0: 3,\n",
       "         142.0: 72,\n",
       "         716.0: 86,\n",
       "         2993.0: 31,\n",
       "         7148.0: 4,\n",
       "         602.0: 61,\n",
       "         1116.0: 51,\n",
       "         1274.0: 48,\n",
       "         3077.0: 25,\n",
       "         11916.0: 1,\n",
       "         1572.0: 49,\n",
       "         166.0: 60,\n",
       "         482.0: 61,\n",
       "         15632.0: 1,\n",
       "         100.0: 47,\n",
       "         1480.0: 56,\n",
       "         3397.0: 14,\n",
       "         3131.0: 30,\n",
       "         1228.0: 50,\n",
       "         2573.0: 30,\n",
       "         59.0: 12,\n",
       "         4917.0: 7,\n",
       "         7426.0: 2,\n",
       "         189.0: 80,\n",
       "         2907.0: 36,\n",
       "         1420.0: 56,\n",
       "         554.0: 58,\n",
       "         2363.0: 41,\n",
       "         1753.0: 51,\n",
       "         2875.0: 29,\n",
       "         2334.0: 36,\n",
       "         8215.0: 2,\n",
       "         645.0: 58,\n",
       "         864.0: 68,\n",
       "         1350.0: 59,\n",
       "         872.0: 75,\n",
       "         1491.0: 45,\n",
       "         2828.0: 29,\n",
       "         3429.0: 26,\n",
       "         7115.0: 5,\n",
       "         338.0: 76,\n",
       "         422.0: 84,\n",
       "         3894.0: 20,\n",
       "         951.0: 74,\n",
       "         6788.0: 4,\n",
       "         370.0: 89,\n",
       "         535.0: 77,\n",
       "         2382.0: 25,\n",
       "         633.0: 70,\n",
       "         385.0: 85,\n",
       "         1450.0: 50,\n",
       "         273.0: 65,\n",
       "         4483.0: 15,\n",
       "         499.0: 79,\n",
       "         3668.0: 21,\n",
       "         436.0: 80,\n",
       "         1355.0: 44,\n",
       "         3144.0: 35,\n",
       "         3473.0: 27,\n",
       "         571.0: 51,\n",
       "         426.0: 80,\n",
       "         3282.0: 27,\n",
       "         7540.0: 3,\n",
       "         2672.0: 26,\n",
       "         1342.0: 40,\n",
       "         1281.0: 65,\n",
       "         639.0: 64,\n",
       "         5136.0: 7,\n",
       "         1481.0: 43,\n",
       "         107.0: 83,\n",
       "         819.0: 59,\n",
       "         1559.0: 41,\n",
       "         4145.0: 14,\n",
       "         365.0: 60,\n",
       "         497.0: 82,\n",
       "         638.0: 46,\n",
       "         6158.0: 7,\n",
       "         687.0: 60,\n",
       "         2998.0: 34,\n",
       "         2784.0: 32,\n",
       "         1496.0: 48,\n",
       "         220.0: 84,\n",
       "         3632.0: 17,\n",
       "         1897.0: 57,\n",
       "         4073.0: 7,\n",
       "         5545.0: 9,\n",
       "         1865.0: 45,\n",
       "         4048.0: 12,\n",
       "         2418.0: 37,\n",
       "         879.0: 65,\n",
       "         1765.0: 38,\n",
       "         2191.0: 39,\n",
       "         2299.0: 23,\n",
       "         1251.0: 47,\n",
       "         136.0: 82,\n",
       "         2850.0: 26,\n",
       "         4971.0: 17,\n",
       "         2082.0: 29,\n",
       "         936.0: 54,\n",
       "         296.0: 69,\n",
       "         6684.0: 4,\n",
       "         1276.0: 54,\n",
       "         3879.0: 10,\n",
       "         1565.0: 58,\n",
       "         4690.0: 8,\n",
       "         609.0: 71,\n",
       "         6991.0: 8,\n",
       "         3158.0: 18,\n",
       "         5544.0: 11,\n",
       "         10988.0: 4,\n",
       "         2046.0: 34,\n",
       "         3298.0: 22,\n",
       "         3269.0: 26,\n",
       "         3443.0: 28,\n",
       "         914.0: 64,\n",
       "         728.0: 89,\n",
       "         459.0: 68,\n",
       "         157.0: 74,\n",
       "         2134.0: 31,\n",
       "         8001.0: 1,\n",
       "         5452.0: 5,\n",
       "         474.0: 84,\n",
       "         663.0: 64,\n",
       "         3880.0: 20,\n",
       "         392.0: 89,\n",
       "         519.0: 48,\n",
       "         2652.0: 31,\n",
       "         362.0: 64,\n",
       "         304.0: 57,\n",
       "         151.0: 56,\n",
       "         5348.0: 13,\n",
       "         1444.0: 41,\n",
       "         9542.0: 2,\n",
       "         890.0: 67,\n",
       "         651.0: 86,\n",
       "         435.0: 70,\n",
       "         3953.0: 17,\n",
       "         2354.0: 34,\n",
       "         644.0: 82,\n",
       "         2593.0: 32,\n",
       "         2298.0: 49,\n",
       "         2190.0: 27,\n",
       "         401.0: 87,\n",
       "         1544.0: 44,\n",
       "         1210.0: 46,\n",
       "         4322.0: 9,\n",
       "         1870.0: 41,\n",
       "         3159.0: 19,\n",
       "         206.0: 92,\n",
       "         3723.0: 17,\n",
       "         1977.0: 29,\n",
       "         139.0: 104,\n",
       "         2569.0: 36,\n",
       "         1563.0: 58,\n",
       "         7364.0: 4,\n",
       "         900.0: 84,\n",
       "         2572.0: 34,\n",
       "         2309.0: 37,\n",
       "         1808.0: 38,\n",
       "         3186.0: 23,\n",
       "         116.0: 107,\n",
       "         668.0: 60,\n",
       "         992.0: 82,\n",
       "         4624.0: 14,\n",
       "         348.0: 106,\n",
       "         3802.0: 18,\n",
       "         589.0: 78,\n",
       "         117.0: 87,\n",
       "         5359.0: 8,\n",
       "         4363.0: 14,\n",
       "         1352.0: 43,\n",
       "         1683.0: 54,\n",
       "         3351.0: 26,\n",
       "         3031.0: 28,\n",
       "         3353.0: 24,\n",
       "         1003.0: 46,\n",
       "         1065.0: 71,\n",
       "         8923.0: 4,\n",
       "         10089.0: 2,\n",
       "         148.0: 77,\n",
       "         3845.0: 12,\n",
       "         2722.0: 32,\n",
       "         486.0: 61,\n",
       "         1802.0: 40,\n",
       "         1299.0: 48,\n",
       "         13994.0: 1,\n",
       "         4332.0: 14,\n",
       "         1615.0: 55,\n",
       "         811.0: 77,\n",
       "         261.0: 85,\n",
       "         1912.0: 40,\n",
       "         1684.0: 51,\n",
       "         241.0: 99,\n",
       "         342.0: 58,\n",
       "         4575.0: 10,\n",
       "         195.0: 108,\n",
       "         1689.0: 57,\n",
       "         3899.0: 10,\n",
       "         4406.0: 16,\n",
       "         2197.0: 25,\n",
       "         1374.0: 55,\n",
       "         750.0: 55,\n",
       "         1540.0: 61,\n",
       "         1458.0: 40,\n",
       "         1384.0: 45,\n",
       "         6715.0: 3,\n",
       "         583.0: 62,\n",
       "         990.0: 59,\n",
       "         749.0: 69,\n",
       "         1057.0: 59,\n",
       "         3820.0: 10,\n",
       "         8093.0: 6,\n",
       "         908.0: 65,\n",
       "         2017.0: 37,\n",
       "         786.0: 74,\n",
       "         279.0: 81,\n",
       "         490.0: 61,\n",
       "         442.0: 81,\n",
       "         3569.0: 19,\n",
       "         155.0: 75,\n",
       "         5493.0: 16,\n",
       "         234.0: 90,\n",
       "         1988.0: 43,\n",
       "         3942.0: 12,\n",
       "         5368.0: 12,\n",
       "         8294.0: 3,\n",
       "         214.0: 102,\n",
       "         9284.0: 2,\n",
       "         797.0: 73,\n",
       "         2412.0: 30,\n",
       "         1067.0: 63,\n",
       "         1558.0: 49,\n",
       "         1585.0: 42,\n",
       "         3078.0: 36,\n",
       "         1539.0: 73,\n",
       "         2360.0: 30,\n",
       "         1401.0: 44,\n",
       "         552.0: 65,\n",
       "         2260.0: 25,\n",
       "         1631.0: 55,\n",
       "         3334.0: 21,\n",
       "         298.0: 76,\n",
       "         1051.0: 80,\n",
       "         1607.0: 34,\n",
       "         4832.0: 7,\n",
       "         2271.0: 46,\n",
       "         853.0: 66,\n",
       "         3808.0: 21,\n",
       "         12143.0: 1,\n",
       "         4556.0: 18,\n",
       "         1381.0: 45,\n",
       "         975.0: 55,\n",
       "         1854.0: 33,\n",
       "         3871.0: 7,\n",
       "         2415.0: 35,\n",
       "         437.0: 69,\n",
       "         504.0: 72,\n",
       "         1590.0: 51,\n",
       "         6767.0: 7,\n",
       "         221.0: 77,\n",
       "         1090.0: 62,\n",
       "         1325.0: 62,\n",
       "         854.0: 56,\n",
       "         6651.0: 2,\n",
       "         3059.0: 29,\n",
       "         5888.0: 11,\n",
       "         1422.0: 57,\n",
       "         2135.0: 34,\n",
       "         2018.0: 38,\n",
       "         2125.0: 33,\n",
       "         2582.0: 42,\n",
       "         1270.0: 48,\n",
       "         3815.0: 19,\n",
       "         1538.0: 47,\n",
       "         724.0: 65,\n",
       "         4428.0: 14,\n",
       "         4677.0: 13,\n",
       "         263.0: 79,\n",
       "         2022.0: 29,\n",
       "         2053.0: 38,\n",
       "         7042.0: 7,\n",
       "         891.0: 58,\n",
       "         2745.0: 28,\n",
       "         1756.0: 38,\n",
       "         382.0: 97,\n",
       "         1247.0: 42,\n",
       "         290.0: 87,\n",
       "         10098.0: 1,\n",
       "         7481.0: 3,\n",
       "         1053.0: 55,\n",
       "         152.0: 76,\n",
       "         1321.0: 67,\n",
       "         1387.0: 73,\n",
       "         1071.0: 62,\n",
       "         997.0: 44,\n",
       "         747.0: 64,\n",
       "         1386.0: 57,\n",
       "         3606.0: 18,\n",
       "         1744.0: 43,\n",
       "         1123.0: 59,\n",
       "         4551.0: 12,\n",
       "         2930.0: 27,\n",
       "         7807.0: 2,\n",
       "         3291.0: 22,\n",
       "         1849.0: 32,\n",
       "         219.0: 79,\n",
       "         5858.0: 6,\n",
       "         337.0: 62,\n",
       "         1369.0: 43,\n",
       "         1023.0: 54,\n",
       "         3266.0: 24,\n",
       "         1954.0: 39,\n",
       "         1337.0: 62,\n",
       "         4752.0: 9,\n",
       "         1335.0: 44,\n",
       "         415.0: 72,\n",
       "         1574.0: 41,\n",
       "         2008.0: 40,\n",
       "         5171.0: 12,\n",
       "         1220.0: 55,\n",
       "         666.0: 57,\n",
       "         2711.0: 38,\n",
       "         13878.0: 2,\n",
       "         1244.0: 51,\n",
       "         2402.0: 35,\n",
       "         1760.0: 41,\n",
       "         1327.0: 56,\n",
       "         1890.0: 44,\n",
       "         996.0: 59,\n",
       "         1048.0: 56,\n",
       "         1172.0: 52,\n",
       "         706.0: 81,\n",
       "         514.0: 73,\n",
       "         409.0: 77,\n",
       "         3997.0: 17,\n",
       "         183.0: 86,\n",
       "         4275.0: 11,\n",
       "         1035.0: 58,\n",
       "         733.0: 81,\n",
       "         1901.0: 49,\n",
       "         744.0: 64,\n",
       "         1629.0: 47,\n",
       "         1497.0: 48,\n",
       "         770.0: 68,\n",
       "         1405.0: 49,\n",
       "         1302.0: 44,\n",
       "         4110.0: 10,\n",
       "         419.0: 103,\n",
       "         1331.0: 49,\n",
       "         748.0: 77,\n",
       "         926.0: 87,\n",
       "         439.0: 75,\n",
       "         1017.0: 52,\n",
       "         948.0: 68,\n",
       "         1799.0: 61,\n",
       "         145.0: 63,\n",
       "         1725.0: 40,\n",
       "         381.0: 106,\n",
       "         1836.0: 49,\n",
       "         1815.0: 35,\n",
       "         697.0: 64,\n",
       "         5076.0: 7,\n",
       "         438.0: 77,\n",
       "         2834.0: 29,\n",
       "         313.0: 75,\n",
       "         3532.0: 22,\n",
       "         2079.0: 32,\n",
       "         5217.0: 9,\n",
       "         1221.0: 59,\n",
       "         677.0: 47,\n",
       "         2435.0: 37,\n",
       "         4356.0: 14,\n",
       "         95.0: 54,\n",
       "         732.0: 70,\n",
       "         5632.0: 6,\n",
       "         2140.0: 34,\n",
       "         126.0: 90,\n",
       "         5070.0: 11,\n",
       "         1357.0: 53,\n",
       "         2919.0: 30,\n",
       "         300.0: 76,\n",
       "         9569.0: 1,\n",
       "         1236.0: 56,\n",
       "         98.0: 64,\n",
       "         1062.0: 63,\n",
       "         380.0: 83,\n",
       "         665.0: 74,\n",
       "         1310.0: 53,\n",
       "         350.0: 64,\n",
       "         413.0: 72,\n",
       "         1031.0: 74,\n",
       "         1091.0: 56,\n",
       "         3635.0: 22,\n",
       "         6607.0: 5,\n",
       "         12166.0: 4,\n",
       "         5557.0: 12,\n",
       "         4695.0: 9,\n",
       "         3300.0: 14,\n",
       "         2716.0: 25,\n",
       "         8026.0: 3,\n",
       "         1252.0: 45,\n",
       "         473.0: 72,\n",
       "         796.0: 63,\n",
       "         3797.0: 10,\n",
       "         344.0: 78,\n",
       "         143.0: 87,\n",
       "         1076.0: 70,\n",
       "         3725.0: 19,\n",
       "         2207.0: 37,\n",
       "         594.0: 87,\n",
       "         2136.0: 39,\n",
       "         4800.0: 16,\n",
       "         1492.0: 47,\n",
       "         2258.0: 33,\n",
       "         1806.0: 43,\n",
       "         711.0: 77,\n",
       "         502.0: 71,\n",
       "         1064.0: 42,\n",
       "         1643.0: 39,\n",
       "         4700.0: 8,\n",
       "         868.0: 64,\n",
       "         3386.0: 24,\n",
       "         3021.0: 26,\n",
       "         791.0: 71,\n",
       "         2010.0: 34,\n",
       "         1858.0: 41,\n",
       "         1015.0: 65,\n",
       "         960.0: 81,\n",
       "         249.0: 88,\n",
       "         1542.0: 43,\n",
       "         7655.0: 5,\n",
       "         402.0: 62,\n",
       "         404.0: 81,\n",
       "         238.0: 94,\n",
       "         1508.0: 64,\n",
       "         7107.0: 6,\n",
       "         2411.0: 30,\n",
       "         11807.0: 4,\n",
       "         1533.0: 48,\n",
       "         1779.0: 55,\n",
       "         984.0: 75,\n",
       "         5553.0: 14,\n",
       "         1685.0: 47,\n",
       "         2287.0: 35,\n",
       "         395.0: 80,\n",
       "         63.0: 10,\n",
       "         299.0: 63,\n",
       "         1625.0: 47,\n",
       "         1516.0: 51,\n",
       "         213.0: 105,\n",
       "         233.0: 102,\n",
       "         710.0: 84,\n",
       "         2640.0: 27,\n",
       "         959.0: 57,\n",
       "         3636.0: 22,\n",
       "         1285.0: 68,\n",
       "         505.0: 59,\n",
       "         5303.0: 15,\n",
       "         3683.0: 11,\n",
       "         756.0: 71,\n",
       "         2034.0: 32,\n",
       "         3952.0: 15,\n",
       "         4174.0: 14,\n",
       "         1453.0: 53,\n",
       "         7508.0: 4,\n",
       "         2303.0: 42,\n",
       "         1087.0: 59,\n",
       "         1354.0: 50,\n",
       "         1623.0: 41,\n",
       "         743.0: 77,\n",
       "         197.0: 94,\n",
       "         683.0: 71,\n",
       "         176.0: 76,\n",
       "         1943.0: 32,\n",
       "         1670.0: 37,\n",
       "         1619.0: 55,\n",
       "         3067.0: 21,\n",
       "         524.0: 45,\n",
       "         8373.0: 6,\n",
       "         8506.0: 5,\n",
       "         5582.0: 8,\n",
       "         6281.0: 6,\n",
       "         5378.0: 13,\n",
       "         3090.0: 22,\n",
       "         1476.0: 54,\n",
       "         1867.0: 42,\n",
       "         1105.0: 61,\n",
       "         180.0: 77,\n",
       "         102.0: 81,\n",
       "         3002.0: 24,\n",
       "         8508.0: 4,\n",
       "         1920.0: 45,\n",
       "         1470.0: 36,\n",
       "         3210.0: 24,\n",
       "         411.0: 88,\n",
       "         561.0: 62,\n",
       "         628.0: 57,\n",
       "         11674.0: 1,\n",
       "         5143.0: 11,\n",
       "         4078.0: 11,\n",
       "         1164.0: 64,\n",
       "         5042.0: 6,\n",
       "         1876.0: 37,\n",
       "         165.0: 88,\n",
       "         2105.0: 42,\n",
       "         1579.0: 44,\n",
       "         985.0: 59,\n",
       "         1264.0: 62,\n",
       "         1717.0: 40,\n",
       "         375.0: 92,\n",
       "         184.0: 101,\n",
       "         6587.0: 5,\n",
       "         1397.0: 45,\n",
       "         5542.0: 8,\n",
       "         2336.0: 29,\n",
       "         2891.0: 23,\n",
       "         1085.0: 66,\n",
       "         1179.0: 53,\n",
       "         264.0: 80,\n",
       "         3003.0: 28,\n",
       "         2149.0: 25,\n",
       "         1235.0: 56,\n",
       "         1344.0: 59,\n",
       "         4459.0: 9,\n",
       "         942.0: 46,\n",
       "         5086.0: 14,\n",
       "         9868.0: 2,\n",
       "         3326.0: 20,\n",
       "         10269.0: 2,\n",
       "         757.0: 70,\n",
       "         477.0: 73,\n",
       "         1523.0: 45,\n",
       "         168.0: 69,\n",
       "         1866.0: 44,\n",
       "         805.0: 49,\n",
       "         2273.0: 38,\n",
       "         387.0: 63,\n",
       "         3164.0: 28,\n",
       "         3764.0: 15,\n",
       "         3268.0: 26,\n",
       "         1917.0: 28,\n",
       "         9288.0: 3,\n",
       "         1286.0: 61,\n",
       "         2468.0: 33,\n",
       "         1393.0: 45,\n",
       "         207.0: 107,\n",
       "         2058.0: 40,\n",
       "         4572.0: 16,\n",
       "         2128.0: 32,\n",
       "         1081.0: 59,\n",
       "         3046.0: 27,\n",
       "         3098.0: 28,\n",
       "         405.0: 79,\n",
       "         10702.0: 1,\n",
       "         3319.0: 27,\n",
       "         425.0: 75,\n",
       "         3404.0: 28,\n",
       "         4805.0: 11,\n",
       "         2143.0: 32,\n",
       "         1904.0: 57,\n",
       "         4963.0: 11,\n",
       "         2357.0: 38,\n",
       "         901.0: 61,\n",
       "         1461.0: 47,\n",
       "         695.0: 46,\n",
       "         138.0: 83,\n",
       "         3934.0: 9,\n",
       "         1206.0: 59,\n",
       "         657.0: 70,\n",
       "         209.0: 101,\n",
       "         558.0: 59,\n",
       "         1441.0: 53,\n",
       "         2632.0: 26,\n",
       "         3519.0: 27,\n",
       "         2691.0: 37,\n",
       "         1903.0: 40,\n",
       "         2332.0: 37,\n",
       "         4171.0: 15,\n",
       "         1101.0: 67,\n",
       "         632.0: 50,\n",
       "         4962.0: 11,\n",
       "         8851.0: 2,\n",
       "         2973.0: 25,\n",
       "         2666.0: 32,\n",
       "         967.0: 58,\n",
       "         766.0: 63,\n",
       "         1260.0: 66,\n",
       "         643.0: 78,\n",
       "         557.0: 74,\n",
       "         1706.0: 40,\n",
       "         2291.0: 43,\n",
       "         5516.0: 5,\n",
       "         2904.0: 25,\n",
       "         572.0: 81,\n",
       "         1223.0: 72,\n",
       "         897.0: 70,\n",
       "         169.0: 73,\n",
       "         3713.0: 20,\n",
       "         801.0: 83,\n",
       "         567.0: 72,\n",
       "         257.0: 76,\n",
       "         5405.0: 6,\n",
       "         2118.0: 34,\n",
       "         556.0: 79,\n",
       "         3094.0: 21,\n",
       "         6480.0: 3,\n",
       "         1957.0: 27,\n",
       "         1215.0: 59,\n",
       "         1191.0: 67,\n",
       "         7671.0: 5,\n",
       "         489.0: 74,\n",
       "         1433.0: 56,\n",
       "         570.0: 78,\n",
       "         4763.0: 8,\n",
       "         1162.0: 66,\n",
       "         8300.0: 3,\n",
       "         374.0: 71,\n",
       "         2912.0: 21,\n",
       "         332.0: 62,\n",
       "         1184.0: 61,\n",
       "         1399.0: 56,\n",
       "         190.0: 79,\n",
       "         4075.0: 13,\n",
       "         548.0: 66,\n",
       "         284.0: 78,\n",
       "         3416.0: 26,\n",
       "         2400.0: 36,\n",
       "         2999.0: 25,\n",
       "         1408.0: 45,\n",
       "         1293.0: 67,\n",
       "         965.0: 76,\n",
       "         2598.0: 35,\n",
       "         843.0: 71,\n",
       "         501.0: 82,\n",
       "         676.0: 66,\n",
       "         10061.0: 2,\n",
       "         9696.0: 1,\n",
       "         9257.0: 1,\n",
       "         2631.0: 33,\n",
       "         966.0: 55,\n",
       "         842.0: 67,\n",
       "         423.0: 70,\n",
       "         308.0: 71,\n",
       "         712.0: 76,\n",
       "         2736.0: 29,\n",
       "         1227.0: 52,\n",
       "         9426.0: 2,\n",
       "         1855.0: 47,\n",
       "         5239.0: 11,\n",
       "         989.0: 60,\n",
       "         431.0: 68,\n",
       "         2199.0: 25,\n",
       "         2101.0: 22,\n",
       "         3115.0: 30,\n",
       "         1907.0: 37,\n",
       "         1873.0: 26,\n",
       "         1848.0: 48,\n",
       "         1147.0: 60,\n",
       "         430.0: 95,\n",
       "         10998.0: 1,\n",
       "         2905.0: 35,\n",
       "         755.0: 49,\n",
       "         2052.0: 40,\n",
       "         2235.0: 32,\n",
       "         2726.0: 23,\n",
       "         1183.0: 62,\n",
       "         1351.0: 56,\n",
       "         623.0: 82,\n",
       "         832.0: 75,\n",
       "         6589.0: 4,\n",
       "         2514.0: 31,\n",
       "         4039.0: 18,\n",
       "         4891.0: 9,\n",
       "         1701.0: 54,\n",
       "         2420.0: 43,\n",
       "         6100.0: 6,\n",
       "         2376.0: 50,\n",
       "         751.0: 66,\n",
       "         1669.0: 60,\n",
       "         2228.0: 31,\n",
       "         1437.0: 49,\n",
       "         434.0: 61,\n",
       "         199.0: 122,\n",
       "         270.0: 74,\n",
       "         717.0: 91,\n",
       "         7023.0: 2,\n",
       "         3198.0: 25,\n",
       "         1922.0: 37,\n",
       "         5163.0: 12,\n",
       "         2219.0: 33,\n",
       "         2753.0: 35,\n",
       "         2286.0: 34,\n",
       "         177.0: 92,\n",
       "         2729.0: 27,\n",
       "         1013.0: 53,\n",
       "         3349.0: 13,\n",
       "         2393.0: 54,\n",
       "         1124.0: 55,\n",
       "         208.0: 92,\n",
       "         775.0: 63,\n",
       "         1716.0: 52,\n",
       "         462.0: 74,\n",
       "         6229.0: 6,\n",
       "         1637.0: 43,\n",
       "         1167.0: 63,\n",
       "         2341.0: 35,\n",
       "         1128.0: 62,\n",
       "         1322.0: 62,\n",
       "         980.0: 46,\n",
       "         629.0: 69,\n",
       "         293.0: 75,\n",
       "         1980.0: 33,\n",
       "         2715.0: 39,\n",
       "         6947.0: 5,\n",
       "         463.0: 73,\n",
       "         2051.0: 38,\n",
       "         1011.0: 45,\n",
       "         1120.0: 63,\n",
       "         1404.0: 46,\n",
       "         2643.0: 29,\n",
       "         5065.0: 17,\n",
       "         1201.0: 75,\n",
       "         5652.0: 8,\n",
       "         866.0: 78,\n",
       "         5066.0: 14,\n",
       "         4085.0: 15,\n",
       "         845.0: 60,\n",
       "         2251.0: 32,\n",
       "         1115.0: 62,\n",
       "         1778.0: 55,\n",
       "         1197.0: 55,\n",
       "         1831.0: 49,\n",
       "         2388.0: 51,\n",
       "         2192.0: 34,\n",
       "         7329.0: 6,\n",
       "         1888.0: 32,\n",
       "         1103.0: 64,\n",
       "         4180.0: 12,\n",
       "         708.0: 66,\n",
       "         4820.0: 9,\n",
       "         10768.0: 2,\n",
       "         946.0: 66,\n",
       "         603.0: 83,\n",
       "         259.0: 85,\n",
       "         349.0: 87,\n",
       "         1545.0: 42,\n",
       "         2342.0: 27,\n",
       "         5150.0: 15,\n",
       "         1394.0: 46,\n",
       "         1226.0: 53,\n",
       "         2162.0: 20,\n",
       "         4325.0: 12,\n",
       "         248.0: 86,\n",
       "         1862.0: 32,\n",
       "         1186.0: 45,\n",
       "         4685.0: 9,\n",
       "         630.0: 83,\n",
       "         1290.0: 54,\n",
       "         4011.0: 20,\n",
       "         11781.0: 3,\n",
       "         1868.0: 39,\n",
       "         1932.0: 54,\n",
       "         5442.0: 7,\n",
       "         7639.0: 9,\n",
       "         815.0: 64,\n",
       "         874.0: 51,\n",
       "         2807.0: 32,\n",
       "         4927.0: 8,\n",
       "         351.0: 79,\n",
       "         1715.0: 47,\n",
       "         4807.0: 7,\n",
       "         2494.0: 20,\n",
       "         91.0: 30,\n",
       "         378.0: 77,\n",
       "         429.0: 82,\n",
       "         1334.0: 60,\n",
       "         7536.0: 8,\n",
       "         1268.0: 63,\n",
       "         5096.0: 11,\n",
       "         309.0: 66,\n",
       "         1835.0: 47,\n",
       "         4777.0: 12,\n",
       "         847.0: 57,\n",
       "         941.0: 66,\n",
       "         3193.0: 24,\n",
       "         485.0: 56,\n",
       "         6062.0: 7,\n",
       "         2707.0: 20,\n",
       "         5404.0: 12,\n",
       "         855.0: 75,\n",
       "         388.0: 90,\n",
       "         326.0: 59,\n",
       "         ...})"
      ]
     },
     "execution_count": 109,
     "metadata": {},
     "output_type": "execute_result"
    }
   ],
   "source": [
    "data_daysemployed = round(abs(X_train['DAYS_EMPLOYED']),0)\n",
    "print(data_daysemployed.describe())\n",
    "ser_int = pd.Series([int(x) for x in data_daysemployed])\n",
    "data_daysemployed\n",
    "from collections import Counter\n",
    "Counter(data_daysemployed)"
   ]
  },
  {
   "cell_type": "code",
   "execution_count": 26,
   "id": "7c4ab725",
   "metadata": {},
   "outputs": [
    {
     "data": {
      "text/plain": [
       "0          637.0\n",
       "1         1188.0\n",
       "2          225.0\n",
       "3         3039.0\n",
       "4         3038.0\n",
       "           ...  \n",
       "246000    4893.0\n",
       "246003     486.0\n",
       "246005      85.0\n",
       "246006     597.0\n",
       "246007     119.0\n",
       "Name: DAYS_EMPLOYED, Length: 201687, dtype: float64"
      ]
     },
     "execution_count": 26,
     "metadata": {},
     "output_type": "execute_result"
    }
   ],
   "source": [
    "xdays_unemployed = abs(X_train[X_train['DAYS_EMPLOYED']<0]['DAYS_EMPLOYED'])\n",
    "ydays_unemployed = Y_train[X_train['DAYS_EMPLOYED']<0]\n",
    "xdays_unemployed"
   ]
  },
  {
   "cell_type": "code",
   "execution_count": 17,
   "id": "ca3f3264",
   "metadata": {},
   "outputs": [
    {
     "data": {
      "image/png": "[encoded data removed]",
      "text/plain": [
       "<Figure size 640x480 with 1 Axes>"
      ]
     },
     "metadata": {},
     "output_type": "display_data"
    }
   ],
   "source": [
    "import seaborn as sns\n",
    "\n",
    "\n",
    "# Plotting\n",
    "fig, ax = plt.subplots()\n",
    "sns.histplot(days_unemployed, kde=True, ax=ax)\n",
    "\n",
    "# Customize plot\n",
    "ax.set_xlabel('Values')\n",
    "ax.set_ylabel('Number of Clients Age Group')\n",
    "ax.set_title('Distribution Plot')\n",
    "\n",
    "# Display plot using streamlit\n",
    "plt.show(fig)"
   ]
  },
  {
   "cell_type": "code",
   "execution_count": 27,
   "id": "8af6c951",
   "metadata": {},
   "outputs": [
    {
     "data": {
      "text/html": [
       "<div>\n",
       "<style scoped>\n",
       "    .dataframe tbody tr th:only-of-type {\n",
       "        vertical-align: middle;\n",
       "    }\n",
       "\n",
       "    .dataframe tbody tr th {\n",
       "        vertical-align: top;\n",
       "    }\n",
       "\n",
       "    .dataframe thead th {\n",
       "        text-align: right;\n",
       "    }\n",
       "</style>\n",
       "<table border=\"1\" class=\"dataframe\">\n",
       "  <thead>\n",
       "    <tr style=\"text-align: right;\">\n",
       "      <th></th>\n",
       "      <th>DAYS_EMPLOYED</th>\n",
       "      <th>TARGET</th>\n",
       "    </tr>\n",
       "  </thead>\n",
       "  <tbody>\n",
       "    <tr>\n",
       "      <th>0</th>\n",
       "      <td>1.745205</td>\n",
       "      <td>1</td>\n",
       "    </tr>\n",
       "    <tr>\n",
       "      <th>1</th>\n",
       "      <td>3.254795</td>\n",
       "      <td>0</td>\n",
       "    </tr>\n",
       "    <tr>\n",
       "      <th>2</th>\n",
       "      <td>0.616438</td>\n",
       "      <td>0</td>\n",
       "    </tr>\n",
       "    <tr>\n",
       "      <th>3</th>\n",
       "      <td>8.326027</td>\n",
       "      <td>0</td>\n",
       "    </tr>\n",
       "    <tr>\n",
       "      <th>4</th>\n",
       "      <td>8.323288</td>\n",
       "      <td>0</td>\n",
       "    </tr>\n",
       "    <tr>\n",
       "      <th>...</th>\n",
       "      <td>...</td>\n",
       "      <td>...</td>\n",
       "    </tr>\n",
       "    <tr>\n",
       "      <th>246000</th>\n",
       "      <td>13.405479</td>\n",
       "      <td>0</td>\n",
       "    </tr>\n",
       "    <tr>\n",
       "      <th>246003</th>\n",
       "      <td>1.331507</td>\n",
       "      <td>0</td>\n",
       "    </tr>\n",
       "    <tr>\n",
       "      <th>246005</th>\n",
       "      <td>0.232877</td>\n",
       "      <td>0</td>\n",
       "    </tr>\n",
       "    <tr>\n",
       "      <th>246006</th>\n",
       "      <td>1.635616</td>\n",
       "      <td>0</td>\n",
       "    </tr>\n",
       "    <tr>\n",
       "      <th>246007</th>\n",
       "      <td>0.326027</td>\n",
       "      <td>0</td>\n",
       "    </tr>\n",
       "  </tbody>\n",
       "</table>\n",
       "<p>201687 rows × 2 columns</p>\n",
       "</div>"
      ],
      "text/plain": [
       "        DAYS_EMPLOYED  TARGET\n",
       "0            1.745205       1\n",
       "1            3.254795       0\n",
       "2            0.616438       0\n",
       "3            8.326027       0\n",
       "4            8.323288       0\n",
       "...               ...     ...\n",
       "246000      13.405479       0\n",
       "246003       1.331507       0\n",
       "246005       0.232877       0\n",
       "246006       1.635616       0\n",
       "246007       0.326027       0\n",
       "\n",
       "[201687 rows x 2 columns]"
      ]
     },
     "execution_count": 27,
     "metadata": {},
     "output_type": "execute_result"
    }
   ],
   "source": [
    "data"
   ]
  },
  {
   "cell_type": "code",
   "execution_count": 29,
   "id": "655dd034",
   "metadata": {},
   "outputs": [
    {
     "name": "stdout",
     "output_type": "stream",
     "text": [
      "428\n",
      "214.0\n"
     ]
    },
    {
     "ename": "KeyError",
     "evalue": "'DAYS_BIRTH'",
     "output_type": "error",
     "traceback": [
      "\u001b[0;31m---------------------------------------------------------------------------\u001b[0m",
      "\u001b[0;31mKeyError\u001b[0m                                  Traceback (most recent call last)",
      "File \u001b[0;32m~/opt/anaconda3/lib/python3.8/site-packages/pandas/core/indexes/base.py:3653\u001b[0m, in \u001b[0;36mIndex.get_loc\u001b[0;34m(self, key)\u001b[0m\n\u001b[1;32m   3652\u001b[0m \u001b[38;5;28;01mtry\u001b[39;00m:\n\u001b[0;32m-> 3653\u001b[0m     \u001b[38;5;28;01mreturn\u001b[39;00m \u001b[38;5;28;43mself\u001b[39;49m\u001b[38;5;241;43m.\u001b[39;49m\u001b[43m_engine\u001b[49m\u001b[38;5;241;43m.\u001b[39;49m\u001b[43mget_loc\u001b[49m\u001b[43m(\u001b[49m\u001b[43mcasted_key\u001b[49m\u001b[43m)\u001b[49m\n\u001b[1;32m   3654\u001b[0m \u001b[38;5;28;01mexcept\u001b[39;00m \u001b[38;5;167;01mKeyError\u001b[39;00m \u001b[38;5;28;01mas\u001b[39;00m err:\n",
      "File \u001b[0;32m~/opt/anaconda3/lib/python3.8/site-packages/pandas/_libs/index.pyx:147\u001b[0m, in \u001b[0;36mpandas._libs.index.IndexEngine.get_loc\u001b[0;34m()\u001b[0m\n",
      "File \u001b[0;32m~/opt/anaconda3/lib/python3.8/site-packages/pandas/_libs/index.pyx:176\u001b[0m, in \u001b[0;36mpandas._libs.index.IndexEngine.get_loc\u001b[0;34m()\u001b[0m\n",
      "File \u001b[0;32mpandas/_libs/hashtable_class_helper.pxi:7080\u001b[0m, in \u001b[0;36mpandas._libs.hashtable.PyObjectHashTable.get_item\u001b[0;34m()\u001b[0m\n",
      "File \u001b[0;32mpandas/_libs/hashtable_class_helper.pxi:7088\u001b[0m, in \u001b[0;36mpandas._libs.hashtable.PyObjectHashTable.get_item\u001b[0;34m()\u001b[0m\n",
      "\u001b[0;31mKeyError\u001b[0m: 'DAYS_BIRTH'",
      "\nThe above exception was the direct cause of the following exception:\n",
      "\u001b[0;31mKeyError\u001b[0m                                  Traceback (most recent call last)",
      "Cell \u001b[0;32mIn[29], line 36\u001b[0m\n\u001b[1;32m     32\u001b[0m     ax\u001b[38;5;241m.\u001b[39mlegend(handles, [\u001b[38;5;124m'\u001b[39m\u001b[38;5;124m0 pays\u001b[39m\u001b[38;5;124m'\u001b[39m, \u001b[38;5;124m'\u001b[39m\u001b[38;5;124m1 will have difficulty\u001b[39m\u001b[38;5;124m'\u001b[39m], title\u001b[38;5;241m=\u001b[39m\u001b[38;5;124m'\u001b[39m\u001b[38;5;124mClient group\u001b[39m\u001b[38;5;124m'\u001b[39m)\n\u001b[1;32m     34\u001b[0m     plt\u001b[38;5;241m.\u001b[39mshow(fig)\n\u001b[0;32m---> 36\u001b[0m \u001b[43mplot_histogram\u001b[49m\u001b[43m(\u001b[49m\u001b[43mdata\u001b[49m\u001b[43m,\u001b[49m\u001b[43m \u001b[49m\u001b[43mcategory\u001b[49m\u001b[43m)\u001b[49m\n",
      "Cell \u001b[0;32mIn[29], line 17\u001b[0m, in \u001b[0;36mplot_histogram\u001b[0;34m(data, category)\u001b[0m\n\u001b[1;32m     15\u001b[0m hist \u001b[38;5;241m=\u001b[39m sns\u001b[38;5;241m.\u001b[39mhistplot(data\u001b[38;5;241m=\u001b[39mdata, x\u001b[38;5;241m=\u001b[39mcategory, hue\u001b[38;5;241m=\u001b[39m\u001b[38;5;124m'\u001b[39m\u001b[38;5;124mTARGET\u001b[39m\u001b[38;5;124m'\u001b[39m, kde\u001b[38;5;241m=\u001b[39m\u001b[38;5;28;01mTrue\u001b[39;00m,  multiple\u001b[38;5;241m=\u001b[39m\u001b[38;5;124m'\u001b[39m\u001b[38;5;124mstack\u001b[39m\u001b[38;5;124m'\u001b[39m, ax\u001b[38;5;241m=\u001b[39max) \u001b[38;5;66;03m#stat='density',\u001b[39;00m\n\u001b[1;32m     16\u001b[0m \u001b[38;5;66;03m# Get the counts for each bin\u001b[39;00m\n\u001b[0;32m---> 17\u001b[0m hight_P \u001b[38;5;241m=\u001b[39m \u001b[43mhight_of_selected_point\u001b[49m\u001b[43m(\u001b[49m\u001b[43mhist\u001b[49m\u001b[43m,\u001b[49m\u001b[43m \u001b[49m\u001b[43mdata\u001b[49m\u001b[43m,\u001b[49m\u001b[43m \u001b[49m\u001b[43mhighlighted_index\u001b[49m\u001b[43m)\u001b[49m\n\u001b[1;32m     19\u001b[0m \u001b[38;5;66;03m# Highlight one specific data point\u001b[39;00m\n\u001b[1;32m     20\u001b[0m \u001b[38;5;28;01mif\u001b[39;00m Y_train\u001b[38;5;241m.\u001b[39mloc[highlighted_index, \u001b[38;5;124m'\u001b[39m\u001b[38;5;124mTARGET\u001b[39m\u001b[38;5;124m'\u001b[39m] \u001b[38;5;241m==\u001b[39m \u001b[38;5;241m1\u001b[39m:\n",
      "Cell \u001b[0;32mIn[22], line 5\u001b[0m, in \u001b[0;36mhight_of_selected_point\u001b[0;34m(hist, data, highlighted_index)\u001b[0m\n\u001b[1;32m      3\u001b[0m \u001b[38;5;28mprint\u001b[39m(\u001b[38;5;28mlen\u001b[39m(bin_counts))\n\u001b[1;32m      4\u001b[0m \u001b[38;5;28mprint\u001b[39m(\u001b[38;5;28mlen\u001b[39m(bin_counts)\u001b[38;5;241m/\u001b[39m\u001b[38;5;241m2\u001b[39m)\n\u001b[0;32m----> 5\u001b[0m \u001b[38;5;28mprint\u001b[39m(\u001b[38;5;28mmin\u001b[39m(\u001b[43mdata\u001b[49m\u001b[43m[\u001b[49m\u001b[38;5;124;43m'\u001b[39;49m\u001b[38;5;124;43mDAYS_BIRTH\u001b[39;49m\u001b[38;5;124;43m'\u001b[39;49m\u001b[43m]\u001b[49m), \u001b[38;5;124m\"\u001b[39m\u001b[38;5;124m \u001b[39m\u001b[38;5;124m\"\u001b[39m, \u001b[38;5;28mmax\u001b[39m(data[\u001b[38;5;124m'\u001b[39m\u001b[38;5;124mDAYS_BIRTH\u001b[39m\u001b[38;5;124m'\u001b[39m]))\n\u001b[1;32m      6\u001b[0m \u001b[38;5;28mprint\u001b[39m(\u001b[38;5;124m\"\u001b[39m\u001b[38;5;124mselected point: \u001b[39m\u001b[38;5;124m\"\u001b[39m, data\u001b[38;5;241m.\u001b[39mloc[highlighted_index, \u001b[38;5;124m'\u001b[39m\u001b[38;5;124mDAYS_BIRTH\u001b[39m\u001b[38;5;124m'\u001b[39m])\n\u001b[1;32m      7\u001b[0m scaled_point \u001b[38;5;241m=\u001b[39m \u001b[38;5;28mint\u001b[39m(\u001b[38;5;28mround\u001b[39m(data\u001b[38;5;241m.\u001b[39mloc[highlighted_index, \u001b[38;5;124m'\u001b[39m\u001b[38;5;124mDAYS_BIRTH\u001b[39m\u001b[38;5;124m'\u001b[39m]\u001b[38;5;241m-\u001b[39m\u001b[38;5;28mmin\u001b[39m(data[\u001b[38;5;124m'\u001b[39m\u001b[38;5;124mDAYS_BIRTH\u001b[39m\u001b[38;5;124m'\u001b[39m])))\n",
      "File \u001b[0;32m~/opt/anaconda3/lib/python3.8/site-packages/pandas/core/frame.py:3761\u001b[0m, in \u001b[0;36mDataFrame.__getitem__\u001b[0;34m(self, key)\u001b[0m\n\u001b[1;32m   3759\u001b[0m \u001b[38;5;28;01mif\u001b[39;00m \u001b[38;5;28mself\u001b[39m\u001b[38;5;241m.\u001b[39mcolumns\u001b[38;5;241m.\u001b[39mnlevels \u001b[38;5;241m>\u001b[39m \u001b[38;5;241m1\u001b[39m:\n\u001b[1;32m   3760\u001b[0m     \u001b[38;5;28;01mreturn\u001b[39;00m \u001b[38;5;28mself\u001b[39m\u001b[38;5;241m.\u001b[39m_getitem_multilevel(key)\n\u001b[0;32m-> 3761\u001b[0m indexer \u001b[38;5;241m=\u001b[39m \u001b[38;5;28;43mself\u001b[39;49m\u001b[38;5;241;43m.\u001b[39;49m\u001b[43mcolumns\u001b[49m\u001b[38;5;241;43m.\u001b[39;49m\u001b[43mget_loc\u001b[49m\u001b[43m(\u001b[49m\u001b[43mkey\u001b[49m\u001b[43m)\u001b[49m\n\u001b[1;32m   3762\u001b[0m \u001b[38;5;28;01mif\u001b[39;00m is_integer(indexer):\n\u001b[1;32m   3763\u001b[0m     indexer \u001b[38;5;241m=\u001b[39m [indexer]\n",
      "File \u001b[0;32m~/opt/anaconda3/lib/python3.8/site-packages/pandas/core/indexes/base.py:3655\u001b[0m, in \u001b[0;36mIndex.get_loc\u001b[0;34m(self, key)\u001b[0m\n\u001b[1;32m   3653\u001b[0m     \u001b[38;5;28;01mreturn\u001b[39;00m \u001b[38;5;28mself\u001b[39m\u001b[38;5;241m.\u001b[39m_engine\u001b[38;5;241m.\u001b[39mget_loc(casted_key)\n\u001b[1;32m   3654\u001b[0m \u001b[38;5;28;01mexcept\u001b[39;00m \u001b[38;5;167;01mKeyError\u001b[39;00m \u001b[38;5;28;01mas\u001b[39;00m err:\n\u001b[0;32m-> 3655\u001b[0m     \u001b[38;5;28;01mraise\u001b[39;00m \u001b[38;5;167;01mKeyError\u001b[39;00m(key) \u001b[38;5;28;01mfrom\u001b[39;00m \u001b[38;5;21;01merr\u001b[39;00m\n\u001b[1;32m   3656\u001b[0m \u001b[38;5;28;01mexcept\u001b[39;00m \u001b[38;5;167;01mTypeError\u001b[39;00m:\n\u001b[1;32m   3657\u001b[0m     \u001b[38;5;66;03m# If we have a listlike key, _check_indexing_error will raise\u001b[39;00m\n\u001b[1;32m   3658\u001b[0m     \u001b[38;5;66;03m#  InvalidIndexError. Otherwise we fall through and re-raise\u001b[39;00m\n\u001b[1;32m   3659\u001b[0m     \u001b[38;5;66;03m#  the TypeError.\u001b[39;00m\n\u001b[1;32m   3660\u001b[0m     \u001b[38;5;28mself\u001b[39m\u001b[38;5;241m.\u001b[39m_check_indexing_error(key)\n",
      "\u001b[0;31mKeyError\u001b[0m: 'DAYS_BIRTH'"
     ]
    },
    {
     "data": {
      "image/png": "[encoded data removed]",
      "text/plain": [
       "<Figure size 640x480 with 1 Axes>"
      ]
     },
     "metadata": {},
     "output_type": "display_data"
    }
   ],
   "source": [
    "\n",
    "data = pd.concat([xdays_unemployed, ydays_unemployed], axis=1)\n",
    "category = 'DAYS_EMPLOYED'\n",
    "\n",
    "\n",
    "    \n",
    "plot_histogram(data, category)"
   ]
  },
  {
   "cell_type": "code",
   "execution_count": 55,
   "id": "2562ad3e",
   "metadata": {},
   "outputs": [
    {
     "name": "stdout",
     "output_type": "stream",
     "text": [
      "77.0\n",
      "20.517808219178082   69.04383561643836\n",
      "selected point:  52.18082191780822\n",
      "scaled point:  32\n",
      "steps : 0.6302081480163673\n",
      "hight : 337.0\n"
     ]
    }
   ],
   "source": [
    "print(len(bin_counts)/2)\n",
    "print(min(data['DAYS_BIRTH']), \" \", max(data['DAYS_BIRTH']))\n",
    "print(\"selected point: \", data.loc[highlighted_index, 'DAYS_BIRTH'])\n",
    "scaled_point = int(round(data.loc[highlighted_index, 'DAYS_BIRTH']-min(data['DAYS_BIRTH'])))\n",
    "print(\"scaled point: \", scaled_point)\n",
    "\n",
    "print(\"steps :\", (max(data['DAYS_BIRTH'])-min(data['DAYS_BIRTH']))/(len(bin_counts)/2))\n",
    "hight = bin_counts[scaled_point]\n",
    "print(\"hight :\", hight)"
   ]
  },
  {
   "cell_type": "code",
   "execution_count": 24,
   "id": "d8506383",
   "metadata": {},
   "outputs": [
    {
     "name": "stderr",
     "output_type": "stream",
     "text": [
      "/var/folders/vk/1tfz04l501xdcyxn99z965pw0000gn/T/ipykernel_43144/769176982.py:25: MatplotlibDeprecationWarning: The legendHandles attribute was deprecated in Matplotlib 3.7 and will be removed two minor releases later. Use legend_handles instead.\n",
      "  handles = legend.legendHandles\n"
     ]
    },
    {
     "data": {
      "image/png": "[encoded data removed]",
      "text/plain": [
       "<Figure size 640x480 with 1 Axes>"
      ]
     },
     "metadata": {},
     "output_type": "display_data"
    }
   ],
   "source": [
    "# Merge X_train and Y_train into a single DataFrame\n",
    "data = pd.concat([X_train, Y_train], axis=1)\n",
    "\n",
    "# Highlighted data point\n",
    "highlighted_index = 2  # Index of the data point to highlight\n",
    "highlighted_value = data.loc[highlighted_index, 'DAYS_BIRTH']\n",
    "\n",
    "# Plotting\n",
    "fig, ax = plt.subplots()\n",
    "sns.histplot(data=data, x='DAYS_BIRTH', hue='TARGET', kde=True, stat='density', multiple='stack', ax=ax)\n",
    "\n",
    "# Highlight one specific data point\n",
    "if Y_train.loc[highlighted_index, 'TARGET'] == 1:\n",
    "    ax.scatter(highlighted_value, 0, color='red', label='Highlighted Point', zorder=5)\n",
    "elif Y_train.loc[highlighted_index, 'TARGET'] == 0:\n",
    "    ax.scatter(highlighted_value, 0, color='blue', label='Highlighted Point', zorder=5)\n",
    "\n",
    "# Customize plot\n",
    "ax.set_xlabel('DAYS_BIRTH')\n",
    "ax.set_ylabel('Density')\n",
    "ax.set_title('Stacked Distribution Plot of DAYS_BIRTH with Highlighted Point')\n",
    "ax.legend(title='TARGET')\n",
    "\n",
    "legend = ax.get_legend()\n",
    "handles = legend.legendHandles\n",
    "legend.remove()\n",
    "ax.legend(handles, ['ind+', 'dep+'], title='Stat.ind.')\n",
    "# Display plot using Streamlit\n",
    "#st.pyplot(fig)\n",
    "plt.show(fig)"
   ]
  },
  {
   "cell_type": "code",
   "execution_count": 23,
   "id": "dfb58418",
   "metadata": {},
   "outputs": [
    {
     "name": "stderr",
     "output_type": "stream",
     "text": [
      "/Users/markobriesemann/opt/anaconda3/lib/python3.8/site-packages/IPython/core/pylabtools.py:152: UserWarning: Creating legend with loc=\"best\" can be slow with large amounts of data.\n",
      "  fig.canvas.print_figure(bytes_io, **kw)\n"
     ]
    },
    {
     "data": {
      "image/png": "[encoded data removed]",
      "text/plain": [
       "<Figure size 640x480 with 1 Axes>"
      ]
     },
     "metadata": {},
     "output_type": "display_data"
    }
   ],
   "source": [
    "# Merge X_train and Y_train into a single DataFrame\n",
    "data = pd.concat([X_train, Y_train], axis=1)\n",
    "\n",
    "# Highlighted data point\n",
    "highlighted_index = 2  # Index of the data point to highlight\n",
    "highlighted_value = data.loc[highlighted_index, 'DAYS_BIRTH']\n",
    "\n",
    "# Plotting\n",
    "fig, ax = plt.subplots()\n",
    "sns.histplot(data=data, x='DAYS_BIRTH', hue='TARGET', kde=True, stat='density', multiple='stack', ax=ax)\n",
    "\n",
    "# Scatter plot for each category\n",
    "for target_value, color in zip([0, 1], ['blue', 'red']):\n",
    "    target_data = data[data['TARGET'] == target_value]\n",
    "    ax.scatter(target_data['DAYS_BIRTH'], np.zeros_like(target_data['DAYS_BIRTH']), color=color, label=f'TARGET: {target_value}', zorder=5)\n",
    "\n",
    "# Highlight the specific data point\n",
    "highlighted_target = Y_train.loc[highlighted_index, 'TARGET']\n",
    "highlighted_color = 'red' if highlighted_target == 1 else 'blue'\n",
    "ax.scatter(highlighted_value, 0, color=highlighted_color, label='Highlighted Point', zorder=5)\n",
    "\n",
    "# Customize plot\n",
    "ax.set_xlabel('DAYS_BIRTH')\n",
    "ax.set_ylabel('Density')\n",
    "ax.set_title('Stacked Distribution Plot of DAYS_BIRTH with Highlighted Point')\n",
    "\n",
    "# Display legend\n",
    "ax.legend(title='Categories')\n",
    "\n",
    "# Display plot\n",
    "plt.show(fig)"
   ]
  },
  {
   "cell_type": "code",
   "execution_count": 9,
   "id": "25e2ce92",
   "metadata": {},
   "outputs": [],
   "source": [
    "#pip install chart_studio"
   ]
  },
  {
   "cell_type": "code",
   "execution_count": 11,
   "id": "f7751691",
   "metadata": {},
   "outputs": [
    {
     "ename": "ImportError",
     "evalue": "\nThe plotly.plotly module is deprecated,\nplease install the chart-studio package and use the\nchart_studio.plotly module instead. \n",
     "output_type": "error",
     "traceback": [
      "\u001b[0;31m---------------------------------------------------------------------------\u001b[0m",
      "\u001b[0;31mImportError\u001b[0m                               Traceback (most recent call last)",
      "Cell \u001b[0;32mIn[11], line 1\u001b[0m\n\u001b[0;32m----> 1\u001b[0m \u001b[38;5;28;01mimport\u001b[39;00m \u001b[38;5;21;01mplotly\u001b[39;00m\u001b[38;5;21;01m.\u001b[39;00m\u001b[38;5;21;01mplotly\u001b[39;00m \u001b[38;5;28;01mas\u001b[39;00m \u001b[38;5;21;01mpy\u001b[39;00m\n\u001b[1;32m      2\u001b[0m \u001b[38;5;28;01mimport\u001b[39;00m \u001b[38;5;21;01mplotly\u001b[39;00m\u001b[38;5;21;01m.\u001b[39;00m\u001b[38;5;21;01mgraph_objs\u001b[39;00m \u001b[38;5;28;01mas\u001b[39;00m \u001b[38;5;21;01mgo\u001b[39;00m\n",
      "File \u001b[0;32m~/opt/anaconda3/lib/python3.8/site-packages/plotly/plotly/__init__.py:4\u001b[0m\n\u001b[1;32m      1\u001b[0m \u001b[38;5;28;01mfrom\u001b[39;00m \u001b[38;5;21;01m__future__\u001b[39;00m \u001b[38;5;28;01mimport\u001b[39;00m absolute_import\n\u001b[1;32m      2\u001b[0m \u001b[38;5;28;01mfrom\u001b[39;00m \u001b[38;5;21;01m_plotly_future_\u001b[39;00m \u001b[38;5;28;01mimport\u001b[39;00m _chart_studio_error\n\u001b[0;32m----> 4\u001b[0m \u001b[43m_chart_studio_error\u001b[49m\u001b[43m(\u001b[49m\u001b[38;5;124;43m\"\u001b[39;49m\u001b[38;5;124;43mplotly\u001b[39;49m\u001b[38;5;124;43m\"\u001b[39;49m\u001b[43m)\u001b[49m\n",
      "File \u001b[0;32m~/opt/anaconda3/lib/python3.8/site-packages/_plotly_future_/__init__.py:43\u001b[0m, in \u001b[0;36m_chart_studio_error\u001b[0;34m(submodule)\u001b[0m\n\u001b[1;32m     42\u001b[0m \u001b[38;5;28;01mdef\u001b[39;00m \u001b[38;5;21m_chart_studio_error\u001b[39m(submodule):\n\u001b[0;32m---> 43\u001b[0m     \u001b[38;5;28;01mraise\u001b[39;00m \u001b[38;5;167;01mImportError\u001b[39;00m(\n\u001b[1;32m     44\u001b[0m \u001b[38;5;250m        \u001b[39m\u001b[38;5;124;03m\"\"\"\u001b[39;00m\n\u001b[1;32m     45\u001b[0m \u001b[38;5;124;03mThe plotly.{submodule} module is deprecated,\u001b[39;00m\n\u001b[1;32m     46\u001b[0m \u001b[38;5;124;03mplease install the chart-studio package and use the\u001b[39;00m\n\u001b[1;32m     47\u001b[0m \u001b[38;5;124;03mchart_studio.{submodule} module instead. \u001b[39;00m\n\u001b[1;32m     48\u001b[0m \u001b[38;5;124;03m\"\"\"\u001b[39;00m\u001b[38;5;241m.\u001b[39mformat(\n\u001b[1;32m     49\u001b[0m             submodule\u001b[38;5;241m=\u001b[39msubmodule\n\u001b[1;32m     50\u001b[0m         )\n\u001b[1;32m     51\u001b[0m     )\n",
      "\u001b[0;31mImportError\u001b[0m: \nThe plotly.plotly module is deprecated,\nplease install the chart-studio package and use the\nchart_studio.plotly module instead. \n"
     ]
    }
   ],
   "source": [
    "import plotly.plotly as py\n",
    "import plotly.graph_objs as go"
   ]
  },
  {
   "cell_type": "code",
   "execution_count": 8,
   "id": "c5c33772",
   "metadata": {},
   "outputs": [
    {
     "ename": "KeyboardInterrupt",
     "evalue": "",
     "output_type": "error",
     "traceback": [
      "\u001b[0;31m---------------------------------------------------------------------------\u001b[0m",
      "\u001b[0;31mKeyboardInterrupt\u001b[0m                         Traceback (most recent call last)",
      "Cell \u001b[0;32mIn[8], line 98\u001b[0m\n\u001b[1;32m     94\u001b[0m base_chart[\u001b[38;5;124m'\u001b[39m\u001b[38;5;124mmarker\u001b[39m\u001b[38;5;124m'\u001b[39m][\u001b[38;5;124m'\u001b[39m\u001b[38;5;124mline\u001b[39m\u001b[38;5;124m'\u001b[39m][\u001b[38;5;124m'\u001b[39m\u001b[38;5;124mwidth\u001b[39m\u001b[38;5;124m'\u001b[39m] \u001b[38;5;241m=\u001b[39m \u001b[38;5;241m0\u001b[39m\n\u001b[1;32m     96\u001b[0m fig \u001b[38;5;241m=\u001b[39m {\u001b[38;5;124m\"\u001b[39m\u001b[38;5;124mdata\u001b[39m\u001b[38;5;124m\"\u001b[39m: [base_chart, meter_chart],\n\u001b[1;32m     97\u001b[0m        \u001b[38;5;124m\"\u001b[39m\u001b[38;5;124mlayout\u001b[39m\u001b[38;5;124m\"\u001b[39m: layout}\n\u001b[0;32m---> 98\u001b[0m \u001b[43mpy\u001b[49m\u001b[38;5;241;43m.\u001b[39;49m\u001b[43miplot\u001b[49m\u001b[43m(\u001b[49m\u001b[43mfig\u001b[49m\u001b[43m,\u001b[49m\u001b[43m \u001b[49m\u001b[43mfilename\u001b[49m\u001b[38;5;241;43m=\u001b[39;49m\u001b[38;5;124;43m'\u001b[39;49m\u001b[38;5;124;43mgauge-meter-chart\u001b[39;49m\u001b[38;5;124;43m'\u001b[39;49m\u001b[43m)\u001b[49m\n",
      "File \u001b[0;32m~/opt/anaconda3/lib/python3.8/site-packages/chart_studio/plotly/plotly.py:135\u001b[0m, in \u001b[0;36miplot\u001b[0;34m(figure_or_data, **plot_options)\u001b[0m\n\u001b[1;32m    133\u001b[0m \u001b[38;5;28;01mif\u001b[39;00m \u001b[38;5;124m\"\u001b[39m\u001b[38;5;124mauto_open\u001b[39m\u001b[38;5;124m\"\u001b[39m \u001b[38;5;129;01mnot\u001b[39;00m \u001b[38;5;129;01min\u001b[39;00m plot_options:\n\u001b[1;32m    134\u001b[0m     plot_options[\u001b[38;5;124m\"\u001b[39m\u001b[38;5;124mauto_open\u001b[39m\u001b[38;5;124m\"\u001b[39m] \u001b[38;5;241m=\u001b[39m \u001b[38;5;28;01mFalse\u001b[39;00m\n\u001b[0;32m--> 135\u001b[0m url \u001b[38;5;241m=\u001b[39m \u001b[43mplot\u001b[49m\u001b[43m(\u001b[49m\u001b[43mfigure_or_data\u001b[49m\u001b[43m,\u001b[49m\u001b[43m \u001b[49m\u001b[38;5;241;43m*\u001b[39;49m\u001b[38;5;241;43m*\u001b[39;49m\u001b[43mplot_options\u001b[49m\u001b[43m)\u001b[49m\n\u001b[1;32m    137\u001b[0m \u001b[38;5;28;01mif\u001b[39;00m \u001b[38;5;28misinstance\u001b[39m(figure_or_data, \u001b[38;5;28mdict\u001b[39m):\n\u001b[1;32m    138\u001b[0m     layout \u001b[38;5;241m=\u001b[39m figure_or_data\u001b[38;5;241m.\u001b[39mget(\u001b[38;5;124m\"\u001b[39m\u001b[38;5;124mlayout\u001b[39m\u001b[38;5;124m\"\u001b[39m, {})\n",
      "File \u001b[0;32m~/opt/anaconda3/lib/python3.8/site-packages/chart_studio/plotly/plotly.py:276\u001b[0m, in \u001b[0;36mplot\u001b[0;34m(figure_or_data, validate, **plot_options)\u001b[0m\n\u001b[1;32m    273\u001b[0m \u001b[38;5;28;01melse\u001b[39;00m:\n\u001b[1;32m    274\u001b[0m     grid_filename \u001b[38;5;241m=\u001b[39m filename \u001b[38;5;241m+\u001b[39m \u001b[38;5;124m\"\u001b[39m\u001b[38;5;124m_grid\u001b[39m\u001b[38;5;124m\"\u001b[39m\n\u001b[0;32m--> 276\u001b[0m \u001b[43mgrid_ops\u001b[49m\u001b[38;5;241;43m.\u001b[39;49m\u001b[43mupload\u001b[49m\u001b[43m(\u001b[49m\n\u001b[1;32m    277\u001b[0m \u001b[43m    \u001b[49m\u001b[43mgrid\u001b[49m\u001b[38;5;241;43m=\u001b[39;49m\u001b[43mgrid\u001b[49m\u001b[43m,\u001b[49m\n\u001b[1;32m    278\u001b[0m \u001b[43m    \u001b[49m\u001b[43mfilename\u001b[49m\u001b[38;5;241;43m=\u001b[39;49m\u001b[43mgrid_filename\u001b[49m\u001b[43m,\u001b[49m\n\u001b[1;32m    279\u001b[0m \u001b[43m    \u001b[49m\u001b[43mworld_readable\u001b[49m\u001b[38;5;241;43m=\u001b[39;49m\u001b[43mpayload\u001b[49m\u001b[43m[\u001b[49m\u001b[38;5;124;43m\"\u001b[39;49m\u001b[38;5;124;43mworld_readable\u001b[39;49m\u001b[38;5;124;43m\"\u001b[39;49m\u001b[43m]\u001b[49m\u001b[43m,\u001b[49m\n\u001b[1;32m    280\u001b[0m \u001b[43m    \u001b[49m\u001b[43mauto_open\u001b[49m\u001b[38;5;241;43m=\u001b[39;49m\u001b[38;5;28;43;01mFalse\u001b[39;49;00m\u001b[43m,\u001b[49m\n\u001b[1;32m    281\u001b[0m \u001b[43m\u001b[49m\u001b[43m)\u001b[49m\n\u001b[1;32m    283\u001b[0m _set_grid_column_references(figure, grid)\n\u001b[1;32m    284\u001b[0m payload[\u001b[38;5;124m\"\u001b[39m\u001b[38;5;124mfigure\u001b[39m\u001b[38;5;124m\"\u001b[39m] \u001b[38;5;241m=\u001b[39m figure\n",
      "File \u001b[0;32m~/opt/anaconda3/lib/python3.8/site-packages/chart_studio/plotly/plotly.py:1087\u001b[0m, in \u001b[0;36mgrid_ops.upload\u001b[0;34m(cls, grid, filename, world_readable, auto_open, meta)\u001b[0m\n\u001b[1;32m   1084\u001b[0m     \u001b[38;5;28;01mif\u001b[39;00m parent_path:\n\u001b[1;32m   1085\u001b[0m         payload[\u001b[38;5;124m\"\u001b[39m\u001b[38;5;124mparent_path\u001b[39m\u001b[38;5;124m\"\u001b[39m] \u001b[38;5;241m=\u001b[39m parent_path\n\u001b[0;32m-> 1087\u001b[0m file_info \u001b[38;5;241m=\u001b[39m \u001b[43m_create_or_overwrite_grid\u001b[49m\u001b[43m(\u001b[49m\u001b[43mpayload\u001b[49m\u001b[43m)\u001b[49m\n\u001b[1;32m   1089\u001b[0m cols \u001b[38;5;241m=\u001b[39m file_info[\u001b[38;5;124m\"\u001b[39m\u001b[38;5;124mcols\u001b[39m\u001b[38;5;124m\"\u001b[39m]\n\u001b[1;32m   1090\u001b[0m fid \u001b[38;5;241m=\u001b[39m file_info[\u001b[38;5;124m\"\u001b[39m\u001b[38;5;124mfid\u001b[39m\u001b[38;5;124m\"\u001b[39m]\n",
      "File \u001b[0;32m~/opt/anaconda3/lib/python3.8/site-packages/chart_studio/plotly/plotly.py:1528\u001b[0m, in \u001b[0;36m_create_or_overwrite_grid\u001b[0;34m(data, max_retries)\u001b[0m\n\u001b[1;32m   1526\u001b[0m \u001b[38;5;28;01mif\u001b[39;00m filename:\n\u001b[1;32m   1527\u001b[0m     \u001b[38;5;28;01mtry\u001b[39;00m:\n\u001b[0;32m-> 1528\u001b[0m         lookup_res \u001b[38;5;241m=\u001b[39m \u001b[43mv2\u001b[49m\u001b[38;5;241;43m.\u001b[39;49m\u001b[43mfiles\u001b[49m\u001b[38;5;241;43m.\u001b[39;49m\u001b[43mlookup\u001b[49m\u001b[43m(\u001b[49m\u001b[43mfilename\u001b[49m\u001b[43m)\u001b[49m\n\u001b[1;32m   1529\u001b[0m         \u001b[38;5;28;01mif\u001b[39;00m \u001b[38;5;28misinstance\u001b[39m(lookup_res\u001b[38;5;241m.\u001b[39mcontent, \u001b[38;5;28mbytes\u001b[39m):\n\u001b[1;32m   1530\u001b[0m             content \u001b[38;5;241m=\u001b[39m lookup_res\u001b[38;5;241m.\u001b[39mcontent\u001b[38;5;241m.\u001b[39mdecode(\u001b[38;5;124m\"\u001b[39m\u001b[38;5;124mutf-8\u001b[39m\u001b[38;5;124m\"\u001b[39m)\n",
      "File \u001b[0;32m~/opt/anaconda3/lib/python3.8/site-packages/chart_studio/api/v2/files.py:85\u001b[0m, in \u001b[0;36mlookup\u001b[0;34m(path, parent, user, exists)\u001b[0m\n\u001b[1;32m     83\u001b[0m url \u001b[38;5;241m=\u001b[39m build_url(RESOURCE, route\u001b[38;5;241m=\u001b[39m\u001b[38;5;124m\"\u001b[39m\u001b[38;5;124mlookup\u001b[39m\u001b[38;5;124m\"\u001b[39m)\n\u001b[1;32m     84\u001b[0m params \u001b[38;5;241m=\u001b[39m make_params(path\u001b[38;5;241m=\u001b[39mpath, parent\u001b[38;5;241m=\u001b[39mparent, user\u001b[38;5;241m=\u001b[39muser, exists\u001b[38;5;241m=\u001b[39mexists)\n\u001b[0;32m---> 85\u001b[0m \u001b[38;5;28;01mreturn\u001b[39;00m \u001b[43mrequest\u001b[49m\u001b[43m(\u001b[49m\u001b[38;5;124;43m\"\u001b[39;49m\u001b[38;5;124;43mget\u001b[39;49m\u001b[38;5;124;43m\"\u001b[39;49m\u001b[43m,\u001b[49m\u001b[43m \u001b[49m\u001b[43murl\u001b[49m\u001b[43m,\u001b[49m\u001b[43m \u001b[49m\u001b[43mparams\u001b[49m\u001b[38;5;241;43m=\u001b[39;49m\u001b[43mparams\u001b[49m\u001b[43m)\u001b[49m\n",
      "File \u001b[0;32m~/opt/anaconda3/lib/python3.8/site-packages/retrying.py:56\u001b[0m, in \u001b[0;36mretry.<locals>.wrap.<locals>.wrapped_f\u001b[0;34m(*args, **kw)\u001b[0m\n\u001b[1;32m     54\u001b[0m \u001b[38;5;129m@six\u001b[39m\u001b[38;5;241m.\u001b[39mwraps(f)\n\u001b[1;32m     55\u001b[0m \u001b[38;5;28;01mdef\u001b[39;00m \u001b[38;5;21mwrapped_f\u001b[39m(\u001b[38;5;241m*\u001b[39margs, \u001b[38;5;241m*\u001b[39m\u001b[38;5;241m*\u001b[39mkw):\n\u001b[0;32m---> 56\u001b[0m     \u001b[38;5;28;01mreturn\u001b[39;00m \u001b[43mRetrying\u001b[49m\u001b[43m(\u001b[49m\u001b[38;5;241;43m*\u001b[39;49m\u001b[43mdargs\u001b[49m\u001b[43m,\u001b[49m\u001b[43m \u001b[49m\u001b[38;5;241;43m*\u001b[39;49m\u001b[38;5;241;43m*\u001b[39;49m\u001b[43mdkw\u001b[49m\u001b[43m)\u001b[49m\u001b[38;5;241;43m.\u001b[39;49m\u001b[43mcall\u001b[49m\u001b[43m(\u001b[49m\u001b[43mf\u001b[49m\u001b[43m,\u001b[49m\u001b[43m \u001b[49m\u001b[38;5;241;43m*\u001b[39;49m\u001b[43margs\u001b[49m\u001b[43m,\u001b[49m\u001b[43m \u001b[49m\u001b[38;5;241;43m*\u001b[39;49m\u001b[38;5;241;43m*\u001b[39;49m\u001b[43mkw\u001b[49m\u001b[43m)\u001b[49m\n",
      "File \u001b[0;32m~/opt/anaconda3/lib/python3.8/site-packages/retrying.py:274\u001b[0m, in \u001b[0;36mRetrying.call\u001b[0;34m(self, fn, *args, **kwargs)\u001b[0m\n\u001b[1;32m    272\u001b[0m         jitter \u001b[38;5;241m=\u001b[39m random\u001b[38;5;241m.\u001b[39mrandom() \u001b[38;5;241m*\u001b[39m \u001b[38;5;28mself\u001b[39m\u001b[38;5;241m.\u001b[39m_wait_jitter_max\n\u001b[1;32m    273\u001b[0m         sleep \u001b[38;5;241m=\u001b[39m sleep \u001b[38;5;241m+\u001b[39m \u001b[38;5;28mmax\u001b[39m(\u001b[38;5;241m0\u001b[39m, jitter)\n\u001b[0;32m--> 274\u001b[0m     \u001b[43mtime\u001b[49m\u001b[38;5;241;43m.\u001b[39;49m\u001b[43msleep\u001b[49m\u001b[43m(\u001b[49m\u001b[43msleep\u001b[49m\u001b[43m \u001b[49m\u001b[38;5;241;43m/\u001b[39;49m\u001b[43m \u001b[49m\u001b[38;5;241;43m1000.0\u001b[39;49m\u001b[43m)\u001b[49m\n\u001b[1;32m    276\u001b[0m attempt_number \u001b[38;5;241m+\u001b[39m\u001b[38;5;241m=\u001b[39m \u001b[38;5;241m1\u001b[39m\n",
      "\u001b[0;31mKeyboardInterrupt\u001b[0m: "
     ]
    }
   ],
   "source": [
    "\n",
    "import plotly.plotly as py\n",
    "import plotly.graph_objs as go\n",
    "\n",
    "base_chart = {\n",
    "    \"values\": [40, 10, 10, 10, 10, 10, 10],\n",
    "    \"labels\": [\"-\", \"0\", \"20\", \"40\", \"60\", \"80\", \"100\"],\n",
    "    \"domain\": {\"x\": [0, .48]},\n",
    "    \"marker\": {\n",
    "        \"colors\": [\n",
    "            'rgb(255, 255, 255)',\n",
    "            'rgb(255, 255, 255)',\n",
    "            'rgb(255, 255, 255)',\n",
    "            'rgb(255, 255, 255)',\n",
    "            'rgb(255, 255, 255)',\n",
    "            'rgb(255, 255, 255)',\n",
    "            'rgb(255, 255, 255)'\n",
    "        ],\n",
    "        \"line\": {\n",
    "            \"width\": 1\n",
    "        }\n",
    "    },\n",
    "    \"name\": \"Gauge\",\n",
    "    \"hole\": .4,\n",
    "    \"type\": \"pie\",\n",
    "    \"direction\": \"clockwise\",\n",
    "    \"rotation\": 108,\n",
    "    \"showlegend\": False,\n",
    "    \"hoverinfo\": \"none\",\n",
    "    \"textinfo\": \"label\",\n",
    "    \"textposition\": \"outside\"\n",
    "}\n",
    "\n",
    "meter_chart = {\n",
    "    \"values\": [50, 10, 10, 10, 10, 10],\n",
    "    \"labels\": [\"Log Level\", \"Debug\", \"Info\", \"Warn\", \"Error\", \"Fatal\"],\n",
    "    \"marker\": {\n",
    "        'colors': [\n",
    "            'rgb(255, 255, 255)',\n",
    "            'rgb(232,226,202)',\n",
    "            'rgb(226,210,172)',\n",
    "            'rgb(223,189,139)',\n",
    "            'rgb(223,162,103)',\n",
    "            'rgb(226,126,64)'\n",
    "        ]\n",
    "    },\n",
    "    \"domain\": {\"x\": [0, 0.48]},\n",
    "    \"name\": \"Gauge\",\n",
    "    \"hole\": .3,\n",
    "    \"type\": \"pie\",\n",
    "    \"direction\": \"clockwise\",\n",
    "    \"rotation\": 90,\n",
    "    \"showlegend\": False,\n",
    "    \"textinfo\": \"label\",\n",
    "    \"textposition\": \"inside\",\n",
    "    \"hoverinfo\": \"none\"\n",
    "}\n",
    "\n",
    "layout = {\n",
    "    'xaxis': {\n",
    "        'showticklabels': False,\n",
    "        'showgrid': False,\n",
    "        'zeroline': False,\n",
    "    },\n",
    "    'yaxis': {\n",
    "        'showticklabels': False,\n",
    "        'showgrid': False,\n",
    "        'zeroline': False,\n",
    "    },\n",
    "    'shapes': [\n",
    "        {\n",
    "            'type': 'path',\n",
    "            'path': 'M 0.235 0.5 L 0.24 0.65 L 0.245 0.5 Z',\n",
    "            'fillcolor': 'rgba(44, 160, 101, 0.5)',\n",
    "            'line': {\n",
    "                'width': 0.5\n",
    "            },\n",
    "            'xref': 'paper',\n",
    "            'yref': 'paper'\n",
    "        }\n",
    "    ],\n",
    "    'annotations': [\n",
    "        {\n",
    "            'xref': 'paper',\n",
    "            'yref': 'paper',\n",
    "            'x': 0.23,\n",
    "            'y': 0.45,\n",
    "            'text': '50',\n",
    "            'showarrow': False\n",
    "        }\n",
    "    ]\n",
    "}\n",
    "\n",
    "# we don't want the boundary now\n",
    "base_chart['marker']['line']['width'] = 0\n",
    "\n",
    "fig = {\"data\": [base_chart, meter_chart],\n",
    "       \"layout\": layout}\n",
    "py.iplot(fig, filename='gauge-meter-chart')"
   ]
  },
  {
   "cell_type": "code",
   "execution_count": 5,
   "id": "ab7c46c3",
   "metadata": {},
   "outputs": [],
   "source": []
  },
  {
   "cell_type": "code",
   "execution_count": null,
   "id": "2d98386b",
   "metadata": {},
   "outputs": [],
   "source": []
  },
  {
   "cell_type": "code",
   "execution_count": 14,
   "id": "e2013d7a",
   "metadata": {},
   "outputs": [
    {
     "data": {
      "application/vnd.plotly.v1+json": {
       "config": {
        "plotlyServerURL": "https://plot.ly"
       },
       "data": [
        {
         "domain": {
          "x": [
           0,
           1
          ],
          "y": [
           0,
           1
          ]
         },
         "gauge": {
          "axis": {
           "range": [
            null,
            100
           ]
          },
          "steps": [
           {
            "color": "lightgray",
            "range": [
             0,
             20
            ]
           },
           {
            "color": "gray",
            "range": [
             20,
             40
            ]
           },
           {
            "color": "lightgray",
            "range": [
             40,
             60
            ]
           },
           {
            "color": "gray",
            "range": [
             60,
             80
            ]
           },
           {
            "color": "lightgray",
            "range": [
             80,
             100
            ]
           }
          ],
          "threshold": {
           "line": {
            "color": "red",
            "width": 4
           },
           "thickness": 0.75,
           "value": 90
          }
         },
         "mode": "gauge+number",
         "title": {
          "text": "Speed"
         },
         "type": "indicator",
         "value": 70
        }
       ],
       "layout": {
        "template": {
         "data": {
          "bar": [
           {
            "error_x": {
             "color": "#2a3f5f"
            },
            "error_y": {
             "color": "#2a3f5f"
            },
            "marker": {
             "line": {
              "color": "#E5ECF6",
              "width": 0.5
             },
             "pattern": {
              "fillmode": "overlay",
              "size": 10,
              "solidity": 0.2
             }
            },
            "type": "bar"
           }
          ],
          "barpolar": [
           {
            "marker": {
             "line": {
              "color": "#E5ECF6",
              "width": 0.5
             },
             "pattern": {
              "fillmode": "overlay",
              "size": 10,
              "solidity": 0.2
             }
            },
            "type": "barpolar"
           }
          ],
          "carpet": [
           {
            "aaxis": {
             "endlinecolor": "#2a3f5f",
             "gridcolor": "white",
             "linecolor": "white",
             "minorgridcolor": "white",
             "startlinecolor": "#2a3f5f"
            },
            "baxis": {
             "endlinecolor": "#2a3f5f",
             "gridcolor": "white",
             "linecolor": "white",
             "minorgridcolor": "white",
             "startlinecolor": "#2a3f5f"
            },
            "type": "carpet"
           }
          ],
          "choropleth": [
           {
            "colorbar": {
             "outlinewidth": 0,
             "ticks": ""
            },
            "type": "choropleth"
           }
          ],
          "contour": [
           {
            "colorbar": {
             "outlinewidth": 0,
             "ticks": ""
            },
            "colorscale": [
             [
              0,
              "#0d0887"
             ],
             [
              0.1111111111111111,
              "#46039f"
             ],
             [
              0.2222222222222222,
              "#7201a8"
             ],
             [
              0.3333333333333333,
              "#9c179e"
             ],
             [
              0.4444444444444444,
              "#bd3786"
             ],
             [
              0.5555555555555556,
              "#d8576b"
             ],
             [
              0.6666666666666666,
              "#ed7953"
             ],
             [
              0.7777777777777778,
              "#fb9f3a"
             ],
             [
              0.8888888888888888,
              "#fdca26"
             ],
             [
              1,
              "#f0f921"
             ]
            ],
            "type": "contour"
           }
          ],
          "contourcarpet": [
           {
            "colorbar": {
             "outlinewidth": 0,
             "ticks": ""
            },
            "type": "contourcarpet"
           }
          ],
          "heatmap": [
           {
            "colorbar": {
             "outlinewidth": 0,
             "ticks": ""
            },
            "colorscale": [
             [
              0,
              "#0d0887"
             ],
             [
              0.1111111111111111,
              "#46039f"
             ],
             [
              0.2222222222222222,
              "#7201a8"
             ],
             [
              0.3333333333333333,
              "#9c179e"
             ],
             [
              0.4444444444444444,
              "#bd3786"
             ],
             [
              0.5555555555555556,
              "#d8576b"
             ],
             [
              0.6666666666666666,
              "#ed7953"
             ],
             [
              0.7777777777777778,
              "#fb9f3a"
             ],
             [
              0.8888888888888888,
              "#fdca26"
             ],
             [
              1,
              "#f0f921"
             ]
            ],
            "type": "heatmap"
           }
          ],
          "heatmapgl": [
           {
            "colorbar": {
             "outlinewidth": 0,
             "ticks": ""
            },
            "colorscale": [
             [
              0,
              "#0d0887"
             ],
             [
              0.1111111111111111,
              "#46039f"
             ],
             [
              0.2222222222222222,
              "#7201a8"
             ],
             [
              0.3333333333333333,
              "#9c179e"
             ],
             [
              0.4444444444444444,
              "#bd3786"
             ],
             [
              0.5555555555555556,
              "#d8576b"
             ],
             [
              0.6666666666666666,
              "#ed7953"
             ],
             [
              0.7777777777777778,
              "#fb9f3a"
             ],
             [
              0.8888888888888888,
              "#fdca26"
             ],
             [
              1,
              "#f0f921"
             ]
            ],
            "type": "heatmapgl"
           }
          ],
          "histogram": [
           {
            "marker": {
             "pattern": {
              "fillmode": "overlay",
              "size": 10,
              "solidity": 0.2
             }
            },
            "type": "histogram"
           }
          ],
          "histogram2d": [
           {
            "colorbar": {
             "outlinewidth": 0,
             "ticks": ""
            },
            "colorscale": [
             [
              0,
              "#0d0887"
             ],
             [
              0.1111111111111111,
              "#46039f"
             ],
             [
              0.2222222222222222,
              "#7201a8"
             ],
             [
              0.3333333333333333,
              "#9c179e"
             ],
             [
              0.4444444444444444,
              "#bd3786"
             ],
             [
              0.5555555555555556,
              "#d8576b"
             ],
             [
              0.6666666666666666,
              "#ed7953"
             ],
             [
              0.7777777777777778,
              "#fb9f3a"
             ],
             [
              0.8888888888888888,
              "#fdca26"
             ],
             [
              1,
              "#f0f921"
             ]
            ],
            "type": "histogram2d"
           }
          ],
          "histogram2dcontour": [
           {
            "colorbar": {
             "outlinewidth": 0,
             "ticks": ""
            },
            "colorscale": [
             [
              0,
              "#0d0887"
             ],
             [
              0.1111111111111111,
              "#46039f"
             ],
             [
              0.2222222222222222,
              "#7201a8"
             ],
             [
              0.3333333333333333,
              "#9c179e"
             ],
             [
              0.4444444444444444,
              "#bd3786"
             ],
             [
              0.5555555555555556,
              "#d8576b"
             ],
             [
              0.6666666666666666,
              "#ed7953"
             ],
             [
              0.7777777777777778,
              "#fb9f3a"
             ],
             [
              0.8888888888888888,
              "#fdca26"
             ],
             [
              1,
              "#f0f921"
             ]
            ],
            "type": "histogram2dcontour"
           }
          ],
          "mesh3d": [
           {
            "colorbar": {
             "outlinewidth": 0,
             "ticks": ""
            },
            "type": "mesh3d"
           }
          ],
          "parcoords": [
           {
            "line": {
             "colorbar": {
              "outlinewidth": 0,
              "ticks": ""
             }
            },
            "type": "parcoords"
           }
          ],
          "pie": [
           {
            "automargin": true,
            "type": "pie"
           }
          ],
          "scatter": [
           {
            "fillpattern": {
             "fillmode": "overlay",
             "size": 10,
             "solidity": 0.2
            },
            "type": "scatter"
           }
          ],
          "scatter3d": [
           {
            "line": {
             "colorbar": {
              "outlinewidth": 0,
              "ticks": ""
             }
            },
            "marker": {
             "colorbar": {
              "outlinewidth": 0,
              "ticks": ""
             }
            },
            "type": "scatter3d"
           }
          ],
          "scattercarpet": [
           {
            "marker": {
             "colorbar": {
              "outlinewidth": 0,
              "ticks": ""
             }
            },
            "type": "scattercarpet"
           }
          ],
          "scattergeo": [
           {
            "marker": {
             "colorbar": {
              "outlinewidth": 0,
              "ticks": ""
             }
            },
            "type": "scattergeo"
           }
          ],
          "scattergl": [
           {
            "marker": {
             "colorbar": {
              "outlinewidth": 0,
              "ticks": ""
             }
            },
            "type": "scattergl"
           }
          ],
          "scattermapbox": [
           {
            "marker": {
             "colorbar": {
              "outlinewidth": 0,
              "ticks": ""
             }
            },
            "type": "scattermapbox"
           }
          ],
          "scatterpolar": [
           {
            "marker": {
             "colorbar": {
              "outlinewidth": 0,
              "ticks": ""
             }
            },
            "type": "scatterpolar"
           }
          ],
          "scatterpolargl": [
           {
            "marker": {
             "colorbar": {
              "outlinewidth": 0,
              "ticks": ""
             }
            },
            "type": "scatterpolargl"
           }
          ],
          "scatterternary": [
           {
            "marker": {
             "colorbar": {
              "outlinewidth": 0,
              "ticks": ""
             }
            },
            "type": "scatterternary"
           }
          ],
          "surface": [
           {
            "colorbar": {
             "outlinewidth": 0,
             "ticks": ""
            },
            "colorscale": [
             [
              0,
              "#0d0887"
             ],
             [
              0.1111111111111111,
              "#46039f"
             ],
             [
              0.2222222222222222,
              "#7201a8"
             ],
             [
              0.3333333333333333,
              "#9c179e"
             ],
             [
              0.4444444444444444,
              "#bd3786"
             ],
             [
              0.5555555555555556,
              "#d8576b"
             ],
             [
              0.6666666666666666,
              "#ed7953"
             ],
             [
              0.7777777777777778,
              "#fb9f3a"
             ],
             [
              0.8888888888888888,
              "#fdca26"
             ],
             [
              1,
              "#f0f921"
             ]
            ],
            "type": "surface"
           }
          ],
          "table": [
           {
            "cells": {
             "fill": {
              "color": "#EBF0F8"
             },
             "line": {
              "color": "white"
             }
            },
            "header": {
             "fill": {
              "color": "#C8D4E3"
             },
             "line": {
              "color": "white"
             }
            },
            "type": "table"
           }
          ]
         },
         "layout": {
          "annotationdefaults": {
           "arrowcolor": "#2a3f5f",
           "arrowhead": 0,
           "arrowwidth": 1
          },
          "autotypenumbers": "strict",
          "coloraxis": {
           "colorbar": {
            "outlinewidth": 0,
            "ticks": ""
           }
          },
          "colorscale": {
           "diverging": [
            [
             0,
             "#8e0152"
            ],
            [
             0.1,
             "#c51b7d"
            ],
            [
             0.2,
             "#de77ae"
            ],
            [
             0.3,
             "#f1b6da"
            ],
            [
             0.4,
             "#fde0ef"
            ],
            [
             0.5,
             "#f7f7f7"
            ],
            [
             0.6,
             "#e6f5d0"
            ],
            [
             0.7,
             "#b8e186"
            ],
            [
             0.8,
             "#7fbc41"
            ],
            [
             0.9,
             "#4d9221"
            ],
            [
             1,
             "#276419"
            ]
           ],
           "sequential": [
            [
             0,
             "#0d0887"
            ],
            [
             0.1111111111111111,
             "#46039f"
            ],
            [
             0.2222222222222222,
             "#7201a8"
            ],
            [
             0.3333333333333333,
             "#9c179e"
            ],
            [
             0.4444444444444444,
             "#bd3786"
            ],
            [
             0.5555555555555556,
             "#d8576b"
            ],
            [
             0.6666666666666666,
             "#ed7953"
            ],
            [
             0.7777777777777778,
             "#fb9f3a"
            ],
            [
             0.8888888888888888,
             "#fdca26"
            ],
            [
             1,
             "#f0f921"
            ]
           ],
           "sequentialminus": [
            [
             0,
             "#0d0887"
            ],
            [
             0.1111111111111111,
             "#46039f"
            ],
            [
             0.2222222222222222,
             "#7201a8"
            ],
            [
             0.3333333333333333,
             "#9c179e"
            ],
            [
             0.4444444444444444,
             "#bd3786"
            ],
            [
             0.5555555555555556,
             "#d8576b"
            ],
            [
             0.6666666666666666,
             "#ed7953"
            ],
            [
             0.7777777777777778,
             "#fb9f3a"
            ],
            [
             0.8888888888888888,
             "#fdca26"
            ],
            [
             1,
             "#f0f921"
            ]
           ]
          },
          "colorway": [
           "#636efa",
           "#EF553B",
           "#00cc96",
           "#ab63fa",
           "#FFA15A",
           "#19d3f3",
           "#FF6692",
           "#B6E880",
           "#FF97FF",
           "#FECB52"
          ],
          "font": {
           "color": "#2a3f5f"
          },
          "geo": {
           "bgcolor": "white",
           "lakecolor": "white",
           "landcolor": "#E5ECF6",
           "showlakes": true,
           "showland": true,
           "subunitcolor": "white"
          },
          "hoverlabel": {
           "align": "left"
          },
          "hovermode": "closest",
          "mapbox": {
           "style": "light"
          },
          "paper_bgcolor": "white",
          "plot_bgcolor": "#E5ECF6",
          "polar": {
           "angularaxis": {
            "gridcolor": "white",
            "linecolor": "white",
            "ticks": ""
           },
           "bgcolor": "#E5ECF6",
           "radialaxis": {
            "gridcolor": "white",
            "linecolor": "white",
            "ticks": ""
           }
          },
          "scene": {
           "xaxis": {
            "backgroundcolor": "#E5ECF6",
            "gridcolor": "white",
            "gridwidth": 2,
            "linecolor": "white",
            "showbackground": true,
            "ticks": "",
            "zerolinecolor": "white"
           },
           "yaxis": {
            "backgroundcolor": "#E5ECF6",
            "gridcolor": "white",
            "gridwidth": 2,
            "linecolor": "white",
            "showbackground": true,
            "ticks": "",
            "zerolinecolor": "white"
           },
           "zaxis": {
            "backgroundcolor": "#E5ECF6",
            "gridcolor": "white",
            "gridwidth": 2,
            "linecolor": "white",
            "showbackground": true,
            "ticks": "",
            "zerolinecolor": "white"
           }
          },
          "shapedefaults": {
           "line": {
            "color": "#2a3f5f"
           }
          },
          "ternary": {
           "aaxis": {
            "gridcolor": "white",
            "linecolor": "white",
            "ticks": ""
           },
           "baxis": {
            "gridcolor": "white",
            "linecolor": "white",
            "ticks": ""
           },
           "bgcolor": "#E5ECF6",
           "caxis": {
            "gridcolor": "white",
            "linecolor": "white",
            "ticks": ""
           }
          },
          "title": {
           "x": 0.05
          },
          "xaxis": {
           "automargin": true,
           "gridcolor": "white",
           "linecolor": "white",
           "ticks": "",
           "title": {
            "standoff": 15
           },
           "zerolinecolor": "white",
           "zerolinewidth": 2
          },
          "yaxis": {
           "automargin": true,
           "gridcolor": "white",
           "linecolor": "white",
           "ticks": "",
           "title": {
            "standoff": 15
           },
           "zerolinecolor": "white",
           "zerolinewidth": 2
          }
         }
        }
       }
      },
      "text/html": [
       "<div>                            <div id=\"ead49af7-4e34-4f4d-9e48-15ae6cf457e7\" class=\"plotly-graph-div\" style=\"height:525px; width:100%;\"></div>            <script type=\"text/javascript\">                require([\"plotly\"], function(Plotly) {                    window.PLOTLYENV=window.PLOTLYENV || {};                                    if (document.getElementById(\"ead49af7-4e34-4f4d-9e48-15ae6cf457e7\")) {                    Plotly.newPlot(                        \"ead49af7-4e34-4f4d-9e48-15ae6cf457e7\",                        [{\"domain\":{\"x\":[0,1],\"y\":[0,1]},\"gauge\":{\"axis\":{\"range\":[null,100]},\"steps\":[{\"color\":\"lightgray\",\"range\":[0,20]},{\"color\":\"gray\",\"range\":[20,40]},{\"color\":\"lightgray\",\"range\":[40,60]},{\"color\":\"gray\",\"range\":[60,80]},{\"color\":\"lightgray\",\"range\":[80,100]}],\"threshold\":{\"line\":{\"color\":\"red\",\"width\":4},\"thickness\":0.75,\"value\":90}},\"mode\":\"gauge+number\",\"title\":{\"text\":\"Speed\"},\"value\":70,\"type\":\"indicator\"}],                        {\"template\":{\"data\":{\"histogram2dcontour\":[{\"type\":\"histogram2dcontour\",\"colorbar\":{\"outlinewidth\":0,\"ticks\":\"\"},\"colorscale\":[[0.0,\"#0d0887\"],[0.1111111111111111,\"#46039f\"],[0.2222222222222222,\"#7201a8\"],[0.3333333333333333,\"#9c179e\"],[0.4444444444444444,\"#bd3786\"],[0.5555555555555556,\"#d8576b\"],[0.6666666666666666,\"#ed7953\"],[0.7777777777777778,\"#fb9f3a\"],[0.8888888888888888,\"#fdca26\"],[1.0,\"#f0f921\"]]}],\"choropleth\":[{\"type\":\"choropleth\",\"colorbar\":{\"outlinewidth\":0,\"ticks\":\"\"}}],\"histogram2d\":[{\"type\":\"histogram2d\",\"colorbar\":{\"outlinewidth\":0,\"ticks\":\"\"},\"colorscale\":[[0.0,\"#0d0887\"],[0.1111111111111111,\"#46039f\"],[0.2222222222222222,\"#7201a8\"],[0.3333333333333333,\"#9c179e\"],[0.4444444444444444,\"#bd3786\"],[0.5555555555555556,\"#d8576b\"],[0.6666666666666666,\"#ed7953\"],[0.7777777777777778,\"#fb9f3a\"],[0.8888888888888888,\"#fdca26\"],[1.0,\"#f0f921\"]]}],\"heatmap\":[{\"type\":\"heatmap\",\"colorbar\":{\"outlinewidth\":0,\"ticks\":\"\"},\"colorscale\":[[0.0,\"#0d0887\"],[0.1111111111111111,\"#46039f\"],[0.2222222222222222,\"#7201a8\"],[0.3333333333333333,\"#9c179e\"],[0.4444444444444444,\"#bd3786\"],[0.5555555555555556,\"#d8576b\"],[0.6666666666666666,\"#ed7953\"],[0.7777777777777778,\"#fb9f3a\"],[0.8888888888888888,\"#fdca26\"],[1.0,\"#f0f921\"]]}],\"heatmapgl\":[{\"type\":\"heatmapgl\",\"colorbar\":{\"outlinewidth\":0,\"ticks\":\"\"},\"colorscale\":[[0.0,\"#0d0887\"],[0.1111111111111111,\"#46039f\"],[0.2222222222222222,\"#7201a8\"],[0.3333333333333333,\"#9c179e\"],[0.4444444444444444,\"#bd3786\"],[0.5555555555555556,\"#d8576b\"],[0.6666666666666666,\"#ed7953\"],[0.7777777777777778,\"#fb9f3a\"],[0.8888888888888888,\"#fdca26\"],[1.0,\"#f0f921\"]]}],\"contourcarpet\":[{\"type\":\"contourcarpet\",\"colorbar\":{\"outlinewidth\":0,\"ticks\":\"\"}}],\"contour\":[{\"type\":\"contour\",\"colorbar\":{\"outlinewidth\":0,\"ticks\":\"\"},\"colorscale\":[[0.0,\"#0d0887\"],[0.1111111111111111,\"#46039f\"],[0.2222222222222222,\"#7201a8\"],[0.3333333333333333,\"#9c179e\"],[0.4444444444444444,\"#bd3786\"],[0.5555555555555556,\"#d8576b\"],[0.6666666666666666,\"#ed7953\"],[0.7777777777777778,\"#fb9f3a\"],[0.8888888888888888,\"#fdca26\"],[1.0,\"#f0f921\"]]}],\"surface\":[{\"type\":\"surface\",\"colorbar\":{\"outlinewidth\":0,\"ticks\":\"\"},\"colorscale\":[[0.0,\"#0d0887\"],[0.1111111111111111,\"#46039f\"],[0.2222222222222222,\"#7201a8\"],[0.3333333333333333,\"#9c179e\"],[0.4444444444444444,\"#bd3786\"],[0.5555555555555556,\"#d8576b\"],[0.6666666666666666,\"#ed7953\"],[0.7777777777777778,\"#fb9f3a\"],[0.8888888888888888,\"#fdca26\"],[1.0,\"#f0f921\"]]}],\"mesh3d\":[{\"type\":\"mesh3d\",\"colorbar\":{\"outlinewidth\":0,\"ticks\":\"\"}}],\"scatter\":[{\"fillpattern\":{\"fillmode\":\"overlay\",\"size\":10,\"solidity\":0.2},\"type\":\"scatter\"}],\"parcoords\":[{\"type\":\"parcoords\",\"line\":{\"colorbar\":{\"outlinewidth\":0,\"ticks\":\"\"}}}],\"scatterpolargl\":[{\"type\":\"scatterpolargl\",\"marker\":{\"colorbar\":{\"outlinewidth\":0,\"ticks\":\"\"}}}],\"bar\":[{\"error_x\":{\"color\":\"#2a3f5f\"},\"error_y\":{\"color\":\"#2a3f5f\"},\"marker\":{\"line\":{\"color\":\"#E5ECF6\",\"width\":0.5},\"pattern\":{\"fillmode\":\"overlay\",\"size\":10,\"solidity\":0.2}},\"type\":\"bar\"}],\"scattergeo\":[{\"type\":\"scattergeo\",\"marker\":{\"colorbar\":{\"outlinewidth\":0,\"ticks\":\"\"}}}],\"scatterpolar\":[{\"type\":\"scatterpolar\",\"marker\":{\"colorbar\":{\"outlinewidth\":0,\"ticks\":\"\"}}}],\"histogram\":[{\"marker\":{\"pattern\":{\"fillmode\":\"overlay\",\"size\":10,\"solidity\":0.2}},\"type\":\"histogram\"}],\"scattergl\":[{\"type\":\"scattergl\",\"marker\":{\"colorbar\":{\"outlinewidth\":0,\"ticks\":\"\"}}}],\"scatter3d\":[{\"type\":\"scatter3d\",\"line\":{\"colorbar\":{\"outlinewidth\":0,\"ticks\":\"\"}},\"marker\":{\"colorbar\":{\"outlinewidth\":0,\"ticks\":\"\"}}}],\"scattermapbox\":[{\"type\":\"scattermapbox\",\"marker\":{\"colorbar\":{\"outlinewidth\":0,\"ticks\":\"\"}}}],\"scatterternary\":[{\"type\":\"scatterternary\",\"marker\":{\"colorbar\":{\"outlinewidth\":0,\"ticks\":\"\"}}}],\"scattercarpet\":[{\"type\":\"scattercarpet\",\"marker\":{\"colorbar\":{\"outlinewidth\":0,\"ticks\":\"\"}}}],\"carpet\":[{\"aaxis\":{\"endlinecolor\":\"#2a3f5f\",\"gridcolor\":\"white\",\"linecolor\":\"white\",\"minorgridcolor\":\"white\",\"startlinecolor\":\"#2a3f5f\"},\"baxis\":{\"endlinecolor\":\"#2a3f5f\",\"gridcolor\":\"white\",\"linecolor\":\"white\",\"minorgridcolor\":\"white\",\"startlinecolor\":\"#2a3f5f\"},\"type\":\"carpet\"}],\"table\":[{\"cells\":{\"fill\":{\"color\":\"#EBF0F8\"},\"line\":{\"color\":\"white\"}},\"header\":{\"fill\":{\"color\":\"#C8D4E3\"},\"line\":{\"color\":\"white\"}},\"type\":\"table\"}],\"barpolar\":[{\"marker\":{\"line\":{\"color\":\"#E5ECF6\",\"width\":0.5},\"pattern\":{\"fillmode\":\"overlay\",\"size\":10,\"solidity\":0.2}},\"type\":\"barpolar\"}],\"pie\":[{\"automargin\":true,\"type\":\"pie\"}]},\"layout\":{\"autotypenumbers\":\"strict\",\"colorway\":[\"#636efa\",\"#EF553B\",\"#00cc96\",\"#ab63fa\",\"#FFA15A\",\"#19d3f3\",\"#FF6692\",\"#B6E880\",\"#FF97FF\",\"#FECB52\"],\"font\":{\"color\":\"#2a3f5f\"},\"hovermode\":\"closest\",\"hoverlabel\":{\"align\":\"left\"},\"paper_bgcolor\":\"white\",\"plot_bgcolor\":\"#E5ECF6\",\"polar\":{\"bgcolor\":\"#E5ECF6\",\"angularaxis\":{\"gridcolor\":\"white\",\"linecolor\":\"white\",\"ticks\":\"\"},\"radialaxis\":{\"gridcolor\":\"white\",\"linecolor\":\"white\",\"ticks\":\"\"}},\"ternary\":{\"bgcolor\":\"#E5ECF6\",\"aaxis\":{\"gridcolor\":\"white\",\"linecolor\":\"white\",\"ticks\":\"\"},\"baxis\":{\"gridcolor\":\"white\",\"linecolor\":\"white\",\"ticks\":\"\"},\"caxis\":{\"gridcolor\":\"white\",\"linecolor\":\"white\",\"ticks\":\"\"}},\"coloraxis\":{\"colorbar\":{\"outlinewidth\":0,\"ticks\":\"\"}},\"colorscale\":{\"sequential\":[[0.0,\"#0d0887\"],[0.1111111111111111,\"#46039f\"],[0.2222222222222222,\"#7201a8\"],[0.3333333333333333,\"#9c179e\"],[0.4444444444444444,\"#bd3786\"],[0.5555555555555556,\"#d8576b\"],[0.6666666666666666,\"#ed7953\"],[0.7777777777777778,\"#fb9f3a\"],[0.8888888888888888,\"#fdca26\"],[1.0,\"#f0f921\"]],\"sequentialminus\":[[0.0,\"#0d0887\"],[0.1111111111111111,\"#46039f\"],[0.2222222222222222,\"#7201a8\"],[0.3333333333333333,\"#9c179e\"],[0.4444444444444444,\"#bd3786\"],[0.5555555555555556,\"#d8576b\"],[0.6666666666666666,\"#ed7953\"],[0.7777777777777778,\"#fb9f3a\"],[0.8888888888888888,\"#fdca26\"],[1.0,\"#f0f921\"]],\"diverging\":[[0,\"#8e0152\"],[0.1,\"#c51b7d\"],[0.2,\"#de77ae\"],[0.3,\"#f1b6da\"],[0.4,\"#fde0ef\"],[0.5,\"#f7f7f7\"],[0.6,\"#e6f5d0\"],[0.7,\"#b8e186\"],[0.8,\"#7fbc41\"],[0.9,\"#4d9221\"],[1,\"#276419\"]]},\"xaxis\":{\"gridcolor\":\"white\",\"linecolor\":\"white\",\"ticks\":\"\",\"title\":{\"standoff\":15},\"zerolinecolor\":\"white\",\"automargin\":true,\"zerolinewidth\":2},\"yaxis\":{\"gridcolor\":\"white\",\"linecolor\":\"white\",\"ticks\":\"\",\"title\":{\"standoff\":15},\"zerolinecolor\":\"white\",\"automargin\":true,\"zerolinewidth\":2},\"scene\":{\"xaxis\":{\"backgroundcolor\":\"#E5ECF6\",\"gridcolor\":\"white\",\"linecolor\":\"white\",\"showbackground\":true,\"ticks\":\"\",\"zerolinecolor\":\"white\",\"gridwidth\":2},\"yaxis\":{\"backgroundcolor\":\"#E5ECF6\",\"gridcolor\":\"white\",\"linecolor\":\"white\",\"showbackground\":true,\"ticks\":\"\",\"zerolinecolor\":\"white\",\"gridwidth\":2},\"zaxis\":{\"backgroundcolor\":\"#E5ECF6\",\"gridcolor\":\"white\",\"linecolor\":\"white\",\"showbackground\":true,\"ticks\":\"\",\"zerolinecolor\":\"white\",\"gridwidth\":2}},\"shapedefaults\":{\"line\":{\"color\":\"#2a3f5f\"}},\"annotationdefaults\":{\"arrowcolor\":\"#2a3f5f\",\"arrowhead\":0,\"arrowwidth\":1},\"geo\":{\"bgcolor\":\"white\",\"landcolor\":\"#E5ECF6\",\"subunitcolor\":\"white\",\"showland\":true,\"showlakes\":true,\"lakecolor\":\"white\"},\"title\":{\"x\":0.05},\"mapbox\":{\"style\":\"light\"}}}},                        {\"responsive\": true}                    ).then(function(){\n",
       "                            \n",
       "var gd = document.getElementById('ead49af7-4e34-4f4d-9e48-15ae6cf457e7');\n",
       "var x = new MutationObserver(function (mutations, observer) {{\n",
       "        var display = window.getComputedStyle(gd).display;\n",
       "        if (!display || display === 'none') {{\n",
       "            console.log([gd, 'removed!']);\n",
       "            Plotly.purge(gd);\n",
       "            observer.disconnect();\n",
       "        }}\n",
       "}});\n",
       "\n",
       "// Listen for the removal of the full notebook cells\n",
       "var notebookContainer = gd.closest('#notebook-container');\n",
       "if (notebookContainer) {{\n",
       "    x.observe(notebookContainer, {childList: true});\n",
       "}}\n",
       "\n",
       "// Listen for the clearing of the current output cell\n",
       "var outputEl = gd.closest('.output');\n",
       "if (outputEl) {{\n",
       "    x.observe(outputEl, {childList: true});\n",
       "}}\n",
       "\n",
       "                        })                };                });            </script>        </div>"
      ]
     },
     "metadata": {},
     "output_type": "display_data"
    }
   ],
   "source": [
    "import plotly.graph_objects as go\n",
    "\n",
    "# Define the gauge chart layout\n",
    "fig = go.Figure(go.Indicator(\n",
    "    mode = \"gauge+number\",\n",
    "    value = 70,\n",
    "    domain = {'x': [0, 1], 'y': [0, 1]},\n",
    "    title = {'text': \"Speed\"},\n",
    "    gauge = {\n",
    "        'axis': {'range': [None, 100]},\n",
    "        'steps' : [\n",
    "            {'range': [0, 20], 'color': \"lightgray\"},\n",
    "            {'range': [20, 40], 'color': \"gray\"},\n",
    "            {'range': [40, 60], 'color': \"lightgray\"},\n",
    "            {'range': [60, 80], 'color': \"gray\"},\n",
    "            {'range': [80, 100], 'color': \"lightgray\"}],\n",
    "        'threshold' : {\n",
    "            'line': {'color': \"red\", 'width': 4},\n",
    "            'thickness': 0.75,\n",
    "            'value': 90}\n",
    "    }\n",
    "))\n",
    "\n",
    "# Show the plot\n",
    "fig.show()"
   ]
  },
  {
   "cell_type": "code",
   "execution_count": 16,
   "id": "fde700e4",
   "metadata": {},
   "outputs": [
    {
     "data": {
      "application/vnd.plotly.v1+json": {
       "config": {
        "plotlyServerURL": "https://plot.ly"
       },
       "data": [
        {
         "domain": {
          "x": [
           0,
           1
          ],
          "y": [
           0,
           1
          ]
         },
         "mode": "gauge+number",
         "title": {
          "text": "Speed"
         },
         "type": "indicator",
         "value": 270
        }
       ],
       "layout": {
        "template": {
         "data": {
          "bar": [
           {
            "error_x": {
             "color": "#2a3f5f"
            },
            "error_y": {
             "color": "#2a3f5f"
            },
            "marker": {
             "line": {
              "color": "#E5ECF6",
              "width": 0.5
             },
             "pattern": {
              "fillmode": "overlay",
              "size": 10,
              "solidity": 0.2
             }
            },
            "type": "bar"
           }
          ],
          "barpolar": [
           {
            "marker": {
             "line": {
              "color": "#E5ECF6",
              "width": 0.5
             },
             "pattern": {
              "fillmode": "overlay",
              "size": 10,
              "solidity": 0.2
             }
            },
            "type": "barpolar"
           }
          ],
          "carpet": [
           {
            "aaxis": {
             "endlinecolor": "#2a3f5f",
             "gridcolor": "white",
             "linecolor": "white",
             "minorgridcolor": "white",
             "startlinecolor": "#2a3f5f"
            },
            "baxis": {
             "endlinecolor": "#2a3f5f",
             "gridcolor": "white",
             "linecolor": "white",
             "minorgridcolor": "white",
             "startlinecolor": "#2a3f5f"
            },
            "type": "carpet"
           }
          ],
          "choropleth": [
           {
            "colorbar": {
             "outlinewidth": 0,
             "ticks": ""
            },
            "type": "choropleth"
           }
          ],
          "contour": [
           {
            "colorbar": {
             "outlinewidth": 0,
             "ticks": ""
            },
            "colorscale": [
             [
              0,
              "#0d0887"
             ],
             [
              0.1111111111111111,
              "#46039f"
             ],
             [
              0.2222222222222222,
              "#7201a8"
             ],
             [
              0.3333333333333333,
              "#9c179e"
             ],
             [
              0.4444444444444444,
              "#bd3786"
             ],
             [
              0.5555555555555556,
              "#d8576b"
             ],
             [
              0.6666666666666666,
              "#ed7953"
             ],
             [
              0.7777777777777778,
              "#fb9f3a"
             ],
             [
              0.8888888888888888,
              "#fdca26"
             ],
             [
              1,
              "#f0f921"
             ]
            ],
            "type": "contour"
           }
          ],
          "contourcarpet": [
           {
            "colorbar": {
             "outlinewidth": 0,
             "ticks": ""
            },
            "type": "contourcarpet"
           }
          ],
          "heatmap": [
           {
            "colorbar": {
             "outlinewidth": 0,
             "ticks": ""
            },
            "colorscale": [
             [
              0,
              "#0d0887"
             ],
             [
              0.1111111111111111,
              "#46039f"
             ],
             [
              0.2222222222222222,
              "#7201a8"
             ],
             [
              0.3333333333333333,
              "#9c179e"
             ],
             [
              0.4444444444444444,
              "#bd3786"
             ],
             [
              0.5555555555555556,
              "#d8576b"
             ],
             [
              0.6666666666666666,
              "#ed7953"
             ],
             [
              0.7777777777777778,
              "#fb9f3a"
             ],
             [
              0.8888888888888888,
              "#fdca26"
             ],
             [
              1,
              "#f0f921"
             ]
            ],
            "type": "heatmap"
           }
          ],
          "heatmapgl": [
           {
            "colorbar": {
             "outlinewidth": 0,
             "ticks": ""
            },
            "colorscale": [
             [
              0,
              "#0d0887"
             ],
             [
              0.1111111111111111,
              "#46039f"
             ],
             [
              0.2222222222222222,
              "#7201a8"
             ],
             [
              0.3333333333333333,
              "#9c179e"
             ],
             [
              0.4444444444444444,
              "#bd3786"
             ],
             [
              0.5555555555555556,
              "#d8576b"
             ],
             [
              0.6666666666666666,
              "#ed7953"
             ],
             [
              0.7777777777777778,
              "#fb9f3a"
             ],
             [
              0.8888888888888888,
              "#fdca26"
             ],
             [
              1,
              "#f0f921"
             ]
            ],
            "type": "heatmapgl"
           }
          ],
          "histogram": [
           {
            "marker": {
             "pattern": {
              "fillmode": "overlay",
              "size": 10,
              "solidity": 0.2
             }
            },
            "type": "histogram"
           }
          ],
          "histogram2d": [
           {
            "colorbar": {
             "outlinewidth": 0,
             "ticks": ""
            },
            "colorscale": [
             [
              0,
              "#0d0887"
             ],
             [
              0.1111111111111111,
              "#46039f"
             ],
             [
              0.2222222222222222,
              "#7201a8"
             ],
             [
              0.3333333333333333,
              "#9c179e"
             ],
             [
              0.4444444444444444,
              "#bd3786"
             ],
             [
              0.5555555555555556,
              "#d8576b"
             ],
             [
              0.6666666666666666,
              "#ed7953"
             ],
             [
              0.7777777777777778,
              "#fb9f3a"
             ],
             [
              0.8888888888888888,
              "#fdca26"
             ],
             [
              1,
              "#f0f921"
             ]
            ],
            "type": "histogram2d"
           }
          ],
          "histogram2dcontour": [
           {
            "colorbar": {
             "outlinewidth": 0,
             "ticks": ""
            },
            "colorscale": [
             [
              0,
              "#0d0887"
             ],
             [
              0.1111111111111111,
              "#46039f"
             ],
             [
              0.2222222222222222,
              "#7201a8"
             ],
             [
              0.3333333333333333,
              "#9c179e"
             ],
             [
              0.4444444444444444,
              "#bd3786"
             ],
             [
              0.5555555555555556,
              "#d8576b"
             ],
             [
              0.6666666666666666,
              "#ed7953"
             ],
             [
              0.7777777777777778,
              "#fb9f3a"
             ],
             [
              0.8888888888888888,
              "#fdca26"
             ],
             [
              1,
              "#f0f921"
             ]
            ],
            "type": "histogram2dcontour"
           }
          ],
          "mesh3d": [
           {
            "colorbar": {
             "outlinewidth": 0,
             "ticks": ""
            },
            "type": "mesh3d"
           }
          ],
          "parcoords": [
           {
            "line": {
             "colorbar": {
              "outlinewidth": 0,
              "ticks": ""
             }
            },
            "type": "parcoords"
           }
          ],
          "pie": [
           {
            "automargin": true,
            "type": "pie"
           }
          ],
          "scatter": [
           {
            "fillpattern": {
             "fillmode": "overlay",
             "size": 10,
             "solidity": 0.2
            },
            "type": "scatter"
           }
          ],
          "scatter3d": [
           {
            "line": {
             "colorbar": {
              "outlinewidth": 0,
              "ticks": ""
             }
            },
            "marker": {
             "colorbar": {
              "outlinewidth": 0,
              "ticks": ""
             }
            },
            "type": "scatter3d"
           }
          ],
          "scattercarpet": [
           {
            "marker": {
             "colorbar": {
              "outlinewidth": 0,
              "ticks": ""
             }
            },
            "type": "scattercarpet"
           }
          ],
          "scattergeo": [
           {
            "marker": {
             "colorbar": {
              "outlinewidth": 0,
              "ticks": ""
             }
            },
            "type": "scattergeo"
           }
          ],
          "scattergl": [
           {
            "marker": {
             "colorbar": {
              "outlinewidth": 0,
              "ticks": ""
             }
            },
            "type": "scattergl"
           }
          ],
          "scattermapbox": [
           {
            "marker": {
             "colorbar": {
              "outlinewidth": 0,
              "ticks": ""
             }
            },
            "type": "scattermapbox"
           }
          ],
          "scatterpolar": [
           {
            "marker": {
             "colorbar": {
              "outlinewidth": 0,
              "ticks": ""
             }
            },
            "type": "scatterpolar"
           }
          ],
          "scatterpolargl": [
           {
            "marker": {
             "colorbar": {
              "outlinewidth": 0,
              "ticks": ""
             }
            },
            "type": "scatterpolargl"
           }
          ],
          "scatterternary": [
           {
            "marker": {
             "colorbar": {
              "outlinewidth": 0,
              "ticks": ""
             }
            },
            "type": "scatterternary"
           }
          ],
          "surface": [
           {
            "colorbar": {
             "outlinewidth": 0,
             "ticks": ""
            },
            "colorscale": [
             [
              0,
              "#0d0887"
             ],
             [
              0.1111111111111111,
              "#46039f"
             ],
             [
              0.2222222222222222,
              "#7201a8"
             ],
             [
              0.3333333333333333,
              "#9c179e"
             ],
             [
              0.4444444444444444,
              "#bd3786"
             ],
             [
              0.5555555555555556,
              "#d8576b"
             ],
             [
              0.6666666666666666,
              "#ed7953"
             ],
             [
              0.7777777777777778,
              "#fb9f3a"
             ],
             [
              0.8888888888888888,
              "#fdca26"
             ],
             [
              1,
              "#f0f921"
             ]
            ],
            "type": "surface"
           }
          ],
          "table": [
           {
            "cells": {
             "fill": {
              "color": "#EBF0F8"
             },
             "line": {
              "color": "white"
             }
            },
            "header": {
             "fill": {
              "color": "#C8D4E3"
             },
             "line": {
              "color": "white"
             }
            },
            "type": "table"
           }
          ]
         },
         "layout": {
          "annotationdefaults": {
           "arrowcolor": "#2a3f5f",
           "arrowhead": 0,
           "arrowwidth": 1
          },
          "autotypenumbers": "strict",
          "coloraxis": {
           "colorbar": {
            "outlinewidth": 0,
            "ticks": ""
           }
          },
          "colorscale": {
           "diverging": [
            [
             0,
             "#8e0152"
            ],
            [
             0.1,
             "#c51b7d"
            ],
            [
             0.2,
             "#de77ae"
            ],
            [
             0.3,
             "#f1b6da"
            ],
            [
             0.4,
             "#fde0ef"
            ],
            [
             0.5,
             "#f7f7f7"
            ],
            [
             0.6,
             "#e6f5d0"
            ],
            [
             0.7,
             "#b8e186"
            ],
            [
             0.8,
             "#7fbc41"
            ],
            [
             0.9,
             "#4d9221"
            ],
            [
             1,
             "#276419"
            ]
           ],
           "sequential": [
            [
             0,
             "#0d0887"
            ],
            [
             0.1111111111111111,
             "#46039f"
            ],
            [
             0.2222222222222222,
             "#7201a8"
            ],
            [
             0.3333333333333333,
             "#9c179e"
            ],
            [
             0.4444444444444444,
             "#bd3786"
            ],
            [
             0.5555555555555556,
             "#d8576b"
            ],
            [
             0.6666666666666666,
             "#ed7953"
            ],
            [
             0.7777777777777778,
             "#fb9f3a"
            ],
            [
             0.8888888888888888,
             "#fdca26"
            ],
            [
             1,
             "#f0f921"
            ]
           ],
           "sequentialminus": [
            [
             0,
             "#0d0887"
            ],
            [
             0.1111111111111111,
             "#46039f"
            ],
            [
             0.2222222222222222,
             "#7201a8"
            ],
            [
             0.3333333333333333,
             "#9c179e"
            ],
            [
             0.4444444444444444,
             "#bd3786"
            ],
            [
             0.5555555555555556,
             "#d8576b"
            ],
            [
             0.6666666666666666,
             "#ed7953"
            ],
            [
             0.7777777777777778,
             "#fb9f3a"
            ],
            [
             0.8888888888888888,
             "#fdca26"
            ],
            [
             1,
             "#f0f921"
            ]
           ]
          },
          "colorway": [
           "#636efa",
           "#EF553B",
           "#00cc96",
           "#ab63fa",
           "#FFA15A",
           "#19d3f3",
           "#FF6692",
           "#B6E880",
           "#FF97FF",
           "#FECB52"
          ],
          "font": {
           "color": "#2a3f5f"
          },
          "geo": {
           "bgcolor": "white",
           "lakecolor": "white",
           "landcolor": "#E5ECF6",
           "showlakes": true,
           "showland": true,
           "subunitcolor": "white"
          },
          "hoverlabel": {
           "align": "left"
          },
          "hovermode": "closest",
          "mapbox": {
           "style": "light"
          },
          "paper_bgcolor": "white",
          "plot_bgcolor": "#E5ECF6",
          "polar": {
           "angularaxis": {
            "gridcolor": "white",
            "linecolor": "white",
            "ticks": ""
           },
           "bgcolor": "#E5ECF6",
           "radialaxis": {
            "gridcolor": "white",
            "linecolor": "white",
            "ticks": ""
           }
          },
          "scene": {
           "xaxis": {
            "backgroundcolor": "#E5ECF6",
            "gridcolor": "white",
            "gridwidth": 2,
            "linecolor": "white",
            "showbackground": true,
            "ticks": "",
            "zerolinecolor": "white"
           },
           "yaxis": {
            "backgroundcolor": "#E5ECF6",
            "gridcolor": "white",
            "gridwidth": 2,
            "linecolor": "white",
            "showbackground": true,
            "ticks": "",
            "zerolinecolor": "white"
           },
           "zaxis": {
            "backgroundcolor": "#E5ECF6",
            "gridcolor": "white",
            "gridwidth": 2,
            "linecolor": "white",
            "showbackground": true,
            "ticks": "",
            "zerolinecolor": "white"
           }
          },
          "shapedefaults": {
           "line": {
            "color": "#2a3f5f"
           }
          },
          "ternary": {
           "aaxis": {
            "gridcolor": "white",
            "linecolor": "white",
            "ticks": ""
           },
           "baxis": {
            "gridcolor": "white",
            "linecolor": "white",
            "ticks": ""
           },
           "bgcolor": "#E5ECF6",
           "caxis": {
            "gridcolor": "white",
            "linecolor": "white",
            "ticks": ""
           }
          },
          "title": {
           "x": 0.05
          },
          "xaxis": {
           "automargin": true,
           "gridcolor": "white",
           "linecolor": "white",
           "ticks": "",
           "title": {
            "standoff": 15
           },
           "zerolinecolor": "white",
           "zerolinewidth": 2
          },
          "yaxis": {
           "automargin": true,
           "gridcolor": "white",
           "linecolor": "white",
           "ticks": "",
           "title": {
            "standoff": 15
           },
           "zerolinecolor": "white",
           "zerolinewidth": 2
          }
         }
        }
       }
      },
      "text/html": [
       "<div>                            <div id=\"520cebf4-a2f2-4e33-8bba-b3c01a8a34dc\" class=\"plotly-graph-div\" style=\"height:525px; width:100%;\"></div>            <script type=\"text/javascript\">                require([\"plotly\"], function(Plotly) {                    window.PLOTLYENV=window.PLOTLYENV || {};                                    if (document.getElementById(\"520cebf4-a2f2-4e33-8bba-b3c01a8a34dc\")) {                    Plotly.newPlot(                        \"520cebf4-a2f2-4e33-8bba-b3c01a8a34dc\",                        [{\"domain\":{\"x\":[0,1],\"y\":[0,1]},\"mode\":\"gauge+number\",\"title\":{\"text\":\"Speed\"},\"value\":270,\"type\":\"indicator\"}],                        {\"template\":{\"data\":{\"histogram2dcontour\":[{\"type\":\"histogram2dcontour\",\"colorbar\":{\"outlinewidth\":0,\"ticks\":\"\"},\"colorscale\":[[0.0,\"#0d0887\"],[0.1111111111111111,\"#46039f\"],[0.2222222222222222,\"#7201a8\"],[0.3333333333333333,\"#9c179e\"],[0.4444444444444444,\"#bd3786\"],[0.5555555555555556,\"#d8576b\"],[0.6666666666666666,\"#ed7953\"],[0.7777777777777778,\"#fb9f3a\"],[0.8888888888888888,\"#fdca26\"],[1.0,\"#f0f921\"]]}],\"choropleth\":[{\"type\":\"choropleth\",\"colorbar\":{\"outlinewidth\":0,\"ticks\":\"\"}}],\"histogram2d\":[{\"type\":\"histogram2d\",\"colorbar\":{\"outlinewidth\":0,\"ticks\":\"\"},\"colorscale\":[[0.0,\"#0d0887\"],[0.1111111111111111,\"#46039f\"],[0.2222222222222222,\"#7201a8\"],[0.3333333333333333,\"#9c179e\"],[0.4444444444444444,\"#bd3786\"],[0.5555555555555556,\"#d8576b\"],[0.6666666666666666,\"#ed7953\"],[0.7777777777777778,\"#fb9f3a\"],[0.8888888888888888,\"#fdca26\"],[1.0,\"#f0f921\"]]}],\"heatmap\":[{\"type\":\"heatmap\",\"colorbar\":{\"outlinewidth\":0,\"ticks\":\"\"},\"colorscale\":[[0.0,\"#0d0887\"],[0.1111111111111111,\"#46039f\"],[0.2222222222222222,\"#7201a8\"],[0.3333333333333333,\"#9c179e\"],[0.4444444444444444,\"#bd3786\"],[0.5555555555555556,\"#d8576b\"],[0.6666666666666666,\"#ed7953\"],[0.7777777777777778,\"#fb9f3a\"],[0.8888888888888888,\"#fdca26\"],[1.0,\"#f0f921\"]]}],\"heatmapgl\":[{\"type\":\"heatmapgl\",\"colorbar\":{\"outlinewidth\":0,\"ticks\":\"\"},\"colorscale\":[[0.0,\"#0d0887\"],[0.1111111111111111,\"#46039f\"],[0.2222222222222222,\"#7201a8\"],[0.3333333333333333,\"#9c179e\"],[0.4444444444444444,\"#bd3786\"],[0.5555555555555556,\"#d8576b\"],[0.6666666666666666,\"#ed7953\"],[0.7777777777777778,\"#fb9f3a\"],[0.8888888888888888,\"#fdca26\"],[1.0,\"#f0f921\"]]}],\"contourcarpet\":[{\"type\":\"contourcarpet\",\"colorbar\":{\"outlinewidth\":0,\"ticks\":\"\"}}],\"contour\":[{\"type\":\"contour\",\"colorbar\":{\"outlinewidth\":0,\"ticks\":\"\"},\"colorscale\":[[0.0,\"#0d0887\"],[0.1111111111111111,\"#46039f\"],[0.2222222222222222,\"#7201a8\"],[0.3333333333333333,\"#9c179e\"],[0.4444444444444444,\"#bd3786\"],[0.5555555555555556,\"#d8576b\"],[0.6666666666666666,\"#ed7953\"],[0.7777777777777778,\"#fb9f3a\"],[0.8888888888888888,\"#fdca26\"],[1.0,\"#f0f921\"]]}],\"surface\":[{\"type\":\"surface\",\"colorbar\":{\"outlinewidth\":0,\"ticks\":\"\"},\"colorscale\":[[0.0,\"#0d0887\"],[0.1111111111111111,\"#46039f\"],[0.2222222222222222,\"#7201a8\"],[0.3333333333333333,\"#9c179e\"],[0.4444444444444444,\"#bd3786\"],[0.5555555555555556,\"#d8576b\"],[0.6666666666666666,\"#ed7953\"],[0.7777777777777778,\"#fb9f3a\"],[0.8888888888888888,\"#fdca26\"],[1.0,\"#f0f921\"]]}],\"mesh3d\":[{\"type\":\"mesh3d\",\"colorbar\":{\"outlinewidth\":0,\"ticks\":\"\"}}],\"scatter\":[{\"fillpattern\":{\"fillmode\":\"overlay\",\"size\":10,\"solidity\":0.2},\"type\":\"scatter\"}],\"parcoords\":[{\"type\":\"parcoords\",\"line\":{\"colorbar\":{\"outlinewidth\":0,\"ticks\":\"\"}}}],\"scatterpolargl\":[{\"type\":\"scatterpolargl\",\"marker\":{\"colorbar\":{\"outlinewidth\":0,\"ticks\":\"\"}}}],\"bar\":[{\"error_x\":{\"color\":\"#2a3f5f\"},\"error_y\":{\"color\":\"#2a3f5f\"},\"marker\":{\"line\":{\"color\":\"#E5ECF6\",\"width\":0.5},\"pattern\":{\"fillmode\":\"overlay\",\"size\":10,\"solidity\":0.2}},\"type\":\"bar\"}],\"scattergeo\":[{\"type\":\"scattergeo\",\"marker\":{\"colorbar\":{\"outlinewidth\":0,\"ticks\":\"\"}}}],\"scatterpolar\":[{\"type\":\"scatterpolar\",\"marker\":{\"colorbar\":{\"outlinewidth\":0,\"ticks\":\"\"}}}],\"histogram\":[{\"marker\":{\"pattern\":{\"fillmode\":\"overlay\",\"size\":10,\"solidity\":0.2}},\"type\":\"histogram\"}],\"scattergl\":[{\"type\":\"scattergl\",\"marker\":{\"colorbar\":{\"outlinewidth\":0,\"ticks\":\"\"}}}],\"scatter3d\":[{\"type\":\"scatter3d\",\"line\":{\"colorbar\":{\"outlinewidth\":0,\"ticks\":\"\"}},\"marker\":{\"colorbar\":{\"outlinewidth\":0,\"ticks\":\"\"}}}],\"scattermapbox\":[{\"type\":\"scattermapbox\",\"marker\":{\"colorbar\":{\"outlinewidth\":0,\"ticks\":\"\"}}}],\"scatterternary\":[{\"type\":\"scatterternary\",\"marker\":{\"colorbar\":{\"outlinewidth\":0,\"ticks\":\"\"}}}],\"scattercarpet\":[{\"type\":\"scattercarpet\",\"marker\":{\"colorbar\":{\"outlinewidth\":0,\"ticks\":\"\"}}}],\"carpet\":[{\"aaxis\":{\"endlinecolor\":\"#2a3f5f\",\"gridcolor\":\"white\",\"linecolor\":\"white\",\"minorgridcolor\":\"white\",\"startlinecolor\":\"#2a3f5f\"},\"baxis\":{\"endlinecolor\":\"#2a3f5f\",\"gridcolor\":\"white\",\"linecolor\":\"white\",\"minorgridcolor\":\"white\",\"startlinecolor\":\"#2a3f5f\"},\"type\":\"carpet\"}],\"table\":[{\"cells\":{\"fill\":{\"color\":\"#EBF0F8\"},\"line\":{\"color\":\"white\"}},\"header\":{\"fill\":{\"color\":\"#C8D4E3\"},\"line\":{\"color\":\"white\"}},\"type\":\"table\"}],\"barpolar\":[{\"marker\":{\"line\":{\"color\":\"#E5ECF6\",\"width\":0.5},\"pattern\":{\"fillmode\":\"overlay\",\"size\":10,\"solidity\":0.2}},\"type\":\"barpolar\"}],\"pie\":[{\"automargin\":true,\"type\":\"pie\"}]},\"layout\":{\"autotypenumbers\":\"strict\",\"colorway\":[\"#636efa\",\"#EF553B\",\"#00cc96\",\"#ab63fa\",\"#FFA15A\",\"#19d3f3\",\"#FF6692\",\"#B6E880\",\"#FF97FF\",\"#FECB52\"],\"font\":{\"color\":\"#2a3f5f\"},\"hovermode\":\"closest\",\"hoverlabel\":{\"align\":\"left\"},\"paper_bgcolor\":\"white\",\"plot_bgcolor\":\"#E5ECF6\",\"polar\":{\"bgcolor\":\"#E5ECF6\",\"angularaxis\":{\"gridcolor\":\"white\",\"linecolor\":\"white\",\"ticks\":\"\"},\"radialaxis\":{\"gridcolor\":\"white\",\"linecolor\":\"white\",\"ticks\":\"\"}},\"ternary\":{\"bgcolor\":\"#E5ECF6\",\"aaxis\":{\"gridcolor\":\"white\",\"linecolor\":\"white\",\"ticks\":\"\"},\"baxis\":{\"gridcolor\":\"white\",\"linecolor\":\"white\",\"ticks\":\"\"},\"caxis\":{\"gridcolor\":\"white\",\"linecolor\":\"white\",\"ticks\":\"\"}},\"coloraxis\":{\"colorbar\":{\"outlinewidth\":0,\"ticks\":\"\"}},\"colorscale\":{\"sequential\":[[0.0,\"#0d0887\"],[0.1111111111111111,\"#46039f\"],[0.2222222222222222,\"#7201a8\"],[0.3333333333333333,\"#9c179e\"],[0.4444444444444444,\"#bd3786\"],[0.5555555555555556,\"#d8576b\"],[0.6666666666666666,\"#ed7953\"],[0.7777777777777778,\"#fb9f3a\"],[0.8888888888888888,\"#fdca26\"],[1.0,\"#f0f921\"]],\"sequentialminus\":[[0.0,\"#0d0887\"],[0.1111111111111111,\"#46039f\"],[0.2222222222222222,\"#7201a8\"],[0.3333333333333333,\"#9c179e\"],[0.4444444444444444,\"#bd3786\"],[0.5555555555555556,\"#d8576b\"],[0.6666666666666666,\"#ed7953\"],[0.7777777777777778,\"#fb9f3a\"],[0.8888888888888888,\"#fdca26\"],[1.0,\"#f0f921\"]],\"diverging\":[[0,\"#8e0152\"],[0.1,\"#c51b7d\"],[0.2,\"#de77ae\"],[0.3,\"#f1b6da\"],[0.4,\"#fde0ef\"],[0.5,\"#f7f7f7\"],[0.6,\"#e6f5d0\"],[0.7,\"#b8e186\"],[0.8,\"#7fbc41\"],[0.9,\"#4d9221\"],[1,\"#276419\"]]},\"xaxis\":{\"gridcolor\":\"white\",\"linecolor\":\"white\",\"ticks\":\"\",\"title\":{\"standoff\":15},\"zerolinecolor\":\"white\",\"automargin\":true,\"zerolinewidth\":2},\"yaxis\":{\"gridcolor\":\"white\",\"linecolor\":\"white\",\"ticks\":\"\",\"title\":{\"standoff\":15},\"zerolinecolor\":\"white\",\"automargin\":true,\"zerolinewidth\":2},\"scene\":{\"xaxis\":{\"backgroundcolor\":\"#E5ECF6\",\"gridcolor\":\"white\",\"linecolor\":\"white\",\"showbackground\":true,\"ticks\":\"\",\"zerolinecolor\":\"white\",\"gridwidth\":2},\"yaxis\":{\"backgroundcolor\":\"#E5ECF6\",\"gridcolor\":\"white\",\"linecolor\":\"white\",\"showbackground\":true,\"ticks\":\"\",\"zerolinecolor\":\"white\",\"gridwidth\":2},\"zaxis\":{\"backgroundcolor\":\"#E5ECF6\",\"gridcolor\":\"white\",\"linecolor\":\"white\",\"showbackground\":true,\"ticks\":\"\",\"zerolinecolor\":\"white\",\"gridwidth\":2}},\"shapedefaults\":{\"line\":{\"color\":\"#2a3f5f\"}},\"annotationdefaults\":{\"arrowcolor\":\"#2a3f5f\",\"arrowhead\":0,\"arrowwidth\":1},\"geo\":{\"bgcolor\":\"white\",\"landcolor\":\"#E5ECF6\",\"subunitcolor\":\"white\",\"showland\":true,\"showlakes\":true,\"lakecolor\":\"white\"},\"title\":{\"x\":0.05},\"mapbox\":{\"style\":\"light\"}}}},                        {\"responsive\": true}                    ).then(function(){\n",
       "                            \n",
       "var gd = document.getElementById('520cebf4-a2f2-4e33-8bba-b3c01a8a34dc');\n",
       "var x = new MutationObserver(function (mutations, observer) {{\n",
       "        var display = window.getComputedStyle(gd).display;\n",
       "        if (!display || display === 'none') {{\n",
       "            console.log([gd, 'removed!']);\n",
       "            Plotly.purge(gd);\n",
       "            observer.disconnect();\n",
       "        }}\n",
       "}});\n",
       "\n",
       "// Listen for the removal of the full notebook cells\n",
       "var notebookContainer = gd.closest('#notebook-container');\n",
       "if (notebookContainer) {{\n",
       "    x.observe(notebookContainer, {childList: true});\n",
       "}}\n",
       "\n",
       "// Listen for the clearing of the current output cell\n",
       "var outputEl = gd.closest('.output');\n",
       "if (outputEl) {{\n",
       "    x.observe(outputEl, {childList: true});\n",
       "}}\n",
       "\n",
       "                        })                };                });            </script>        </div>"
      ]
     },
     "metadata": {},
     "output_type": "display_data"
    }
   ],
   "source": [
    "import plotly.graph_objects as go\n",
    "\n",
    "fig = go.Figure(go.Indicator(\n",
    "    mode = \"gauge+number\",\n",
    "    value = 270,\n",
    "    domain = {'x': [0, 1], 'y': [0, 1]},\n",
    "    title = {'text': \"Speed\"}))\n",
    "\n",
    "fig.show()"
   ]
  },
  {
   "cell_type": "code",
   "execution_count": null,
   "id": "fd9db0ac",
   "metadata": {},
   "outputs": [],
   "source": []
  }
 ],
 "metadata": {
  "kernelspec": {
   "display_name": "Python 3 (ipykernel)",
   "language": "python",
   "name": "python3"
  },
  "language_info": {
   "codemirror_mode": {
    "name": "ipython",
    "version": 3
   },
   "file_extension": ".py",
   "mimetype": "text/x-python",
   "name": "python",
   "nbconvert_exporter": "python",
   "pygments_lexer": "ipython3",
   "version": "3.8.8"
  }
 },
 "nbformat": 4,
 "nbformat_minor": 5
}
